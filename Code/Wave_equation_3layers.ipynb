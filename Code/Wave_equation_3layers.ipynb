{
 "cells": [
  {
   "cell_type": "code",
   "execution_count": 3,
   "metadata": {
    "executionInfo": {
     "elapsed": 2628,
     "status": "ok",
     "timestamp": 1604495752852,
     "user": {
      "displayName": "Riccardo Valperga",
      "photoUrl": "",
      "userId": "03900064873846017016"
     },
     "user_tz": -60
    },
    "id": "iYPtM2gijSoJ"
   },
   "outputs": [],
   "source": [
    "import tensorflow as tf\n",
    "import keras\n",
    "from keras import backend as bk\n",
    "import timeit\n",
    "\n",
    "from scipy.integrate import ode\n",
    "import math as mt\n",
    "import numpy as np\n",
    "import matplotlib.pyplot as plt\n",
    "import random as rdm\n",
    "import time\n",
    "from datetime import datetime\n",
    "import matplotlib.animation as animation\n",
    "from mpl_toolkits.mplot3d import Axes3D\n",
    "\n",
    "physical_devices = tf.config.list_physical_devices('GPU') \n",
    "tf.config.experimental.set_memory_growth(physical_devices[0], True)"
   ]
  },
  {
   "cell_type": "markdown",
   "metadata": {
    "id": "yo_qNSPLjSoM"
   },
   "source": [
    "### Model"
   ]
  },
  {
   "cell_type": "code",
   "execution_count": 31,
   "metadata": {
    "executionInfo": {
     "elapsed": 806,
     "status": "ok",
     "timestamp": 1604497271875,
     "user": {
      "displayName": "Riccardo Valperga",
      "photoUrl": "",
      "userId": "03900064873846017016"
     },
     "user_tz": -60
    },
    "id": "g53FOuUZjSoN"
   },
   "outputs": [],
   "source": [
    "class custom_model:\n",
    "\n",
    "    def __init__(self):\n",
    "        xavier=tf.keras.initializers.GlorotUniform()\n",
    "        self.l1=tf.keras.layers.Dense(3,kernel_initializer=xavier,activation=tf.nn.tanh)\n",
    "        self.l2=tf.keras.layers.Dense(10,kernel_initializer=xavier,activation=tf.nn.tanh)\n",
    "        self.l3=tf.keras.layers.Dense(10,kernel_initializer=xavier,activation=tf.nn.tanh)\n",
    "        self.l4=tf.keras.layers.Dense(10,kernel_initializer=xavier,activation=tf.nn.tanh)\n",
    "        self.out=tf.keras.layers.Dense(1,kernel_initializer=xavier)\n",
    "        self.train_op = tf.keras.optimizers.Adam(learning_rate=0.01, clipvalue=0.003)\n",
    "\n",
    "    # Running the model\n",
    "\n",
    "    def run(self, X):\n",
    "        #with tf.device('/cpu:0'):\n",
    "        boom = self.l1(X)\n",
    "        boom1 = self.l2(boom)\n",
    "        boom2 = self.l3(boom1)\n",
    "        boom3 = self.l4(boom2)\n",
    "        boom4 = self.out(boom3)\n",
    "        return boom4\n",
    "\n",
    "    def get_loss(self, Xf, XuI, XuB, YI, YB):\n",
    "    \n",
    "        with tf.GradientTape() as tape:\n",
    "            tape.watch(Xf)\n",
    "            \n",
    "            with tf.GradientTape() as tape1:\n",
    "                tape1.watch(Xf)\n",
    "                boom = self.l1(Xf)\n",
    "                boom1 = self.l2(boom)\n",
    "                boom2 = self.l3(boom1)\n",
    "                boom3 = self.l4(boom2)\n",
    "                boom4 = self.out(boom3)\n",
    "                g = tape1.gradient(boom4, Xf)\n",
    "            gg = tape.gradient(g, Xf)\n",
    "    \n",
    "        u_t = g[:, 0]\n",
    "        u_x = g[:, 1]\n",
    "        u_y = g[:, 2]\n",
    "\n",
    "        u_tt = gg[:, 0]\n",
    "        u_xx = gg[:, 1]\n",
    "        u_yy = gg[:, 2]\n",
    "\n",
    "        u = boom4[:, 0]\n",
    "        \n",
    "        #print('u_t: ', u_t)\n",
    "        #print('u_x: ', u_x)\n",
    "        #print('u_xx: ', u_xx)\n",
    "        #print('u: ', u)\n",
    "        \n",
    "        \n",
    "        MSEf = tf.reduce_mean((u_tt - u_xx - u_yy)**2)\n",
    "        \n",
    "        Y_I_predict = self.run(XuI)\n",
    "        \n",
    "        ######### Dirichlet boundary conditions #########\n",
    "        Y_B_predict = self.run(XuB)\n",
    "        MSEu =  tf.reduce_mean((Y_I_predict - YI)**2) + tf.reduce_mean((Y_B_predict - YB)**2)\n",
    "        \n",
    "        ######### Neumann boundary conditions #########\n",
    "        #Y_B_predict = g[:, 1]\n",
    "        #MSEu =  tf.reduce_mean((Y_B_predict - YB)**2) #tf.reduce_mean((Y_I_predict - YI)**2) +\n",
    "        \n",
    "        return 3*MSEu + MSEf\n",
    "\n",
    "    def get_grad(self, Xf, XuI, XuB, YI, YB):\n",
    "        with tf.GradientTape() as tape:\n",
    "            tape.watch(self.l1.variables)\n",
    "            tape.watch(self.l2.variables)\n",
    "            tape.watch(self.l3.variables)\n",
    "            tape.watch(self.l4.variables)\n",
    "            tape.watch(self.out.variables)\n",
    "            L = self.get_loss(Xf, XuI, XuB, YI, YB)\n",
    "            g = tape.gradient(L, [self.l1.variables[0],self.l1.variables[1],self.l2.variables[0],self.l2.variables[1],self.l3.variables[0],self.l3.variables[1],self.l4.variables[0],self.l4.variables[1],self.out.variables[0],self.out.variables[1]])\n",
    "        return g\n",
    "\n",
    "    # perform gradient descent\n",
    "\n",
    "    def network_learn(self, Xf, XuI, XuB, YI, YB):\n",
    "        g = self.get_grad(Xf, XuI, XuB, YI, YB)\n",
    "        self.train_op.apply_gradients(zip(g, [self.l1.variables[0],self.l1.variables[1],self.l2.variables[0],self.l2.variables[1],self.l3.variables[0],self.l3.variables[1],self.l4.variables[0],self.l4.variables[1],self.out.variables[0],self.out.variables[1]]))\n"
   ]
  },
  {
   "cell_type": "markdown",
   "metadata": {
    "id": "dIWQ195-jSoP"
   },
   "source": [
    "### Model"
   ]
  },
  {
   "cell_type": "code",
   "execution_count": 51,
   "metadata": {
    "executionInfo": {
     "elapsed": 870,
     "status": "ok",
     "timestamp": 1604497273988,
     "user": {
      "displayName": "Riccardo Valperga",
      "photoUrl": "",
      "userId": "03900064873846017016"
     },
     "user_tz": -60
    },
    "id": "V4OK1k0kjSoP"
   },
   "outputs": [],
   "source": [
    "Model = custom_model()"
   ]
  },
  {
   "cell_type": "markdown",
   "metadata": {
    "id": "YbED9AeTjSoR"
   },
   "source": [
    "### Training Set"
   ]
  },
  {
   "cell_type": "code",
   "execution_count": 50,
   "metadata": {
    "executionInfo": {
     "elapsed": 1106,
     "status": "ok",
     "timestamp": 1604497276241,
     "user": {
      "displayName": "Riccardo Valperga",
      "photoUrl": "",
      "userId": "03900064873846017016"
     },
     "user_tz": -60
    },
    "id": "Ark5UyQAjSoS"
   },
   "outputs": [],
   "source": [
    "N_initial = 10000\n",
    "N_boundary = 10000\n",
    "N_collocation = 10000\n",
    "\n",
    "I_points = tf.constant([[0 , rdm.randrange(-1000, 1001, 1)*0.001, rdm.randrange(-1000, 1001, 1)*0.001] for i in range(N_initial)])\n",
    "B_points = tf.constant([[rdm.randrange(0, 1000, 1)*0.001, rdm.randrange(-1,2,2), rdm.randrange(-1000, 1001, 1)*0.001] for i in range(N_boundary)])\n",
    "B_points = tf.concat([B_points, tf.constant([[rdm.randrange(0, 1000, 1)*0.001, rdm.randrange(-1000, 1001, 1)*0.001, rdm.randrange(-1,2,2)] for i in range(N_boundary)])], 0)\n",
    "C_points = tf.constant([[rdm.randrange(1, 1000, 1)*0.001, rdm.randrange(-999, 1000, 1)*0.001, rdm.randrange(-999, 1000, 1)*0.001] for i in range(N_collocation)])"
   ]
  },
  {
   "cell_type": "markdown",
   "metadata": {
    "id": "p0NFtzjWjSoU"
   },
   "source": [
    "### Plot The Training Set"
   ]
  },
  {
   "cell_type": "code",
   "execution_count": 42,
   "metadata": {
    "colab": {
     "base_uri": "https://localhost:8080/",
     "height": 668
    },
    "executionInfo": {
     "elapsed": 1403,
     "status": "ok",
     "timestamp": 1604497277882,
     "user": {
      "displayName": "Riccardo Valperga",
      "photoUrl": "",
      "userId": "03900064873846017016"
     },
     "user_tz": -60
    },
    "id": "7-LCf5GijSoU",
    "outputId": "acb4e1fe-0e71-43cf-8adf-a39bfcabe7f1"
   },
   "outputs": [
    {
     "data": {
      "image/png": "[encoded data removed]",
      "text/plain": [
       "<Figure size 360x360 with 1 Axes>"
      ]
     },
     "metadata": {
      "needs_background": "light"
     },
     "output_type": "display_data"
    },
    {
     "data": {
      "image/png": "[encoded data removed]",
      "text/plain": [
       "<Figure size 360x360 with 1 Axes>"
      ]
     },
     "metadata": {
      "needs_background": "light"
     },
     "output_type": "display_data"
    },
    {
     "data": {
      "image/png": "[encoded data removed]",
      "text/plain": [
       "<Figure size 360x360 with 1 Axes>"
      ]
     },
     "metadata": {
      "needs_background": "light"
     },
     "output_type": "display_data"
    }
   ],
   "source": [
    "plt.figure(figsize=(5, 5))\n",
    "plt.scatter(I_points[:300, 1], I_points[:300, 2], color='b')\n",
    "plt.xlabel(\"$x$\", fontsize=18, labelpad=5)\n",
    "plt.ylabel(\"$y$\", fontsize=18, labelpad=10)\n",
    "plt.grid()\n",
    "plt.figure(figsize=(5, 5))\n",
    "plt.scatter(B_points[:, 1], B_points[:, 2], color='g')\n",
    "plt.xlabel(\"$x$\", fontsize=18, labelpad=5)\n",
    "plt.ylabel(\"$y$\", fontsize=18, labelpad=10)\n",
    "plt.grid()\n",
    "plt.figure(figsize=(5, 5))\n",
    "plt.scatter(C_points[:200, 1], C_points[:200, 2], color='r')\n",
    "plt.xlabel(\"$x$\", fontsize=18, labelpad=5)\n",
    "plt.ylabel(\"$y$\", fontsize=18, labelpad=10)\n",
    "plt.grid()\n",
    "plt.show()"
   ]
  },
  {
   "cell_type": "code",
   "execution_count": 52,
   "metadata": {
    "executionInfo": {
     "elapsed": 3170,
     "status": "ok",
     "timestamp": 1604497283306,
     "user": {
      "displayName": "Riccardo Valperga",
      "photoUrl": "",
      "userId": "03900064873846017016"
     },
     "user_tz": -60
    },
    "id": "wePG6snhjSoX"
   },
   "outputs": [],
   "source": [
    "#Sin(x)^2\n",
    "#YI = [[tf.math.sin(mt.pi*i[1])**2] for i in I_points]\n",
    "\n",
    "def init(x,y):\n",
    "    \n",
    "    return mt.cos(mt.pi*x/2)*mt.cos(mt.pi*y/2)\n",
    "\n",
    "YI = [[init(i[1:][0], i[1:][1])] for i in I_points]\n",
    "YB = [[0.] for i in B_points]\n",
    "\n",
    "#plt.figure(figsize=(8, 8))"
   ]
  },
  {
   "cell_type": "markdown",
   "metadata": {},
   "source": [
    "### Plot The Initial Condition"
   ]
  },
  {
   "cell_type": "code",
   "execution_count": 44,
   "metadata": {},
   "outputs": [
    {
     "data": {
      "text/plain": [
       "<matplotlib.contour.QuadContourSet at 0x2c5ac35dfc8>"
      ]
     },
     "execution_count": 44,
     "metadata": {},
     "output_type": "execute_result"
    },
    {
     "data": {
      "image/png": "[encoded data removed]",
      "text/plain": [
       "<Figure size 576x576 with 1 Axes>"
      ]
     },
     "metadata": {
      "needs_background": "light"
     },
     "output_type": "display_data"
    }
   ],
   "source": [
    "H = []\n",
    "for j in range(-100, 100):\n",
    "    h=[]\n",
    "    for i in range(-100, 100):\n",
    "        h.append(init(i*0.01,j*0.01))\n",
    "    H.append(h)\n",
    "\n",
    "x = np.arange(-1, 1, 0.01)\n",
    "y = np.arange(-1, 1, 0.01)\n",
    "\n",
    "z = np.array(H)\n",
    "\n",
    "plt.figure(figsize=(8, 8))\n",
    "plt.xlabel(\"$x$\", fontsize=28, labelpad=8)\n",
    "plt.ylabel(\"$y$\", fontsize=28, labelpad=15)\n",
    "plt.contourf(x,y,z)"
   ]
  },
  {
   "cell_type": "markdown",
   "metadata": {
    "id": "tpbyyCjUjSob"
   },
   "source": [
    "### Training"
   ]
  },
  {
   "cell_type": "code",
   "execution_count": 53,
   "metadata": {
    "colab": {
     "base_uri": "https://localhost:8080/"
    },
    "id": "CCwdVXcpjSoc",
    "outputId": "c70ed95c-3983-492a-c15d-760ddd22e3f6",
    "scrolled": true
   },
   "outputs": [
    {
     "name": "stdout",
     "output_type": "stream",
     "text": [
      "Time:  94.08760329999996\n"
     ]
    }
   ],
   "source": [
    "start = timeit.default_timer()\n",
    "epochs = 1000\n",
    "Loss = []\n",
    "for i in range(epochs):\n",
    "    C_points = tf.constant([[rdm.randrange(1, 1000, 1)*0.001, rdm.randrange(-999, 1000, 1)*0.001, rdm.randrange(-999, 1000, 1)*0.001] for i in range(N_collocation)])\n",
    "    Model.network_learn(C_points, I_points, B_points, YI, YB)\n",
    "    if i % 1 == 0:\n",
    "        #print((i/10000)*100, '%')\n",
    "        loss = Model.get_loss(C_points, I_points, B_points, YI, YB).numpy()\n",
    "        Loss.append(loss)\n",
    "        #print('Loss: ', Model.get_loss(C_points, I_points, B_points, YI, YB).numpy())\n",
    "    if i%(epochs/5)==0:\n",
    "        #print((i/epochs)*100, '%')\n",
    "        print((i/epochs)*100, '%', end='\\r')\n",
    "    print\n",
    "    \n",
    "\n",
    "stop = timeit.default_timer()\n",
    "print('Time: ', stop - start)"
   ]
  },
  {
   "cell_type": "markdown",
   "metadata": {
    "id": "1S9h7_6ZjSoe"
   },
   "source": [
    "### Plot The Loss"
   ]
  },
  {
   "cell_type": "code",
   "execution_count": 54,
   "metadata": {
    "colab": {
     "base_uri": "https://localhost:8080/",
     "height": 483
    },
    "executionInfo": {
     "elapsed": 1287,
     "status": "ok",
     "timestamp": 1604498130044,
     "user": {
      "displayName": "Riccardo Valperga",
      "photoUrl": "",
      "userId": "03900064873846017016"
     },
     "user_tz": -60
    },
    "id": "kAt4kETfjSoe",
    "outputId": "dc9c3604-d023-4aae-ec4e-97d18b5f2a30"
   },
   "outputs": [
    {
     "data": {
      "image/png": "[encoded data removed]",
      "text/plain": [
       "<Figure size 576x576 with 1 Axes>"
      ]
     },
     "metadata": {
      "needs_background": "light"
     },
     "output_type": "display_data"
    }
   ],
   "source": [
    "plt.figure(figsize=(8, 8))\n",
    "plt.plot(Loss[0:900])\n",
    "plt.grid()\n",
    "plt.show()"
   ]
  },
  {
   "cell_type": "markdown",
   "metadata": {},
   "source": [
    "### Animated Plot"
   ]
  },
  {
   "cell_type": "code",
   "execution_count": 1,
   "metadata": {},
   "outputs": [
    {
     "ename": "NameError",
     "evalue": "name 'np' is not defined",
     "output_type": "error",
     "traceback": [
      "\u001b[1;31m---------------------------------------------------------------------------\u001b[0m",
      "\u001b[1;31mNameError\u001b[0m                                 Traceback (most recent call last)",
      "\u001b[1;32m<ipython-input-1-9f5ff65c4fc4>\u001b[0m in \u001b[0;36m<module>\u001b[1;34m\u001b[0m\n\u001b[0;32m      1\u001b[0m \u001b[0mims\u001b[0m \u001b[1;33m=\u001b[0m \u001b[1;33m[\u001b[0m\u001b[1;33m]\u001b[0m\u001b[1;33m\u001b[0m\u001b[1;33m\u001b[0m\u001b[0m\n\u001b[0;32m      2\u001b[0m \u001b[0mT\u001b[0m \u001b[1;33m=\u001b[0m \u001b[1;33m[\u001b[0m\u001b[0mi\u001b[0m\u001b[1;33m*\u001b[0m\u001b[1;36m0.05\u001b[0m \u001b[1;32mfor\u001b[0m \u001b[0mi\u001b[0m \u001b[1;32min\u001b[0m \u001b[0mrange\u001b[0m\u001b[1;33m(\u001b[0m\u001b[1;36m0\u001b[0m\u001b[1;33m,\u001b[0m\u001b[1;36m20\u001b[0m\u001b[1;33m)\u001b[0m\u001b[1;33m]\u001b[0m\u001b[1;33m\u001b[0m\u001b[1;33m\u001b[0m\u001b[0m\n\u001b[1;32m----> 3\u001b[1;33m \u001b[0mx\u001b[0m \u001b[1;33m=\u001b[0m \u001b[0mnp\u001b[0m\u001b[1;33m.\u001b[0m\u001b[0marange\u001b[0m\u001b[1;33m(\u001b[0m\u001b[1;33m-\u001b[0m\u001b[1;36m1\u001b[0m\u001b[1;33m,\u001b[0m \u001b[1;36m1\u001b[0m\u001b[1;33m,\u001b[0m \u001b[1;36m0.1\u001b[0m\u001b[1;33m)\u001b[0m\u001b[1;33m\u001b[0m\u001b[1;33m\u001b[0m\u001b[0m\n\u001b[0m\u001b[0;32m      4\u001b[0m \u001b[0my\u001b[0m \u001b[1;33m=\u001b[0m \u001b[0mnp\u001b[0m\u001b[1;33m.\u001b[0m\u001b[0marange\u001b[0m\u001b[1;33m(\u001b[0m\u001b[1;33m-\u001b[0m\u001b[1;36m1\u001b[0m\u001b[1;33m,\u001b[0m \u001b[1;36m1\u001b[0m\u001b[1;33m,\u001b[0m \u001b[1;36m0.1\u001b[0m\u001b[1;33m)\u001b[0m\u001b[1;33m\u001b[0m\u001b[1;33m\u001b[0m\u001b[0m\n\u001b[0;32m      5\u001b[0m \u001b[0mx\u001b[0m\u001b[1;33m,\u001b[0m \u001b[0my\u001b[0m \u001b[1;33m=\u001b[0m \u001b[0mnp\u001b[0m\u001b[1;33m.\u001b[0m\u001b[0mmeshgrid\u001b[0m\u001b[1;33m(\u001b[0m\u001b[0mx\u001b[0m\u001b[1;33m,\u001b[0m \u001b[0my\u001b[0m\u001b[1;33m)\u001b[0m\u001b[1;33m\u001b[0m\u001b[1;33m\u001b[0m\u001b[0m\n",
      "\u001b[1;31mNameError\u001b[0m: name 'np' is not defined"
     ]
    }
   ],
   "source": [
    "ims = []\n",
    "T = [i*0.05 for i in range(0,20)]\n",
    "x = np.arange(-1, 1, 0.1)\n",
    "y = np.arange(-1, 1, 0.1)\n",
    "x, y = np.meshgrid(x, y)\n",
    "k = 1\n",
    "for t in T:\n",
    "    \n",
    "    H = []\n",
    "    for j in range(-10, 10):\n",
    "        h=[]\n",
    "        for i in range(-10, 10):\n",
    "            h.append(Model.run(tf.constant([[t, i*0.1, j*0.1]]))[0][0])\n",
    "        H.append(h)\n",
    "    z = np.array(H)\n",
    "    \n",
    "    # Plot the surface.\n",
    "    fig = plt.figure(figsize=(10, 10))\n",
    "    ax = fig.gca(projection='3d')\n",
    "    ax.set_zlim(-1., 1.)\n",
    "    ax.plot_surface(x, y, z)\n",
    "    #ims.append(ax.plot_surface(x, y, z))\n",
    "    plt.show()\n",
    "    fig.savefig('Gif_folder_1\\wave_t=' + str(k) + '.jpg')\n",
    "    k=k+1\n",
    "\n",
    "#ani = animation.ArtistAnimation(fig, ims, interval=100, blit=True, repeat_delay=1000)\n",
    "#ani.save('WaveEq.gif')"
   ]
  },
  {
   "cell_type": "code",
   "execution_count": null,
   "metadata": {},
   "outputs": [],
   "source": []
  }
 ],
 "metadata": {
  "colab": {
   "collapsed_sections": [],
   "name": "2D_PDE.ipynb",
   "provenance": [
    {
     "file_id": "https://github.com/Ricvalp/ML_DynamicalSystems/blob/master/Code/RaissiEtAltri.ipynb",
     "timestamp": 1604484947582
    }
   ],
   "toc_visible": true
  },
  "kernelspec": {
   "display_name": "Python 3",
   "language": "python",
   "name": "python3"
  },
  "language_info": {
   "codemirror_mode": {
    "name": "ipython",
    "version": 3
   },
   "file_extension": ".py",
   "mimetype": "text/x-python",
   "name": "python",
   "nbconvert_exporter": "python",
   "pygments_lexer": "ipython3",
   "version": "3.7.4"
  }
 },
 "nbformat": 4,
 "nbformat_minor": 1
}
