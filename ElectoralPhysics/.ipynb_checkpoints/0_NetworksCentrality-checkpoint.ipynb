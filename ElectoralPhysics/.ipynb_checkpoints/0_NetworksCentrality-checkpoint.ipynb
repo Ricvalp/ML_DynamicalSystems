{
 "cells": [
  {
   "cell_type": "markdown",
   "metadata": {},
   "source": [
    "# Centrality measures\n",
    "\n",
    "Let's start with non spectral centrality measures"
   ]
  },
  {
   "cell_type": "code",
   "execution_count": 1,
   "metadata": {},
   "outputs": [
    {
     "name": "stdout",
     "output_type": "stream",
     "text": [
      "Populating the interactive namespace from numpy and matplotlib\n"
     ]
    }
   ],
   "source": [
    "import networkx as nx\n",
    "import matplotlib.pyplot as plt\n",
    "%pylab inline"
   ]
  },
  {
   "cell_type": "code",
   "execution_count": 2,
   "metadata": {},
   "outputs": [],
   "source": [
    "# this is a classic graph model that creates a heterogenous network\n",
    "G=nx.Graph()\n",
    "N=10000\n",
    "m=2\n",
    "G=nx.barabasi_albert_graph(N,m)"
   ]
  },
  {
   "cell_type": "markdown",
   "metadata": {},
   "source": [
    "## Degree"
   ]
  },
  {
   "cell_type": "code",
   "execution_count": 3,
   "metadata": {},
   "outputs": [],
   "source": [
    "# the degree is simply the number of connections of each node\n",
    "degree=[]\n",
    "for i in G.nodes():\n",
    "        degree.append([G.degree(i),i])\n",
    "degree=sorted(degree,reverse=True)"
   ]
  },
  {
   "cell_type": "code",
   "execution_count": 4,
   "metadata": {},
   "outputs": [
    {
     "name": "stdout",
     "output_type": "stream",
     "text": [
      "Rank =  1 Degree =  163 Node id =  2\n",
      "Rank =  2 Degree =  157 Node id =  3\n",
      "Rank =  3 Degree =  140 Node id =  8\n",
      "Rank =  4 Degree =  110 Node id =  5\n",
      "Rank =  5 Degree =  103 Node id =  9\n",
      "Rank =  6 Degree =  101 Node id =  45\n",
      "Rank =  7 Degree =  101 Node id =  13\n",
      "Rank =  8 Degree =  99 Node id =  6\n",
      "Rank =  9 Degree =  95 Node id =  43\n",
      "Rank =  10 Degree =  79 Node id =  14\n"
     ]
    }
   ],
   "source": [
    "# let's print the top 10\n",
    "for i in range(10):\n",
    "    print (\"Rank = \",i+1,\"Degree = \", degree[i][0], \"Node id = \",degree[i][1])"
   ]
  },
  {
   "cell_type": "code",
   "execution_count": 8,
   "metadata": {},
   "outputs": [],
   "source": [
    "# it's often interesting to see the distribution of network's features\n",
    "# we can use a log bin function\n",
    "from logbin import*"
   ]
  },
  {
   "cell_type": "code",
   "execution_count": 9,
   "metadata": {},
   "outputs": [],
   "source": [
    "# to use the function we need a dictionary containing the degree of each node\n",
    "dict_degree={}\n",
    "for i in degree:\n",
    "    dict_degree[i[1]]=i[0]"
   ]
  },
  {
   "cell_type": "code",
   "execution_count": 10,
   "metadata": {},
   "outputs": [
    {
     "name": "stdout",
     "output_type": "stream",
     "text": [
      "46\n"
     ]
    }
   ],
   "source": [
    "print (dict_degree[1])"
   ]
  },
  {
   "cell_type": "code",
   "execution_count": 11,
   "metadata": {},
   "outputs": [
    {
     "data": {
      "image/png": "[encoded data removed]",
      "text/plain": [
       "<Figure size 432x288 with 1 Axes>"
      ]
     },
     "metadata": {
      "needs_background": "light"
     },
     "output_type": "display_data"
    }
   ],
   "source": [
    "n_bins=20\n",
    "deg_binned=log_bin(dict_degree,n_bins)\n",
    "\n",
    "# we then plot their binned distribution\n",
    "x_degree=[]\n",
    "y_degree=[]\n",
    "for i in deg_binned:\n",
    "    x_degree.append(i[0])\n",
    "    y_degree.append(i[1])\n",
    "    \n",
    "plt.plot(x_degree,y_degree,color=\"Red\",linewidth=1.1, marker=\"o\",alpha=0.5) \n",
    "plt.yscale('log')\n",
    "plt.xscale('log')\n",
    "plt.xlabel('k')\n",
    "plt.ylabel('P(k)')\n",
    "plt.show()"
   ]
  },
  {
   "cell_type": "code",
   "execution_count": null,
   "metadata": {},
   "outputs": [],
   "source": [
    "# let's make a general function that takes the list of centralities and plots the distribution"
   ]
  },
  {
   "cell_type": "code",
   "execution_count": 12,
   "metadata": {},
   "outputs": [],
   "source": [
    "def plot_dist(list_centrality):\n",
    "    dict_centrality={}\n",
    "    for i in list_centrality:\n",
    "        dict_centrality[i[1]]=i[0]\n",
    "        \n",
    "    n_bins=20\n",
    "    centrality_binned=log_bin(dict_centrality,n_bins)\n",
    "\n",
    "    # we then plot their binned distribution\n",
    "    x_centrality=[]\n",
    "    y_centrality=[]\n",
    "    for i in centrality_binned:\n",
    "        x_centrality.append(i[0])\n",
    "        y_centrality.append(i[1])\n",
    "\n",
    "    plt.plot(x_centrality,y_centrality,color=\"Red\",linewidth=1.1, marker=\"o\",alpha=0.5) \n",
    "    plt.yscale('log')\n",
    "    plt.xscale('log')\n",
    "    plt.xlabel('x')\n",
    "    plt.ylabel('P(x)')\n",
    "    plt.show()"
   ]
  },
  {
   "cell_type": "code",
   "execution_count": 13,
   "metadata": {},
   "outputs": [
    {
     "data": {
      "image/png": "[encoded data removed]",
      "text/plain": [
       "<Figure size 432x288 with 1 Axes>"
      ]
     },
     "metadata": {
      "needs_background": "light"
     },
     "output_type": "display_data"
    }
   ],
   "source": [
    "plot_dist(degree)"
   ]
  },
  {
   "cell_type": "markdown",
   "metadata": {},
   "source": [
    "## Closeness"
   ]
  },
  {
   "cell_type": "markdown",
   "metadata": {},
   "source": [
    "$$ C_i=\\frac{N-1}{\\sum_{j}d_{ij}} $$"
   ]
  },
  {
   "cell_type": "code",
   "execution_count": 14,
   "metadata": {},
   "outputs": [],
   "source": [
    "G=nx.Graph()\n",
    "N=1000\n",
    "m=2\n",
    "G=nx.barabasi_albert_graph(N,m)\n",
    "\n",
    "\n",
    "l=nx.closeness_centrality(G)\n",
    "closeness=[]\n",
    "for i in G.nodes():\n",
    "            closeness.append([l[i],i])\n",
    "closeness=sorted(closeness,reverse=True)"
   ]
  },
  {
   "cell_type": "code",
   "execution_count": 15,
   "metadata": {},
   "outputs": [
    {
     "name": "stdout",
     "output_type": "stream",
     "text": [
      "Rank =  1 Closeness =  0.3858632676709154 Node id =  2\n",
      "Rank =  2 Closeness =  0.378839590443686 Node id =  4\n",
      "Rank =  3 Closeness =  0.37726586102719034 Node id =  1\n",
      "Rank =  4 Closeness =  0.34784122562674097 Node id =  13\n",
      "Rank =  5 Closeness =  0.34603394527190856 Node id =  7\n",
      "Rank =  6 Closeness =  0.33761405880364986 Node id =  0\n",
      "Rank =  7 Closeness =  0.3361372812920592 Node id =  10\n",
      "Rank =  8 Closeness =  0.33568548387096775 Node id =  6\n",
      "Rank =  9 Closeness =  0.3311236327477627 Node id =  5\n",
      "Rank =  10 Closeness =  0.3294854881266491 Node id =  9\n"
     ]
    }
   ],
   "source": [
    "# let's see the top 10\n",
    "for i in range(10):\n",
    "    print (\"Rank = \",i+1,\"Closeness = \", closeness[i][0], \"Node id = \",closeness[i][1])"
   ]
  },
  {
   "cell_type": "code",
   "execution_count": 16,
   "metadata": {},
   "outputs": [
    {
     "data": {
      "image/png": "[encoded data removed]",
      "text/plain": [
       "<Figure size 432x288 with 1 Axes>"
      ]
     },
     "metadata": {
      "needs_background": "light"
     },
     "output_type": "display_data"
    }
   ],
   "source": [
    "# let's see the distribution\n",
    "plot_dist(closeness)"
   ]
  },
  {
   "cell_type": "markdown",
   "metadata": {},
   "source": [
    "## Betweenness"
   ]
  },
  {
   "cell_type": "code",
   "execution_count": 17,
   "metadata": {},
   "outputs": [],
   "source": [
    "l=nx.betweenness_centrality(G)\n",
    "betweenness=[]\n",
    "for i in G.nodes():\n",
    "    betweenness.append([l[i],i])\n",
    "betweenness=sorted(betweenness,reverse=True)"
   ]
  },
  {
   "cell_type": "code",
   "execution_count": 18,
   "metadata": {},
   "outputs": [
    {
     "name": "stdout",
     "output_type": "stream",
     "text": [
      "Rank =  1 Betweenness =  0.1954242590493262 Node id =  4\n",
      "Rank =  2 Betweenness =  0.19256614502245797 Node id =  2\n",
      "Rank =  3 Betweenness =  0.15272465228796392 Node id =  1\n",
      "Rank =  4 Betweenness =  0.11747613169193975 Node id =  13\n",
      "Rank =  5 Betweenness =  0.09004903517559533 Node id =  7\n",
      "Rank =  6 Betweenness =  0.08019080491506009 Node id =  6\n",
      "Rank =  7 Betweenness =  0.06356177157550183 Node id =  0\n",
      "Rank =  8 Betweenness =  0.061981168266713134 Node id =  10\n",
      "Rank =  9 Betweenness =  0.05071353871706632 Node id =  14\n",
      "Rank =  10 Betweenness =  0.04828740776947101 Node id =  3\n"
     ]
    }
   ],
   "source": [
    "# let's see the top 10\n",
    "for i in range(10):\n",
    "    print (\"Rank = \",i+1,\"Betweenness = \", betweenness[i][0], \"Node id = \",betweenness[i][1])"
   ]
  },
  {
   "cell_type": "code",
   "execution_count": 19,
   "metadata": {},
   "outputs": [
    {
     "ename": "ValueError",
     "evalue": "math domain error",
     "output_type": "error",
     "traceback": [
      "\u001b[0;31m---------------------------------------------------------------------------\u001b[0m",
      "\u001b[0;31mValueError\u001b[0m                                Traceback (most recent call last)",
      "\u001b[0;32m<ipython-input-19-49dab692b717>\u001b[0m in \u001b[0;36m<module>\u001b[0;34m\u001b[0m\n\u001b[1;32m      1\u001b[0m \u001b[0;31m# let's see the distribution\u001b[0m\u001b[0;34m\u001b[0m\u001b[0;34m\u001b[0m\u001b[0;34m\u001b[0m\u001b[0m\n\u001b[0;32m----> 2\u001b[0;31m \u001b[0mplot_dist\u001b[0m\u001b[0;34m(\u001b[0m\u001b[0mbetweenness\u001b[0m\u001b[0;34m)\u001b[0m\u001b[0;34m\u001b[0m\u001b[0;34m\u001b[0m\u001b[0m\n\u001b[0m",
      "\u001b[0;32m<ipython-input-12-cc1b78456ee0>\u001b[0m in \u001b[0;36mplot_dist\u001b[0;34m(list_centrality)\u001b[0m\n\u001b[1;32m      5\u001b[0m \u001b[0;34m\u001b[0m\u001b[0m\n\u001b[1;32m      6\u001b[0m     \u001b[0mn_bins\u001b[0m\u001b[0;34m=\u001b[0m\u001b[0;36m20\u001b[0m\u001b[0;34m\u001b[0m\u001b[0;34m\u001b[0m\u001b[0m\n\u001b[0;32m----> 7\u001b[0;31m     \u001b[0mcentrality_binned\u001b[0m\u001b[0;34m=\u001b[0m\u001b[0mlog_bin\u001b[0m\u001b[0;34m(\u001b[0m\u001b[0mdict_centrality\u001b[0m\u001b[0;34m,\u001b[0m\u001b[0mn_bins\u001b[0m\u001b[0;34m)\u001b[0m\u001b[0;34m\u001b[0m\u001b[0;34m\u001b[0m\u001b[0m\n\u001b[0m\u001b[1;32m      8\u001b[0m \u001b[0;34m\u001b[0m\u001b[0m\n\u001b[1;32m      9\u001b[0m     \u001b[0;31m# we then plot their binned distribution\u001b[0m\u001b[0;34m\u001b[0m\u001b[0;34m\u001b[0m\u001b[0;34m\u001b[0m\u001b[0m\n",
      "\u001b[0;32m~/OneDrive - University of Greenwich/TURIN/CODE/CLASS_7_Code/CLASS7_b/logbin.py\u001b[0m in \u001b[0;36mlog_bin\u001b[0;34m(dict, n_bins)\u001b[0m\n\u001b[1;32m      9\u001b[0m     \u001b[0mmin_val\u001b[0m\u001b[0;34m=\u001b[0m\u001b[0msorted\u001b[0m\u001b[0;34m(\u001b[0m\u001b[0mdict\u001b[0m\u001b[0;34m.\u001b[0m\u001b[0mvalues\u001b[0m\u001b[0;34m(\u001b[0m\u001b[0;34m)\u001b[0m\u001b[0;34m)\u001b[0m\u001b[0;34m[\u001b[0m\u001b[0;36m0\u001b[0m\u001b[0;34m]\u001b[0m\u001b[0;34m\u001b[0m\u001b[0;34m\u001b[0m\u001b[0m\n\u001b[1;32m     10\u001b[0m     \u001b[0mmax_val\u001b[0m\u001b[0;34m=\u001b[0m\u001b[0msorted\u001b[0m\u001b[0;34m(\u001b[0m\u001b[0mdict\u001b[0m\u001b[0;34m.\u001b[0m\u001b[0mvalues\u001b[0m\u001b[0;34m(\u001b[0m\u001b[0;34m)\u001b[0m\u001b[0;34m)\u001b[0m\u001b[0;34m[\u001b[0m\u001b[0;34m-\u001b[0m\u001b[0;36m1\u001b[0m\u001b[0;34m]\u001b[0m\u001b[0;34m\u001b[0m\u001b[0;34m\u001b[0m\u001b[0m\n\u001b[0;32m---> 11\u001b[0;31m     \u001b[0mdelta\u001b[0m\u001b[0;34m=\u001b[0m\u001b[0;34m(\u001b[0m\u001b[0mmath\u001b[0m\u001b[0;34m.\u001b[0m\u001b[0mlog\u001b[0m\u001b[0;34m(\u001b[0m\u001b[0mfloat\u001b[0m\u001b[0;34m(\u001b[0m\u001b[0mmax_val\u001b[0m\u001b[0;34m)\u001b[0m\u001b[0;34m)\u001b[0m\u001b[0;34m-\u001b[0m\u001b[0mmath\u001b[0m\u001b[0;34m.\u001b[0m\u001b[0mlog\u001b[0m\u001b[0;34m(\u001b[0m\u001b[0mfloat\u001b[0m\u001b[0;34m(\u001b[0m\u001b[0mmin_val\u001b[0m\u001b[0;34m)\u001b[0m\u001b[0;34m)\u001b[0m\u001b[0;34m)\u001b[0m\u001b[0;34m/\u001b[0m\u001b[0mn_bins\u001b[0m\u001b[0;34m\u001b[0m\u001b[0;34m\u001b[0m\u001b[0m\n\u001b[0m\u001b[1;32m     12\u001b[0m \u001b[0;34m\u001b[0m\u001b[0m\n\u001b[1;32m     13\u001b[0m     \u001b[0;31m# then we create the bins, in this case the log of the bins is equally spaced (bins size increases exponentially)\u001b[0m\u001b[0;34m\u001b[0m\u001b[0;34m\u001b[0m\u001b[0;34m\u001b[0m\u001b[0m\n",
      "\u001b[0;31mValueError\u001b[0m: math domain error"
     ]
    }
   ],
   "source": [
    "# let's see the distribution\n",
    "plot_dist(betweenness)"
   ]
  },
  {
   "cell_type": "code",
   "execution_count": null,
   "metadata": {},
   "outputs": [],
   "source": [
    "# why??!!"
   ]
  },
  {
   "cell_type": "code",
   "execution_count": 20,
   "metadata": {},
   "outputs": [
    {
     "name": "stdout",
     "output_type": "stream",
     "text": [
      "[0.0, 43] [0.1954242590493262, 4]\n"
     ]
    }
   ],
   "source": [
    "min_val=sorted(betweenness)[0]\n",
    "max_val=sorted(betweenness)[-1]\n",
    "\n",
    "print (min_val, max_val)"
   ]
  },
  {
   "cell_type": "code",
   "execution_count": null,
   "metadata": {},
   "outputs": [],
   "source": [
    "# there are zeros. The log binning does not work.\n",
    "# let's see first how many zeros we have"
   ]
  },
  {
   "cell_type": "code",
   "execution_count": 21,
   "metadata": {},
   "outputs": [
    {
     "name": "stdout",
     "output_type": "stream",
     "text": [
      "20\n"
     ]
    }
   ],
   "source": [
    "count=0\n",
    "for i in betweenness:\n",
    "    if i[0]==0.0:\n",
    "        count+=1\n",
    "print (count)"
   ]
  },
  {
   "cell_type": "code",
   "execution_count": 22,
   "metadata": {},
   "outputs": [],
   "source": [
    "# let's make the distribution neglecting them\n",
    "def plot_dist(list_centrality):\n",
    "    dict_centrality={}\n",
    "    for i in list_centrality:\n",
    "        if i[0]>0.:\n",
    "            dict_centrality[i[1]]=i[0]\n",
    "        \n",
    "    n_bins=20\n",
    "    centrality_binned=log_bin(dict_centrality,n_bins)\n",
    "\n",
    "    # we then plot their binned distribution\n",
    "    x_centrality=[]\n",
    "    y_centrality=[]\n",
    "    for i in centrality_binned:\n",
    "        x_centrality.append(i[0])\n",
    "        y_centrality.append(i[1])\n",
    "\n",
    "    plt.plot(x_centrality,y_centrality,color=\"Red\",linewidth=1.1, marker=\"o\",alpha=0.5) \n",
    "    plt.yscale('log')\n",
    "    plt.xscale('log')\n",
    "    plt.xlabel('x')\n",
    "    plt.ylabel('P(x)')\n",
    "    plt.show()"
   ]
  },
  {
   "cell_type": "code",
   "execution_count": 23,
   "metadata": {},
   "outputs": [
    {
     "data": {
      "image/png": "[encoded data removed]",
      "text/plain": [
       "<Figure size 432x288 with 1 Axes>"
      ]
     },
     "metadata": {
      "needs_background": "light"
     },
     "output_type": "display_data"
    }
   ],
   "source": [
    "plot_dist(betweenness)"
   ]
  },
  {
   "cell_type": "markdown",
   "metadata": {},
   "source": [
    "## Spectral centrality measures"
   ]
  },
  {
   "cell_type": "code",
   "execution_count": 36,
   "metadata": {},
   "outputs": [],
   "source": [
    "### Eigenvector centrality\n",
    "G=nx.Graph()\n",
    "N=1000\n",
    "m=2\n",
    "G=nx.barabasi_albert_graph(N,m)"
   ]
  },
  {
   "cell_type": "code",
   "execution_count": 25,
   "metadata": {},
   "outputs": [],
   "source": [
    "l=nx.eigenvector_centrality(G, max_iter=1000, tol=1e-06)\n",
    "eigenv_centrality=[]\n",
    "for i in G.nodes():\n",
    "        eigenv_centrality.append([l[i],i])\n",
    "eigenv_centrality=sorted(eigenv_centrality,reverse=True)"
   ]
  },
  {
   "cell_type": "code",
   "execution_count": 26,
   "metadata": {},
   "outputs": [
    {
     "name": "stdout",
     "output_type": "stream",
     "text": [
      "Rank =  1 Eigenvector Cent. =  0.4286818168835181 Node id =  8\n",
      "Rank =  2 Eigenvector Cent. =  0.31813447402142286 Node id =  2\n",
      "Rank =  3 Eigenvector Cent. =  0.23891683866360328 Node id =  9\n",
      "Rank =  4 Eigenvector Cent. =  0.21649026189668422 Node id =  1\n",
      "Rank =  5 Eigenvector Cent. =  0.18651771918029217 Node id =  0\n",
      "Rank =  6 Eigenvector Cent. =  0.1598016422975619 Node id =  4\n",
      "Rank =  7 Eigenvector Cent. =  0.12060461013511622 Node id =  18\n",
      "Rank =  8 Eigenvector Cent. =  0.10070642489678537 Node id =  13\n",
      "Rank =  9 Eigenvector Cent. =  0.09777815313880653 Node id =  11\n",
      "Rank =  10 Eigenvector Cent. =  0.08601899854967528 Node id =  3\n"
     ]
    }
   ],
   "source": [
    "# let's see the top 10\n",
    "for i in range(10):\n",
    "    print (\"Rank = \",i+1,\"Eigenvector Cent. = \", eigenv_centrality[i][0], \"Node id = \",eigenv_centrality[i][1])"
   ]
  },
  {
   "cell_type": "code",
   "execution_count": 27,
   "metadata": {},
   "outputs": [
    {
     "data": {
      "image/png": "[encoded data removed]",
      "text/plain": [
       "<Figure size 432x288 with 1 Axes>"
      ]
     },
     "metadata": {
      "needs_background": "light"
     },
     "output_type": "display_data"
    }
   ],
   "source": [
    "# distribution\n",
    "plot_dist(eigenv_centrality)"
   ]
  },
  {
   "cell_type": "markdown",
   "metadata": {},
   "source": [
    "### PageRank\n",
    "$$x=\\frac{1-\\alpha}{N}+ \\alpha \\sum_{j}A^{T}_{ij}\\frac{x_j}{k^{out}_j}+\\frac{\\alpha}{N}\\sum_{j|k^{out}_j=0}x_j$$"
   ]
  },
  {
   "cell_type": "code",
   "execution_count": 28,
   "metadata": {},
   "outputs": [],
   "source": [
    "l=nx.pagerank(G,0.85)\n",
    "pagerank=[]\n",
    "for i in G.nodes():\n",
    "    pagerank.append([l[i],i])\n",
    "pagerank=sorted(pagerank,reverse=True)"
   ]
  },
  {
   "cell_type": "code",
   "execution_count": 29,
   "metadata": {},
   "outputs": [
    {
     "name": "stdout",
     "output_type": "stream",
     "text": [
      "0.9999999999999993\n"
     ]
    }
   ],
   "source": [
    "# pagerank should be normalized! It is a probability\n",
    "check=0.\n",
    "for i in pagerank:\n",
    "    check+=i[0]\n",
    "print (check)"
   ]
  },
  {
   "cell_type": "code",
   "execution_count": 30,
   "metadata": {},
   "outputs": [
    {
     "name": "stdout",
     "output_type": "stream",
     "text": [
      "Rank =  1 Pagerank =  0.0037421834908435065 Node id =  8\n",
      "Rank =  2 Pagerank =  0.003104924321320813 Node id =  9\n",
      "Rank =  3 Pagerank =  0.0030041804005718742 Node id =  2\n",
      "Rank =  4 Pagerank =  0.0028020167944303453 Node id =  0\n",
      "Rank =  5 Pagerank =  0.00256276179939422 Node id =  4\n",
      "Rank =  6 Pagerank =  0.002251157864805736 Node id =  1\n",
      "Rank =  7 Pagerank =  0.0022407960203029305 Node id =  18\n",
      "Rank =  8 Pagerank =  0.0019555920057040053 Node id =  10\n",
      "Rank =  9 Pagerank =  0.0019425534006726442 Node id =  13\n",
      "Rank =  10 Pagerank =  0.001934506733741149 Node id =  15\n"
     ]
    }
   ],
   "source": [
    "# let's see the top 10\n",
    "for i in range(10):\n",
    "    print (\"Rank = \",i+1,\"Pagerank = \", pagerank[i][0], \"Node id = \", pagerank[i][1])"
   ]
  },
  {
   "cell_type": "code",
   "execution_count": 31,
   "metadata": {},
   "outputs": [
    {
     "data": {
      "image/png": "[encoded data removed]",
      "text/plain": [
       "<Figure size 432x288 with 1 Axes>"
      ]
     },
     "metadata": {
      "needs_background": "light"
     },
     "output_type": "display_data"
    }
   ],
   "source": [
    "plot_dist(pagerank)"
   ]
  },
  {
   "cell_type": "code",
   "execution_count": 32,
   "metadata": {},
   "outputs": [],
   "source": [
    "import random as rand\n",
    "\n",
    "\n",
    "def get_centrality(G,type_centrality):\n",
    "    \n",
    "    if type_centrality==\"degree\":\n",
    "\n",
    "        centrality=[]\n",
    "        for i in G.nodes():\n",
    "            centrality.append([G.degree(i),i])\n",
    "        centrality=sorted(centrality,reverse=True)\n",
    "        return centrality\n",
    "        \n",
    "    elif type_centrality==\"closeness\":\n",
    "\n",
    "        l=nx.closeness_centrality(G)\n",
    "        centrality=[]\n",
    "        for i in G.nodes():\n",
    "            centrality.append([l[i],i])\n",
    "        centrality=sorted(centrality,reverse=True)\n",
    "        return centrality\n",
    "    \n",
    "    elif type_centrality==\"betweenness\":\n",
    "        l=nx.betweenness_centrality(G)\n",
    "        centrality=[]\n",
    "        for i in G.nodes():\n",
    "            centrality.append([l[i],i])\n",
    "        centrality=sorted(centrality,reverse=True)\n",
    "        return centrality\n",
    "    \n",
    "    elif type_centrality==\"eigenvector\":\n",
    "        l=nx.eigenvector_centrality(G, max_iter=1000, tol=1e-06)\n",
    "        centrality=[]\n",
    "        for i in G.nodes():\n",
    "            centrality.append([l[i],i])\n",
    "        centrality=sorted(centrality,reverse=True)\n",
    "        return centrality\n",
    "    \n",
    "    elif type_centrality==\"katz\":\n",
    "        l=nx.katz_centrality(G, alpha=0.001, beta=1.0, max_iter=1000, tol=1e-06)\n",
    "        centrality=[]\n",
    "        for i in G.nodes():\n",
    "            centrality.append([l[i],i])\n",
    "        centrality=sorted(centrality,reverse=True)\n",
    "        return centrality\n",
    "    \n",
    "    \n",
    "    elif type_centrality==\"pagerank\":\n",
    "        l=nx.pagerank(G,0.85)\n",
    "        centrality=[]\n",
    "        for i in G.nodes():\n",
    "            centrality.append([l[i],i])\n",
    "        centrality=sorted(centrality,reverse=True)\n",
    "        return centrality\n",
    "    \n",
    "    \n",
    "    elif type_centrality==\"random\":\n",
    "        \n",
    "        centrality=[]\n",
    "        for i in G.nodes():\n",
    "            centrality.append([i,i])\n",
    "        rand.shuffle(centrality)\n",
    "        return centrality\n",
    "    else:\n",
    "        return 0"
   ]
  },
  {
   "cell_type": "code",
   "execution_count": 33,
   "metadata": {},
   "outputs": [],
   "source": [
    "# how close the rankings are? \n",
    "# we can use Kendall's tau\n",
    "import scipy.stats as stats\n",
    "\n",
    "def k_tau(list_1,list_2):\n",
    "    id1=[]\n",
    "    id2=[]\n",
    "    map_id={}\n",
    "    c=1\n",
    "    for i in range(len(list_1)):\n",
    "        map_id[list_1[i][1]]=c # we need to order the list of one from 1 to N\n",
    "                               # we map the id to the position in this list\n",
    "        id1.append(c)\n",
    "        c+=1\n",
    "    for i in range(len(list_2)):        \n",
    "        id2.append(map_id[list_2[i][1]])  # we add the id in the correct order\n",
    "\n",
    "    \n",
    "    tau = stats.kendalltau(id1,id2)\n",
    "    return (tau)"
   ]
  },
  {
   "cell_type": "code",
   "execution_count": 34,
   "metadata": {},
   "outputs": [],
   "source": [
    "def correlation_centralities(G):\n",
    "    degree_centrality=get_centrality(G,\"degree\")\n",
    "    closeness_centrality=get_centrality(G,\"closeness\")\n",
    "    betweenness_centrality=get_centrality(G,\"betweenness\")\n",
    "    pagerank=get_centrality(G,\"pagerank\")\n",
    "    eigenvector_centrality=get_centrality(G,\"eigenvector\")\n",
    "\n",
    "    dict_centralities={}\n",
    "    dict_centralities[0]=[\"degree\",degree_centrality]\n",
    "    dict_centralities[1]=[\"closeness\",closeness_centrality]\n",
    "    dict_centralities[2]=[\"betweenness\",betweenness_centrality]\n",
    "    dict_centralities[3]=[\"pagerank\",pagerank]\n",
    "    dict_centralities[4]=[\"eigenvector\",eigenvector_centrality]\n",
    "\n",
    "    list_correlations=[]\n",
    "    for i in dict_centralities:\n",
    "        for j in dict_centralities:\n",
    "            if i<j:\n",
    "                pair=dict_centralities[i][0]+\"-\"+dict_centralities[j][0]\n",
    "                value=k_tau(dict_centralities[i][1],dict_centralities[j][1])[0]\n",
    "                p_value=k_tau(dict_centralities[i][1],dict_centralities[j][1])[1]\n",
    "                list_correlations.append([value,p_value,pair])\n",
    "                \n",
    "    list_correlations=sorted(list_correlations,reverse=True)\n",
    "    return list_correlations"
   ]
  },
  {
   "cell_type": "code",
   "execution_count": 37,
   "metadata": {},
   "outputs": [
    {
     "name": "stdout",
     "output_type": "stream",
     "text": [
      "closeness-eigenvector = 0.9092372372372373\n",
      "degree-pagerank = 0.7585945945945946\n",
      "degree-betweenness = 0.5532452452452452\n",
      "betweenness-pagerank = 0.5100860860860861\n",
      "closeness-betweenness = 0.41331331331331334\n",
      "betweenness-eigenvector = 0.38582982982982983\n",
      "degree-closeness = 0.22690690690690693\n",
      "degree-eigenvector = 0.2204924924924925\n",
      "closeness-pagerank = 0.07606406406406406\n",
      "pagerank-eigenvector = 0.07230830830830831\n"
     ]
    }
   ],
   "source": [
    "list_correlations=correlation_centralities(G)\n",
    "\n",
    "for i in list_correlations:\n",
    "    print (i[2],\"=\",i[0])\n"
   ]
  },
  {
   "cell_type": "code",
   "execution_count": null,
   "metadata": {},
   "outputs": [],
   "source": [
    "#let's try another network"
   ]
  },
  {
   "cell_type": "code",
   "execution_count": 38,
   "metadata": {},
   "outputs": [],
   "source": [
    "G=nx.Graph()\n",
    "a=open(\"data/facebook.edges\",\"r\")\n",
    "for i in a:\n",
    "    n=i.strip().split()\n",
    "    G.add_edge(int(n[0]),int(n[1]))\n",
    "a.close()"
   ]
  },
  {
   "cell_type": "code",
   "execution_count": 39,
   "metadata": {},
   "outputs": [
    {
     "name": "stdout",
     "output_type": "stream",
     "text": [
      "closeness-eigenvector = 0.8382358261876335\n",
      "degree-pagerank = 0.6247331669018417\n",
      "degree-eigenvector = 0.6058829914251602\n",
      "degree-closeness = 0.5831976554868121\n",
      "betweenness-pagerank = 0.4837729295560621\n",
      "degree-betweenness = 0.47682622381417566\n",
      "closeness-betweenness = 0.41958826296175694\n",
      "betweenness-eigenvector = 0.32403487825174576\n",
      "closeness-pagerank = 0.2771807952530844\n",
      "pagerank-eigenvector = 0.2581858967401136\n"
     ]
    }
   ],
   "source": [
    "list_correlations=correlation_centralities(G)\n",
    "\n",
    "for i in list_correlations:\n",
    "    print (i[2],\"=\",i[0])\n"
   ]
  },
  {
   "cell_type": "markdown",
   "metadata": {},
   "source": [
    "### The correlations depend on the topology!"
   ]
  },
  {
   "cell_type": "markdown",
   "metadata": {},
   "source": [
    "### Quantifying the efficiency of centrality measures"
   ]
  },
  {
   "cell_type": "code",
   "execution_count": 40,
   "metadata": {},
   "outputs": [],
   "source": [
    "G=nx.Graph()\n",
    "N=1000\n",
    "m=2\n",
    "G=nx.barabasi_albert_graph(N,m)"
   ]
  },
  {
   "cell_type": "code",
   "execution_count": 51,
   "metadata": {},
   "outputs": [],
   "source": [
    "# to measure the efficiency of centrality measures we can look at what happen if we remove nodes ranked according\n",
    "# to a specific measure\n",
    "def evaluate_centrality(G,centrality):\n",
    "    \n",
    "    size=np.zeros(len(centrality)+1,float)\n",
    "\n",
    "    # let us get the size of the largest connected component in the undamaged network\n",
    "    l=nx.connected_components(G)\n",
    "    for i in l:\n",
    "        l=sorted(nx.connected_components(G), key = len, reverse=True)\n",
    "        size[0]=len(l[0])\n",
    "        break\n",
    "        \n",
    "    # let us damage progressively the network and measure at each iteration \n",
    "    # the size of the largest connected component    \n",
    "    c=1    \n",
    "    for i in centrality:   \n",
    "        G.remove_node(i[1])\n",
    "        l=sorted(nx.connected_components(G), key = len, reverse=True)\n",
    "        if len(l)>0:\n",
    "            size[c]=len(l[0])\n",
    "            c+=1    \n",
    "    return size"
   ]
  },
  {
   "cell_type": "code",
   "execution_count": 52,
   "metadata": {},
   "outputs": [],
   "source": [
    "method=[\"degree\",\"closeness\",\"betweenness\",\"eigenvector\",\"pagerank\",\"random\"]\n",
    "\n",
    "size_methods=np.zeros((6,N+1),float)\n",
    "\n",
    "c=0\n",
    "for i in method:\n",
    "\n",
    "    H=nx.Graph()\n",
    "    H.add_edges_from(G.edges())\n",
    "    \n",
    "    centrality=get_centrality(G,i)\n",
    "    \n",
    "    size_methods[c]=evaluate_centrality(H,centrality)\n",
    "    c+=1"
   ]
  },
  {
   "cell_type": "code",
   "execution_count": 53,
   "metadata": {},
   "outputs": [
    {
     "data": {
      "image/png": "[encoded data removed]",
      "text/plain": [
       "<Figure size 432x288 with 1 Axes>"
      ]
     },
     "metadata": {
      "needs_background": "light"
     },
     "output_type": "display_data"
    }
   ],
   "source": [
    "x=np.array([i/float(N) for i in range(N+1)])  \n",
    "\n",
    "plt.plot(x,size_methods[0]/size_methods[0][0],color=\"Red\",linewidth=1.1, marker=\"o\",alpha=0.6)\n",
    "plt.plot(x,size_methods[1]/size_methods[1][0],color=\"Green\",linewidth=1.1, marker=\"o\",alpha=0.6)\n",
    "plt.plot(x,size_methods[2]/size_methods[2][0],color=\"Blue\",linewidth=1.1, marker=\"o\",alpha=0.6)\n",
    "plt.plot(x,size_methods[3]/size_methods[3][0],color=\"Black\",linewidth=1.1, marker=\"o\",alpha=0.6)\n",
    "plt.plot(x,size_methods[4]/size_methods[4][0],color=\"Cyan\",linewidth=1.1, marker=\"o\",alpha=0.6)\n",
    "plt.plot(x,size_methods[5]/size_methods[5][0],color=\"Orange\",linewidth=1.1, marker=\"o\",alpha=0.6)\n",
    "plt.xlabel(\"Fraction removed nodes\")\n",
    "plt.ylabel(\"s/s0\")\n",
    "plt.show()"
   ]
  },
  {
   "cell_type": "code",
   "execution_count": 54,
   "metadata": {},
   "outputs": [
    {
     "data": {
      "image/png": "[encoded data removed]",
      "text/plain": [
       "<Figure size 432x288 with 1 Axes>"
      ]
     },
     "metadata": {
      "needs_background": "light"
     },
     "output_type": "display_data"
    }
   ],
   "source": [
    "# we can get the same output writing\n",
    "x=np.array([i/float(N) for i in range(N+1)])  \n",
    "\n",
    "colors=[\"#EE5C3D\",\"Green\",\"Blue\",\"Black\",\"Cyan\",\"Orange\"]\n",
    "alpha_list=[0.5,0.4,0.3,0.2,0.1,0.01]\n",
    "\n",
    "for i in range(6):\n",
    "    plt.plot(x,size_methods[i]/size_methods[i][0],color=colors[i],linewidth=1.1, marker=\"o\",alpha=alpha_list[i],label=method[i])\n",
    "\n",
    "plt.xlabel(\"Fraction removed nodes\")\n",
    "plt.ylabel(\"s/s0\")\n",
    "plt.legend()\n",
    "plt.show()"
   ]
  },
  {
   "cell_type": "markdown",
   "metadata": {},
   "source": [
    "## Real application"
   ]
  },
  {
   "cell_type": "code",
   "execution_count": null,
   "metadata": {},
   "outputs": [],
   "source": [
    "# let's consider a dataset describing real interactions within an hospital"
   ]
  },
  {
   "cell_type": "code",
   "execution_count": 55,
   "metadata": {},
   "outputs": [
    {
     "name": "stdout",
     "output_type": "stream",
     "text": [
      "['140', '1157', '1232', 'MED', 'ADM']\n"
     ]
    }
   ],
   "source": [
    "a=open(\"data/detailed_list_of_contacts_Hospital.dat\",\"r\")\n",
    "for i in a:\n",
    "    n=i.strip().split()\n",
    "    print (n)\n",
    "    break\n",
    "a.close()"
   ]
  },
  {
   "cell_type": "code",
   "execution_count": 56,
   "metadata": {},
   "outputs": [],
   "source": [
    "# here we are neglecting time\n",
    "a=open(\"data/detailed_list_of_contacts_Hospital.dat\",\"r\")\n",
    "G=nx.Graph()\n",
    "for i in a:\n",
    "    n=i.strip().split()\n",
    "    G.add_edge(n[1],n[2]) #let's add edges\n",
    "    # let's add feautures to nodes: their type\n",
    "    G.nodes[n[1]][\"type\"]=n[3]\n",
    "    G.nodes[n[2]][\"type\"]=n[4]\n",
    "a.close()"
   ]
  },
  {
   "cell_type": "code",
   "execution_count": 57,
   "metadata": {},
   "outputs": [
    {
     "name": "stdout",
     "output_type": "stream",
     "text": [
      "Rank =  1 Degree =  61 Node id =  1098 type ADM\n",
      "Rank =  2 Degree =  58 Node id =  1193 type NUR\n",
      "Rank =  3 Degree =  57 Node id =  1164 type NUR\n",
      "Rank =  4 Degree =  57 Node id =  1115 type NUR\n",
      "Rank =  5 Degree =  56 Node id =  1295 type NUR\n",
      "Rank =  6 Degree =  56 Node id =  1210 type NUR\n",
      "Rank =  7 Degree =  55 Node id =  1109 type NUR\n",
      "Rank =  8 Degree =  53 Node id =  1157 type MED\n",
      "Rank =  9 Degree =  51 Node id =  1658 type ADM\n",
      "Rank =  10 Degree =  50 Node id =  1144 type MED\n"
     ]
    }
   ],
   "source": [
    "# let's see the top 10 for number of contacts\n",
    "degree=get_centrality(G,\"degree\")\n",
    "\n",
    "for i in range(10):\n",
    "    print (\"Rank = \",i+1,\"Degree = \", degree[i][0], \"Node id = \", degree[i][1],\"type\",G.nodes[degree[i][1]][\"type\"])"
   ]
  },
  {
   "cell_type": "code",
   "execution_count": 58,
   "metadata": {},
   "outputs": [
    {
     "name": "stdout",
     "output_type": "stream",
     "text": [
      "Rank =  66 Degree =  13 Node id =  1377 type PAT\n",
      "Rank =  67 Degree =  13 Node id =  1305 type PAT\n",
      "Rank =  68 Degree =  11 Node id =  1784 type PAT\n",
      "Rank =  69 Degree =  10 Node id =  1671 type ADM\n",
      "Rank =  70 Degree =  10 Node id =  1399 type PAT\n",
      "Rank =  71 Degree =  9 Node id =  1373 type PAT\n",
      "Rank =  72 Degree =  9 Node id =  1323 type PAT\n",
      "Rank =  73 Degree =  8 Node id =  1535 type ADM\n",
      "Rank =  74 Degree =  7 Node id =  1332 type PAT\n",
      "Rank =  75 Degree =  6 Node id =  1525 type ADM\n"
     ]
    }
   ],
   "source": [
    "# what about the last 10?\n",
    "for i in range(len(degree)-10,len(degree)):\n",
    "    print (\"Rank = \",i+1,\"Degree = \", degree[i][0], \"Node id = \", degree[i][1],\"type\",G.nodes[degree[i][1]][\"type\"])"
   ]
  },
  {
   "cell_type": "code",
   "execution_count": 59,
   "metadata": {},
   "outputs": [
    {
     "name": "stdout",
     "output_type": "stream",
     "text": [
      "Rank =  1 Degree =  0.040408304449621735 Node id =  1098 type ADM\n",
      "Rank =  2 Degree =  0.03515642027965047 Node id =  1193 type NUR\n",
      "Rank =  3 Degree =  0.03126633321619274 Node id =  1164 type NUR\n",
      "Rank =  4 Degree =  0.028688877674588612 Node id =  1115 type NUR\n",
      "Rank =  5 Degree =  0.027834568483203603 Node id =  1109 type NUR\n",
      "Rank =  6 Degree =  0.02682764175660108 Node id =  1295 type NUR\n",
      "Rank =  7 Degree =  0.02644993182527258 Node id =  1210 type NUR\n",
      "Rank =  8 Degree =  0.022657108475668104 Node id =  1658 type ADM\n",
      "Rank =  9 Degree =  0.02216525800306036 Node id =  1190 type NUR\n",
      "Rank =  10 Degree =  0.02165150384471469 Node id =  1157 type MED\n"
     ]
    }
   ],
   "source": [
    "# let's see the top 10 for betweenness\n",
    "betweenness=get_centrality(G,\"betweenness\")\n",
    "\n",
    "for i in range(10):\n",
    "    print (\"Rank = \",i+1,\"Degree = \", betweenness[i][0], \"Node id = \", betweenness[i][1],\"type\",G.nodes[betweenness[i][1]][\"type\"])\n"
   ]
  },
  {
   "cell_type": "code",
   "execution_count": null,
   "metadata": {},
   "outputs": [],
   "source": [
    "# what do we learn?"
   ]
  },
  {
   "cell_type": "code",
   "execution_count": 60,
   "metadata": {},
   "outputs": [],
   "source": [
    "# what about the clustering?\n",
    "l=nx.clustering(G)\n",
    "\n",
    "average_for_type={}\n",
    "for i in G.nodes():\n",
    "    average_for_type.setdefault(G.nodes[i][\"type\"],[])\n",
    "    average_for_type[G.nodes[i][\"type\"]].append(l[i])"
   ]
  },
  {
   "cell_type": "code",
   "execution_count": 61,
   "metadata": {},
   "outputs": [
    {
     "name": "stdout",
     "output_type": "stream",
     "text": [
      "MED 0.6557252400936598\n",
      "ADM 0.7016242252712945\n",
      "NUR 0.5481322615506855\n",
      "PAT 0.7032907429065303\n"
     ]
    }
   ],
   "source": [
    "for i in average_for_type:\n",
    "    average=0.\n",
    "    for j in average_for_type[i]:\n",
    "        average+=j/len(average_for_type[i])\n",
    "    print (i,average)"
   ]
  },
  {
   "cell_type": "code",
   "execution_count": null,
   "metadata": {},
   "outputs": [],
   "source": [
    "# is it good or bad? Do we have enough information?"
   ]
  },
  {
   "cell_type": "code",
   "execution_count": 62,
   "metadata": {},
   "outputs": [
    {
     "name": "stdout",
     "output_type": "stream",
     "text": [
      "MED 0.13994169096209913\n",
      "ADM 0.05429864253393665\n",
      "NUR 0.23681125439624853\n",
      "PAT 0.02218430034129693\n"
     ]
    }
   ],
   "source": [
    "for j in average_for_type:\n",
    "    same=0.\n",
    "    total=0.\n",
    "    for i in G.edges():\n",
    "        if G.nodes[i[0]][\"type\"]==j and G.nodes[i[1]][\"type\"] == j:\n",
    "            same+=1\n",
    "            total+=1\n",
    "        if G.nodes[i[0]][\"type\"]== j and G.nodes[i[1]][\"type\"] != j:\n",
    "            total+=1\n",
    "        if G.nodes[i[0]][\"type\"]!=j and G.nodes[i[1]][\"type\"] == j:\n",
    "            total+=1\n",
    "    print (j,same/total)\n",
    "        \n",
    "        "
   ]
  },
  {
   "cell_type": "code",
   "execution_count": null,
   "metadata": {},
   "outputs": [],
   "source": [
    "# what do we learn?"
   ]
  },
  {
   "cell_type": "code",
   "execution_count": 63,
   "metadata": {},
   "outputs": [],
   "source": [
    "# let's see how each centrality measure performs in this network\n",
    "\n",
    "method=[\"degree\",\"closeness\",\"betweenness\",\"random\"]\n",
    "\n",
    "N=G.number_of_nodes()\n",
    "size_methods=np.zeros((6,N+1),float)\n",
    "\n",
    "c=0\n",
    "for i in method:\n",
    "\n",
    "    H=nx.Graph()\n",
    "    H.add_edges_from(G.edges())\n",
    "    \n",
    "    centrality=get_centrality(G,i)\n",
    "    \n",
    "    size_methods[c]=evaluate_centrality(H,centrality)\n",
    "    c+=1"
   ]
  },
  {
   "cell_type": "code",
   "execution_count": 64,
   "metadata": {},
   "outputs": [
    {
     "data": {
      "image/png": "[encoded data removed]",
      "text/plain": [
       "<Figure size 432x288 with 1 Axes>"
      ]
     },
     "metadata": {
      "needs_background": "light"
     },
     "output_type": "display_data"
    }
   ],
   "source": [
    "x=np.array([i/float(N) for i in range(N+1)])  \n",
    "\n",
    "colors=[\"Red\",\"Green\",\"Blue\",\"Black\"]\n",
    "\n",
    "for i in range(4):\n",
    "    plt.plot(x,size_methods[i]/size_methods[i][0],color=colors[i],linewidth=1.1, marker=\"o\",alpha=0.6,label=method[i])\n",
    "\n",
    "plt.xlabel(\"Fraction removed nodes\")\n",
    "plt.ylabel(\"s/s0\")\n",
    "plt.legend()\n",
    "plt.show()"
   ]
  },
  {
   "cell_type": "code",
   "execution_count": null,
   "metadata": {},
   "outputs": [],
   "source": [
    "# what happens if we remove nodes according to their roles?"
   ]
  },
  {
   "cell_type": "code",
   "execution_count": 65,
   "metadata": {},
   "outputs": [],
   "source": [
    "# let's modify the function to damage the network!\n",
    "\n",
    "def evaluate_centrality2(G,type_node):\n",
    "    \n",
    "    list_type=[]\n",
    "    for i in G.nodes():\n",
    "        if G.nodes[i][\"type\"]==type_node:\n",
    "            list_type.append(i)\n",
    "            \n",
    "    \n",
    "    size=np.zeros(len(list_type)+1,float)\n",
    "\n",
    "    # let us get the size of the largest connected component in the undamaged network\n",
    "    l=nx.connected_components(G)\n",
    "    for i in l:\n",
    "        l=sorted(nx.connected_components(G), key = len, reverse=True)\n",
    "        size[0]=len(l[0])\n",
    "        break\n",
    "        \n",
    "    # let us damage progressively the network and measure at each iteration \n",
    "    # the size of the largest connected component    \n",
    "    c=1\n",
    "    for i in list_type: \n",
    "        G.remove_node(i)\n",
    "        l=sorted(nx.connected_components(G), key = len, reverse=True)\n",
    "        if len(l)>0:\n",
    "            size[c]=len(l[0])\n",
    "            c+=1    \n",
    "    return size"
   ]
  },
  {
   "cell_type": "code",
   "execution_count": 68,
   "metadata": {},
   "outputs": [],
   "source": [
    "method=[\"MED\",\"NUR\",\"PAT\",\"ADM\"]\n",
    "\n",
    "size_methods={}\n",
    "\n",
    "c=0\n",
    "for i in method:\n",
    "    H=nx.Graph()\n",
    "    H.add_edges_from(G.edges())# this DOES NOT copy the features of nodes!\n",
    "    for j in H.nodes():\n",
    "        H.nodes[j][\"type\"]=G.nodes[j][\"type\"]\n",
    "        \n",
    "    size_methods[c]=evaluate_centrality2(H,i)\n",
    "    c+=1"
   ]
  },
  {
   "cell_type": "code",
   "execution_count": 69,
   "metadata": {},
   "outputs": [
    {
     "data": {
      "image/png": "[encoded data removed]",
      "text/plain": [
       "<Figure size 432x288 with 1 Axes>"
      ]
     },
     "metadata": {
      "needs_background": "light"
     },
     "output_type": "display_data"
    }
   ],
   "source": [
    "types={}\n",
    "for i in G.nodes():\n",
    "    types.setdefault(G.nodes[i][\"type\"],0.)\n",
    "    types[G.nodes[i][\"type\"]]+=1.\n",
    "    \n",
    "x={}\n",
    "c=0\n",
    "for j in method:\n",
    "        x[c]=np.array([i/types[j] for i in range(int(types[j])+1)]) \n",
    "        c+=1\n",
    "colors=[\"Red\",\"Green\",\"Blue\",\"Black\"]\n",
    "\n",
    "for i in range(4):\n",
    "    plt.plot(x[i],size_methods[i]/size_methods[i][0],color=colors[i],linewidth=1.1, marker=\"o\",alpha=0.6,label=method[i])\n",
    "\n",
    "plt.xlabel(\"Fraction removed nodes\")\n",
    "plt.ylabel(\"s/s0\")\n",
    "plt.legend()\n",
    "plt.show()"
   ]
  },
  {
   "cell_type": "code",
   "execution_count": null,
   "metadata": {},
   "outputs": [],
   "source": [
    "# what do we learn?"
   ]
  }
 ],
 "metadata": {
  "kernelspec": {
   "display_name": "Python 3",
   "language": "python",
   "name": "python3"
  },
  "language_info": {
   "codemirror_mode": {
    "name": "ipython",
    "version": 3
   },
   "file_extension": ".py",
   "mimetype": "text/x-python",
   "name": "python",
   "nbconvert_exporter": "python",
   "pygments_lexer": "ipython3",
   "version": "3.7.6"
  }
 },
 "nbformat": 4,
 "nbformat_minor": 4
}
