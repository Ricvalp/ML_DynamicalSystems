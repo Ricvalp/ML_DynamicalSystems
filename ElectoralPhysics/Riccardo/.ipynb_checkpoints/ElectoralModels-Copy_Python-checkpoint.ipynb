{
 "cells": [
  {
   "cell_type": "markdown",
   "metadata": {},
   "source": [
    "# Electoral Physics \n",
    "\n",
    "### Packages"
   ]
  },
  {
   "cell_type": "code",
   "execution_count": 1,
   "metadata": {},
   "outputs": [],
   "source": [
    "# Data Management \n",
    "using DataFrames, DataFramesMeta\n",
    "using DrWatson\n",
    "\n",
    "# Statistics\n",
    "using Random\n",
    "using Distributions\n",
    "using StatsBase\n",
    "\n",
    "# Graphs \n",
    "using LightGraphs, SimpleWeightedGraphs\n",
    "using GraphPlot\n",
    " #using Graphs\n",
    "\n",
    "# Modelling\n",
    "using Agents\n",
    "#import ElectoralPhysics\n",
    "\n",
    "# Data Visualization\n",
    "using Plots\n",
    "using AgentsPlots\n",
    "using PlotThemes\n",
    "\n",
    "# Python\n",
    "# ENV[\"PYTHON\"] = \"path/to/python\"\n",
    "# Pkg.build(\"PyCall\")\n",
    "using PyCall\n",
    "using PyPlot\n",
    "nx = pyimport(\"networkx\")\n",
    "np = pyimport(\"numpy\")\n",
    "nw = pyimport(\"netwulf\");\n",
    "\n",
    "\n",
    "function LightGraphs_to_NetworkX(G)\n",
    "    H = nx.DiGraph()\n",
    "    edgelist = []\n",
    "    for row in eachrow(DataFrame([edge for edge in edges(G)]))\n",
    "        push!(edgelist, (row[1], row[2], row[3]))\n",
    "    end\n",
    "    H.add_weighted_edges_from(edgelist)\n",
    "    return H\n",
    "end;"
   ]
  },
  {
   "cell_type": "markdown",
   "metadata": {},
   "source": [
    "### Agent Type "
   ]
  },
  {
   "cell_type": "code",
   "execution_count": 2,
   "metadata": {},
   "outputs": [],
   "source": [
    "# Voter Definition\n",
    "mutable struct Voter <: AbstractAgent\n",
    "    id::Int64             # ∈ ℕ\n",
    "    pos::Int64            # ∈ ℕ\n",
    "    candidacy::Bool       # ∈ 𝔹\n",
    "    score::Float64        # \\in \\bbR\n",
    "end"
   ]
  },
  {
   "cell_type": "markdown",
   "metadata": {},
   "source": [
    "### Micro-Dynamics"
   ]
  },
  {
   "cell_type": "code",
   "execution_count": 3,
   "metadata": {},
   "outputs": [],
   "source": [
    "function vote!(agent,model)\n",
    "    nvotes = rand(1:model.properties[:M])\n",
    "    for vote in 1:nvotes\n",
    "        target = choose_candidate!(model)\n",
    "        add_edge!(model.space.graph, agent.pos, target.pos, 1/nvotes)\n",
    "    end\n",
    "end\n",
    "\n",
    "function choose_candidate!(model)\n",
    "    target = random_agent(model)\n",
    "    while target.candidacy == false \n",
    "        target = random_agent(model)\n",
    "    end\n",
    "    return target\n",
    "end\n",
    "\n",
    "function update_score!(model)\n",
    "    for agent in allagents(model)\n",
    "        agent.score = 1+ 10*degree_centrality(model.space.graph)[agent.id]\n",
    "    end\n",
    "end\n",
    "\n",
    "\n",
    "# Individual Dynamics \n",
    "function agent_step!(agent, model)\n",
    "    vote!(agent, model)\n",
    "end;"
   ]
  },
  {
   "cell_type": "markdown",
   "metadata": {},
   "source": [
    "### Model"
   ]
  },
  {
   "cell_type": "code",
   "execution_count": 4,
   "metadata": {},
   "outputs": [],
   "source": [
    "# Model Initialization\n",
    "function init_model(N::Int64, M::Int64)\n",
    "       \n",
    "    properties = @dict(N, M)\n",
    "    \n",
    "    # Create Directed Weighted Graph\n",
    "    space = GraphSpace(SimpleWeightedDiGraph(N)) \n",
    "    model = ABM(Voter, space; properties = properties)\n",
    "    \n",
    "    for id in 1:N\n",
    "        pos = id\n",
    "        score = 1.0\n",
    "        if id <= M\n",
    "            candidacy = true\n",
    "            add_agent!(pos, model, candidacy, score)\n",
    "        else\n",
    "            candidacy = false\n",
    "            add_agent!(pos, model, candidacy, score)\n",
    "        end\n",
    "    end\n",
    "    return model\n",
    "end;"
   ]
  },
  {
   "cell_type": "markdown",
   "metadata": {},
   "source": [
    "### Parameters"
   ]
  },
  {
   "cell_type": "code",
   "execution_count": 6,
   "metadata": {},
   "outputs": [],
   "source": [
    "# Create population of voters \n",
    "N = 50\n",
    "\n",
    "# Create subpopulation of candidates\n",
    "M = 5;\n",
    "\n",
    "# Initialize number of steps\n",
    "nsteps = 1;"
   ]
  },
  {
   "cell_type": "markdown",
   "metadata": {},
   "source": [
    "### Simulation"
   ]
  },
  {
   "cell_type": "code",
   "execution_count": 7,
   "metadata": {},
   "outputs": [
    {
     "data": {
      "text/html": [
       "<table class=\"data-frame\"><thead><tr><th></th><th>id</th><th>pos</th><th>candidacy</th><th>score</th></tr><tr><th></th><th>Int64</th><th>Int64</th><th>Bool</th><th>Float64</th></tr></thead><tbody><p>50 rows × 4 columns</p><tr><th>1</th><td>4</td><td>4</td><td>1</td><td>7.53061</td></tr><tr><th>2</th><td>5</td><td>5</td><td>1</td><td>7.12245</td></tr><tr><th>3</th><td>2</td><td>2</td><td>1</td><td>5.89796</td></tr><tr><th>4</th><td>1</td><td>1</td><td>1</td><td>5.08163</td></tr><tr><th>5</th><td>3</td><td>3</td><td>1</td><td>5.08163</td></tr><tr><th>6</th><td>40</td><td>40</td><td>0</td><td>1.81633</td></tr><tr><th>7</th><td>28</td><td>28</td><td>0</td><td>1.81633</td></tr><tr><th>8</th><td>41</td><td>41</td><td>0</td><td>1.81633</td></tr><tr><th>9</th><td>46</td><td>46</td><td>0</td><td>1.61224</td></tr><tr><th>10</th><td>25</td><td>25</td><td>0</td><td>1.61224</td></tr><tr><th>11</th><td>29</td><td>29</td><td>0</td><td>1.61224</td></tr><tr><th>12</th><td>8</td><td>8</td><td>0</td><td>1.61224</td></tr><tr><th>13</th><td>14</td><td>14</td><td>0</td><td>1.61224</td></tr><tr><th>14</th><td>33</td><td>33</td><td>0</td><td>1.61224</td></tr><tr><th>15</th><td>17</td><td>17</td><td>0</td><td>1.61224</td></tr><tr><th>16</th><td>44</td><td>44</td><td>0</td><td>1.61224</td></tr><tr><th>17</th><td>30</td><td>30</td><td>0</td><td>1.61224</td></tr><tr><th>18</th><td>50</td><td>50</td><td>0</td><td>1.61224</td></tr><tr><th>19</th><td>7</td><td>7</td><td>0</td><td>1.61224</td></tr><tr><th>20</th><td>9</td><td>9</td><td>0</td><td>1.61224</td></tr><tr><th>21</th><td>12</td><td>12</td><td>0</td><td>1.61224</td></tr><tr><th>22</th><td>16</td><td>16</td><td>0</td><td>1.61224</td></tr><tr><th>23</th><td>21</td><td>21</td><td>0</td><td>1.61224</td></tr><tr><th>24</th><td>19</td><td>19</td><td>0</td><td>1.61224</td></tr><tr><th>25</th><td>22</td><td>22</td><td>0</td><td>1.61224</td></tr><tr><th>26</th><td>11</td><td>11</td><td>0</td><td>1.40816</td></tr><tr><th>27</th><td>39</td><td>39</td><td>0</td><td>1.40816</td></tr><tr><th>28</th><td>20</td><td>20</td><td>0</td><td>1.40816</td></tr><tr><th>29</th><td>31</td><td>31</td><td>0</td><td>1.40816</td></tr><tr><th>30</th><td>26</td><td>26</td><td>0</td><td>1.40816</td></tr><tr><th>&vellip;</th><td>&vellip;</td><td>&vellip;</td><td>&vellip;</td><td>&vellip;</td></tr></tbody></table>"
      ],
      "text/latex": [
       "\\begin{tabular}{r|cccc}\n",
       "\t& id & pos & candidacy & score\\\\\n",
       "\t\\hline\n",
       "\t& Int64 & Int64 & Bool & Float64\\\\\n",
       "\t\\hline\n",
       "\t1 & 4 & 4 & 1 & 7.53061 \\\\\n",
       "\t2 & 5 & 5 & 1 & 7.12245 \\\\\n",
       "\t3 & 2 & 2 & 1 & 5.89796 \\\\\n",
       "\t4 & 1 & 1 & 1 & 5.08163 \\\\\n",
       "\t5 & 3 & 3 & 1 & 5.08163 \\\\\n",
       "\t6 & 40 & 40 & 0 & 1.81633 \\\\\n",
       "\t7 & 28 & 28 & 0 & 1.81633 \\\\\n",
       "\t8 & 41 & 41 & 0 & 1.81633 \\\\\n",
       "\t9 & 46 & 46 & 0 & 1.61224 \\\\\n",
       "\t10 & 25 & 25 & 0 & 1.61224 \\\\\n",
       "\t11 & 29 & 29 & 0 & 1.61224 \\\\\n",
       "\t12 & 8 & 8 & 0 & 1.61224 \\\\\n",
       "\t13 & 14 & 14 & 0 & 1.61224 \\\\\n",
       "\t14 & 33 & 33 & 0 & 1.61224 \\\\\n",
       "\t15 & 17 & 17 & 0 & 1.61224 \\\\\n",
       "\t16 & 44 & 44 & 0 & 1.61224 \\\\\n",
       "\t17 & 30 & 30 & 0 & 1.61224 \\\\\n",
       "\t18 & 50 & 50 & 0 & 1.61224 \\\\\n",
       "\t19 & 7 & 7 & 0 & 1.61224 \\\\\n",
       "\t20 & 9 & 9 & 0 & 1.61224 \\\\\n",
       "\t21 & 12 & 12 & 0 & 1.61224 \\\\\n",
       "\t22 & 16 & 16 & 0 & 1.61224 \\\\\n",
       "\t23 & 21 & 21 & 0 & 1.61224 \\\\\n",
       "\t24 & 19 & 19 & 0 & 1.61224 \\\\\n",
       "\t25 & 22 & 22 & 0 & 1.61224 \\\\\n",
       "\t26 & 11 & 11 & 0 & 1.40816 \\\\\n",
       "\t27 & 39 & 39 & 0 & 1.40816 \\\\\n",
       "\t28 & 20 & 20 & 0 & 1.40816 \\\\\n",
       "\t29 & 31 & 31 & 0 & 1.40816 \\\\\n",
       "\t30 & 26 & 26 & 0 & 1.40816 \\\\\n",
       "\t$\\dots$ & $\\dots$ & $\\dots$ & $\\dots$ & $\\dots$ \\\\\n",
       "\\end{tabular}\n"
      ],
      "text/plain": [
       "50×4 DataFrame\n",
       "│ Row │ id    │ pos   │ candidacy │ score   │\n",
       "│     │ \u001b[90mInt64\u001b[39m │ \u001b[90mInt64\u001b[39m │ \u001b[90mBool\u001b[39m      │ \u001b[90mFloat64\u001b[39m │\n",
       "├─────┼───────┼───────┼───────────┼─────────┤\n",
       "│ 1   │ 4     │ 4     │ 1         │ 7.53061 │\n",
       "│ 2   │ 5     │ 5     │ 1         │ 7.12245 │\n",
       "│ 3   │ 2     │ 2     │ 1         │ 5.89796 │\n",
       "│ 4   │ 1     │ 1     │ 1         │ 5.08163 │\n",
       "│ 5   │ 3     │ 3     │ 1         │ 5.08163 │\n",
       "│ 6   │ 40    │ 40    │ 0         │ 1.81633 │\n",
       "│ 7   │ 28    │ 28    │ 0         │ 1.81633 │\n",
       "│ 8   │ 41    │ 41    │ 0         │ 1.81633 │\n",
       "│ 9   │ 46    │ 46    │ 0         │ 1.61224 │\n",
       "│ 10  │ 25    │ 25    │ 0         │ 1.61224 │\n",
       "⋮\n",
       "│ 40  │ 42    │ 42    │ 0         │ 1.20408 │\n",
       "│ 41  │ 18    │ 18    │ 0         │ 1.20408 │\n",
       "│ 42  │ 37    │ 37    │ 0         │ 1.20408 │\n",
       "│ 43  │ 45    │ 45    │ 0         │ 1.20408 │\n",
       "│ 44  │ 13    │ 13    │ 0         │ 1.20408 │\n",
       "│ 45  │ 47    │ 47    │ 0         │ 1.20408 │\n",
       "│ 46  │ 32    │ 32    │ 0         │ 1.20408 │\n",
       "│ 47  │ 34    │ 34    │ 0         │ 1.20408 │\n",
       "│ 48  │ 36    │ 36    │ 0         │ 1.20408 │\n",
       "│ 49  │ 48    │ 48    │ 0         │ 1.20408 │\n",
       "│ 50  │ 6     │ 6     │ 0         │ 1.20408 │"
      ]
     },
     "execution_count": 7,
     "metadata": {},
     "output_type": "execute_result"
    }
   ],
   "source": [
    "# Seed Selection\n",
    "Random.seed!(1234);\n",
    "\n",
    "# Model Instantiation \n",
    "model = init_model(N, M)\n",
    "\n",
    "# Data Collection\n",
    "data = run!(model, agent_step!, nsteps);\n",
    "\n",
    "update_score!(model)\n",
    "\n",
    "sort!(DataFrame(allagents(model)), :score, rev= true)"
   ]
  },
  {
   "cell_type": "markdown",
   "metadata": {},
   "source": [
    "### Visualization "
   ]
  },
  {
   "cell_type": "code",
   "execution_count": 9,
   "metadata": {},
   "outputs": [],
   "source": [
    "G = LightGraphs_to_NetworkX(model.space.graph);\n",
    "\n",
    "#visualize(G)"
   ]
  },
  {
   "cell_type": "markdown",
   "metadata": {},
   "source": [
    "![](random-graph.png)"
   ]
  }
 ],
 "metadata": {
  "kernelspec": {
   "display_name": "Julia 1.4.2",
   "language": "julia",
   "name": "julia-1.4"
  },
  "language_info": {
   "file_extension": ".jl",
   "mimetype": "application/julia",
   "name": "julia",
   "version": "1.4.2"
  }
 },
 "nbformat": 4,
 "nbformat_minor": 4
}
