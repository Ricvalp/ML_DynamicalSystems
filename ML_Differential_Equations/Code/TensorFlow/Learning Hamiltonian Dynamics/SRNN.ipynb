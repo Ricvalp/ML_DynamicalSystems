{
 "cells": [
  {
   "cell_type": "code",
   "execution_count": 2,
   "metadata": {},
   "outputs": [],
   "source": [
    "import tensorflow as tf\n",
    "import keras\n",
    "from keras import backend as bk\n",
    "import timeit\n",
    "\n",
    "from scipy.integrate import ode\n",
    "import math as mt\n",
    "import numpy as np\n",
    "import matplotlib.pyplot as plt\n",
    "import random as rdm\n",
    "import time\n",
    "from datetime import datetime\n",
    "import matplotlib.animation as animation\n",
    "from IPython.display import display, clear_output\n",
    "\n",
    "\n",
    "physical_devices = tf.config.list_physical_devices('GPU') \n",
    "tf.config.experimental.set_memory_growth(physical_devices[0], True)"
   ]
  },
  {
   "cell_type": "code",
   "execution_count": 3,
   "metadata": {},
   "outputs": [],
   "source": [
    "class custom_model:\n",
    "\n",
    "    def __init__(self):\n",
    "        \n",
    "        ### Hamiltonian parameters\n",
    "        self.m = 1.\n",
    "        self.l = 1.\n",
    "        \n",
    "        self.Δt = 0.05\n",
    "        self.N = 40\n",
    "        \n",
    "        ### Neural Networks\n",
    "        xavier=tf.keras.initializers.GlorotUniform()\n",
    "        \n",
    "        self.V1=tf.keras.layers.Dense(1,kernel_initializer=xavier,activation=tf.nn.tanh)\n",
    "        self.V2=tf.keras.layers.Dense(32,kernel_initializer=xavier,activation=tf.nn.tanh)\n",
    "        self.V3=tf.keras.layers.Dense(32,kernel_initializer=xavier,activation=tf.nn.tanh)\n",
    "        self.Vout=tf.keras.layers.Dense(1,kernel_initializer=xavier)\n",
    "        \n",
    "        self.K1=tf.keras.layers.Dense(1,kernel_initializer=xavier,activation=tf.nn.tanh)\n",
    "        self.K2=tf.keras.layers.Dense(32,kernel_initializer=xavier,activation=tf.nn.tanh)\n",
    "        self.K3=tf.keras.layers.Dense(32,kernel_initializer=xavier,activation=tf.nn.tanh)\n",
    "        self.Kout=tf.keras.layers.Dense(1,kernel_initializer=xavier)\n",
    "        \n",
    "        \n",
    "        self.train_op = tf.keras.optimizers.Adam(learning_rate=0.01)\n",
    "\n",
    "    def runV(self, X):\n",
    "        #with tf.device('/cpu:0'):\n",
    "        boom = self.V1(X)\n",
    "        boom1 = self.V2(boom)\n",
    "        boom2 = self.V3(boom1)\n",
    "        boom3 = self.Vout(boom2)\n",
    "        return boom3\n",
    "    \n",
    "    def runK(self, X):\n",
    "        #with tf.device('/cpu:0'):\n",
    "        boom = self.K1(X)\n",
    "        boom1 = self.K2(boom)\n",
    "        boom2 = self.K3(boom1)\n",
    "        boom3 = self.Kout(boom2)\n",
    "        return boom3\n",
    "\n",
    "    ####################################### Leapfrog for NN #######################\n",
    "    \n",
    "    def leapfrog_nn(self, q0, p0, Δt, N):\n",
    "        q = [tf.constant([[q0]])]\n",
    "        p = [tf.constant([[p0]])]\n",
    "        p̄ = []\n",
    "        for i in range(N):\n",
    "            p̄.append(p[-1] + 0.5*Δt*self.runV(q[-1]))\n",
    "            q.append(q[-1] + Δt*self.runK(p̄[-1]))\n",
    "            p.append(p̄[-1] + 0.5*Δt*self.runV(q[-1]))\n",
    "        return [q, p]\n",
    "    \n",
    "    ############################### Generate training dataset from leapfrog ######\n",
    "    \n",
    "    ### H = F(p) + T(q) separable Hamiltonian\n",
    "    def V(self, p):\n",
    "        return p/(self.m*self.l*self.l)\n",
    "    \n",
    "    def K(self, q):\n",
    "        return -self.m*self.l*tf.math.sin(q)\n",
    "    \n",
    "    ### Leapfrog integrator with V and K\n",
    "    def leapfrog(self, q0, p0, Δt, N):\n",
    "        q = [tf.constant([[q0]])]\n",
    "        p = [tf.constant([[p0]])]\n",
    "        p̄ = []\n",
    "        for i in range(N):\n",
    "            p̄.append(p[-1] + 0.5*Δt*self.V(q[-1]))\n",
    "            q.append(q[-1] + Δt*self.K(p̄[-1]))\n",
    "            p.append(p̄[-1] + 0.5*Δt*self.V(q[-1]))\n",
    "        return [q, p]\n",
    "    \n",
    "    \n",
    "    ##################################### Loss function ##########################\n",
    "    \n",
    "    def get_loss(self, q0, p0):\n",
    "        prediction = tf.convert_to_tensor(self.leapfrog_nn(q0, p0, self.Δt, self.N))\n",
    "        true_trajectory = tf.convert_to_tensor(self.leapfrog(q0, p0, self.Δt, self.N))\n",
    "        MSE = tf.reduce_sum((prediction - true_trajectory)**2)\n",
    "        return MSE\n",
    "\n",
    "    #get gradient\n",
    "    def get_gradV(self, q0, p0):\n",
    "        with tf.GradientTape() as tape:\n",
    "            tape.watch(self.V1.variables)\n",
    "            tape.watch(self.V2.variables)\n",
    "            tape.watch(self.V3.variables)\n",
    "            tape.watch(self.Vout.variables)\n",
    "            L = self.get_loss(q0, p0)\n",
    "            g = tape.gradient(L, [self.V1.variables[0],self.V1.variables[1],self.V2.variables[0],self.V2.variables[1],self.V3.variables[0],self.V3.variables[1],self.Vout.variables[0],self.Vout.variables[1]])\n",
    "        return g\n",
    "    \n",
    "    def get_gradK(self, q0, p0):\n",
    "        with tf.GradientTape() as tape:\n",
    "            tape.watch(self.K1.variables)\n",
    "            tape.watch(self.K2.variables)\n",
    "            tape.watch(self.K3.variables)\n",
    "            tape.watch(self.Kout.variables)\n",
    "            L = self.get_loss(q0, p0)\n",
    "            g = tape.gradient(L, [self.K1.variables[0],self.K1.variables[1],self.K2.variables[0],self.K2.variables[1],self.K3.variables[0],self.K3.variables[1],self.Kout.variables[0],self.Kout.variables[1]])\n",
    "        return g\n",
    "    \n",
    "    # perform gradient descent\n",
    "    def network_learnV(self, q0, p0):\n",
    "        \n",
    "        g = self.get_gradV(q0, p0)\n",
    "        self.train_op.apply_gradients(zip(g, [self.V1.variables[0],self.V1.variables[1],self.V2.variables[0],self.V2.variables[1],self.V3.variables[0],self.V3.variables[1],self.Vout.variables[0],self.Vout.variables[1]]))\n",
    "\n",
    "\n",
    "    def network_learnK(self, q0, p0):\n",
    "        \n",
    "        g = self.get_gradK(q0, p0)\n",
    "        self.train_op.apply_gradients(zip(g, [self.K1.variables[0],self.K1.variables[1],self.K2.variables[0],self.K2.variables[1],self.K3.variables[0],self.K3.variables[1],self.Kout.variables[0],self.Kout.variables[1]]))\n",
    "\n"
   ]
  },
  {
   "cell_type": "markdown",
   "metadata": {},
   "source": [
    "### Untrained Model"
   ]
  },
  {
   "cell_type": "code",
   "execution_count": 4,
   "metadata": {},
   "outputs": [
    {
     "data": {
      "image/png": "[encoded data removed]",
      "text/plain": [
       "<Figure size 432x288 with 1 Axes>"
      ]
     },
     "metadata": {
      "needs_background": "light"
     },
     "output_type": "display_data"
    }
   ],
   "source": [
    "Model = custom_model()\n",
    "\n",
    "PQ = Model.leapfrog_nn(1., 0.1, 0.05, 20)\n",
    "q = []\n",
    "p = []\n",
    "for i in range(len(PQ[0])):\n",
    "    q.append(PQ[0][i].numpy()[0][0])\n",
    "    p.append(PQ[1][i].numpy()[0][0])\n",
    "\n",
    "plt.plot(q, p)\n",
    "plt.xlabel(\"q\")\n",
    "plt.ylabel(\"p\")\n",
    "plt.show()"
   ]
  },
  {
   "cell_type": "markdown",
   "metadata": {},
   "source": [
    "### Symplectic leapfrog integrator of the form:\n",
    "\n",
    "## $$ \\begin{equation}\n",
    "    \\begin{aligned}\n",
    "    \\textbf{p}_{n+1/2} &= \\textbf{p}_{n} - \\frac{1}{2} \\Delta t V(\\textbf{q}_{n})\\\\\n",
    "    \\textbf{q}_{n+1} &= \\textbf{q}_{n} + \\Delta t K(\\textbf{p}_{n + 1/2})\\\\\n",
    "    \\textbf{p}_{n+1} &= \\textbf{p}_{n+1/2} - \\frac{1}{2} \\Delta t V(\\textbf{q}_{n+1})\\\\\n",
    "    \\end{aligned}\n",
    "    \\end{equation}\n",
    "$$"
   ]
  },
  {
   "cell_type": "code",
   "execution_count": 5,
   "metadata": {},
   "outputs": [],
   "source": [
    "def leapfrog(V, K, q0, p0, Δt, N):\n",
    "    q = [q0]\n",
    "    p = [p0]\n",
    "    p̄ = []\n",
    "    for i in range(N):\n",
    "        p̄.append(p[-1] + 0.5*Δt*V(q[-1]))\n",
    "        q.append(q[-1] + Δt*K(p̄[-1]))\n",
    "        p.append(p̄[-1] + 0.5*Δt*V(q[-1]))\n",
    "    return [q, p]\n",
    "\n",
    "def plot_true_tr(q0, p0, Δt, N):\n",
    "    PQ = Model.leapfrog(q0_test, p0_test, dt_test, N_test)\n",
    "    q = []\n",
    "    p = []\n",
    "    for i in range(len(PQ[0])):\n",
    "        q.append(PQ[0][i].numpy()[0][0])\n",
    "        p.append(PQ[1][i].numpy()[0][0])\n",
    "    plt.plot(p, q)\n",
    "    "
   ]
  },
  {
   "cell_type": "markdown",
   "metadata": {},
   "source": [
    "### Example"
   ]
  },
  {
   "cell_type": "code",
   "execution_count": 6,
   "metadata": {},
   "outputs": [
    {
     "name": "stdout",
     "output_type": "stream",
     "text": [
      "running time for 50 trajectories of 20 points each: 0.0019943714141845703 seconds\n"
     ]
    }
   ],
   "source": [
    "#Hamilton equations\n",
    "m = 1.\n",
    "l = 1.\n",
    "def V(q):\n",
    "    return -m*l*mt.sin(q)\n",
    "def K(p):\n",
    "    return p/(m*l*l)\n",
    "\n",
    "#leapfrog integrator parameters\n",
    "N_p = 20\n",
    "Δt = 0.05\n",
    "\n",
    "#other parameters\n",
    "N_tr = 50\n",
    "TDataset = []\n",
    "u0s = []\n",
    "\n",
    "start_time = time.time()\n",
    "\n",
    "for i in range(N_tr):\n",
    "    u0 = [rdm.choice([-1,1])*rdm.random()*3, rdm.choice([-1,1])*rdm.random()*3]\n",
    "    u0s.append(u0)\n",
    "    TDataset.append(leapfrog(V, K, u0[0], u0[1], Δt, N_p))\n",
    "\n",
    "print(\"running time for \" + str(N_tr) + \" trajectories of \" + str(N_p) + \" points each: %s seconds\" % (time.time() - start_time))"
   ]
  },
  {
   "cell_type": "markdown",
   "metadata": {},
   "source": [
    "### Training Dataset"
   ]
  },
  {
   "cell_type": "code",
   "execution_count": 7,
   "metadata": {},
   "outputs": [
    {
     "data": {
      "image/png": "[encoded data removed]",
      "text/plain": [
       "<Figure size 720x504 with 1 Axes>"
      ]
     },
     "metadata": {
      "needs_background": "light"
     },
     "output_type": "display_data"
    }
   ],
   "source": [
    "plt.figure(figsize=(10,7))\n",
    "for i in range(N_tr):\n",
    "    plt.scatter(TDataset[i][0], TDataset[i][1])\n",
    "\n",
    "plt.xlabel(\"q\")\n",
    "plt.ylabel(\"p\")\n",
    "plt.grid(\"true\")\n",
    "plt.show()"
   ]
  },
  {
   "cell_type": "markdown",
   "metadata": {},
   "source": [
    "### Training the model with random initial conditions $(q_{0},p_{0}) \\in [-\\pi, \\pi] \\times [-\\pi, \\pi]$"
   ]
  },
  {
   "cell_type": "code",
   "execution_count": 12,
   "metadata": {},
   "outputs": [
    {
     "name": "stdout",
     "output_type": "stream",
     "text": [
      "0.0 %\n",
      "loss =  tf.Tensor(91.61407, shape=(), dtype=float32)\n",
      "1.0 %\n",
      "loss =  tf.Tensor(15.788473, shape=(), dtype=float32)\n",
      "2.0 %\n",
      "loss =  tf.Tensor(34.45543, shape=(), dtype=float32)\n",
      "3.0 %\n",
      "loss =  tf.Tensor(2.494716, shape=(), dtype=float32)\n",
      "4.0 %\n",
      "loss =  tf.Tensor(13.773033, shape=(), dtype=float32)\n",
      "5.0 %\n",
      "loss =  tf.Tensor(137.40863, shape=(), dtype=float32)\n",
      "6.0 %\n",
      "loss =  tf.Tensor(46.92041, shape=(), dtype=float32)\n",
      "7.000000000000001 %\n",
      "loss =  tf.Tensor(20.496408, shape=(), dtype=float32)\n",
      "8.0 %\n",
      "loss =  tf.Tensor(48.927834, shape=(), dtype=float32)\n",
      "9.0 %\n",
      "loss =  tf.Tensor(51.02881, shape=(), dtype=float32)\n",
      "10.0 %\n",
      "loss =  tf.Tensor(23.762215, shape=(), dtype=float32)\n",
      "11.0 %\n",
      "loss =  tf.Tensor(44.26272, shape=(), dtype=float32)\n",
      "12.0 %\n",
      "loss =  tf.Tensor(20.068903, shape=(), dtype=float32)\n",
      "13.0 %\n",
      "loss =  tf.Tensor(115.53909, shape=(), dtype=float32)\n",
      "14.000000000000002 %\n",
      "loss =  tf.Tensor(7.622698, shape=(), dtype=float32)\n",
      "15.0 %\n",
      "loss =  tf.Tensor(10.089249, shape=(), dtype=float32)\n",
      "16.0 %\n",
      "loss =  tf.Tensor(82.765686, shape=(), dtype=float32)\n",
      "17.0 %\n",
      "loss =  tf.Tensor(139.55695, shape=(), dtype=float32)\n",
      "18.0 %\n",
      "loss =  tf.Tensor(32.778496, shape=(), dtype=float32)\n",
      "19.0 %\n",
      "loss =  tf.Tensor(36.072575, shape=(), dtype=float32)\n",
      "20.0 %\n",
      "loss =  tf.Tensor(43.96977, shape=(), dtype=float32)\n",
      "21.0 %\n",
      "loss =  tf.Tensor(428.08408, shape=(), dtype=float32)\n",
      "22.0 %\n",
      "loss =  tf.Tensor(29.283222, shape=(), dtype=float32)\n",
      "23.0 %\n",
      "loss =  tf.Tensor(89.96693, shape=(), dtype=float32)\n",
      "24.0 %\n",
      "loss =  tf.Tensor(118.479614, shape=(), dtype=float32)\n",
      "25.0 %\n",
      "loss =  tf.Tensor(120.89922, shape=(), dtype=float32)\n",
      "26.0 %\n",
      "loss =  tf.Tensor(196.20938, shape=(), dtype=float32)\n",
      "27.0 %\n",
      "loss =  tf.Tensor(7.5052066, shape=(), dtype=float32)\n",
      "28.000000000000004 %\n",
      "loss =  tf.Tensor(104.75537, shape=(), dtype=float32)\n",
      "28.999999999999996 %\n",
      "loss =  tf.Tensor(349.0268, shape=(), dtype=float32)\n",
      "30.0 %\n",
      "loss =  tf.Tensor(31.50294, shape=(), dtype=float32)\n",
      "31.0 %\n",
      "loss =  tf.Tensor(161.88982, shape=(), dtype=float32)\n",
      "32.0 %\n",
      "loss =  tf.Tensor(2.829422, shape=(), dtype=float32)\n",
      "33.0 %\n",
      "loss =  tf.Tensor(238.17863, shape=(), dtype=float32)\n",
      "34.0 %\n",
      "loss =  tf.Tensor(134.52849, shape=(), dtype=float32)\n",
      "35.0 %\n",
      "loss =  tf.Tensor(23.15578, shape=(), dtype=float32)\n",
      "36.0 %\n",
      "loss =  tf.Tensor(6.6928806, shape=(), dtype=float32)\n",
      "37.0 %\n",
      "loss =  tf.Tensor(60.87834, shape=(), dtype=float32)\n",
      "38.0 %\n",
      "loss =  tf.Tensor(58.376083, shape=(), dtype=float32)\n",
      "39.0 %\n",
      "loss =  tf.Tensor(8.086601, shape=(), dtype=float32)\n",
      "40.0 %\n",
      "loss =  tf.Tensor(45.373615, shape=(), dtype=float32)\n",
      "41.0 %\n",
      "loss =  tf.Tensor(38.95619, shape=(), dtype=float32)\n",
      "42.0 %\n",
      "loss =  tf.Tensor(361.14542, shape=(), dtype=float32)\n",
      "43.0 %\n",
      "loss =  tf.Tensor(91.70771, shape=(), dtype=float32)\n",
      "44.0 %\n",
      "loss =  tf.Tensor(419.45764, shape=(), dtype=float32)\n",
      "45.0 %\n",
      "loss =  tf.Tensor(37.38468, shape=(), dtype=float32)\n",
      "46.0 %\n",
      "loss =  tf.Tensor(4.013954, shape=(), dtype=float32)\n",
      "47.0 %\n",
      "loss =  tf.Tensor(55.659927, shape=(), dtype=float32)\n",
      "48.0 %\n",
      "loss =  tf.Tensor(184.02734, shape=(), dtype=float32)\n",
      "49.0 %\n",
      "loss =  tf.Tensor(8.973976, shape=(), dtype=float32)\n",
      "50.0 %\n",
      "loss =  tf.Tensor(234.16748, shape=(), dtype=float32)\n",
      "51.0 %\n",
      "loss =  tf.Tensor(88.7375, shape=(), dtype=float32)\n",
      "52.0 %\n",
      "loss =  tf.Tensor(38.57362, shape=(), dtype=float32)\n",
      "53.0 %\n",
      "loss =  tf.Tensor(10.416531, shape=(), dtype=float32)\n",
      "54.0 %\n",
      "loss =  tf.Tensor(62.24373, shape=(), dtype=float32)\n",
      "55.00000000000001 %\n",
      "loss =  tf.Tensor(29.383125, shape=(), dtype=float32)\n",
      "56.00000000000001 %\n",
      "loss =  tf.Tensor(20.150677, shape=(), dtype=float32)\n",
      "56.99999999999999 %\n",
      "loss =  tf.Tensor(69.49311, shape=(), dtype=float32)\n",
      "57.99999999999999 %\n",
      "loss =  tf.Tensor(41.774998, shape=(), dtype=float32)\n",
      "59.0 %\n",
      "loss =  tf.Tensor(162.21703, shape=(), dtype=float32)\n",
      "60.0 %\n",
      "loss =  tf.Tensor(66.32234, shape=(), dtype=float32)\n",
      "61.0 %\n",
      "loss =  tf.Tensor(18.572094, shape=(), dtype=float32)\n",
      "62.0 %\n",
      "loss =  tf.Tensor(1.5501466, shape=(), dtype=float32)\n",
      "63.0 %\n",
      "loss =  tf.Tensor(145.56987, shape=(), dtype=float32)\n",
      "64.0 %\n",
      "loss =  tf.Tensor(120.95065, shape=(), dtype=float32)\n",
      "65.0 %\n",
      "loss =  tf.Tensor(2.253608, shape=(), dtype=float32)\n",
      "66.0 %\n",
      "loss =  tf.Tensor(18.821775, shape=(), dtype=float32)\n",
      "67.0 %\n",
      "loss =  tf.Tensor(16.034225, shape=(), dtype=float32)\n",
      "68.0 %\n",
      "loss =  tf.Tensor(3.0575879, shape=(), dtype=float32)\n",
      "69.0 %\n",
      "loss =  tf.Tensor(52.29429, shape=(), dtype=float32)\n",
      "70.0 %\n",
      "loss =  tf.Tensor(15.249058, shape=(), dtype=float32)\n",
      "71.0 %\n",
      "loss =  tf.Tensor(46.692696, shape=(), dtype=float32)\n",
      "72.0 %\n",
      "loss =  tf.Tensor(16.826195, shape=(), dtype=float32)\n",
      "73.0 %\n",
      "loss =  tf.Tensor(20.106552, shape=(), dtype=float32)\n",
      "74.0 %\n",
      "loss =  tf.Tensor(22.047825, shape=(), dtype=float32)\n",
      "75.0 %\n",
      "loss =  tf.Tensor(5.7521772, shape=(), dtype=float32)\n",
      "76.0 %\n",
      "loss =  tf.Tensor(2.2210238, shape=(), dtype=float32)\n",
      "77.0 %\n",
      "loss =  tf.Tensor(14.626285, shape=(), dtype=float32)\n",
      "78.0 %\n",
      "loss =  tf.Tensor(0.44040942, shape=(), dtype=float32)\n",
      "79.0 %\n",
      "loss =  tf.Tensor(223.16597, shape=(), dtype=float32)\n",
      "80.0 %\n",
      "loss =  tf.Tensor(61.86355, shape=(), dtype=float32)\n",
      "81.0 %\n",
      "loss =  tf.Tensor(221.3923, shape=(), dtype=float32)\n",
      "82.0 %\n",
      "loss =  tf.Tensor(5.374684, shape=(), dtype=float32)\n",
      "83.0 %\n",
      "loss =  tf.Tensor(1.8031204, shape=(), dtype=float32)\n",
      "84.0 %\n",
      "loss =  tf.Tensor(87.13416, shape=(), dtype=float32)\n",
      "85.0 %\n",
      "loss =  tf.Tensor(111.8508, shape=(), dtype=float32)\n",
      "86.0 %\n",
      "loss =  tf.Tensor(2.2071643, shape=(), dtype=float32)\n",
      "87.0 %\n",
      "loss =  tf.Tensor(124.7926, shape=(), dtype=float32)\n",
      "88.0 %\n",
      "loss =  tf.Tensor(52.37045, shape=(), dtype=float32)\n",
      "89.0 %\n",
      "loss =  tf.Tensor(25.54655, shape=(), dtype=float32)\n",
      "90.0 %\n",
      "loss =  tf.Tensor(108.55759, shape=(), dtype=float32)\n",
      "91.0 %\n",
      "loss =  tf.Tensor(10.0615015, shape=(), dtype=float32)\n",
      "92.0 %\n",
      "loss =  tf.Tensor(191.52243, shape=(), dtype=float32)\n",
      "93.0 %\n",
      "loss =  tf.Tensor(15.921993, shape=(), dtype=float32)\n",
      "94.0 %\n",
      "loss =  tf.Tensor(145.99231, shape=(), dtype=float32)\n",
      "95.0 %\n",
      "loss =  tf.Tensor(55.47873, shape=(), dtype=float32)\n",
      "96.0 %\n",
      "loss =  tf.Tensor(97.33028, shape=(), dtype=float32)\n",
      "97.0 %\n",
      "loss =  tf.Tensor(11.816118, shape=(), dtype=float32)\n",
      "98.0 %\n",
      "loss =  tf.Tensor(6.0232096, shape=(), dtype=float32)\n",
      "99.0 %\n",
      "loss =  tf.Tensor(12.988674, shape=(), dtype=float32)\n",
      "Running time: 194.51791858673096 seconds ---\n"
     ]
    }
   ],
   "source": [
    "epochs = 100\n",
    "each = 5\n",
    "losses = []\n",
    "\n",
    "start_time = time.time()\n",
    "\n",
    "for i in range(epochs):\n",
    "    u0 = [rdm.choice([-1,1])*rdm.random()*3, rdm.choice([-1,1])*rdm.random()*3]\n",
    "    print((i/epochs)*100, \"%\")\n",
    "    loss = Model.get_loss(u0[0], u0[1])\n",
    "    losses.append(loss)\n",
    "    print(\"loss = \", loss)\n",
    "    \n",
    "    for j in range(each):\n",
    "        Model.network_learnV(u0[0], u0[1])\n",
    "        Model.network_learnK(u0[0], u0[1])\n",
    "\n",
    "print(\"Running time: %s seconds ---\" % (time.time() - start_time))"
   ]
  },
  {
   "cell_type": "markdown",
   "metadata": {},
   "source": [
    "### Trained model"
   ]
  },
  {
   "cell_type": "code",
   "execution_count": null,
   "metadata": {},
   "outputs": [],
   "source": [
    "for i in range(10):\n",
    "    PQ = Model.leapfrog_nn(rdm.choice([-1,1])*rdm.random()*2, rdm.choice([-1,1])*rdm.random()*2, 0.05, 200)\n",
    "    p = []\n",
    "    q = []\n",
    "    for i in range(len(PQ[0])):\n",
    "        q.append(PQ[0][i].numpy()[0][0])\n",
    "        p.append(PQ[1][i].numpy()[0][0])\n",
    "\n",
    "    plt.plot(q, p)\n",
    "\n",
    "plt.xlabel(\"q\")\n",
    "plt.ylabel(\"p\")\n",
    "plt.show()"
   ]
  },
  {
   "cell_type": "markdown",
   "metadata": {},
   "source": [
    "### Training the model along one single trajectory"
   ]
  },
  {
   "cell_type": "code",
   "execution_count": 496,
   "metadata": {},
   "outputs": [
    {
     "data": {
      "text/plain": [
       "'99.875%'"
      ]
     },
     "metadata": {},
     "output_type": "display_data"
    },
    {
     "name": "stdout",
     "output_type": "stream",
     "text": [
      "Training time: 395.9649488925934 seconds\n"
     ]
    }
   ],
   "source": [
    "#Model = custom_model()\n",
    "losses = []\n",
    "epochs = 800\n",
    "q0 = 1.\n",
    "p0 = 0.6\n",
    "\n",
    "start_time = time.time()\n",
    "\n",
    "for i in range(epochs):\n",
    "    if i%1 == 0:\n",
    "        clear_output(wait=True)\n",
    "        display(str((i/epochs)*100) + \"%\")  \n",
    "    losses.append(Model.get_loss(q0, p0).numpy())\n",
    "    Model.network_learnV(q0, p0)\n",
    "    Model.network_learnK(q0, p0)\n",
    "\n",
    "print(\"Training time: %s seconds\" % (time.time() - start_time))"
   ]
  },
  {
   "cell_type": "markdown",
   "metadata": {},
   "source": [
    "### Plot the loss"
   ]
  },
  {
   "cell_type": "code",
   "execution_count": 493,
   "metadata": {},
   "outputs": [
    {
     "data": {
      "image/png": "[encoded data removed]",
      "text/plain": [
       "<Figure size 432x288 with 1 Axes>"
      ]
     },
     "metadata": {
      "needs_background": "light"
     },
     "output_type": "display_data"
    }
   ],
   "source": [
    "plt.plot(losses)\n",
    "plt.yscale(\"log\")\n",
    "plt.ylabel(\"loss\")\n",
    "plt.xlabel(\"iteration\")\n",
    "plt.show()"
   ]
  },
  {
   "cell_type": "markdown",
   "metadata": {},
   "source": [
    "### Trained model: plot the result"
   ]
  },
  {
   "cell_type": "code",
   "execution_count": 495,
   "metadata": {},
   "outputs": [
    {
     "data": {
      "image/png": "[encoded data removed]",
      "text/plain": [
       "<Figure size 1080x720 with 1 Axes>"
      ]
     },
     "metadata": {
      "needs_background": "light"
     },
     "output_type": "display_data"
    }
   ],
   "source": [
    "plt.figure(figsize=(15,10))\n",
    "\n",
    "q0_test, p0_test, dt_test, N_test = [q0, p0, 0.05, 100]\n",
    "\n",
    "PQ_nn = Model.leapfrog_nn(q0_test, p0_test, dt_test, N_test)\n",
    "q_nn = []\n",
    "p_nn = []\n",
    "for i in range(len(PQ_nn[0])):\n",
    "    q_nn.append(PQ_nn[0][i].numpy()[0][0])\n",
    "    p_nn.append(PQ_nn[1][i].numpy()[0][0])\n",
    "plt.scatter(p_nn, q_nn)\n",
    "\n",
    "PQ = Model.leapfrog(q0_test, p0_test, dt_test, N_test)\n",
    "q = []\n",
    "p = []\n",
    "for i in range(len(PQ[0])):\n",
    "    q.append(PQ[0][i].numpy()[0][0])\n",
    "    p.append(PQ[1][i].numpy()[0][0])\n",
    "plt.plot(p, q)\n",
    "\n",
    "plt.legend(('True', 'Trained'), loc='upper right')\n",
    "plt.xlabel(\"q\")\n",
    "plt.ylabel(\"p\")\n",
    "plt.show()"
   ]
  },
  {
   "cell_type": "code",
   "execution_count": null,
   "metadata": {},
   "outputs": [],
   "source": []
  }
 ],
 "metadata": {
  "kernelspec": {
   "display_name": "Python 3",
   "language": "python",
   "name": "python3"
  },
  "language_info": {
   "codemirror_mode": {
    "name": "ipython",
    "version": 3
   },
   "file_extension": ".py",
   "mimetype": "text/x-python",
   "name": "python",
   "nbconvert_exporter": "python",
   "pygments_lexer": "ipython3",
   "version": "3.7.4"
  }
 },
 "nbformat": 4,
 "nbformat_minor": 4
}
