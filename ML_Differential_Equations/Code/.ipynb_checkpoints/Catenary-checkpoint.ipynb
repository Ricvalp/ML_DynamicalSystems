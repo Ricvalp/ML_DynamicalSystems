{
 "cells": [
  {
   "cell_type": "code",
   "execution_count": 1,
   "metadata": {},
   "outputs": [],
   "source": [
    "import tensorflow as tf\n",
    "import keras\n",
    "from keras import backend as bk\n",
    "import timeit\n",
    "\n",
    "from scipy.integrate import ode\n",
    "import math as mt\n",
    "import numpy as np\n",
    "import matplotlib.pyplot as plt\n",
    "import random as rdm\n",
    "import time\n",
    "from datetime import datetime\n",
    "import matplotlib.animation as animation\n",
    "\n",
    "physical_devices = tf.config.list_physical_devices('GPU') \n",
    "tf.config.experimental.set_memory_growth(physical_devices[0], True)"
   ]
  },
  {
   "cell_type": "markdown",
   "metadata": {},
   "source": [
    "# Model\n",
    "\n",
    "## $$\n",
    "\\begin{aligned}\n",
    "  S[y] = \\int_0^1 y \\sqrt{1 + (y')^2} dx\\\\\n",
    "  L = \\int_0^1 \\sqrt{1 + (y')^2} dx\n",
    "\\end{aligned}\n",
    "$$"
   ]
  },
  {
   "cell_type": "code",
   "execution_count": 9,
   "metadata": {},
   "outputs": [],
   "source": [
    "class custom_model:\n",
    "\n",
    "    def __init__(self):\n",
    "        xavier=tf.keras.initializers.GlorotUniform()\n",
    "        self.l1=tf.keras.layers.Dense(1,kernel_initializer=xavier,activation=tf.nn.tanh)\n",
    "        self.l2=tf.keras.layers.Dense(10,kernel_initializer=xavier,activation=tf.nn.tanh)\n",
    "        self.l3=tf.keras.layers.Dense(10,kernel_initializer=xavier,activation=tf.nn.tanh)\n",
    "        self.l4=tf.keras.layers.Dense(10,kernel_initializer=xavier,activation=tf.nn.tanh)\n",
    "        self.l5=tf.keras.layers.Dense(10,kernel_initializer=xavier,activation=tf.nn.tanh)\n",
    "        self.l6=tf.keras.layers.Dense(10,kernel_initializer=xavier,activation=tf.nn.tanh)\n",
    "        self.l7=tf.keras.layers.Dense(10,kernel_initializer=xavier,activation=tf.nn.tanh)\n",
    "        self.out=tf.keras.layers.Dense(1,kernel_initializer=xavier)\n",
    "        self.train_op = tf.keras.optimizers.Adam(learning_rate=0.01)\n",
    "\n",
    "    # Running the model\n",
    "\n",
    "    def run(self, X):\n",
    "        #with tf.device('/cpu:0'):\n",
    "        boom = self.l1(X)\n",
    "        boom1 = self.l2(boom)\n",
    "        boom2 = self.l3(boom1)\n",
    "        boom3 = self.l4(boom2)\n",
    "        boom4 = self.l5(boom3)\n",
    "        boom5 = self.l6(boom4)\n",
    "        boom6 = self.l7(boom5)\n",
    "        boom7 = self.out(boom6)\n",
    "        return boom7\n",
    "\n",
    "    def get_loss(self, Xf):\n",
    "    \n",
    "        with tf.GradientTape() as tape:\n",
    "            tape.watch(Xf)\n",
    "            \n",
    "            with tf.GradientTape() as tape1:\n",
    "                tape1.watch(Xf)\n",
    "                boom = self.l1(Xf)\n",
    "                boom1 = self.l2(boom)\n",
    "                boom2 = self.l3(boom1)\n",
    "                boom3 = self.l4(boom2)\n",
    "                boom4 = self.l5(boom3)\n",
    "                boom5 = self.l6(boom4)\n",
    "                boom6 = self.l7(boom5)\n",
    "                boom7 = self.out(boom6)\n",
    "                g = tape1.gradient(boom7, Xf)\n",
    "            gg = tape.gradient(g, Xf)\n",
    "        \n",
    "        l = 1.8\n",
    "        \n",
    "        #y_l = g[:, 0]\n",
    "        y_x = g[:, 0]\n",
    "        #y_xx = gg[:, 1]\n",
    "        y = boom7[:, 0]\n",
    "        \n",
    "        #print('u_t: ', u_t)\n",
    "        #print('u_x: ', u_x)\n",
    "        #print('u_xx: ', u_xx)\n",
    "        #print('u: ', u)\n",
    "        \n",
    "        L = y*tf.math.sqrt(1 + y_x*y_x)\n",
    "        #print('L', L)\n",
    "        MSEf = self.SC_int(0, 1, len(Xf)-1, L)\n",
    "        \n",
    "        ######### boundary conditions #########\n",
    "        YB = 1.\n",
    "        Y_B_predict = self.run(tf.constant([[0.], [1.]]))\n",
    "        MSEb = tf.reduce_mean((Y_B_predict - YB)**2)\n",
    "        \n",
    "        \n",
    "        ######### length condition #########\n",
    "        length_integrand = tf.math.sqrt(1 + y_x*y_x)\n",
    "        MSEl = (self.SC_int(0, 1, len(Xf)-1, length_integrand) - l)**2\n",
    "        \n",
    "        \n",
    "        return MSEb + MSEf + MSEl\n",
    "\n",
    "    def get_grad(self, Xf):\n",
    "        with tf.GradientTape() as tape:\n",
    "            tape.watch(self.l1.variables)\n",
    "            tape.watch(self.l2.variables)\n",
    "            tape.watch(self.l3.variables)\n",
    "            tape.watch(self.l4.variables)\n",
    "            tape.watch(self.l5.variables)\n",
    "            tape.watch(self.l6.variables)\n",
    "            tape.watch(self.l7.variables)\n",
    "            tape.watch(self.out.variables)\n",
    "            L = self.get_loss(Xf)\n",
    "            g = tape.gradient(L, [self.l1.variables[0],self.l1.variables[1],self.l2.variables[0],self.l2.variables[1],self.l3.variables[0],self.l3.variables[1],self.l4.variables[0],self.l4.variables[1],self.l5.variables[0],self.l5.variables[1],self.l6.variables[0],self.l6.variables[1],self.l7.variables[0],self.l7.variables[1],self.out.variables[0],self.out.variables[1]])\n",
    "        return g\n",
    "\n",
    "    # perform gradient descent\n",
    "\n",
    "    def network_learn(self, Xf):\n",
    "        g = self.get_grad(Xf)\n",
    "        self.train_op.apply_gradients(zip(g, [self.l1.variables[0],self.l1.variables[1],self.l2.variables[0],self.l2.variables[1],self.l3.variables[0],self.l3.variables[1],self.l4.variables[0],self.l4.variables[1],self.l5.variables[0],self.l5.variables[1],self.l6.variables[0],self.l6.variables[1],self.l7.variables[0],self.l7.variables[1],self.out.variables[0],self.out.variables[1]]))\n",
    "\n",
    "    def SC_int(self, x0, x1, n, L):\n",
    "        \n",
    "        h = (x1-x0)/n\n",
    "        S = L[0] + L[n]\n",
    "        \n",
    "        for i in range(1,n):\n",
    "            if i%2==0:\n",
    "                S = S + 2*L[i]\n",
    "            else:\n",
    "                S = S + 4*L[i]\n",
    "        \n",
    "        return (h/3)*S\n",
    "    \n",
    "    \n",
    "    def get_length(self, Xf):\n",
    "        \n",
    "        with tf.GradientTape() as tape:\n",
    "                tape.watch(Xf)\n",
    "                boom = self.l1(Xf)\n",
    "                boom1 = self.l2(boom)\n",
    "                boom2 = self.l3(boom1)\n",
    "                boom3 = self.l4(boom2)\n",
    "                boom4 = self.l5(boom3)\n",
    "                boom5 = self.l6(boom4)\n",
    "                boom6 = self.l7(boom5)\n",
    "                boom7 = self.out(boom6)\n",
    "                g = tape.gradient(boom7, Xf)\n",
    "        \n",
    "        y_x = g[:, 0]\n",
    "        length_integrand = tf.math.sqrt(1 + y_x*y_x)\n",
    "        return self.SC_int(0, 1, len(Xf)-1, length_integrand)"
   ]
  },
  {
   "cell_type": "markdown",
   "metadata": {},
   "source": [
    "### Model"
   ]
  },
  {
   "cell_type": "code",
   "execution_count": 10,
   "metadata": {},
   "outputs": [],
   "source": [
    "Model = custom_model()"
   ]
  },
  {
   "cell_type": "markdown",
   "metadata": {},
   "source": [
    "### Training Set"
   ]
  },
  {
   "cell_type": "code",
   "execution_count": 11,
   "metadata": {},
   "outputs": [],
   "source": [
    "X_points = tf.constant([[i*0.01] for i in range(101)])"
   ]
  },
  {
   "cell_type": "markdown",
   "metadata": {},
   "source": [
    "### Training"
   ]
  },
  {
   "cell_type": "code",
   "execution_count": 12,
   "metadata": {},
   "outputs": [
    {
     "name": "stdout",
     "output_type": "stream",
     "text": [
      "Time:  109.40440960000004\n"
     ]
    }
   ],
   "source": [
    "start = timeit.default_timer()\n",
    "epochs = 1000\n",
    "Loss = []\n",
    "for i in range(epochs):\n",
    "    if i % 1 == 0:\n",
    "        #print((i/10000)*100, '%')\n",
    "        loss = Model.get_loss(X_points).numpy()\n",
    "        Loss.append(loss)\n",
    "        #print('Loss: ', Model.get_loss(C_points, I_points, B_points, YI, YB).numpy())\n",
    "    if i%(epochs/5)==0:\n",
    "        #print((i/epochs)*100, '%')\n",
    "        print((i/epochs)*100, '%', end='\\r')\n",
    "    print\n",
    "    \n",
    "    Model.network_learn(X_points)\n",
    "\n",
    "\n",
    "stop = timeit.default_timer()\n",
    "print('Time: ', stop - start)"
   ]
  },
  {
   "cell_type": "markdown",
   "metadata": {},
   "source": [
    "### Plot The Loss"
   ]
  },
  {
   "cell_type": "code",
   "execution_count": 13,
   "metadata": {},
   "outputs": [
    {
     "data": {
      "image/png": "[encoded data removed]",
      "text/plain": [
       "<Figure size 576x576 with 1 Axes>"
      ]
     },
     "metadata": {
      "needs_background": "light"
     },
     "output_type": "display_data"
    }
   ],
   "source": [
    "plt.figure(figsize=(8, 8))\n",
    "plt.plot(Loss[0:100])\n",
    "plt.grid()\n",
    "plt.show()"
   ]
  },
  {
   "cell_type": "markdown",
   "metadata": {},
   "source": [
    "### Plot"
   ]
  },
  {
   "cell_type": "code",
   "execution_count": 14,
   "metadata": {
    "scrolled": true
   },
   "outputs": [
    {
     "data": {
      "image/png": "[encoded data removed]",
      "text/plain": [
       "<Figure size 720x720 with 1 Axes>"
      ]
     },
     "metadata": {
      "needs_background": "light"
     },
     "output_type": "display_data"
    }
   ],
   "source": [
    "\n",
    "fig = plt.figure(figsize=(10, 10))\n",
    "x = [i*0.01 for i in range(0,101)]\n",
    "u = []\n",
    "for i in x:\n",
    "    u.append(Model.run(tf.constant([[i]]))[:, 0].numpy())\n",
    "    \n",
    "#plt.ylim(-1, 0)\n",
    "#plt.xlim(0,1)\n",
    "#plt.plot(x, u)\n",
    "plt.plot(x, u, color='b')\n",
    "plt.xlabel(\"$x$\", fontsize=28, labelpad=8)\n",
    "plt.ylabel(\"$y(x)$\", fontsize=28, labelpad=15)\n",
    "plt.grid()\n",
    "plt.show()"
   ]
  },
  {
   "cell_type": "markdown",
   "metadata": {},
   "source": [
    "### Obtained Length, Target length = 1.8"
   ]
  },
  {
   "cell_type": "code",
   "execution_count": 16,
   "metadata": {},
   "outputs": [
    {
     "data": {
      "text/plain": [
       "2.603358"
      ]
     },
     "execution_count": 16,
     "metadata": {},
     "output_type": "execute_result"
    }
   ],
   "source": [
    "Model.get_length(X_points).numpy()"
   ]
  },
  {
   "cell_type": "code",
   "execution_count": null,
   "metadata": {},
   "outputs": [],
   "source": []
  }
 ],
 "metadata": {
  "kernelspec": {
   "display_name": "Python 3",
   "language": "python",
   "name": "python3"
  },
  "language_info": {
   "codemirror_mode": {
    "name": "ipython",
    "version": 3
   },
   "file_extension": ".py",
   "mimetype": "text/x-python",
   "name": "python",
   "nbconvert_exporter": "python",
   "pygments_lexer": "ipython3",
   "version": "3.7.4"
  }
 },
 "nbformat": 4,
 "nbformat_minor": 4
}
