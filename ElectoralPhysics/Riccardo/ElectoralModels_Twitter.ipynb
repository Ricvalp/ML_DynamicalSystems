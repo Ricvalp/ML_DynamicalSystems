{
 "cells": [
  {
   "cell_type": "markdown",
   "metadata": {},
   "source": [
    "# Electoral Physics \n",
    "\n",
    "### Packages"
   ]
  },
  {
   "cell_type": "code",
   "execution_count": 17,
   "metadata": {},
   "outputs": [
    {
     "name": "stderr",
     "output_type": "stream",
     "text": [
      "WARNING: replacing module ElectoralPhysics.\n"
     ]
    }
   ],
   "source": [
    "# Data Management \n",
    "using DataFrames, DataFramesMeta\n",
    "using DrWatson\n",
    "\n",
    "# Statistics\n",
    "using Random\n",
    "using Distributions\n",
    "using StatsBase\n",
    "\n",
    "# Graphs \n",
    "using LightGraphs, SimpleWeightedGraphs, GraphIO\n",
    "using GraphPlot\n",
    " #using Graphs\n",
    "\n",
    "# Modelling\n",
    "using Agents\n",
    "include(\"./ElectoralPhysics.jl\")\n",
    "\n",
    "# Data Visualization\n",
    "using Plots\n",
    "using AgentsPlots\n",
    "using PlotThemes\n",
    "\n",
    "# Python\n",
    "# ENV[\"PYTHON\"] = \"path/to/python\"\n",
    "# Pkg.build(\"PyCall\")\n",
    "using PyCall\n",
    "using PyPlot\n",
    "nx = pyimport(\"networkx\")\n",
    "np = pyimport(\"numpy\")\n",
    "nw = pyimport(\"netwulf\");"
   ]
  },
  {
   "cell_type": "markdown",
   "metadata": {},
   "source": [
    "### Agent Type "
   ]
  },
  {
   "cell_type": "code",
   "execution_count": 4,
   "metadata": {},
   "outputs": [],
   "source": [
    "# Voter Definition\n",
    "mutable struct Voter <: AbstractAgent\n",
    "    id::Int64             # ∈ ℕ\n",
    "    pos::Int64            # ∈ ℕ\n",
    "    candidacy::Bool       # ∈ 𝔹\n",
    "    score::Float64        # ∈ 𝔹\n",
    "    final_score::Float64  # \\in \\bbR\n",
    "    community::Int64      # ∈ {1,2,3, ..., n}\n",
    "end"
   ]
  },
  {
   "cell_type": "markdown",
   "metadata": {},
   "source": [
    "### Micro-Dynamics"
   ]
  },
  {
   "cell_type": "code",
   "execution_count": 5,
   "metadata": {},
   "outputs": [],
   "source": [
    "function vote!(agent,model)\n",
    "    candidates = [agent for agent in allagents(model) if agent.candidacy == true]\n",
    "    nvotes = nvotes!(agent, model)\n",
    "    targets = preferential_attachment_choose_candidates!(agent, model, candidates, nvotes)\n",
    "    for target in targets\n",
    "        add_edge!(model.space.graph, agent.pos, target.pos, 1/nvotes)\n",
    "    end\n",
    "end\n",
    "\n",
    "function nvotes!(agent, model)\n",
    "    p = 0.1\n",
    "    if agent.candidacy == true\n",
    "        d = Binomial(model.properties[:M]-2,p)\n",
    "        nvotes = rand(d)\n",
    "    else \n",
    "        d = Binomial(model.properties[:M]-1,p)\n",
    "        nvotes = rand(d)\n",
    "    end\n",
    "    \n",
    "    return nvotes + 1\n",
    "end\n",
    "\n",
    "function choose_candidates!(agent, model, nvotes)\n",
    "    candidates = [agent for agent in allagents(model) if agent.candidacy == true]\n",
    "    targets = []\n",
    "    for vote in 1:nvotes\n",
    "        target = rand(candidates)\n",
    "        while target.id == agent.id || target in targets\n",
    "            target = rand(candidates)\n",
    "        end\n",
    "        \n",
    "    push!(targets, target)\n",
    "    end\n",
    "    return targets\n",
    "end\n",
    "\n",
    "\n",
    "function preferential_attachment_choose_candidates!(agent, model, candidates, nvotes)\n",
    "    agent_community = agent.community\n",
    "    weights = Int64[]\n",
    "    for candidate in candidates\n",
    "        if candidate.community == agent_community\n",
    "            push!(weights, 10)\n",
    "        else\n",
    "            push!(weights, 1)\n",
    "        end\n",
    "    end\n",
    "    \n",
    "    targets = []\n",
    "    for vote in 1:nvotes\n",
    "        target = StatsBase.sample(candidates, ProbabilityWeights(weights))\n",
    "        while target.id == agent.id || target in targets\n",
    "            target = StatsBase.sample(candidates, ProbabilityWeights(weights))\n",
    "        end    \n",
    "        push!(targets, target)\n",
    "    end\n",
    "    \n",
    "    return targets\n",
    "end\n",
    "\n",
    "function update_score_indegree!(model)\n",
    "    for agent in allagents(model)\n",
    "        agent.score = agent.score + indegree_centrality(model.space.graph)[agent.id]\n",
    "    end\n",
    "end\n",
    "\n",
    "function update_score_flow!(model)\n",
    "    for agent in allagents(model)\n",
    "        if agent.candidacy == true\n",
    "            for inneighbor in node_neighbors(agent, model; neighbor_type=:in)\n",
    "                agent_inneighbor = get_node_agents(inneighbor, model)[1]\n",
    "                if agent_inneighbor.candidacy == false\n",
    "                    agent.score = agent.score + agent_inneighbor.score * LightGraphs.weights(model.space.graph)[agent_inneighbor.pos, agent.pos]\n",
    "                end\n",
    "            end\n",
    "        end\n",
    "    end\n",
    "end\n",
    "\n",
    "function update_score_pagerank!(model, α, n, ϵ)\n",
    "    for agent in allagents(model)\n",
    "        agent.score = pagerank(model.space.graph, α, n, ϵ)[agent.id]\n",
    "    end\n",
    "end\n",
    "\n",
    "# Implement map equation !!\n",
    "\n",
    "# IMPLEMENT NX TO LG\n",
    "\n",
    "# Voter Dynamics \n",
    "function agent_step!(agent, model)\n",
    "    vote!(agent, model)\n",
    "end;\n",
    "\n",
    "function update_score_candidates!(model)\n",
    "    for agent in allagents(model)\n",
    "        for inneighbor in node_neighbors(agent, model; neighbor_type=:in)\n",
    "            agent_inneighbor = get_node_agents(inneighbor, model)[1]\n",
    "            agent.final_score = agent.score + agent_inneighbor.score * LightGraphs.weights(model.space.graph)[agent_inneighbor.pos, agent.pos]\n",
    "        end\n",
    "    end\n",
    "end;"
   ]
  },
  {
   "cell_type": "markdown",
   "metadata": {},
   "source": [
    "### Models"
   ]
  },
  {
   "cell_type": "code",
   "execution_count": 6,
   "metadata": {},
   "outputs": [],
   "source": [
    "# Voter Model Initialization\n",
    "function init_model_voters(N::Int64, M::Int64, K::Int64, community)\n",
    "       \n",
    "    properties = @dict(N, M, K)\n",
    "    \n",
    "    # Create Directed Weighted Graph\n",
    "    space = GraphSpace(SimpleWeightedDiGraph(N)) \n",
    "    model_voters = ABM(Voter, space; properties = properties)\n",
    "    \n",
    "    \n",
    "    for id in 1:N\n",
    "        pos = id\n",
    "        score = 1.0\n",
    "        final_score = 0\n",
    "        if id <= M\n",
    "            candidacy = true\n",
    "            add_agent!(pos, model_voters, candidacy, score, final_score, community[id])\n",
    "        else\n",
    "            candidacy = false\n",
    "            add_agent!(pos, model_voters, candidacy, score, final_score, community[id])\n",
    "        end\n",
    "    end\n",
    "    return model_voters\n",
    "end;\n",
    "\n",
    "# Candidate Model Initialization\n",
    "function init_model_candidates(model_voters::AgentBasedModel{Voter,GraphSpace{SimpleWeightedDiGraph{Int64,Float64}},typeof(fastest),Dict{Symbol,Int64}}, \n",
    "                                M::Int64, K::Int64)\n",
    "    properties = @dict(M, K)\n",
    "    \n",
    "    # Induce Subgraph\n",
    "    graph, vertex_map = induced_subgraph(model_voters.space.graph, 1:M)\n",
    "    space = GraphSpace(graph)\n",
    "    model_candidates = ABM(Voter, space; properties = properties)\n",
    "    \n",
    "    k = 0\n",
    "    for voter in allagents(model_voters)\n",
    "        if voter.candidacy == true\n",
    "            add_agent!(voter.pos, model_candidates, voter.candidacy, voter.score, voter.final_score, voter.community)\n",
    "        end\n",
    "    end\n",
    "    \n",
    "    for agent in allagents(model_candidates)\n",
    "    agent.id = agent.pos\n",
    "    end\n",
    "    \n",
    "    return model_candidates\n",
    "end;"
   ]
  },
  {
   "cell_type": "markdown",
   "metadata": {},
   "source": [
    "### Parameters"
   ]
  },
  {
   "cell_type": "code",
   "execution_count": 7,
   "metadata": {},
   "outputs": [],
   "source": [
    "# Create population of voters \n",
    "N = 800\n",
    "\n",
    "# Create subpopulation of candidates\n",
    "M = 30;\n",
    "\n",
    "# Create subpopulation of elected\n",
    "K = 15;\n",
    "\n",
    "# Initialize number of steps\n",
    "nsteps = 1;\n",
    "\n",
    "\n",
    "community = []\n",
    "for i in 1:N\n",
    "    if i <= M\n",
    "        if i < M/3\n",
    "            push!(community,1)\n",
    "        elseif i >= M/3 && i < 2*(M/3)\n",
    "            push!(community,2)\n",
    "        else\n",
    "            push!(community,3)\n",
    "        end\n",
    "    else\n",
    "         if i < N/3\n",
    "            push!(community,1)\n",
    "        elseif i >= N/3 && i < 2*(N/3)\n",
    "            push!(community,2)\n",
    "        else\n",
    "            push!(community,3)\n",
    "        end\n",
    "    end\n",
    "end\n",
    "\n",
    "α = 0.85\n",
    "n = 500 \n",
    "ϵ = 1e-6;"
   ]
  },
  {
   "cell_type": "markdown",
   "metadata": {},
   "source": [
    "### Voter Simulation"
   ]
  },
  {
   "cell_type": "code",
   "execution_count": 8,
   "metadata": {},
   "outputs": [
    {
     "ename": "MethodError",
     "evalue": "MethodError: no method matching init_model_voters(::Int64, ::Int64, ::Int64)\nClosest candidates are:\n  init_model_voters(::Int64, ::Int64, ::Int64, !Matched::Any) at In[6]:4",
     "output_type": "error",
     "traceback": [
      "MethodError: no method matching init_model_voters(::Int64, ::Int64, ::Int64)\nClosest candidates are:\n  init_model_voters(::Int64, ::Int64, ::Int64, !Matched::Any) at In[6]:4",
      "",
      "Stacktrace:",
      " [1] top-level scope at In[8]:3"
     ]
    }
   ],
   "source": [
    "# Seed Selection\n",
    "Random.seed!(1234);\n",
    "\n",
    "# Model Instantiation \n",
    "model_voters = init_model_voters(N, M, K)\n",
    "\n",
    "# Data Collection\n",
    "data_voters = run!(model_voters, agent_step!, nsteps);\n",
    "\n",
    "update_score_flow!(model_voters)\n",
    "\n",
    "sort!(DataFrame(allagents(model_voters)), :score, rev = true)"
   ]
  },
  {
   "cell_type": "markdown",
   "metadata": {},
   "source": [
    "### Candidate Simulation"
   ]
  },
  {
   "cell_type": "code",
   "execution_count": 9,
   "metadata": {},
   "outputs": [
    {
     "ename": "UndefVarError",
     "evalue": "UndefVarError: model_voters not defined",
     "output_type": "error",
     "traceback": [
      "UndefVarError: model_voters not defined",
      "",
      "Stacktrace:",
      " [1] top-level scope at In[9]:3"
     ]
    }
   ],
   "source": [
    "# Seed Selection\n",
    "Random.seed!(1234);\n",
    "\n",
    "# Model Instantiation \n",
    "model_candidates = init_model_candidates(model_voters, M, K)\n",
    "\n",
    "# Data Collection\n",
    "#data_candidates = run!(model_candidates, agent_step!, nsteps);\n",
    "\n",
    "update_score_candidates!(model_candidates)\n",
    "\n",
    "sort!(DataFrame(allagents(model_candidates)), :final_score, rev = true)"
   ]
  },
  {
   "cell_type": "markdown",
   "metadata": {},
   "source": [
    "### Visualization "
   ]
  },
  {
   "cell_type": "code",
   "execution_count": 52,
   "metadata": {},
   "outputs": [],
   "source": [
    "V = model_voters.space.graph\n",
    "C = model_candidates.space.graph\n",
    "V = ElectoralPhysics.LightGraphs_to_NetworkX(V);\n",
    "V = nx.convert_node_labels_to_integers(V, first_label=1);\n",
    "nx.write_graphml(V, \"random_graph_flow_all.graphml\")\n",
    "C = ElectoralPhysics.LightGraphs_to_NetworkX(C);\n",
    "C = nx.convert_node_labels_to_integers(C, first_label=1);\n",
    "nx.write_graphml(C, \"random_graph_flow_candidates.graphml\")"
   ]
  },
  {
   "cell_type": "code",
   "execution_count": null,
   "metadata": {},
   "outputs": [],
   "source": [
    "#nw.visualize(C)"
   ]
  },
  {
   "cell_type": "code",
   "execution_count": 45,
   "metadata": {},
   "outputs": [
    {
     "data": {
      "text/plain": [
       "5-element SparseArrays.SparseVector{Float64,Int64} with 3 stored entries:\n",
       "  [1]  =  0.333333\n",
       "  [4]  =  0.333333\n",
       "  [5]  =  0.333333"
      ]
     },
     "execution_count": 45,
     "metadata": {},
     "output_type": "execute_result"
    }
   ],
   "source": [
    "#LightGraphs.weights(model_candidates.space.graph)[rand(1:M), :]"
   ]
  },
  {
   "cell_type": "markdown",
   "metadata": {},
   "source": [
    "### @PietroMonticone2 Twitter Graph "
   ]
  },
  {
   "cell_type": "code",
   "execution_count": 28,
   "metadata": {},
   "outputs": [
    {
     "data": {
      "text/plain": [
       "{472504, 1075454} directed simple Int64 graph with Float64 weights"
      ]
     },
     "execution_count": 28,
     "metadata": {},
     "output_type": "execute_result"
    }
   ],
   "source": [
    "𝒫 = nx.read_graphml(\"@PietroMonticone2.graphml\")\n",
    "nx.convert_node_labels_to_integers(𝒫, first_label=1)\n",
    "nx.write_edgelist(𝒫, \"graph.edgelist\")\n",
    "𝒫 = loadgraph(\"graph.edgelist\", GraphIO.EdgeList.EdgeListFormat())\n",
    "𝒫 = SimpleWeightedDiGraph(reverse(𝒫))"
   ]
  },
  {
   "cell_type": "code",
   "execution_count": 29,
   "metadata": {},
   "outputs": [
    {
     "data": {
      "text/plain": [
       "SimpleWeightedDiGraph{Int64,Float64}"
      ]
     },
     "execution_count": 29,
     "metadata": {},
     "output_type": "execute_result"
    }
   ],
   "source": [
    "typeof(𝒫)"
   ]
  },
  {
   "cell_type": "code",
   "execution_count": 30,
   "metadata": {},
   "outputs": [],
   "source": [
    "indegrees = indegree(𝒫);"
   ]
  },
  {
   "cell_type": "code",
   "execution_count": 72,
   "metadata": {},
   "outputs": [
    {
     "data": {
      "text/plain": [
       "1157"
      ]
     },
     "execution_count": 72,
     "metadata": {},
     "output_type": "execute_result"
    }
   ],
   "source": [
    "M = length([elem for elem in indegrees if elem != 0])"
   ]
  },
  {
   "cell_type": "code",
   "execution_count": 34,
   "metadata": {},
   "outputs": [
    {
     "data": {
      "text/plain": [
       "472504"
      ]
     },
     "execution_count": 34,
     "metadata": {},
     "output_type": "execute_result"
    }
   ],
   "source": [
    "length(indegrees)"
   ]
  },
  {
   "cell_type": "code",
   "execution_count": 77,
   "metadata": {},
   "outputs": [],
   "source": [
    "# Voter Model Initialization\n",
    "function init_model_voters_twitter(𝒫::SimpleWeightedDiGraph{Int64,Float64}, indegrees::Array{Int64})\n",
    "       \n",
    "    #properties = @dict(N, M, K)\n",
    "    \n",
    "    # Create Directed Weighted Graph\n",
    "    space = GraphSpace(𝒫) \n",
    "    model_voters_twitter = ABM(Voter, space) #; properties = properties)\n",
    "    \n",
    "    N = nv(𝒫)\n",
    "    pos = 0\n",
    "    \n",
    "    for indegree in indegrees\n",
    "        pos += 1\n",
    "        score = 1.0\n",
    "        final_score = 0\n",
    "        if indegree == 0\n",
    "            candidacy = false\n",
    "            add_agent!(pos, model_voters_twitter, candidacy, score, final_score, 1)\n",
    "        else\n",
    "            candidacy = true\n",
    "            add_agent!(pos, model_voters_twitter, candidacy, score, final_score, 1)\n",
    "        end\n",
    "    end\n",
    "    return model_voters_twitter\n",
    "end\n",
    "\n",
    "# Candidate Model Initialization\n",
    "\n",
    "function init_model_candidates_twitter(model_voters_twitter::AgentBasedModel{Voter,GraphSpace{SimpleWeightedDiGraph{Int64,Float64}},typeof(fastest),Nothing}, M::Int64)\n",
    "    properties = @dict(M)\n",
    "    \n",
    "    candidates = []\n",
    "    i=0\n",
    "    for row in eachrow(sort!(DataFrame(allagents(model_voters_twitter)), :score, rev = true))\n",
    "        if i == M\n",
    "            break\n",
    "        end\n",
    "        append!(candidates, row[1])\n",
    "        i+=1\n",
    "    end\n",
    "    \n",
    "    # Induce Subgraph\n",
    "    graph, vertex_map = induced_subgraph(model_voters_twitter.space.graph, [candidate for candidate in candidates])\n",
    "    space = GraphSpace(graph)\n",
    "    model_candidates_twitter = ABM(Voter, space; properties = properties)\n",
    "    \n",
    "    for candidate in allagents(model_voters_twitter)\n",
    "        if candidate.candidacy == true\n",
    "            add_agent!(candidate.pos, model_candidates_twitter, candidate.candidacy, candidate.score, candidate.final_score, candidate.community)\n",
    "        end\n",
    "    end\n",
    "    \n",
    "    for agent in allagents(model_candidates_twitter)\n",
    "    agent.id = agent.pos\n",
    "    end\n",
    "    \n",
    "    return model_candidates_twitter\n",
    "end;"
   ]
  },
  {
   "cell_type": "code",
   "execution_count": 68,
   "metadata": {},
   "outputs": [],
   "source": [
    "function twitter_vote!(agent, model)\n",
    "    outneighbors = node_neighbors(agent, model; neighbor_type=:in)\n",
    "    nvotes = length(outneighbors)\n",
    "    for outneighbor in outneighbors\n",
    "        agent_outneighbor = get_node_agents(outneighbor, model)[1]\n",
    "        add_edge!(model.space.graph, agent.pos, agent_outneighbor.pos, 1/nvotes)\n",
    "    end\n",
    "end\n",
    "\n",
    "function update_score_twitter_flow!(model)\n",
    "    for agent in allagents(model)\n",
    "        if agent.candidacy == true\n",
    "            for inneighbor in node_neighbors(agent, model; neighbor_type=:in)\n",
    "                agent_inneighbor = get_node_agents(inneighbor, model)[1]\n",
    "                if agent_inneighbor.candidacy == false\n",
    "                    agent.score = agent.score + agent_inneighbor.score * LightGraphs.weights(model.space.graph)[agent_inneighbor.pos, agent.pos]\n",
    "                end\n",
    "            end\n",
    "        end\n",
    "    end\n",
    "end\n",
    "\n",
    "function update_score_candidates_twitter!(model)\n",
    "    for agent in allagents(model)\n",
    "        for inneighbor in node_neighbors(agent, model; neighbor_type=:in)\n",
    "            agent_inneighbor = get_node_agents(inneighbor, model)[1]\n",
    "            agent.final_score = agent.score + agent_inneighbor.score * LightGraphs.weights(model.space.graph)[agent_inneighbor.pos, agent.pos]\n",
    "        end\n",
    "    end\n",
    "end\n",
    "\n",
    "function twitter_agent_step!(agent, model)\n",
    "   twitter_vote!(agent, model) \n",
    "end;"
   ]
  },
  {
   "cell_type": "markdown",
   "metadata": {},
   "source": [
    "### Twitter Voter Simulation"
   ]
  },
  {
   "cell_type": "code",
   "execution_count": 46,
   "metadata": {},
   "outputs": [
    {
     "data": {
      "text/html": [
       "<table class=\"data-frame\"><thead><tr><th></th><th>id</th><th>pos</th><th>candidacy</th><th>score</th><th>final_score</th><th>community</th></tr><tr><th></th><th>Int64</th><th>Int64</th><th>Bool</th><th>Float64</th><th>Float64</th><th>Int64</th></tr></thead><tbody><p>472,504 rows × 6 columns</p><tr><th>1</th><td>557</td><td>557</td><td>1</td><td>4906.39</td><td>0.0</td><td>1</td></tr><tr><th>2</th><td>281</td><td>281</td><td>1</td><td>4904.69</td><td>0.0</td><td>1</td></tr><tr><th>3</th><td>730</td><td>730</td><td>1</td><td>4890.68</td><td>0.0</td><td>1</td></tr><tr><th>4</th><td>1129</td><td>1129</td><td>1</td><td>4855.79</td><td>0.0</td><td>1</td></tr><tr><th>5</th><td>41</td><td>41</td><td>1</td><td>4852.82</td><td>0.0</td><td>1</td></tr><tr><th>6</th><td>1133</td><td>1133</td><td>1</td><td>4794.64</td><td>0.0</td><td>1</td></tr><tr><th>7</th><td>514</td><td>514</td><td>1</td><td>4794.21</td><td>0.0</td><td>1</td></tr><tr><th>8</th><td>252</td><td>252</td><td>1</td><td>4760.96</td><td>0.0</td><td>1</td></tr><tr><th>9</th><td>57</td><td>57</td><td>1</td><td>4728.06</td><td>0.0</td><td>1</td></tr><tr><th>10</th><td>477</td><td>477</td><td>1</td><td>4685.43</td><td>0.0</td><td>1</td></tr><tr><th>11</th><td>375</td><td>375</td><td>1</td><td>4546.56</td><td>0.0</td><td>1</td></tr><tr><th>12</th><td>962</td><td>962</td><td>1</td><td>4536.59</td><td>0.0</td><td>1</td></tr><tr><th>13</th><td>932</td><td>932</td><td>1</td><td>4535.95</td><td>0.0</td><td>1</td></tr><tr><th>14</th><td>1033</td><td>1033</td><td>1</td><td>4511.99</td><td>0.0</td><td>1</td></tr><tr><th>15</th><td>879</td><td>879</td><td>1</td><td>4493.68</td><td>0.0</td><td>1</td></tr><tr><th>16</th><td>63</td><td>63</td><td>1</td><td>4484.94</td><td>0.0</td><td>1</td></tr><tr><th>17</th><td>624</td><td>624</td><td>1</td><td>4448.04</td><td>0.0</td><td>1</td></tr><tr><th>18</th><td>609</td><td>609</td><td>1</td><td>4443.94</td><td>0.0</td><td>1</td></tr><tr><th>19</th><td>1156</td><td>1156</td><td>1</td><td>4420.04</td><td>0.0</td><td>1</td></tr><tr><th>20</th><td>1114</td><td>1114</td><td>1</td><td>4392.24</td><td>0.0</td><td>1</td></tr><tr><th>21</th><td>152</td><td>152</td><td>1</td><td>4368.28</td><td>0.0</td><td>1</td></tr><tr><th>22</th><td>73</td><td>73</td><td>1</td><td>4286.13</td><td>0.0</td><td>1</td></tr><tr><th>23</th><td>149</td><td>149</td><td>1</td><td>4278.8</td><td>0.0</td><td>1</td></tr><tr><th>24</th><td>259</td><td>259</td><td>1</td><td>4254.62</td><td>0.0</td><td>1</td></tr><tr><th>25</th><td>111</td><td>111</td><td>1</td><td>4251.12</td><td>0.0</td><td>1</td></tr><tr><th>26</th><td>144</td><td>144</td><td>1</td><td>4246.11</td><td>0.0</td><td>1</td></tr><tr><th>27</th><td>608</td><td>608</td><td>1</td><td>4164.07</td><td>0.0</td><td>1</td></tr><tr><th>28</th><td>644</td><td>644</td><td>1</td><td>4094.4</td><td>0.0</td><td>1</td></tr><tr><th>29</th><td>1134</td><td>1134</td><td>1</td><td>4029.98</td><td>0.0</td><td>1</td></tr><tr><th>30</th><td>105</td><td>105</td><td>1</td><td>3954.21</td><td>0.0</td><td>1</td></tr><tr><th>&vellip;</th><td>&vellip;</td><td>&vellip;</td><td>&vellip;</td><td>&vellip;</td><td>&vellip;</td><td>&vellip;</td></tr></tbody></table>"
      ],
      "text/latex": [
       "\\begin{tabular}{r|cccccc}\n",
       "\t& id & pos & candidacy & score & final\\_score & community\\\\\n",
       "\t\\hline\n",
       "\t& Int64 & Int64 & Bool & Float64 & Float64 & Int64\\\\\n",
       "\t\\hline\n",
       "\t1 & 557 & 557 & 1 & 4906.39 & 0.0 & 1 \\\\\n",
       "\t2 & 281 & 281 & 1 & 4904.69 & 0.0 & 1 \\\\\n",
       "\t3 & 730 & 730 & 1 & 4890.68 & 0.0 & 1 \\\\\n",
       "\t4 & 1129 & 1129 & 1 & 4855.79 & 0.0 & 1 \\\\\n",
       "\t5 & 41 & 41 & 1 & 4852.82 & 0.0 & 1 \\\\\n",
       "\t6 & 1133 & 1133 & 1 & 4794.64 & 0.0 & 1 \\\\\n",
       "\t7 & 514 & 514 & 1 & 4794.21 & 0.0 & 1 \\\\\n",
       "\t8 & 252 & 252 & 1 & 4760.96 & 0.0 & 1 \\\\\n",
       "\t9 & 57 & 57 & 1 & 4728.06 & 0.0 & 1 \\\\\n",
       "\t10 & 477 & 477 & 1 & 4685.43 & 0.0 & 1 \\\\\n",
       "\t11 & 375 & 375 & 1 & 4546.56 & 0.0 & 1 \\\\\n",
       "\t12 & 962 & 962 & 1 & 4536.59 & 0.0 & 1 \\\\\n",
       "\t13 & 932 & 932 & 1 & 4535.95 & 0.0 & 1 \\\\\n",
       "\t14 & 1033 & 1033 & 1 & 4511.99 & 0.0 & 1 \\\\\n",
       "\t15 & 879 & 879 & 1 & 4493.68 & 0.0 & 1 \\\\\n",
       "\t16 & 63 & 63 & 1 & 4484.94 & 0.0 & 1 \\\\\n",
       "\t17 & 624 & 624 & 1 & 4448.04 & 0.0 & 1 \\\\\n",
       "\t18 & 609 & 609 & 1 & 4443.94 & 0.0 & 1 \\\\\n",
       "\t19 & 1156 & 1156 & 1 & 4420.04 & 0.0 & 1 \\\\\n",
       "\t20 & 1114 & 1114 & 1 & 4392.24 & 0.0 & 1 \\\\\n",
       "\t21 & 152 & 152 & 1 & 4368.28 & 0.0 & 1 \\\\\n",
       "\t22 & 73 & 73 & 1 & 4286.13 & 0.0 & 1 \\\\\n",
       "\t23 & 149 & 149 & 1 & 4278.8 & 0.0 & 1 \\\\\n",
       "\t24 & 259 & 259 & 1 & 4254.62 & 0.0 & 1 \\\\\n",
       "\t25 & 111 & 111 & 1 & 4251.12 & 0.0 & 1 \\\\\n",
       "\t26 & 144 & 144 & 1 & 4246.11 & 0.0 & 1 \\\\\n",
       "\t27 & 608 & 608 & 1 & 4164.07 & 0.0 & 1 \\\\\n",
       "\t28 & 644 & 644 & 1 & 4094.4 & 0.0 & 1 \\\\\n",
       "\t29 & 1134 & 1134 & 1 & 4029.98 & 0.0 & 1 \\\\\n",
       "\t30 & 105 & 105 & 1 & 3954.21 & 0.0 & 1 \\\\\n",
       "\t$\\dots$ & $\\dots$ & $\\dots$ & $\\dots$ & $\\dots$ & $\\dots$ & $\\dots$ \\\\\n",
       "\\end{tabular}\n"
      ],
      "text/plain": [
       "472504×6 DataFrame\n",
       "│ Row    │ id     │ pos    │ candidacy │ score   │ final_score │ community │\n",
       "│        │ \u001b[90mInt64\u001b[39m  │ \u001b[90mInt64\u001b[39m  │ \u001b[90mBool\u001b[39m      │ \u001b[90mFloat64\u001b[39m │ \u001b[90mFloat64\u001b[39m     │ \u001b[90mInt64\u001b[39m     │\n",
       "├────────┼────────┼────────┼───────────┼─────────┼─────────────┼───────────┤\n",
       "│ 1      │ 557    │ 557    │ 1         │ 4906.39 │ 0.0         │ 1         │\n",
       "│ 2      │ 281    │ 281    │ 1         │ 4904.69 │ 0.0         │ 1         │\n",
       "│ 3      │ 730    │ 730    │ 1         │ 4890.68 │ 0.0         │ 1         │\n",
       "│ 4      │ 1129   │ 1129   │ 1         │ 4855.79 │ 0.0         │ 1         │\n",
       "│ 5      │ 41     │ 41     │ 1         │ 4852.82 │ 0.0         │ 1         │\n",
       "│ 6      │ 1133   │ 1133   │ 1         │ 4794.64 │ 0.0         │ 1         │\n",
       "│ 7      │ 514    │ 514    │ 1         │ 4794.21 │ 0.0         │ 1         │\n",
       "│ 8      │ 252    │ 252    │ 1         │ 4760.96 │ 0.0         │ 1         │\n",
       "│ 9      │ 57     │ 57     │ 1         │ 4728.06 │ 0.0         │ 1         │\n",
       "│ 10     │ 477    │ 477    │ 1         │ 4685.43 │ 0.0         │ 1         │\n",
       "⋮\n",
       "│ 472494 │ 241161 │ 241161 │ 0         │ 1.0     │ 0.0         │ 1         │\n",
       "│ 472495 │ 388837 │ 388837 │ 0         │ 1.0     │ 0.0         │ 1         │\n",
       "│ 472496 │ 77025  │ 77025  │ 0         │ 1.0     │ 0.0         │ 1         │\n",
       "│ 472497 │ 54504  │ 54504  │ 0         │ 1.0     │ 0.0         │ 1         │\n",
       "│ 472498 │ 12881  │ 12881  │ 0         │ 1.0     │ 0.0         │ 1         │\n",
       "│ 472499 │ 190232 │ 190232 │ 0         │ 1.0     │ 0.0         │ 1         │\n",
       "│ 472500 │ 199653 │ 199653 │ 0         │ 1.0     │ 0.0         │ 1         │\n",
       "│ 472501 │ 188176 │ 188176 │ 0         │ 1.0     │ 0.0         │ 1         │\n",
       "│ 472502 │ 134203 │ 134203 │ 0         │ 1.0     │ 0.0         │ 1         │\n",
       "│ 472503 │ 73901  │ 73901  │ 0         │ 1.0     │ 0.0         │ 1         │\n",
       "│ 472504 │ 450476 │ 450476 │ 0         │ 1.0     │ 0.0         │ 1         │"
      ]
     },
     "execution_count": 46,
     "metadata": {},
     "output_type": "execute_result"
    }
   ],
   "source": [
    "# Seed Selection\n",
    "Random.seed!(1234);\n",
    "\n",
    "# Model Instantiation \n",
    "model_voters_twitter = init_model_voters_twitter(𝒫, indegrees)\n",
    "\n",
    "data_voters = run!(model_voters_twitter, twitter_agent_step!, 1);\n",
    "\n",
    "update_score_twitter_flow!(model_voters_twitter)\n",
    "\n",
    "sort!(DataFrame(allagents(model_voters_twitter)), :score, rev = true)"
   ]
  },
  {
   "cell_type": "code",
   "execution_count": 48,
   "metadata": {},
   "outputs": [],
   "source": [
    "G = ElectoralPhysics.LightGraphs_to_NetworkX(model_voters_twitter.space.graph);\n",
    "G = nx.convert_node_labels_to_integers(G, first_label=1);\n",
    "nx.write_graphml(G, \"twitter_election.graphml\")"
   ]
  },
  {
   "cell_type": "markdown",
   "metadata": {},
   "source": [
    "### Twitter Candidates Simulation"
   ]
  },
  {
   "cell_type": "code",
   "execution_count": 78,
   "metadata": {},
   "outputs": [
    {
     "data": {
      "text/html": [
       "<table class=\"data-frame\"><thead><tr><th></th><th>id</th><th>pos</th><th>candidacy</th><th>score</th><th>final_score</th><th>community</th></tr><tr><th></th><th>Int64</th><th>Int64</th><th>Bool</th><th>Float64</th><th>Float64</th><th>Int64</th></tr></thead><tbody><p>1,157 rows × 6 columns</p><tr><th>1</th><td>105</td><td>105</td><td>1</td><td>3954.21</td><td>7984.2</td><td>1</td></tr><tr><th>2</th><td>255</td><td>255</td><td>1</td><td>3195.72</td><td>7615.76</td><td>1</td></tr><tr><th>3</th><td>758</td><td>758</td><td>1</td><td>3170.9</td><td>7200.88</td><td>1</td></tr><tr><th>4</th><td>658</td><td>658</td><td>1</td><td>3119.67</td><td>7149.65</td><td>1</td></tr><tr><th>5</th><td>522</td><td>522</td><td>1</td><td>2375.7</td><td>6795.74</td><td>1</td></tr><tr><th>6</th><td>845</td><td>845</td><td>1</td><td>2004.29</td><td>6424.33</td><td>1</td></tr><tr><th>7</th><td>740</td><td>740</td><td>1</td><td>2019.34</td><td>6049.32</td><td>1</td></tr><tr><th>8</th><td>638</td><td>638</td><td>1</td><td>1436.39</td><td>5828.63</td><td>1</td></tr><tr><th>9</th><td>871</td><td>871</td><td>1</td><td>1719.12</td><td>5749.1</td><td>1</td></tr><tr><th>10</th><td>557</td><td>557</td><td>1</td><td>4906.39</td><td>5722.46</td><td>1</td></tr><tr><th>11</th><td>406</td><td>406</td><td>1</td><td>1654.8</td><td>5684.78</td><td>1</td></tr><tr><th>12</th><td>41</td><td>41</td><td>1</td><td>4852.82</td><td>5668.89</td><td>1</td></tr><tr><th>13</th><td>499</td><td>499</td><td>1</td><td>1278.12</td><td>5308.11</td><td>1</td></tr><tr><th>14</th><td>568</td><td>568</td><td>1</td><td>875.218</td><td>5295.26</td><td>1</td></tr><tr><th>15</th><td>514</td><td>514</td><td>1</td><td>4794.21</td><td>5256.84</td><td>1</td></tr><tr><th>16</th><td>721</td><td>721</td><td>1</td><td>774.04</td><td>5194.08</td><td>1</td></tr><tr><th>17</th><td>482</td><td>482</td><td>1</td><td>1153.96</td><td>5183.94</td><td>1</td></tr><tr><th>18</th><td>517</td><td>517</td><td>1</td><td>1147.77</td><td>5177.75</td><td>1</td></tr><tr><th>19</th><td>1023</td><td>1023</td><td>1</td><td>1114.75</td><td>5144.74</td><td>1</td></tr><tr><th>20</th><td>440</td><td>440</td><td>1</td><td>1113.81</td><td>5143.8</td><td>1</td></tr><tr><th>21</th><td>404</td><td>404</td><td>1</td><td>700.759</td><td>5120.8</td><td>1</td></tr><tr><th>22</th><td>459</td><td>459</td><td>1</td><td>1085.47</td><td>5115.46</td><td>1</td></tr><tr><th>23</th><td>149</td><td>149</td><td>1</td><td>4278.8</td><td>5102.53</td><td>1</td></tr><tr><th>24</th><td>855</td><td>855</td><td>1</td><td>662.695</td><td>5082.73</td><td>1</td></tr><tr><th>25</th><td>1012</td><td>1012</td><td>1</td><td>629.883</td><td>5022.12</td><td>1</td></tr><tr><th>26</th><td>628</td><td>628</td><td>1</td><td>3921.48</td><td>4956.04</td><td>1</td></tr><tr><th>27</th><td>281</td><td>281</td><td>1</td><td>4904.69</td><td>4953.33</td><td>1</td></tr><tr><th>28</th><td>619</td><td>619</td><td>1</td><td>508.444</td><td>4928.48</td><td>1</td></tr><tr><th>29</th><td>730</td><td>730</td><td>1</td><td>4890.68</td><td>4892.58</td><td>1</td></tr><tr><th>30</th><td>182</td><td>182</td><td>1</td><td>460.855</td><td>4880.89</td><td>1</td></tr><tr><th>&vellip;</th><td>&vellip;</td><td>&vellip;</td><td>&vellip;</td><td>&vellip;</td><td>&vellip;</td><td>&vellip;</td></tr></tbody></table>"
      ],
      "text/latex": [
       "\\begin{tabular}{r|cccccc}\n",
       "\t& id & pos & candidacy & score & final\\_score & community\\\\\n",
       "\t\\hline\n",
       "\t& Int64 & Int64 & Bool & Float64 & Float64 & Int64\\\\\n",
       "\t\\hline\n",
       "\t1 & 105 & 105 & 1 & 3954.21 & 7984.2 & 1 \\\\\n",
       "\t2 & 255 & 255 & 1 & 3195.72 & 7615.76 & 1 \\\\\n",
       "\t3 & 758 & 758 & 1 & 3170.9 & 7200.88 & 1 \\\\\n",
       "\t4 & 658 & 658 & 1 & 3119.67 & 7149.65 & 1 \\\\\n",
       "\t5 & 522 & 522 & 1 & 2375.7 & 6795.74 & 1 \\\\\n",
       "\t6 & 845 & 845 & 1 & 2004.29 & 6424.33 & 1 \\\\\n",
       "\t7 & 740 & 740 & 1 & 2019.34 & 6049.32 & 1 \\\\\n",
       "\t8 & 638 & 638 & 1 & 1436.39 & 5828.63 & 1 \\\\\n",
       "\t9 & 871 & 871 & 1 & 1719.12 & 5749.1 & 1 \\\\\n",
       "\t10 & 557 & 557 & 1 & 4906.39 & 5722.46 & 1 \\\\\n",
       "\t11 & 406 & 406 & 1 & 1654.8 & 5684.78 & 1 \\\\\n",
       "\t12 & 41 & 41 & 1 & 4852.82 & 5668.89 & 1 \\\\\n",
       "\t13 & 499 & 499 & 1 & 1278.12 & 5308.11 & 1 \\\\\n",
       "\t14 & 568 & 568 & 1 & 875.218 & 5295.26 & 1 \\\\\n",
       "\t15 & 514 & 514 & 1 & 4794.21 & 5256.84 & 1 \\\\\n",
       "\t16 & 721 & 721 & 1 & 774.04 & 5194.08 & 1 \\\\\n",
       "\t17 & 482 & 482 & 1 & 1153.96 & 5183.94 & 1 \\\\\n",
       "\t18 & 517 & 517 & 1 & 1147.77 & 5177.75 & 1 \\\\\n",
       "\t19 & 1023 & 1023 & 1 & 1114.75 & 5144.74 & 1 \\\\\n",
       "\t20 & 440 & 440 & 1 & 1113.81 & 5143.8 & 1 \\\\\n",
       "\t21 & 404 & 404 & 1 & 700.759 & 5120.8 & 1 \\\\\n",
       "\t22 & 459 & 459 & 1 & 1085.47 & 5115.46 & 1 \\\\\n",
       "\t23 & 149 & 149 & 1 & 4278.8 & 5102.53 & 1 \\\\\n",
       "\t24 & 855 & 855 & 1 & 662.695 & 5082.73 & 1 \\\\\n",
       "\t25 & 1012 & 1012 & 1 & 629.883 & 5022.12 & 1 \\\\\n",
       "\t26 & 628 & 628 & 1 & 3921.48 & 4956.04 & 1 \\\\\n",
       "\t27 & 281 & 281 & 1 & 4904.69 & 4953.33 & 1 \\\\\n",
       "\t28 & 619 & 619 & 1 & 508.444 & 4928.48 & 1 \\\\\n",
       "\t29 & 730 & 730 & 1 & 4890.68 & 4892.58 & 1 \\\\\n",
       "\t30 & 182 & 182 & 1 & 460.855 & 4880.89 & 1 \\\\\n",
       "\t$\\dots$ & $\\dots$ & $\\dots$ & $\\dots$ & $\\dots$ & $\\dots$ & $\\dots$ \\\\\n",
       "\\end{tabular}\n"
      ],
      "text/plain": [
       "1157×6 DataFrame\n",
       "│ Row  │ id    │ pos   │ candidacy │ score   │ final_score │ community │\n",
       "│      │ \u001b[90mInt64\u001b[39m │ \u001b[90mInt64\u001b[39m │ \u001b[90mBool\u001b[39m      │ \u001b[90mFloat64\u001b[39m │ \u001b[90mFloat64\u001b[39m     │ \u001b[90mInt64\u001b[39m     │\n",
       "├──────┼───────┼───────┼───────────┼─────────┼─────────────┼───────────┤\n",
       "│ 1    │ 105   │ 105   │ 1         │ 3954.21 │ 7984.2      │ 1         │\n",
       "│ 2    │ 255   │ 255   │ 1         │ 3195.72 │ 7615.76     │ 1         │\n",
       "│ 3    │ 758   │ 758   │ 1         │ 3170.9  │ 7200.88     │ 1         │\n",
       "│ 4    │ 658   │ 658   │ 1         │ 3119.67 │ 7149.65     │ 1         │\n",
       "│ 5    │ 522   │ 522   │ 1         │ 2375.7  │ 6795.74     │ 1         │\n",
       "│ 6    │ 845   │ 845   │ 1         │ 2004.29 │ 6424.33     │ 1         │\n",
       "│ 7    │ 740   │ 740   │ 1         │ 2019.34 │ 6049.32     │ 1         │\n",
       "│ 8    │ 638   │ 638   │ 1         │ 1436.39 │ 5828.63     │ 1         │\n",
       "│ 9    │ 871   │ 871   │ 1         │ 1719.12 │ 5749.1      │ 1         │\n",
       "│ 10   │ 557   │ 557   │ 1         │ 4906.39 │ 5722.46     │ 1         │\n",
       "⋮\n",
       "│ 1147 │ 847   │ 847   │ 1         │ 4.21978 │ 9.18611     │ 1         │\n",
       "│ 1148 │ 594   │ 594   │ 1         │ 2.09593 │ 7.69042     │ 1         │\n",
       "│ 1149 │ 1132  │ 1132  │ 1         │ 5.11184 │ 7.21944     │ 1         │\n",
       "│ 1150 │ 969   │ 969   │ 1         │ 6.0     │ 6.66676     │ 1         │\n",
       "│ 1151 │ 983   │ 983   │ 1         │ 3.875   │ 5.09419     │ 1         │\n",
       "│ 1152 │ 393   │ 393   │ 1         │ 3.0     │ 4.625       │ 1         │\n",
       "│ 1153 │ 822   │ 822   │ 1         │ 2.0     │ 3.39357     │ 1         │\n",
       "│ 1154 │ 865   │ 865   │ 1         │ 2.99248 │ 3.18207     │ 1         │\n",
       "│ 1155 │ 765   │ 765   │ 1         │ 2.16667 │ 2.46639     │ 1         │\n",
       "│ 1156 │ 558   │ 558   │ 1         │ 2.0     │ 2.17627     │ 1         │\n",
       "│ 1157 │ 781   │ 781   │ 1         │ 3181.2  │ 0.0         │ 1         │"
      ]
     },
     "execution_count": 78,
     "metadata": {},
     "output_type": "execute_result"
    }
   ],
   "source": [
    "# Model Instantiation \n",
    "model_candidates_twitter = init_model_candidates_twitter(model_voters_twitter, M)\n",
    "\n",
    "# Data Collection\n",
    "#data_candidates = run!(model_candidates, agent_step!, nsteps);\n",
    "\n",
    "update_score_candidates_twitter!(model_candidates_twitter)\n",
    "\n",
    "sort!(DataFrame(allagents(model_candidates_twitter)), :final_score, rev = true)"
   ]
  },
  {
   "cell_type": "code",
   "execution_count": 79,
   "metadata": {},
   "outputs": [],
   "source": [
    "G = ElectoralPhysics.LightGraphs_to_NetworkX(model_candidates_twitter.space.graph);\n",
    "G = nx.convert_node_labels_to_integers(G, first_label=1);\n",
    "nx.write_graphml(G, \"twitter_election_candidates.graphml\")"
   ]
  },
  {
   "cell_type": "code",
   "execution_count": null,
   "metadata": {},
   "outputs": [],
   "source": [
    "nw.visualize(G)"
   ]
  },
  {
   "cell_type": "code",
   "execution_count": null,
   "metadata": {},
   "outputs": [],
   "source": []
  }
 ],
 "metadata": {
  "kernelspec": {
   "display_name": "Julia 1.4.0",
   "language": "julia",
   "name": "julia-1.4"
  },
  "language_info": {
   "file_extension": ".jl",
   "mimetype": "application/julia",
   "name": "julia",
   "version": "1.4.0"
  }
 },
 "nbformat": 4,
 "nbformat_minor": 4
}
