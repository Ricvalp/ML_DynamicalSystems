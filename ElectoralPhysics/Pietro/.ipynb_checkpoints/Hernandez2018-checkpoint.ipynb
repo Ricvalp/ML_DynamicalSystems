{
 "cells": [
  {
   "cell_type": "markdown",
   "metadata": {},
   "source": [
    "# A networked voting rule for democratic representation | [Hernández et al., 2018](http://doi.org/10.1098/rsos.172265)\n",
    "\n",
    "## Introduction \n",
    "\n",
    "* **Problem**: selecting a group of candidates that best represents the voters. \n",
    "* Inevitable trade-off between representativeness and effectiveness. \n",
    "* The most widely used electoral systems can be classified into one of the following groups: \n",
    "    * first-past-the-post\n",
    "    * two-round systems\n",
    "    * proportional representation\n",
    "    * ranked voting \n",
    "    * a mix .\n",
    "* In classical elections, a fixed number of candidates participate and voters rank the candidates expressing their preferences. They introduce a new formal model, where **the list of candidates is not fixed in advance (*axiom/dogma of existence of pre-electoral parties*), but they emerge as a self-organized process controlled by the voting rules**. Moreover, **voters express not preferences, but opinions**, which determine their indications about whom they would like to see as their representative.\n",
    "* **Accountability**: connection between representatives and constituents is fundamental and it is the basis for accountability, allowing us to check for incompetence and corruption. In classical voting systems, this link can be generally insured only for a small-sized community. In particular, for the national legislative assembly, it can be partially controlled by the small size of the electoral district. Our model introduces a radical difference for obtaining an efficacious accountability.It takes into account **individuals’ first-hand trust relationship** as a key ingredient to determine the elected representatives. Votes are assigned on the basis of a self-declared **confidence circle**, which is a network of trusted individuals which can be implemented on an online platform.\n",
    "\n",
    "## Model\n",
    "\n",
    "* $N_v$: Voter population size\n",
    "* $N_i$: Number of issues / topics / policies the voters can evaluate / judge / manifest their opinions over. Issues are organized in questions which can be defined by stakeholder engagement processes. \n",
    "* $\\mathcal{V} = O_1 \\times ... \\times O_{N_i} = \\{-1, 0, +1\\}^{N_i}$: Opinion / Answer / Vote space.\n",
    "* $v^j \\in \\mathcal{O}$: Opinion / Answer / Vote array of voter $j$ such that $v^j_m$ is opinion of voter $j$ on issue $m$.\n",
    "* Overlap between voter $j$ and voter $k$\n",
    "$$ v^j * v^k = \\frac{\\sum_{m=1}^{N_i} v^j_m \\cdot v^k_m \\delta (v^j_m , v^k_m) }{\\sum_{m=1}^{N_i} (v^j_m \\cdot v^k_m)^2}$$ where the numerator counts the number of questions answered in the same way (only yes or not) and the denominator counts the number of questions answered simultaneously by both individuals. \n",
    "\n",
    "Each individual $j$ will indicate as his representative the individual $k'$ if $$v^j * v^{k'} \\geq v^j * v^{k} \\forall k \\in [0,N_i]\\subset \\mathbb{N}.$$ \n",
    "\n",
    "In the case where more than one individual generates the same maximum overlap value, the individual with a higher connectivity is chosen as the representative. For the exceptional case when also the connectivity is equal, the representative is randomly selected between the similar ones.\n",
    "\n",
    "* After the selection of the representative $k'$ for every voter $j$, as constrained by his confidence network, the final step consists in choosing the aggregate of representatives of the entire community: construct a directed graph where a node represents each individual and a directed link connects the individual with his personal representative. In this graph, which, in general, can be composed by different disconnected clusters, cycles are present. They represent individuals that have been mutually indicated by themselves. As all the individuals outside the cycles are represented by the individuals belonging to them, individuals who belong to cycles are the proper potential representatives for the community.\n",
    "\n",
    "* As a final step, among the individuals belonging to a cycle, only the ones with a number of votes larger than a threshold $\\theta$ are indicated as representatives. Votes are counted considering the **cumulative flow** defined by the directed graph. If the individual $j$ is pointing to $z$, $z$ receives all the votes previously received by $j$ plus one. This flow of votes is computed only following links outside the cycles. Inside the cycles, only the single vote of an individual is counted. In this way, the number of representatives is reduced and results to be a fraction of the total individuals which belong to a cycle."
   ]
  },
  {
   "cell_type": "markdown",
   "metadata": {},
   "source": [
    "### Modules "
   ]
  },
  {
   "cell_type": "code",
   "execution_count": 1,
   "metadata": {},
   "outputs": [],
   "source": [
    "# Data Management \n",
    "using DataFrames, DataFramesMeta\n",
    "using DrWatson\n",
    "\n",
    "# Statistics\n",
    "using Random\n",
    "using Distributions\n",
    "using StatsBase\n",
    "\n",
    "# Graphs \n",
    "using LightGraphs, SimpleWeightedGraphs, GraphIO\n",
    "using GraphPlot\n",
    "\n",
    "# Modelling\n",
    "using Agents\n",
    "\n",
    "# Data Visualization\n",
    "using Plots\n",
    "using AgentsPlots\n",
    "using PlotThemes\n",
    "\n",
    "# Python\n",
    "#using Pkg\n",
    "#ENV[\"PYTHON\"] = \"/Users/pietromonticone/opt/anaconda3/bin/python3.7\"\n",
    "#Pkg.build(\"PyCall\")\n",
    "using PyCall\n",
    "using PyPlot\n",
    "nx = pyimport(\"networkx\")\n",
    "nw = pyimport(\"netwulf\");\n",
    "\n",
    "# Custom Module\n",
    "include(\"./Modules/ElectoralPhysics.jl\");\n",
    "\n",
    "# REMEMBER TO INCREASE EFFICIENCY !!!"
   ]
  },
  {
   "cell_type": "markdown",
   "metadata": {},
   "source": [
    "### Agent Type "
   ]
  },
  {
   "cell_type": "code",
   "execution_count": 2,
   "metadata": {},
   "outputs": [],
   "source": [
    "# Voter Definition\n",
    "mutable struct Voter <: AbstractAgent\n",
    "    id::Int64               # arbitrarily initialized\n",
    "    pos::Int64              # arbitrary initialized\n",
    "    candidacy::Bool         # exogenous\n",
    "    opinion::Array{Int64,1} # endogenous\n",
    "    score::Float64          # exogenous     \n",
    "    party::Int64            # emergent\n",
    "end"
   ]
  },
  {
   "cell_type": "markdown",
   "metadata": {},
   "source": [
    "### Functions"
   ]
  },
  {
   "cell_type": "code",
   "execution_count": 3,
   "metadata": {},
   "outputs": [],
   "source": [
    "function overlap(vj, vk)\n",
    "    numerator = 0\n",
    "    denominator = 0\n",
    "    for m in 1:length(vj)\n",
    "        denominator += (vj[m]*vk[m])^2\n",
    "        if vj[m]==vk[m] \n",
    "            numerator += vj[m]*vk[m]    \n",
    "        end\n",
    "    end\n",
    "    return numerator / denominator\n",
    "end;\n",
    "\n",
    "function nvotes!(agent, model)\n",
    "    p = 0.1\n",
    "    d = Binomial(model.properties[:Nv]-1,p)\n",
    "    nvotes = rand(d)\n",
    "    return nvotes + 1\n",
    "end\n",
    "\n",
    "function choose_candidates!(agent, model, nvotes)\n",
    "    candidates = [agent for agent in allagents(model)]\n",
    "    targets = []\n",
    "    for vote in 1:nvotes\n",
    "        target = rand(candidates)\n",
    "        while target.id == agent.id || target in targets\n",
    "            target = rand(candidates)\n",
    "        end\n",
    "    push!(targets, target)\n",
    "    end\n",
    "    return targets\n",
    "end;\n",
    "\n",
    "\n",
    "function vote!(agent,model)\n",
    "    nvotes = nvotes!(agent, model)\n",
    "    targets = choose_candidates!(agent, model, nvotes)\n",
    "    for target in targets\n",
    "        add_edge!(model.space.graph, agent.pos, target.pos)\n",
    "    end\n",
    "end\n",
    "\n",
    "# Voter Dynamics \n",
    "function agent_step!(agent, model)\n",
    "    vote!(agent, model)\n",
    "end;\n",
    "\n",
    "function choose_representatives!(model_voters, model_representatives)\n",
    "    for agent in allagents(model_voters)\n",
    "        max = 0\n",
    "        representative = random_agent(model_voters)\n",
    "        for outneighbor in node_neighbors(agent, model_voters; neighbor_type=:out)\n",
    "            agent_outneighbor = get_node_agents(outneighbor, model_voters)[1]\n",
    "            agent_outneighbor.score = overlap(agent.opinion, agent_outneighbor.opinion)\n",
    "            #representative = agent_outneighbor\n",
    "            if agent_outneighbor.score > max\n",
    "                representative = agent_outneighbor\n",
    "                max = representative.score\n",
    "            elseif agent_outneighbor.score == max\n",
    "                if indegree(model_voters.space.graph)[agent_outneighbor.id] > indegree(model_voters.space.graph)[representative.id]\n",
    "                    representative = agent_outneighbor\n",
    "                elseif indegree(model_voters.space.graph)[agent_outneighbor.id] == indegree(model_voters.space.graph)[representative.id]\n",
    "                    representative = rand([agent_outneighbor, representative])\n",
    "                end\n",
    "            end \n",
    "        end\n",
    "        add_edge!(model_representatives.space.graph, agent.pos, representative.pos, 1)\n",
    "        #add_edge!(model_representatives.space.graph, agent.pos, representative.pos)\n",
    "    end\n",
    "    \n",
    "    for agent in allagents(model_representatives)\n",
    "        agent.score = 0\n",
    "    end\n",
    "    \n",
    "    cycles = simplecycles(model_representatives.space.graph)\n",
    "    party = 0\n",
    "    for cycle in cycles \n",
    "        party += 1\n",
    "        for agent in allagents(model_representatives)\n",
    "            if agent.id in cycle \n",
    "                agent.candidacy = true\n",
    "                agent.score = 1\n",
    "                agent.party = party\n",
    "            end\n",
    "        end\n",
    "    end\n",
    "end;\n",
    "\n",
    "function path(model, agent_source, agent_target)\n",
    "    path = [agent_source.pos]\n",
    "    while path[end] != agent_target.pos\n",
    "        agent = get_node_agents(path[end], model)[1]\n",
    "        outneighbor = node_neighbors(agent, model; neighbor_type=:out)[1]\n",
    "        agent_outneighbor = get_node_agents(outneighbor, model)[1]\n",
    "        push!(path, outneighbor)\n",
    "        #break\n",
    "    end\n",
    "    \n",
    "    return path\n",
    "end\n",
    "    \n",
    "function update!(model)\n",
    "    peripherical_agents = [agent for agent in allagents(model) if agent.candidacy == false & indegree(model.space.graph)[agent.id] == 0]\n",
    "    candidates = [agent for agent in allagents(model) if agent.candidacy == true]  \n",
    "    for candidate in candidates\n",
    "        paths = []\n",
    "        for peripherical_agent in peripherical_agents\n",
    "            if has_path(model.space.graph, peripherical_agent.pos, candidate.pos) == true\n",
    "                p = path(model, peripherical_agent, candidate)\n",
    "                penultimate_agent = get_node_agents(p[end-1], model)[1]\n",
    "                if penultimate_agent.candidacy == false\n",
    "                    append!(paths, p) \n",
    "                end\n",
    "                #else \n",
    "                #    candidate.score += 1\n",
    "                #end\n",
    "            end\n",
    "        end\n",
    "        candidate.score += length(union(paths))\n",
    "    end \n",
    "end;"
   ]
  },
  {
   "cell_type": "markdown",
   "metadata": {},
   "source": [
    "### Parameters"
   ]
  },
  {
   "cell_type": "code",
   "execution_count": 4,
   "metadata": {},
   "outputs": [],
   "source": [
    "# Set the voter population size\n",
    "Nv = 500\n",
    "\n",
    "# Set the cardinality of the set of issues\n",
    "Ni = 5\n",
    "\n",
    "# Initialize number of steps\n",
    "nsteps = 1;"
   ]
  },
  {
   "cell_type": "markdown",
   "metadata": {},
   "source": [
    "### Models Initialization"
   ]
  },
  {
   "cell_type": "code",
   "execution_count": 5,
   "metadata": {},
   "outputs": [],
   "source": [
    "function init_model_voters(Nv::Int64, Ni::Int64)\n",
    "       \n",
    "    properties = @dict(Nv, Ni)\n",
    "    \n",
    "    # Create Directed Weighted Graph\n",
    "    space = GraphSpace(SimpleWeightedDiGraph(Nv)) \n",
    "    model_voters = ABM(Voter, space; properties = properties)\n",
    "    \n",
    "    \n",
    "    for id in 1:Nv\n",
    "        pos = id\n",
    "        score = 0\n",
    "        party = 0\n",
    "        candidacy = false\n",
    "        opinion = []\n",
    "        for i in 1:Ni\n",
    "            push!(opinion, rand([-1, 0, 1]))\n",
    "        end\n",
    "        add_agent!(pos, model_voters, candidacy, opinion, score, party)\n",
    "    end\n",
    "    \n",
    "    return model_voters\n",
    "end;\n",
    "\n",
    "function init_model_representatives(model_voters::AgentBasedModel{Voter,GraphSpace{SimpleWeightedDiGraph{Int64,Float64}},typeof(fastest),Dict{Symbol,Int64}})\n",
    "    \n",
    "    Nv = model_voters.properties[:Nv]\n",
    "    Ni = model_voters.properties[:Ni]\n",
    "    \n",
    "    properties = @dict(Nv, Ni)\n",
    "    \n",
    "    # Create Directed Weighted Graph\n",
    "    space = GraphSpace(SimpleWeightedDiGraph(Nv)) \n",
    "    model_representatives = ABM(Voter, space; properties = properties)\n",
    "    \n",
    "    for agent in allagents(model_voters)\n",
    "        add_agent!(agent.pos, model_representatives, agent.candidacy, agent.opinion, agent.score, agent.party)\n",
    "    end\n",
    "    \n",
    "    for agent in allagents(model_representatives)\n",
    "        agent.id = agent.pos\n",
    "    end\n",
    "    \n",
    "    choose_representatives!(model_voters, model_representatives)\n",
    "    \n",
    "    return model_representatives\n",
    "end;"
   ]
  },
  {
   "cell_type": "markdown",
   "metadata": {},
   "source": [
    "### Simulation "
   ]
  },
  {
   "cell_type": "code",
   "execution_count": 6,
   "metadata": {},
   "outputs": [
    {
     "data": {
      "text/html": [
       "<table class=\"data-frame\"><thead><tr><th></th><th>id</th><th>pos</th><th>candidacy</th><th>opinion</th><th>score</th><th>party</th></tr><tr><th></th><th>Int64</th><th>Int64</th><th>Bool</th><th>Array…</th><th>Float64</th><th>Int64</th></tr></thead><tbody><p>500 rows × 6 columns</p><tr><th>1</th><td>288</td><td>288</td><td>0</td><td>[-1, 0, 0, 0, 1]</td><td>0.0</td><td>0</td></tr><tr><th>2</th><td>306</td><td>306</td><td>0</td><td>[1, -1, -1, 1, -1]</td><td>0.0</td><td>0</td></tr><tr><th>3</th><td>11</td><td>11</td><td>0</td><td>[-1, 1, 0, 1, 0]</td><td>0.0</td><td>0</td></tr><tr><th>4</th><td>491</td><td>491</td><td>0</td><td>[1, 1, -1, 1, -1]</td><td>0.0</td><td>0</td></tr><tr><th>5</th><td>134</td><td>134</td><td>0</td><td>[0, 0, 1, 1, 0]</td><td>0.0</td><td>0</td></tr><tr><th>6</th><td>158</td><td>158</td><td>0</td><td>[0, -1, 0, -1, 0]</td><td>0.0</td><td>0</td></tr><tr><th>7</th><td>160</td><td>160</td><td>0</td><td>[1, 0, 0, 1, 1]</td><td>0.0</td><td>0</td></tr><tr><th>8</th><td>215</td><td>215</td><td>0</td><td>[1, -1, 0, 1, 1]</td><td>0.0</td><td>0</td></tr><tr><th>9</th><td>464</td><td>464</td><td>0</td><td>[0, -1, -1, 1, 0]</td><td>0.0</td><td>0</td></tr><tr><th>10</th><td>29</td><td>29</td><td>0</td><td>[1, -1, 1, 0, 1]</td><td>0.0</td><td>0</td></tr><tr><th>11</th><td>131</td><td>131</td><td>0</td><td>[0, 1, -1, -1, 1]</td><td>0.0</td><td>0</td></tr><tr><th>12</th><td>391</td><td>391</td><td>0</td><td>[-1, -1, -1, 1, 0]</td><td>0.0</td><td>0</td></tr><tr><th>13</th><td>249</td><td>249</td><td>0</td><td>[0, 0, 0, 0, 1]</td><td>0.0</td><td>0</td></tr><tr><th>14</th><td>478</td><td>478</td><td>0</td><td>[1, 1, 1, -1, 0]</td><td>0.0</td><td>0</td></tr><tr><th>15</th><td>207</td><td>207</td><td>0</td><td>[-1, 1, 0, 1, 0]</td><td>0.0</td><td>0</td></tr><tr><th>16</th><td>300</td><td>300</td><td>0</td><td>[1, 0, -1, 1, 1]</td><td>0.0</td><td>0</td></tr><tr><th>17</th><td>384</td><td>384</td><td>0</td><td>[0, 1, 0, 1, 0]</td><td>0.0</td><td>0</td></tr><tr><th>18</th><td>173</td><td>173</td><td>0</td><td>[-1, 1, 1, -1, 0]</td><td>0.0</td><td>0</td></tr><tr><th>19</th><td>289</td><td>289</td><td>0</td><td>[1, 0, -1, 0, -1]</td><td>0.0</td><td>0</td></tr><tr><th>20</th><td>499</td><td>499</td><td>0</td><td>[1, 1, -1, 0, 1]</td><td>0.0</td><td>0</td></tr><tr><th>21</th><td>74</td><td>74</td><td>0</td><td>[1, 0, 0, -1, -1]</td><td>0.0</td><td>0</td></tr><tr><th>22</th><td>201</td><td>201</td><td>0</td><td>[-1, 0, 0, 1, 0]</td><td>0.0</td><td>0</td></tr><tr><th>23</th><td>435</td><td>435</td><td>0</td><td>[1, 0, 0, 1, -1]</td><td>0.0</td><td>0</td></tr><tr><th>24</th><td>477</td><td>477</td><td>0</td><td>[0, -1, -1, 0, 0]</td><td>0.0</td><td>0</td></tr><tr><th>25</th><td>176</td><td>176</td><td>0</td><td>[-1, 0, 1, -1, 0]</td><td>0.0</td><td>0</td></tr><tr><th>26</th><td>57</td><td>57</td><td>0</td><td>[0, -1, -1, 1, 1]</td><td>0.0</td><td>0</td></tr><tr><th>27</th><td>31</td><td>31</td><td>0</td><td>[1, 0, 1, 1, -1]</td><td>0.0</td><td>0</td></tr><tr><th>28</th><td>285</td><td>285</td><td>0</td><td>[-1, 0, -1, -1, 0]</td><td>0.0</td><td>0</td></tr><tr><th>29</th><td>490</td><td>490</td><td>0</td><td>[0, -1, -1, 1, 1]</td><td>0.0</td><td>0</td></tr><tr><th>30</th><td>70</td><td>70</td><td>0</td><td>[-1, -1, 1, 1, 1]</td><td>0.0</td><td>0</td></tr><tr><th>&vellip;</th><td>&vellip;</td><td>&vellip;</td><td>&vellip;</td><td>&vellip;</td><td>&vellip;</td><td>&vellip;</td></tr></tbody></table>"
      ],
      "text/latex": [
       "\\begin{tabular}{r|cccccc}\n",
       "\t& id & pos & candidacy & opinion & score & party\\\\\n",
       "\t\\hline\n",
       "\t& Int64 & Int64 & Bool & Array… & Float64 & Int64\\\\\n",
       "\t\\hline\n",
       "\t1 & 288 & 288 & 0 & [-1, 0, 0, 0, 1] & 0.0 & 0 \\\\\n",
       "\t2 & 306 & 306 & 0 & [1, -1, -1, 1, -1] & 0.0 & 0 \\\\\n",
       "\t3 & 11 & 11 & 0 & [-1, 1, 0, 1, 0] & 0.0 & 0 \\\\\n",
       "\t4 & 491 & 491 & 0 & [1, 1, -1, 1, -1] & 0.0 & 0 \\\\\n",
       "\t5 & 134 & 134 & 0 & [0, 0, 1, 1, 0] & 0.0 & 0 \\\\\n",
       "\t6 & 158 & 158 & 0 & [0, -1, 0, -1, 0] & 0.0 & 0 \\\\\n",
       "\t7 & 160 & 160 & 0 & [1, 0, 0, 1, 1] & 0.0 & 0 \\\\\n",
       "\t8 & 215 & 215 & 0 & [1, -1, 0, 1, 1] & 0.0 & 0 \\\\\n",
       "\t9 & 464 & 464 & 0 & [0, -1, -1, 1, 0] & 0.0 & 0 \\\\\n",
       "\t10 & 29 & 29 & 0 & [1, -1, 1, 0, 1] & 0.0 & 0 \\\\\n",
       "\t11 & 131 & 131 & 0 & [0, 1, -1, -1, 1] & 0.0 & 0 \\\\\n",
       "\t12 & 391 & 391 & 0 & [-1, -1, -1, 1, 0] & 0.0 & 0 \\\\\n",
       "\t13 & 249 & 249 & 0 & [0, 0, 0, 0, 1] & 0.0 & 0 \\\\\n",
       "\t14 & 478 & 478 & 0 & [1, 1, 1, -1, 0] & 0.0 & 0 \\\\\n",
       "\t15 & 207 & 207 & 0 & [-1, 1, 0, 1, 0] & 0.0 & 0 \\\\\n",
       "\t16 & 300 & 300 & 0 & [1, 0, -1, 1, 1] & 0.0 & 0 \\\\\n",
       "\t17 & 384 & 384 & 0 & [0, 1, 0, 1, 0] & 0.0 & 0 \\\\\n",
       "\t18 & 173 & 173 & 0 & [-1, 1, 1, -1, 0] & 0.0 & 0 \\\\\n",
       "\t19 & 289 & 289 & 0 & [1, 0, -1, 0, -1] & 0.0 & 0 \\\\\n",
       "\t20 & 499 & 499 & 0 & [1, 1, -1, 0, 1] & 0.0 & 0 \\\\\n",
       "\t21 & 74 & 74 & 0 & [1, 0, 0, -1, -1] & 0.0 & 0 \\\\\n",
       "\t22 & 201 & 201 & 0 & [-1, 0, 0, 1, 0] & 0.0 & 0 \\\\\n",
       "\t23 & 435 & 435 & 0 & [1, 0, 0, 1, -1] & 0.0 & 0 \\\\\n",
       "\t24 & 477 & 477 & 0 & [0, -1, -1, 0, 0] & 0.0 & 0 \\\\\n",
       "\t25 & 176 & 176 & 0 & [-1, 0, 1, -1, 0] & 0.0 & 0 \\\\\n",
       "\t26 & 57 & 57 & 0 & [0, -1, -1, 1, 1] & 0.0 & 0 \\\\\n",
       "\t27 & 31 & 31 & 0 & [1, 0, 1, 1, -1] & 0.0 & 0 \\\\\n",
       "\t28 & 285 & 285 & 0 & [-1, 0, -1, -1, 0] & 0.0 & 0 \\\\\n",
       "\t29 & 490 & 490 & 0 & [0, -1, -1, 1, 1] & 0.0 & 0 \\\\\n",
       "\t30 & 70 & 70 & 0 & [-1, -1, 1, 1, 1] & 0.0 & 0 \\\\\n",
       "\t$\\dots$ & $\\dots$ & $\\dots$ & $\\dots$ & $\\dots$ & $\\dots$ & $\\dots$ \\\\\n",
       "\\end{tabular}\n"
      ],
      "text/plain": [
       "500×6 DataFrame\n",
       "│ Row │ id    │ pos   │ candidacy │ opinion            │ score   │ party │\n",
       "│     │ \u001b[90mInt64\u001b[39m │ \u001b[90mInt64\u001b[39m │ \u001b[90mBool\u001b[39m      │ \u001b[90mArray{Int64,1}\u001b[39m     │ \u001b[90mFloat64\u001b[39m │ \u001b[90mInt64\u001b[39m │\n",
       "├─────┼───────┼───────┼───────────┼────────────────────┼─────────┼───────┤\n",
       "│ 1   │ 288   │ 288   │ 0         │ [-1, 0, 0, 0, 1]   │ 0.0     │ 0     │\n",
       "│ 2   │ 306   │ 306   │ 0         │ [1, -1, -1, 1, -1] │ 0.0     │ 0     │\n",
       "│ 3   │ 11    │ 11    │ 0         │ [-1, 1, 0, 1, 0]   │ 0.0     │ 0     │\n",
       "│ 4   │ 491   │ 491   │ 0         │ [1, 1, -1, 1, -1]  │ 0.0     │ 0     │\n",
       "│ 5   │ 134   │ 134   │ 0         │ [0, 0, 1, 1, 0]    │ 0.0     │ 0     │\n",
       "│ 6   │ 158   │ 158   │ 0         │ [0, -1, 0, -1, 0]  │ 0.0     │ 0     │\n",
       "│ 7   │ 160   │ 160   │ 0         │ [1, 0, 0, 1, 1]    │ 0.0     │ 0     │\n",
       "│ 8   │ 215   │ 215   │ 0         │ [1, -1, 0, 1, 1]   │ 0.0     │ 0     │\n",
       "│ 9   │ 464   │ 464   │ 0         │ [0, -1, -1, 1, 0]  │ 0.0     │ 0     │\n",
       "│ 10  │ 29    │ 29    │ 0         │ [1, -1, 1, 0, 1]   │ 0.0     │ 0     │\n",
       "⋮\n",
       "│ 490 │ 271   │ 271   │ 0         │ [0, 0, 0, 1, 1]    │ 0.0     │ 0     │\n",
       "│ 491 │ 23    │ 23    │ 0         │ [1, 0, 1, 0, 0]    │ 0.0     │ 0     │\n",
       "│ 492 │ 498   │ 498   │ 0         │ [-1, -1, 1, 1, 0]  │ 0.0     │ 0     │\n",
       "│ 493 │ 305   │ 305   │ 0         │ [1, -1, -1, 0, 0]  │ 0.0     │ 0     │\n",
       "│ 494 │ 315   │ 315   │ 0         │ [0, -1, 0, 1, -1]  │ 0.0     │ 0     │\n",
       "│ 495 │ 322   │ 322   │ 0         │ [1, 1, -1, 1, -1]  │ 0.0     │ 0     │\n",
       "│ 496 │ 349   │ 349   │ 0         │ [-1, -1, 1, 0, 1]  │ 0.0     │ 0     │\n",
       "│ 497 │ 27    │ 27    │ 0         │ [0, 1, -1, -1, 1]  │ 0.0     │ 0     │\n",
       "│ 498 │ 496   │ 496   │ 0         │ [0, -1, -1, 0, -1] │ 0.0     │ 0     │\n",
       "│ 499 │ 218   │ 218   │ 0         │ [-1, 1, 0, 0, 0]   │ 0.0     │ 0     │\n",
       "│ 500 │ 56    │ 56    │ 0         │ [1, 1, 1, 1, -1]   │ 0.0     │ 0     │"
      ]
     },
     "execution_count": 6,
     "metadata": {},
     "output_type": "execute_result"
    }
   ],
   "source": [
    "# Seed Selection\n",
    "Random.seed!(1234);\n",
    "\n",
    "# Model Instantiation \n",
    "model_voters = init_model_voters(Nv, Ni)\n",
    "\n",
    "# Data Collection\n",
    "data_voters = run!(model_voters, agent_step!, nsteps);\n",
    "\n",
    "sort!(DataFrame(allagents(model_voters)), :candidacy, rev = false)"
   ]
  },
  {
   "cell_type": "code",
   "execution_count": 7,
   "metadata": {},
   "outputs": [
    {
     "data": {
      "text/html": [
       "<table class=\"data-frame\"><thead><tr><th></th><th>id</th><th>pos</th><th>candidacy</th><th>opinion</th><th>score</th><th>party</th></tr><tr><th></th><th>Int64</th><th>Int64</th><th>Bool</th><th>Array…</th><th>Float64</th><th>Int64</th></tr></thead><tbody><p>500 rows × 6 columns</p><tr><th>1</th><td>300</td><td>300</td><td>1</td><td>[1, 0, -1, 1, 1]</td><td>138.0</td><td>1</td></tr><tr><th>2</th><td>62</td><td>62</td><td>1</td><td>[0, 0, 0, -1, 1]</td><td>98.0</td><td>2</td></tr><tr><th>3</th><td>208</td><td>208</td><td>1</td><td>[1, -1, 0, 0, 0]</td><td>73.0</td><td>1</td></tr><tr><th>4</th><td>113</td><td>113</td><td>1</td><td>[1, 0, 1, -1, 1]</td><td>60.0</td><td>1</td></tr><tr><th>5</th><td>458</td><td>458</td><td>1</td><td>[1, 1, 0, 1, -1]</td><td>56.0</td><td>3</td></tr><tr><th>6</th><td>455</td><td>455</td><td>1</td><td>[1, -1, 0, 0, 0]</td><td>19.0</td><td>1</td></tr><tr><th>7</th><td>75</td><td>75</td><td>1</td><td>[1, 1, 1, 1, -1]</td><td>19.0</td><td>3</td></tr><tr><th>8</th><td>211</td><td>211</td><td>1</td><td>[0, -1, -1, 1, 1]</td><td>12.0</td><td>4</td></tr><tr><th>9</th><td>151</td><td>151</td><td>1</td><td>[0, 1, 1, 0, 1]</td><td>11.0</td><td>2</td></tr><tr><th>10</th><td>494</td><td>494</td><td>1</td><td>[-1, -1, -1, 1, 1]</td><td>10.0</td><td>5</td></tr><tr><th>11</th><td>374</td><td>374</td><td>1</td><td>[0, 0, -1, 0, 0]</td><td>9.0</td><td>4</td></tr><tr><th>12</th><td>444</td><td>444</td><td>1</td><td>[0, 1, 0, -1, 0]</td><td>3.0</td><td>2</td></tr><tr><th>13</th><td>334</td><td>334</td><td>1</td><td>[1, -1, -1, 1, 1]</td><td>1.0</td><td>4</td></tr><tr><th>14</th><td>57</td><td>57</td><td>1</td><td>[0, -1, -1, 1, 1]</td><td>1.0</td><td>5</td></tr><tr><th>15</th><td>115</td><td>115</td><td>1</td><td>[0, 1, 0, 0, 0]</td><td>1.0</td><td>3</td></tr><tr><th>16</th><td>223</td><td>223</td><td>1</td><td>[1, 1, 1, 1, -1]</td><td>1.0</td><td>3</td></tr><tr><th>17</th><td>350</td><td>350</td><td>0</td><td>[1, 1, -1, -1, 0]</td><td>0.0</td><td>0</td></tr><tr><th>18</th><td>131</td><td>131</td><td>0</td><td>[0, 1, -1, -1, 1]</td><td>0.0</td><td>0</td></tr><tr><th>19</th><td>23</td><td>23</td><td>0</td><td>[1, 0, 1, 0, 0]</td><td>0.0</td><td>0</td></tr><tr><th>20</th><td>209</td><td>209</td><td>0</td><td>[0, 1, -1, -1, 0]</td><td>0.0</td><td>0</td></tr><tr><th>21</th><td>125</td><td>125</td><td>0</td><td>[0, 0, -1, 1, -1]</td><td>0.0</td><td>0</td></tr><tr><th>22</th><td>146</td><td>146</td><td>0</td><td>[1, -1, 1, 0, 0]</td><td>0.0</td><td>0</td></tr><tr><th>23</th><td>345</td><td>345</td><td>0</td><td>[1, 0, 0, -1, -1]</td><td>0.0</td><td>0</td></tr><tr><th>24</th><td>402</td><td>402</td><td>0</td><td>[1, 0, 0, -1, 0]</td><td>0.0</td><td>0</td></tr><tr><th>25</th><td>490</td><td>490</td><td>0</td><td>[0, -1, -1, 1, 1]</td><td>0.0</td><td>0</td></tr><tr><th>26</th><td>239</td><td>239</td><td>0</td><td>[-1, 0, 0, 0, 0]</td><td>0.0</td><td>0</td></tr><tr><th>27</th><td>266</td><td>266</td><td>0</td><td>[0, -1, -1, 0, 1]</td><td>0.0</td><td>0</td></tr><tr><th>28</th><td>405</td><td>405</td><td>0</td><td>[1, -1, 0, -1, 1]</td><td>0.0</td><td>0</td></tr><tr><th>29</th><td>415</td><td>415</td><td>0</td><td>[1, 1, 1, 1, -1]</td><td>0.0</td><td>0</td></tr><tr><th>30</th><td>352</td><td>352</td><td>0</td><td>[-1, 0, 1, 1, -1]</td><td>0.0</td><td>0</td></tr><tr><th>&vellip;</th><td>&vellip;</td><td>&vellip;</td><td>&vellip;</td><td>&vellip;</td><td>&vellip;</td><td>&vellip;</td></tr></tbody></table>"
      ],
      "text/latex": [
       "\\begin{tabular}{r|cccccc}\n",
       "\t& id & pos & candidacy & opinion & score & party\\\\\n",
       "\t\\hline\n",
       "\t& Int64 & Int64 & Bool & Array… & Float64 & Int64\\\\\n",
       "\t\\hline\n",
       "\t1 & 300 & 300 & 1 & [1, 0, -1, 1, 1] & 138.0 & 1 \\\\\n",
       "\t2 & 62 & 62 & 1 & [0, 0, 0, -1, 1] & 98.0 & 2 \\\\\n",
       "\t3 & 208 & 208 & 1 & [1, -1, 0, 0, 0] & 73.0 & 1 \\\\\n",
       "\t4 & 113 & 113 & 1 & [1, 0, 1, -1, 1] & 60.0 & 1 \\\\\n",
       "\t5 & 458 & 458 & 1 & [1, 1, 0, 1, -1] & 56.0 & 3 \\\\\n",
       "\t6 & 455 & 455 & 1 & [1, -1, 0, 0, 0] & 19.0 & 1 \\\\\n",
       "\t7 & 75 & 75 & 1 & [1, 1, 1, 1, -1] & 19.0 & 3 \\\\\n",
       "\t8 & 211 & 211 & 1 & [0, -1, -1, 1, 1] & 12.0 & 4 \\\\\n",
       "\t9 & 151 & 151 & 1 & [0, 1, 1, 0, 1] & 11.0 & 2 \\\\\n",
       "\t10 & 494 & 494 & 1 & [-1, -1, -1, 1, 1] & 10.0 & 5 \\\\\n",
       "\t11 & 374 & 374 & 1 & [0, 0, -1, 0, 0] & 9.0 & 4 \\\\\n",
       "\t12 & 444 & 444 & 1 & [0, 1, 0, -1, 0] & 3.0 & 2 \\\\\n",
       "\t13 & 334 & 334 & 1 & [1, -1, -1, 1, 1] & 1.0 & 4 \\\\\n",
       "\t14 & 57 & 57 & 1 & [0, -1, -1, 1, 1] & 1.0 & 5 \\\\\n",
       "\t15 & 115 & 115 & 1 & [0, 1, 0, 0, 0] & 1.0 & 3 \\\\\n",
       "\t16 & 223 & 223 & 1 & [1, 1, 1, 1, -1] & 1.0 & 3 \\\\\n",
       "\t17 & 350 & 350 & 0 & [1, 1, -1, -1, 0] & 0.0 & 0 \\\\\n",
       "\t18 & 131 & 131 & 0 & [0, 1, -1, -1, 1] & 0.0 & 0 \\\\\n",
       "\t19 & 23 & 23 & 0 & [1, 0, 1, 0, 0] & 0.0 & 0 \\\\\n",
       "\t20 & 209 & 209 & 0 & [0, 1, -1, -1, 0] & 0.0 & 0 \\\\\n",
       "\t21 & 125 & 125 & 0 & [0, 0, -1, 1, -1] & 0.0 & 0 \\\\\n",
       "\t22 & 146 & 146 & 0 & [1, -1, 1, 0, 0] & 0.0 & 0 \\\\\n",
       "\t23 & 345 & 345 & 0 & [1, 0, 0, -1, -1] & 0.0 & 0 \\\\\n",
       "\t24 & 402 & 402 & 0 & [1, 0, 0, -1, 0] & 0.0 & 0 \\\\\n",
       "\t25 & 490 & 490 & 0 & [0, -1, -1, 1, 1] & 0.0 & 0 \\\\\n",
       "\t26 & 239 & 239 & 0 & [-1, 0, 0, 0, 0] & 0.0 & 0 \\\\\n",
       "\t27 & 266 & 266 & 0 & [0, -1, -1, 0, 1] & 0.0 & 0 \\\\\n",
       "\t28 & 405 & 405 & 0 & [1, -1, 0, -1, 1] & 0.0 & 0 \\\\\n",
       "\t29 & 415 & 415 & 0 & [1, 1, 1, 1, -1] & 0.0 & 0 \\\\\n",
       "\t30 & 352 & 352 & 0 & [-1, 0, 1, 1, -1] & 0.0 & 0 \\\\\n",
       "\t$\\dots$ & $\\dots$ & $\\dots$ & $\\dots$ & $\\dots$ & $\\dots$ & $\\dots$ \\\\\n",
       "\\end{tabular}\n"
      ],
      "text/plain": [
       "500×6 DataFrame\n",
       "│ Row │ id    │ pos   │ candidacy │ opinion            │ score   │ party │\n",
       "│     │ \u001b[90mInt64\u001b[39m │ \u001b[90mInt64\u001b[39m │ \u001b[90mBool\u001b[39m      │ \u001b[90mArray{Int64,1}\u001b[39m     │ \u001b[90mFloat64\u001b[39m │ \u001b[90mInt64\u001b[39m │\n",
       "├─────┼───────┼───────┼───────────┼────────────────────┼─────────┼───────┤\n",
       "│ 1   │ 300   │ 300   │ 1         │ [1, 0, -1, 1, 1]   │ 138.0   │ 1     │\n",
       "│ 2   │ 62    │ 62    │ 1         │ [0, 0, 0, -1, 1]   │ 98.0    │ 2     │\n",
       "│ 3   │ 208   │ 208   │ 1         │ [1, -1, 0, 0, 0]   │ 73.0    │ 1     │\n",
       "│ 4   │ 113   │ 113   │ 1         │ [1, 0, 1, -1, 1]   │ 60.0    │ 1     │\n",
       "│ 5   │ 458   │ 458   │ 1         │ [1, 1, 0, 1, -1]   │ 56.0    │ 3     │\n",
       "│ 6   │ 455   │ 455   │ 1         │ [1, -1, 0, 0, 0]   │ 19.0    │ 1     │\n",
       "│ 7   │ 75    │ 75    │ 1         │ [1, 1, 1, 1, -1]   │ 19.0    │ 3     │\n",
       "│ 8   │ 211   │ 211   │ 1         │ [0, -1, -1, 1, 1]  │ 12.0    │ 4     │\n",
       "│ 9   │ 151   │ 151   │ 1         │ [0, 1, 1, 0, 1]    │ 11.0    │ 2     │\n",
       "│ 10  │ 494   │ 494   │ 1         │ [-1, -1, -1, 1, 1] │ 10.0    │ 5     │\n",
       "⋮\n",
       "│ 490 │ 463   │ 463   │ 0         │ [0, 0, 1, -1, 0]   │ 0.0     │ 0     │\n",
       "│ 491 │ 435   │ 435   │ 0         │ [1, 0, 0, 1, -1]   │ 0.0     │ 0     │\n",
       "│ 492 │ 496   │ 496   │ 0         │ [0, -1, -1, 0, -1] │ 0.0     │ 0     │\n",
       "│ 493 │ 359   │ 359   │ 0         │ [0, 0, 0, 1, 0]    │ 0.0     │ 0     │\n",
       "│ 494 │ 467   │ 467   │ 0         │ [0, 0, -1, 0, -1]  │ 0.0     │ 0     │\n",
       "│ 495 │ 272   │ 272   │ 0         │ [1, 0, -1, 1, 0]   │ 0.0     │ 0     │\n",
       "│ 496 │ 92    │ 92    │ 0         │ [1, 0, 1, 0, 0]    │ 0.0     │ 0     │\n",
       "│ 497 │ 31    │ 31    │ 0         │ [1, 0, 1, 1, -1]   │ 0.0     │ 0     │\n",
       "│ 498 │ 349   │ 349   │ 0         │ [-1, -1, 1, 0, 1]  │ 0.0     │ 0     │\n",
       "│ 499 │ 118   │ 118   │ 0         │ [1, 1, 0, 1, 0]    │ 0.0     │ 0     │\n",
       "│ 500 │ 311   │ 311   │ 0         │ [0, 1, 1, 1, 0]    │ 0.0     │ 0     │"
      ]
     },
     "execution_count": 7,
     "metadata": {},
     "output_type": "execute_result"
    }
   ],
   "source": [
    "# Seed Selection\n",
    "Random.seed!(1244);\n",
    "\n",
    "# Model Instantiation \n",
    "model_representatives = init_model_representatives(model_voters)\n",
    "\n",
    "update!(model_representatives)\n",
    "\n",
    "# Data Collection \n",
    "sort!(DataFrame(allagents(model_representatives)), :score, rev = true)"
   ]
  },
  {
   "cell_type": "code",
   "execution_count": 8,
   "metadata": {},
   "outputs": [
    {
     "data": {
      "text/plain": [
       "5-element Array{Array{Int64,1},1}:\n",
       " [208, 113, 455, 300]\n",
       " [62, 444, 151]\n",
       " [458, 223, 115, 75]\n",
       " [211, 374, 334]\n",
       " [494, 57]"
      ]
     },
     "execution_count": 8,
     "metadata": {},
     "output_type": "execute_result"
    }
   ],
   "source": [
    "simplecycles(model_representatives.space.graph)"
   ]
  },
  {
   "cell_type": "markdown",
   "metadata": {},
   "source": [
    "### Visualization \n",
    "\n",
    "```python \n",
    "nw.visualize(G)\n",
    "```\n",
    "\n",
    "![](opinion-based-election2.png)\n",
    "![](opinion-based.png)"
   ]
  },
  {
   "cell_type": "code",
   "execution_count": 9,
   "metadata": {},
   "outputs": [],
   "source": [
    "G = ElectoralPhysics.LightGraphs_to_NetworkX(model_representatives.space.graph);\n",
    "nx.write_graphml(G, \"Hernandez2018.graphml\")"
   ]
  },
  {
   "cell_type": "code",
   "execution_count": 10,
   "metadata": {},
   "outputs": [
    {
     "data": {
      "text/plain": [
       "(nothing, nothing)"
      ]
     },
     "execution_count": 10,
     "metadata": {},
     "output_type": "execute_result"
    }
   ],
   "source": [
    "nw.visualize(G)"
   ]
  },
  {
   "cell_type": "code",
   "execution_count": 11,
   "metadata": {},
   "outputs": [
    {
     "data": {
      "text/plain": [
       "{500, 500} directed simple Int64 graph with Float64 weights"
      ]
     },
     "execution_count": 11,
     "metadata": {},
     "output_type": "execute_result"
    }
   ],
   "source": [
    "model_representatives.space.graph"
   ]
  }
 ],
 "metadata": {
  "kernelspec": {
   "display_name": "Julia 1.4.2",
   "language": "julia",
   "name": "julia-1.4"
  },
  "language_info": {
   "file_extension": ".jl",
   "mimetype": "application/julia",
   "name": "julia",
   "version": "1.4.2"
  }
 },
 "nbformat": 4,
 "nbformat_minor": 4
}
