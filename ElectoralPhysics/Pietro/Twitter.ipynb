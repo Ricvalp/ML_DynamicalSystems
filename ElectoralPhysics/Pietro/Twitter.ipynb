{
 "cells": [
  {
   "cell_type": "markdown",
   "metadata": {},
   "source": [
    "# Electoral Model on Inverse @PietroMonticone2 \n",
    "\n",
    "## Abstract\n",
    "\n",
    "1. Import Twitter graph data \n",
    "2. Reverse edge directionality\n",
    "3. Populate each node with agents with the following attributes \n",
    "    * ID $\\in \\mathbb{N}$\n",
    "    * position  $\\in \\mathbb{N}$\n",
    "    * candidacy $\\in \\mathbb{B}$\n",
    "    * candidate score $\\in \\mathbb{R}$\n",
    "    * representative score $\\in \\mathbb{R}$\n",
    "    * community $\\in C \\subset \\mathbb{N}$\n",
    "4. Representation Maps / Voting Rules\n",
    "    * Voter trust flow: each voter weights its out-edges and updates the candidate score of candidates.\n",
    "    * Candidate trust flow: each candidate weights its out-edges and updates the representative score of candidates.\n",
    "\n",
    "## Packages"
   ]
  },
  {
   "cell_type": "code",
   "execution_count": 5,
   "metadata": {},
   "outputs": [
    {
     "name": "stderr",
     "output_type": "stream",
     "text": [
      "WARNING: replacing module ElectoralPhysics.\n",
      "\u001b[32m\u001b[1m   Building\u001b[22m\u001b[39m Conda ─→ `~/.julia/packages/Conda/3rPhK/deps/build.log`\n",
      "\u001b[32m\u001b[1m   Building\u001b[22m\u001b[39m PyCall → `~/.julia/packages/PyCall/zqDXB/deps/build.log`\n"
     ]
    }
   ],
   "source": [
    "# Data Management \n",
    "using DataFrames, DataFramesMeta\n",
    "using DrWatson\n",
    "\n",
    "# Statistics\n",
    "using Random\n",
    "using Distributions\n",
    "using StatsBase\n",
    "\n",
    "# Graphs \n",
    "using LightGraphs, SimpleWeightedGraphs, SimpleHypergraphs, GraphIO\n",
    "using GraphPlot\n",
    "\n",
    "# Modelling\n",
    "using Agents\n",
    "include(\"./Modules/ElectoralPhysics.jl\")\n",
    "\n",
    "# Data Visualization\n",
    "using Plots\n",
    "using AgentsPlots\n",
    "using PlotThemes\n",
    "\n",
    "# Python\n",
    "##using Pkg\n",
    "##ENV[\"PYTHON\"] = \"path/to/python\"\n",
    "##Pkg.build(\"PyCall\")\n",
    "using PyCall\n",
    "using PyPlot\n",
    "nx = pyimport(\"networkx\")\n",
    "np = pyimport(\"numpy\")\n",
    "nw = pyimport(\"netwulf\");"
   ]
  },
  {
   "cell_type": "markdown",
   "metadata": {},
   "source": [
    "## Graph Data Collection"
   ]
  },
  {
   "cell_type": "code",
   "execution_count": 10,
   "metadata": {},
   "outputs": [
    {
     "data": {
      "text/plain": [
       "{472504, 1075454} directed simple Int64 graph with Float64 weights"
      ]
     },
     "execution_count": 10,
     "metadata": {},
     "output_type": "execute_result"
    }
   ],
   "source": [
    "𝒫 = nx.read_graphml(\"@PietroMonticone2.graphml\")\n",
    "𝒫 = ElectoralPhysics.NetworkX_to_LightGraphs(𝒫)"
   ]
  },
  {
   "cell_type": "markdown",
   "metadata": {},
   "source": [
    "## Agent Type "
   ]
  },
  {
   "cell_type": "code",
   "execution_count": 11,
   "metadata": {},
   "outputs": [],
   "source": [
    "# Voter Definition\n",
    "mutable struct Voter <: AbstractAgent\n",
    "    id::Int64             # ∈ ℕ\n",
    "    pos::Int64            # ∈ ℕ\n",
    "    candidacy::Bool       # ∈ 𝔹\n",
    "    score::Float64        # ∈ 𝔹\n",
    "    final_score::Float64  # \\in \\bbR\n",
    "    community::Int64      # ∈ {1,2,3, ..., n}\n",
    "end"
   ]
  },
  {
   "cell_type": "markdown",
   "metadata": {},
   "source": [
    "## Parameters"
   ]
  },
  {
   "cell_type": "code",
   "execution_count": 14,
   "metadata": {},
   "outputs": [
    {
     "ename": "InterruptException",
     "evalue": "InterruptException:",
     "output_type": "error",
     "traceback": [
      "InterruptException:",
      "",
      "Stacktrace:",
      " [1] SparseVector at /Users/julia/buildbot/worker/package_macos64/build/usr/share/julia/stdlib/v1.4/SparseArrays/src/sparsevector.jl:26 [inlined]",
      " [2] SparseVector at /Users/julia/buildbot/worker/package_macos64/build/usr/share/julia/stdlib/v1.4/SparseArrays/src/sparsevector.jl:30 [inlined]",
      " [3] getindex(::SparseArrays.SparseMatrixCSC{Float64,Int64}, ::Int64, ::UnitRange{Int64}) at /Users/julia/buildbot/worker/package_macos64/build/usr/share/julia/stdlib/v1.4/SparseArrays/src/sparsevector.jl:578",
      " [4] getindex at /Users/julia/buildbot/worker/package_macos64/build/usr/share/julia/stdlib/v1.4/SparseArrays/src/sparsevector.jl:550 [inlined]",
      " [5] inneighbors at /Users/pietromonticone/.julia/packages/SimpleWeightedGraphs/IDzOp/src/simpleweighteddigraph.jl:81 [inlined]",
      " [6] indegree at /Users/pietromonticone/.julia/packages/LightGraphs/siFgP/src/core.jl:70 [inlined]",
      " [7] #6 at ./none:0 [inlined]",
      " [8] iterate at ./generator.jl:47 [inlined]",
      " [9] collect_to! at ./array.jl:710 [inlined]",
      " [10] collect_to_with_first!(::Array{Int64,1}, ::Int64, ::Base.Generator{UnitRange{Int64},LightGraphs.var\"#6#7\"{SimpleWeightedDiGraph{Int64,Float64}}}, ::Int64) at ./array.jl:689",
      " [11] collect(::Base.Generator{UnitRange{Int64},LightGraphs.var\"#6#7\"{SimpleWeightedDiGraph{Int64,Float64}}}) at ./array.jl:670",
      " [12] indegree at /Users/pietromonticone/.julia/packages/LightGraphs/siFgP/src/core.jl:71 [inlined] (repeats 2 times)",
      " [13] top-level scope at In[14]:1"
     ]
    }
   ],
   "source": [
    "indegrees = indegree(𝒫);\n",
    "M = length([elem for elem in indegrees if elem != 0]);"
   ]
  },
  {
   "cell_type": "markdown",
   "metadata": {},
   "source": [
    "## Model\n",
    "\n",
    "### Voter  "
   ]
  },
  {
   "cell_type": "code",
   "execution_count": 15,
   "metadata": {},
   "outputs": [
    {
     "ename": "LoadError",
     "evalue": "syntax: missing condition in \"if\" at none:16",
     "output_type": "error",
     "traceback": [
      "syntax: missing condition in \"if\" at none:16",
      ""
     ]
    }
   ],
   "source": [
    "# Model Initialization\n",
    "function init_model_voters(𝒫::SimpleWeightedDiGraph{Int64,Float64})\n",
    "       \n",
    "    #properties = @dict(N, M, K)\n",
    "    \n",
    "    # Create Directed Weighted Graph\n",
    "    space = GraphSpace(𝒫) \n",
    "    model_voters = ABM(Voter, space) #; properties = properties)\n",
    "    \n",
    "    N = nv(𝒫)\n",
    "    \n",
    "    for id in 1:N\n",
    "        pos = id\n",
    "        score = 1.0\n",
    "        final_score = 0\n",
    "        if \n",
    "            candidacy = true\n",
    "            add_agent!(pos, model_voters, candidacy, score, final_score)\n",
    "        else\n",
    "            candidacy = false\n",
    "            add_agent!(pos, model_voters, candidacy, score, final_score)\n",
    "        end\n",
    "    end\n",
    "    return model_voters\n",
    "end;"
   ]
  },
  {
   "cell_type": "markdown",
   "metadata": {},
   "source": [
    "### Candidate"
   ]
  },
  {
   "cell_type": "code",
   "execution_count": 16,
   "metadata": {},
   "outputs": [],
   "source": [
    "# Model Initialization \n",
    "function init_model_candidates(model_voters::AgentBasedModel{Voter,GraphSpace{SimpleWeightedDiGraph{Int64,Float64}},typeof(fastest),Nothing}, M::Int64)\n",
    "    \n",
    "    properties = @dict(M)\n",
    "    \n",
    "    candidates = []\n",
    "    i=0\n",
    "    for row in eachrow(sort!(DataFrame(allagents(model_voters_twitter)), :score, rev = true))\n",
    "        if i == M\n",
    "            break\n",
    "        end\n",
    "        append!(candidates, row[1])\n",
    "        i+=1\n",
    "    end\n",
    "    \n",
    "    # Induce Subgraph\n",
    "    graph, vertex_map = induced_subgraph(model_voters.space.graph, [candidate for candidate in candidates])\n",
    "    space = GraphSpace(graph)\n",
    "    model_candidates = ABM(Voter, space; properties = properties)\n",
    "    \n",
    "    for candidate in allagents(model_voters)\n",
    "        if candidate.candidacy == true\n",
    "            add_agent!(candidate.pos, model_candidates, candidate.candidacy, candidate.score, candidate.final_score, candidate.community)\n",
    "        end\n",
    "    end\n",
    "    \n",
    "    for agent in allagents(model_candidates)\n",
    "    agent.id = agent.pos\n",
    "    end\n",
    "    \n",
    "    return model_candidates\n",
    "end;"
   ]
  },
  {
   "cell_type": "markdown",
   "metadata": {},
   "source": [
    "## Functions "
   ]
  },
  {
   "cell_type": "code",
   "execution_count": 17,
   "metadata": {},
   "outputs": [],
   "source": [
    "function vote!(agent, model)\n",
    "    outneighbors = node_neighbors(agent, model; neighbor_type=:in)\n",
    "    nvotes = length(outneighbors)\n",
    "    for outneighbor in outneighbors\n",
    "        agent_outneighbor = get_node_agents(outneighbor, model)[1]\n",
    "        add_edge!(model.space.graph, agent.pos, agent_outneighbor.pos, 1/nvotes)\n",
    "    end\n",
    "end\n",
    "\n",
    "function update_score_flow!(model)\n",
    "    for agent in allagents(model)\n",
    "        if agent.candidacy == true\n",
    "            for inneighbor in node_neighbors(agent, model; neighbor_type=:in)\n",
    "                agent_inneighbor = get_node_agents(inneighbor, model)[1]\n",
    "                if agent_inneighbor.candidacy == false\n",
    "                    agent.score = agent.score + agent_inneighbor.score * LightGraphs.weights(model.space.graph)[agent_inneighbor.pos, agent.pos]\n",
    "                end\n",
    "            end\n",
    "        end\n",
    "    end\n",
    "end\n",
    "\n",
    "function update_score_candidates!(model)\n",
    "    for agent in allagents(model)\n",
    "        for inneighbor in node_neighbors(agent, model; neighbor_type=:in)\n",
    "            agent_inneighbor = get_node_agents(inneighbor, model)[1]\n",
    "            agent.final_score = agent.score + agent_inneighbor.score * LightGraphs.weights(model.space.graph)[agent_inneighbor.pos, agent.pos]\n",
    "        end\n",
    "    end\n",
    "end\n",
    "\n",
    "function agent_step!(agent, model)\n",
    "   vote!(agent, model) \n",
    "end;"
   ]
  },
  {
   "cell_type": "markdown",
   "metadata": {},
   "source": [
    "## Simulation \n",
    "### Voters"
   ]
  },
  {
   "cell_type": "code",
   "execution_count": null,
   "metadata": {},
   "outputs": [],
   "source": [
    "# Seed Selection\n",
    "Random.seed!(1234);\n",
    "\n",
    "# Model Instantiation \n",
    "model_voters = init_model_voters(𝒫, indegrees)\n",
    "\n",
    "data_voters = run!(model_voters, agent_step!, 1);\n",
    "\n",
    "update_score_flow!(model_voters)\n",
    "\n",
    "sort!(DataFrame(allagents(model_voters)), :score, rev = true)"
   ]
  },
  {
   "cell_type": "markdown",
   "metadata": {},
   "source": [
    "### Candidates"
   ]
  },
  {
   "cell_type": "code",
   "execution_count": null,
   "metadata": {},
   "outputs": [],
   "source": [
    "# Model Instantiation \n",
    "model_candidates = init_model_candidates(model_voters, M)\n",
    "\n",
    "# Data Collection\n",
    "#data_candidates = run!(model_candidates, agent_step!, nsteps);\n",
    "\n",
    "update_score_candidates!(model_candidates)\n",
    "\n",
    "sort!(DataFrame(allagents(model_candidates)), :final_score, rev = true)"
   ]
  },
  {
   "cell_type": "markdown",
   "metadata": {},
   "source": [
    "## Export Election Graph\n",
    "### Voters"
   ]
  },
  {
   "cell_type": "code",
   "execution_count": null,
   "metadata": {},
   "outputs": [],
   "source": [
    "G = ElectoralPhysics.LightGraphs_to_NetworkX(model_voters.space.graph);\n",
    "G = nx.convert_node_labels_to_integers(G, first_label=1);\n",
    "nx.write_graphml(G, \"twitter_election_voters.graphml\")"
   ]
  },
  {
   "cell_type": "markdown",
   "metadata": {},
   "source": [
    "### Candidates"
   ]
  },
  {
   "cell_type": "code",
   "execution_count": null,
   "metadata": {},
   "outputs": [],
   "source": [
    "G = ElectoralPhysics.LightGraphs_to_NetworkX(model_candidates.space.graph);\n",
    "G = nx.convert_node_labels_to_integers(G, first_label=1);\n",
    "nx.write_graphml(G, \"twitter_election_candidates.graphml\")"
   ]
  },
  {
   "cell_type": "markdown",
   "metadata": {},
   "source": [
    "#### Electoral Graph Visualization \n",
    "\n",
    "```python \n",
    "nw.visualize(G)\n",
    "```\n",
    "\n",
    "![](../twitter_elections_candidates.png)"
   ]
  }
 ],
 "metadata": {
  "kernelspec": {
   "display_name": "Julia 1.4.0",
   "language": "julia",
   "name": "julia-1.4"
  },
  "language_info": {
   "file_extension": ".jl",
   "mimetype": "application/julia",
   "name": "julia",
   "version": "1.4.0"
  }
 },
 "nbformat": 4,
 "nbformat_minor": 4
}
