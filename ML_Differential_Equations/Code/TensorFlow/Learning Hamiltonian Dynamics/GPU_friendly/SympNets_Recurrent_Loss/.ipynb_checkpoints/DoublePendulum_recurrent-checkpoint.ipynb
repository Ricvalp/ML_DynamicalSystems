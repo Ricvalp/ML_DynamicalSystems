{
 "cells": [
  {
   "cell_type": "code",
   "execution_count": 1,
   "metadata": {},
   "outputs": [
    {
     "name": "stdout",
     "output_type": "stream",
     "text": [
      "Initializing Julia interpreter. This may take some time...\n"
     ]
    }
   ],
   "source": [
    "import tensorflow as tf\n",
    "import matplotlib.pyplot as plt\n",
    "import numpy as np\n",
    "import math as mt\n",
    "from tensorflow import keras\n",
    "from tensorflow.keras import layers\n",
    "import time\n",
    "import wandb\n",
    "import julia\n",
    "from julia import DynamicalSystems\n",
    "from julia import Base\n",
    "from julia import Main\n",
    "\n",
    "%load_ext julia.magic\n",
    "\n",
    "physical_devices = tf.config.list_physical_devices(\"GPU\")\n",
    "tf.config.experimental.set_memory_growth(physical_devices[0], True)"
   ]
  },
  {
   "cell_type": "markdown",
   "metadata": {},
   "source": [
    "## given $\\textbf{p}, \\textbf{q} \\in \\mathbb{R}^{d}$ \n",
    "\n",
    "### $$\\begin{equation}\n",
    "\\begin{aligned}\n",
    "    \\text{linear_module_up } : \\mathcal{L}^{up}\\begin{pmatrix}\n",
    "    \\textbf{p} \\\\\n",
    "    \\textbf{q}\n",
    "    \\end{pmatrix} &= \\begin{pmatrix}\n",
    "    I & S\\\\\n",
    "    0 & I\n",
    "    \\end{pmatrix} \\begin{pmatrix}\n",
    "    \\textbf{p} \\\\\n",
    "    \\textbf{q}\n",
    "    \\end{pmatrix} \\\\\n",
    "    \\text{linear_module_low } : \\mathcal{L}^{low}\\begin{pmatrix}\n",
    "    \\textbf{p} \\\\\n",
    "    \\textbf{q}\n",
    "    \\end{pmatrix} &= \\begin{pmatrix}\n",
    "    I & 0\\\\\n",
    "    S & I\n",
    "    \\end{pmatrix} \\begin{pmatrix}\n",
    "    \\textbf{p} \\\\\n",
    "    \\textbf{q}\n",
    "    \\end{pmatrix},\n",
    "\\end{aligned}\n",
    "\\end{equation}\n",
    "$$\n",
    "\n",
    "## where $S \\in \\mathbb{R}^{d \\times d}$ is symmetric.\n",
    "\n",
    "### $$\\begin{equation}\n",
    "\\begin{aligned}\n",
    "    \\text{activation_module_up } : \\mathcal{N}^{up}\\begin{pmatrix}\n",
    "    \\textbf{p} \\\\\n",
    "    \\textbf{q}\n",
    "    \\end{pmatrix} &= \\begin{bmatrix}\n",
    "    I & \\sigma_{\\textbf{a}}\\\\\n",
    "    0 & I\n",
    "    \\end{bmatrix} \\begin{pmatrix}\n",
    "    \\textbf{p} \\\\\n",
    "    \\textbf{q}\n",
    "    \\end{pmatrix} := \\begin{pmatrix}\n",
    "    diag(\\textbf{a})\\sigma(\\textbf{q}) + \\textbf{p}\\\\\n",
    "    \\textbf{q}\n",
    "    \\end{pmatrix}\\\\\n",
    "    \\text{activation_module_low } : \\mathcal{N}^{low}\\begin{pmatrix}\n",
    "    \\textbf{p}\\\\\n",
    "    \\textbf{q}\n",
    "    \\end{pmatrix} &= \\begin{bmatrix}\n",
    "    I & 0 \\\\\n",
    "    \\sigma_{\\textbf{a}} & I\n",
    "    \\end{bmatrix} \\begin{pmatrix}\n",
    "    \\textbf{p} \\\\\n",
    "    \\textbf{q}\n",
    "    \\end{pmatrix} := \\begin{pmatrix}\n",
    "    \\textbf{p} \\\\\n",
    "    diag(\\textbf{a})\\sigma(\\textbf{p}) + \\textbf{q}\n",
    "    \\end{pmatrix},\n",
    "\\end{aligned}\n",
    "\\end{equation}\n",
    "$$\n",
    "\n",
    "## where $\\sigma$ acts element-wise. The parameters are $S$ and $\\textbf{a}$."
   ]
  },
  {
   "cell_type": "code",
   "execution_count": 2,
   "metadata": {},
   "outputs": [],
   "source": [
    "class linear_module_up(layers.Layer):\n",
    "    \n",
    "    def __init__(self, bias):\n",
    "        \n",
    "        super().__init__()\n",
    "        self.w = self.add_weight(\n",
    "        name='w',\n",
    "        shape=(2,2),\n",
    "        initializer = 'random_normal',\n",
    "        trainable = True\n",
    "        )\n",
    "    \n",
    "        if bias==1:\n",
    "            self.b = self.add_weight(\n",
    "            name='b',\n",
    "            shape=(4,),\n",
    "            initializer = 'random_normal',\n",
    "            trainable = True\n",
    "            )\n",
    "            \n",
    "        else:\n",
    "            self.b = tf.constant([0., 0., 0., 0.])\n",
    "\n",
    "    def call(self, x):\n",
    "        \n",
    "        L11 = tf.concat([[[1.,0.],[1.,1.]]], 0)\n",
    "        L12 = self.w + tf.transpose(self.w)\n",
    "        L21 = tf.concat([[[0.,0.],[0.,0.]]],0)\n",
    "        L22 = tf.concat([[[1.,0.],[0.,1.]]],0)\n",
    "\n",
    "        L = tf.concat([tf.concat([L11,L12], 1), tf.concat([L21,L22], 1)], 0)\n",
    "        \n",
    "        return tf.linalg.matvec(L,x) + self.b\n",
    "\n",
    "class linear_module_low(layers.Layer):\n",
    "    \n",
    "    def __init__(self, bias):\n",
    "        \n",
    "        super().__init__()\n",
    "        self.w = self.add_weight(\n",
    "        name='w',\n",
    "        shape=(2,2),\n",
    "        initializer = 'random_normal',\n",
    "        trainable = True\n",
    "        )\n",
    "\n",
    "        if bias==1:\n",
    "            self.b = self.add_weight(\n",
    "            name='b',\n",
    "            shape=(4,),\n",
    "            initializer = 'random_normal',\n",
    "            trainable = True\n",
    "            )\n",
    "            \n",
    "        else:\n",
    "            self.b = tf.constant([0., 0., 0., 0.])\n",
    "\n",
    "    def call(self, x):\n",
    "        \n",
    "        L11 = tf.concat([[[1.,0.],[1.,1.]]], 0)\n",
    "        L12 = tf.concat([[[0.,0.],[0.,0.]]],0) \n",
    "        L21 = self.w + tf.transpose(self.w)\n",
    "        L22 = tf.concat([[[1.,0.],[0.,1.]]],0)\n",
    "\n",
    "        L = tf.concat([tf.concat([L11,L12], 1), tf.concat([L21,L22], 1)], 0)\n",
    "        \n",
    "        return tf.linalg.matvec(L,x) + self.b\n",
    "\n",
    "\n",
    "class activation_module_up(layers.Layer):\n",
    "    \n",
    "    def __init__(self):\n",
    "        \n",
    "        super().__init__()\n",
    "        self.w = self.add_weight(\n",
    "        name='w',\n",
    "        shape=(2,),\n",
    "        initializer = 'random_normal',\n",
    "        trainable = True\n",
    "        )\n",
    "\n",
    "\n",
    "    def call(self, x):        \n",
    "        t = tf.concat([[[0.,0.,self.w[0], 0.]], [[0.,0.,0., self.w[1]]], [[0.,0.,0.,0.]], [[0.,0.,0.,0.]]], 0)\n",
    "        \n",
    "        return x + tf.linalg.matvec(t, tf.math.sigmoid(x))\n",
    "\n",
    "class activation_module_low(layers.Layer):\n",
    "    \n",
    "    def __init__(self):\n",
    "        \n",
    "        super().__init__()\n",
    "        self.w = self.add_weight(\n",
    "        name='w',\n",
    "        shape=(2,),\n",
    "        initializer = 'random_normal',\n",
    "        trainable = True\n",
    "        )\n",
    "\n",
    "\n",
    "    def call(self, x):\n",
    "        t = tf.concat([[[0.,0.,0.,0.]], [[0.,0.,0.,0.]], [[self.w[0],0.,0.,0.]], [[0.,self.w[1],0.,0.]]],0)\n",
    "        \n",
    "        return x + tf.linalg.matvec(t, tf.math.sigmoid(x))"
   ]
  },
  {
   "cell_type": "markdown",
   "metadata": {},
   "source": [
    "## $$\\text{SympNet : } \\phi = L_{1} L_{2} \\dots L_{5} \\text{  } A_{1} \\text{  } L_{6} \\dots L_{10} \\text{  } A_{2} \\dots $$\n",
    "\n",
    "### A bias $\\textbf{b} \\in \\mathbb{R}^{2d}$ is added at the end of every sequence of linear modules as:\n",
    "\n",
    "## $$\\begin{equation}\n",
    "    \\begin{pmatrix}\n",
    "    I & 0/S_{n}\\\\\n",
    "    S_{n}/0 & I\n",
    "    \\end{pmatrix} \\dots \\begin{pmatrix}\n",
    "    I & 0 \\\\\n",
    "    S_{2} & I\n",
    "    \\end{pmatrix} \\begin{pmatrix}\n",
    "    I & S_{1} \\\\\n",
    "    0 & I\n",
    "    \\end{pmatrix} \\begin{pmatrix}\n",
    "    \\textbf{q} \\\\\n",
    "    \\textbf{p}\n",
    "    \\end{pmatrix} + \\textbf{b},\n",
    "\\end{equation}\n",
    "$$"
   ]
  },
  {
   "cell_type": "code",
   "execution_count": 107,
   "metadata": {},
   "outputs": [],
   "source": [
    "class SympNet(keras.Model):\n",
    "    \n",
    "    def __init__(self, N_layers, N_sub):\n",
    "        \n",
    "        super().__init__()\n",
    "        \n",
    "        \n",
    "        self.Modules = []\n",
    "        ind = [0]\n",
    "        \n",
    "        for i in range(N_layers):\n",
    "            \n",
    "            if i%2==0:\n",
    "                self.Modules.append(activation_module_up())\n",
    "                ind.append(ind[-1]+2)\n",
    "                \n",
    "            else:\n",
    "                self.Modules.append(activation_module_low())\n",
    "                ind.append(ind[-1]+2)\n",
    "                \n",
    "            for j in range(N_sub):\n",
    "                \n",
    "                if j==(N_sub-1):\n",
    "                    bias = 1\n",
    "                else:\n",
    "                    bias = 0\n",
    "                \n",
    "                if j%2==0:\n",
    "                    self.Modules.append(linear_module_up(bias))\n",
    "                    ind.append(ind[-1]+3)\n",
    "\n",
    "                else:\n",
    "                    self.Modules.append(linear_module_low(bias))\n",
    "                    ind.append(ind[-1]+3)\n",
    "        \n",
    "        \n",
    "\n",
    "    def run(self, input_tensor):\n",
    "        \n",
    "        boom = self.Modules[0](input_tensor)\n",
    "        \n",
    "        for i in range(1,len(self.Modules)):\n",
    "            boom = self.Modules[i](boom)\n",
    "    \n",
    "        return boom\n",
    "    \n",
    "    def call(self, starting_point):\n",
    "        \n",
    "        N = 6\n",
    "        X = [self.run(starting_point)]\n",
    "        for i in range(N-1):\n",
    "            X.append(self.run(X[-1]))\n",
    "        return tf.concat([X], 0)"
   ]
  },
  {
   "cell_type": "markdown",
   "metadata": {},
   "source": [
    "### Training Dataset"
   ]
  },
  {
   "cell_type": "code",
   "execution_count": 113,
   "metadata": {},
   "outputs": [
    {
     "data": {
      "text/plain": [
       "(TensorSpec(shape=(None, 1, 4), dtype=tf.float32, name=None),\n",
       " TensorSpec(shape=(None, 5, 4), dtype=tf.float32, name=None))"
      ]
     },
     "execution_count": 113,
     "metadata": {},
     "output_type": "execute_result"
    }
   ],
   "source": [
    "%julia T = .5 ; dt = 0.1\n",
    "%julia ds = DynamicalSystems.Systems.double_pendulum([π/2, 0., 0., 0.5]; G=10.0, L1 = 1.0, L2 = 1.0, M1 = 1.0, M2 = 1.0)\n",
    "%julia q = DynamicalSystems.Systems.trajectory(ds, T, dt = dt)[:,1];\n",
    "%julia p = DynamicalSystems.Systems.trajectory(ds, T, dt = dt)[:,2];\n",
    "%julia qq = DynamicalSystems.Systems.trajectory(ds, T, dt = dt)[:,3];\n",
    "%julia pp = DynamicalSystems.Systems.trajectory(ds, T, dt = dt)[:,4];\n",
    "\n",
    "q0 = Main.q.tolist()\n",
    "q1 = Main.qq.tolist()\n",
    "p0 = Main.p.tolist()\n",
    "p1 = Main.pp.tolist()\n",
    "\n",
    "X = []\n",
    "for i in zip(p0, p1, q0, q1):\n",
    "    X.append([i[0],i[1],i[2],i[3]])\n",
    "\n",
    "#x_train = np.array(X[:len(X)-1])\n",
    "x_train = np.array([[X[0]]])\n",
    "x_train = x_train.astype(np.float32)\n",
    "\n",
    "\n",
    "y_train = np.array([X[1:]])\n",
    "y_train = y_train.astype(np.float32)\n",
    "\n",
    "\n",
    "train_dataset = tf.data.Dataset.from_tensor_slices((x_train, y_train))\n",
    "\n",
    "train_dataset = train_dataset.batch(1)\n",
    "\n",
    "train_dataset.element_spec"
   ]
  },
  {
   "cell_type": "code",
   "execution_count": 157,
   "metadata": {},
   "outputs": [],
   "source": [
    "#model = SympNet(10,5)\n",
    "\n",
    "\n",
    "\n",
    "model.compile(\n",
    "    loss= tf.keras.losses.MeanSquaredError(),\n",
    "    #optimizer=tfps.optimizers.bfgs_minimize(), #clipvalue = 0.001),\n",
    "    #optimizer=keras.optimizers.SGD(0.00001), #, clipvalue = 0.001),\n",
    "    optimizer=keras.optimizers.Adam(0.000001), #, clipvalue = 0.001),\n",
    "    metrics=[\"accuracy\"],\n",
    ")\n",
    "\n",
    "#wandb.init()"
   ]
  },
  {
   "cell_type": "code",
   "execution_count": 164,
   "metadata": {},
   "outputs": [
    {
     "name": "stdout",
     "output_type": "stream",
     "text": [
      "running time : 6245.680295467377 seconds\n"
     ]
    }
   ],
   "source": [
    "start_time = time.time()\n",
    "history = model.fit(train_dataset, epochs=80000, verbose=0)\n",
    "print(\"running time : %s seconds\" % (time.time() - start_time))"
   ]
  },
  {
   "cell_type": "markdown",
   "metadata": {},
   "source": [
    "# Model + training\n",
    "\n",
    "### Given a single trajectory in the phase-space \n",
    "\n",
    "## $$\\mathcal{O}_{true} = \\{(\\textbf{p}_{i}, \\textbf{q}_{i})\\}_{i=1}^{N},$$\n",
    "\n",
    "### the training set is of the form:\n",
    "\n",
    "## $$ \\mathcal{T} = \\{ (\\textbf{p}_{i}, \\textbf{q}_{i}), (\\textbf{p}_{i+1}, \\textbf{q}_{i+1})\\}_{i=1}^{N-1}$$\n",
    "\n",
    "### The prediction is made by iterating the trained SympNet from a starting point\n",
    "\n",
    "## $$ \\mathcal{O}_{predicted} = \\{(\\textbf{p}_{0}, \\textbf{q}_{0}), \\phi(\\textbf{p}_{0}, \\textbf{q}_{0}), \\phi(\\phi(\\textbf{p}_{0}, \\textbf{q}_{0})), \\dots \\}$$\n"
   ]
  },
  {
   "cell_type": "markdown",
   "metadata": {},
   "source": [
    "### Plot the loss"
   ]
  },
  {
   "cell_type": "code",
   "execution_count": 165,
   "metadata": {},
   "outputs": [
    {
     "data": {
      "image/png": "[encoded data removed]",
      "text/plain": [
       "<Figure size 720x360 with 1 Axes>"
      ]
     },
     "metadata": {
      "needs_background": "light"
     },
     "output_type": "display_data"
    }
   ],
   "source": [
    "plt.figure(figsize = (10,5))\n",
    "plt.plot(history.history[\"loss\"])\n",
    "plt.xlabel(\"epochs\", fontsize = \"x-large\")\n",
    "plt.ylabel(\"loss\", fontsize = \"x-large\")\n",
    "plt.yscale(\"log\")\n",
    "\n",
    "#plt.savefig(\"DP_loss_adam_bs1_epochs1000_clipping0001\")"
   ]
  },
  {
   "cell_type": "markdown",
   "metadata": {},
   "source": [
    "### Plot the result"
   ]
  },
  {
   "cell_type": "code",
   "execution_count": 166,
   "metadata": {},
   "outputs": [
    {
     "data": {
      "image/png": "[encoded data removed]",
      "text/plain": [
       "<Figure size 432x288 with 1 Axes>"
      ]
     },
     "metadata": {
      "needs_background": "light"
     },
     "output_type": "display_data"
    }
   ],
   "source": [
    "p = model(x_train[0])[:, 0, 0]\n",
    "pp = model(x_train[0])[:, 0, 1]\n",
    "q = model(x_train[0])[:, 0, 2]\n",
    "qq = model(x_train[0])[:, 0, 3]\n",
    "\n",
    "plt.plot(q, p, color = \"r\", label = \"learned\")\n",
    "plt.plot(q0[:20], p0[:20], color = \"b\", label = \"true\")\n",
    "plt.legend()\n",
    "plt.show()"
   ]
  },
  {
   "cell_type": "code",
   "execution_count": null,
   "metadata": {},
   "outputs": [],
   "source": []
  }
 ],
 "metadata": {
  "kernelspec": {
   "display_name": "Python 3",
   "language": "python",
   "name": "python3"
  },
  "language_info": {
   "codemirror_mode": {
    "name": "ipython",
    "version": 3
   },
   "file_extension": ".py",
   "mimetype": "text/x-python",
   "name": "python",
   "nbconvert_exporter": "python",
   "pygments_lexer": "ipython3",
   "version": "3.7.4"
  }
 },
 "nbformat": 4,
 "nbformat_minor": 4
}
