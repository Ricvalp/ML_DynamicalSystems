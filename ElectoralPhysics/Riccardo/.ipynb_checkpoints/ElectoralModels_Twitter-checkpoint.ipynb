{
 "cells": [
  {
   "cell_type": "markdown",
   "metadata": {},
   "source": [
    "# Electoral Physics \n",
    "\n",
    "### Packages"
   ]
  },
  {
   "cell_type": "code",
   "execution_count": 11,
   "metadata": {},
   "outputs": [
    {
     "name": "stderr",
     "output_type": "stream",
     "text": [
      "WARNING: replacing module ElectoralPhysics.\n"
     ]
    }
   ],
   "source": [
    "# Data Management \n",
    "using DataFrames, DataFramesMeta\n",
    "using DrWatson\n",
    "\n",
    "# Statistics\n",
    "using Random\n",
    "using Distributions\n",
    "using StatsBase\n",
    "\n",
    "# Graphs \n",
    "using LightGraphs, SimpleWeightedGraphs, GraphIO\n",
    "using GraphPlot\n",
    " #using Graphs\n",
    "\n",
    "# Modelling\n",
    "using Agents\n",
    "include(\"./ElectoralPhysics.jl\")\n",
    "\n",
    "# Data Visualization\n",
    "using Plots\n",
    "using AgentsPlots\n",
    "using PlotThemes\n",
    "\n",
    "# Python\n",
    "# ENV[\"PYTHON\"] = \"path/to/python\"\n",
    "# Pkg.build(\"PyCall\")\n",
    "using PyCall\n",
    "using PyPlot\n",
    "nx = pyimport(\"networkx\")\n",
    "np = pyimport(\"numpy\")\n",
    "hvnx = pyimport(\"hvplot.networkx\")\n",
    "nw = pyimport(\"netwulf\");"
   ]
  },
  {
   "cell_type": "markdown",
   "metadata": {},
   "source": [
    "### Agent Type "
   ]
  },
  {
   "cell_type": "code",
   "execution_count": 36,
   "metadata": {},
   "outputs": [],
   "source": [
    "# Voter Definition\n",
    "mutable struct Voter <: AbstractAgent\n",
    "    id::Int64             # ∈ ℕ\n",
    "    pos::Int64            # ∈ ℕ\n",
    "    candidacy::Bool       # ∈ 𝔹\n",
    "    score::Float64        # ∈ 𝔹\n",
    "    final_score::Float64  # \\in \\bbR\n",
    "    community::Int64      # ∈ {1,2,3, ..., n}\n",
    "end"
   ]
  },
  {
   "cell_type": "markdown",
   "metadata": {},
   "source": [
    "### Micro-Dynamics"
   ]
  },
  {
   "cell_type": "code",
   "execution_count": 37,
   "metadata": {},
   "outputs": [],
   "source": [
    "function vote!(agent,model)\n",
    "    candidates = [agent for agent in allagents(model) if agent.candidacy == true]\n",
    "    nvotes = nvotes!(agent, model)\n",
    "    targets = preferential_attachment_choose_candidates!(agent, model, candidates, nvotes)\n",
    "    for target in targets\n",
    "        add_edge!(model.space.graph, agent.pos, target.pos, 1/nvotes)\n",
    "    end\n",
    "end\n",
    "\n",
    "function nvotes!(agent, model)\n",
    "    p = 0.1\n",
    "    if agent.candidacy == true\n",
    "        d = Binomial(model.properties[:M]-2,p)\n",
    "        nvotes = rand(d)\n",
    "    else \n",
    "        d = Binomial(model.properties[:M]-1,p)\n",
    "        nvotes = rand(d)\n",
    "    end\n",
    "    \n",
    "    return nvotes + 1\n",
    "end\n",
    "\n",
    "function choose_candidates!(agent, model, nvotes)\n",
    "    candidates = [agent for agent in allagents(model) if agent.candidacy == true]\n",
    "    targets = []\n",
    "    for vote in 1:nvotes\n",
    "        target = rand(candidates)\n",
    "        while target.id == agent.id || target in targets\n",
    "            target = rand(candidates)\n",
    "        end\n",
    "        \n",
    "    push!(targets, target)\n",
    "    end\n",
    "    return targets\n",
    "end\n",
    "\n",
    "\n",
    "function preferential_attachment_choose_candidates!(agent, model, candidates, nvotes)\n",
    "    agent_community = agent.community\n",
    "    weights = Int64[]\n",
    "    for candidate in candidates\n",
    "        if candidate.community == agent_community\n",
    "            push!(weights, 10)\n",
    "        else\n",
    "            push!(weights, 1)\n",
    "        end\n",
    "    end\n",
    "    \n",
    "    targets = []\n",
    "    for vote in 1:nvotes\n",
    "        target = StatsBase.sample(candidates, ProbabilityWeights(weights))\n",
    "        while target.id == agent.id || target in targets\n",
    "            target = StatsBase.sample(candidates, ProbabilityWeights(weights))\n",
    "        end    \n",
    "        push!(targets, target)\n",
    "    end\n",
    "    \n",
    "    return targets\n",
    "end\n",
    "\n",
    "function update_score_indegree!(model)\n",
    "    for agent in allagents(model)\n",
    "        agent.score = agent.score + indegree_centrality(model.space.graph)[agent.id]\n",
    "    end\n",
    "end\n",
    "\n",
    "function update_score_flow!(model)\n",
    "    for agent in allagents(model)\n",
    "        if agent.candidacy == true\n",
    "            for inneighbor in node_neighbors(agent, model; neighbor_type=:in)\n",
    "                agent_inneighbor = get_node_agents(inneighbor, model)[1]\n",
    "                if agent_inneighbor.candidacy == false\n",
    "                    agent.score = agent.score + agent_inneighbor.score * LightGraphs.weights(model.space.graph)[agent_inneighbor.pos, agent.pos]\n",
    "                end\n",
    "            end\n",
    "        end\n",
    "    end\n",
    "end\n",
    "\n",
    "function update_score_pagerank!(model, α, n, ϵ)\n",
    "    for agent in allagents(model)\n",
    "        agent.score = pagerank(model.space.graph, α, n, ϵ)[agent.id]\n",
    "    end\n",
    "end\n",
    "\n",
    "# Implement map equation !!\n",
    "\n",
    "# IMPLEMENT NX TO LG\n",
    "\n",
    "# Voter Dynamics \n",
    "function agent_step!(agent, model)\n",
    "    vote!(agent, model)\n",
    "end;\n",
    "\n",
    "function update_score_candidates!(model)\n",
    "    for agent in allagents(model)\n",
    "        for inneighbor in node_neighbors(agent, model; neighbor_type=:in)\n",
    "            agent_inneighbor = get_node_agents(inneighbor, model)[1]\n",
    "            agent.final_score = agent.score + agent_inneighbor.score * LightGraphs.weights(model.space.graph)[agent_inneighbor.pos, agent.pos]\n",
    "        end\n",
    "    end\n",
    "end;"
   ]
  },
  {
   "cell_type": "markdown",
   "metadata": {},
   "source": [
    "### Models"
   ]
  },
  {
   "cell_type": "code",
   "execution_count": 38,
   "metadata": {},
   "outputs": [],
   "source": [
    "# Voter Model Initialization\n",
    "function init_model_voters(N::Int64, M::Int64, K::Int64, community)\n",
    "       \n",
    "    properties = @dict(N, M, K)\n",
    "    \n",
    "    # Create Directed Weighted Graph\n",
    "    space = GraphSpace(SimpleWeightedDiGraph(N)) \n",
    "    model_voters = ABM(Voter, space; properties = properties)\n",
    "    \n",
    "    \n",
    "    for id in 1:N\n",
    "        pos = id\n",
    "        score = 1.0\n",
    "        final_score = 0\n",
    "        if id <= M\n",
    "            candidacy = true\n",
    "            add_agent!(pos, model_voters, candidacy, score, final_score, community[id])\n",
    "        else\n",
    "            candidacy = false\n",
    "            add_agent!(pos, model_voters, candidacy, score, final_score, community[id])\n",
    "        end\n",
    "    end\n",
    "    return model_voters\n",
    "end;\n",
    "\n",
    "# Candidate Model Initialization\n",
    "function init_model_candidates(model_voters::AgentBasedModel{Voter,GraphSpace{SimpleWeightedDiGraph{Int64,Float64}},typeof(fastest),Dict{Symbol,Int64}}, \n",
    "                                M::Int64, K::Int64)\n",
    "    properties = @dict(M, K)\n",
    "    \n",
    "    # Induce Subgraph\n",
    "    graph, vertex_map = induced_subgraph(model_voters.space.graph, 1:M)\n",
    "    space = GraphSpace(graph)\n",
    "    model_candidates = ABM(Voter, space; properties = properties)\n",
    "    \n",
    "    k = 0\n",
    "    for voter in allagents(model_voters)\n",
    "        if voter.candidacy == true\n",
    "            add_agent!(voter.pos, model_candidates, voter.candidacy, voter.score, voter.final_score, voter.community)\n",
    "        end\n",
    "    end\n",
    "    \n",
    "    for agent in allagents(model_candidates)\n",
    "    agent.id = agent.pos\n",
    "    end\n",
    "    \n",
    "    return model_candidates\n",
    "end;"
   ]
  },
  {
   "cell_type": "markdown",
   "metadata": {},
   "source": [
    "### Parameters"
   ]
  },
  {
   "cell_type": "code",
   "execution_count": 39,
   "metadata": {},
   "outputs": [],
   "source": [
    "# Create population of voters \n",
    "N = 800\n",
    "\n",
    "# Create subpopulation of candidates\n",
    "M = 30;\n",
    "\n",
    "# Create subpopulation of elected\n",
    "K = 15;\n",
    "\n",
    "# Initialize number of steps\n",
    "nsteps = 1;\n",
    "\n",
    "\n",
    "community = []\n",
    "for i in 1:N\n",
    "    if i <= M\n",
    "        if i < M/3\n",
    "            push!(community,1)\n",
    "        elseif i >= M/3 && i < 2*(M/3)\n",
    "            push!(community,2)\n",
    "        else\n",
    "            push!(community,3)\n",
    "        end\n",
    "    else\n",
    "         if i < N/3\n",
    "            push!(community,1)\n",
    "        elseif i >= N/3 && i < 2*(N/3)\n",
    "            push!(community,2)\n",
    "        else\n",
    "            push!(community,3)\n",
    "        end\n",
    "    end\n",
    "end\n",
    "\n",
    "α = 0.85\n",
    "n = 500 \n",
    "ϵ = 1e-6;"
   ]
  },
  {
   "cell_type": "markdown",
   "metadata": {},
   "source": [
    "### Voter Simulation"
   ]
  },
  {
   "cell_type": "code",
   "execution_count": 40,
   "metadata": {},
   "outputs": [
    {
     "data": {
      "text/html": [
       "<table class=\"data-frame\"><thead><tr><th></th><th>id</th><th>pos</th><th>candidacy</th><th>score</th><th>final_score</th></tr><tr><th></th><th>Int64</th><th>Int64</th><th>Bool</th><th>Float64</th><th>Float64</th></tr></thead><tbody><p>800 rows × 5 columns</p><tr><th>1</th><td>22</td><td>22</td><td>1</td><td>30.6858</td><td>0.0</td></tr><tr><th>2</th><td>17</td><td>17</td><td>1</td><td>29.8852</td><td>0.0</td></tr><tr><th>3</th><td>24</td><td>24</td><td>1</td><td>29.472</td><td>0.0</td></tr><tr><th>4</th><td>3</td><td>3</td><td>1</td><td>29.082</td><td>0.0</td></tr><tr><th>5</th><td>14</td><td>14</td><td>1</td><td>28.9101</td><td>0.0</td></tr><tr><th>6</th><td>4</td><td>4</td><td>1</td><td>28.6253</td><td>0.0</td></tr><tr><th>7</th><td>21</td><td>21</td><td>1</td><td>28.2888</td><td>0.0</td></tr><tr><th>8</th><td>11</td><td>11</td><td>1</td><td>28.0718</td><td>0.0</td></tr><tr><th>9</th><td>13</td><td>13</td><td>1</td><td>27.7905</td><td>0.0</td></tr><tr><th>10</th><td>5</td><td>5</td><td>1</td><td>27.0321</td><td>0.0</td></tr><tr><th>11</th><td>26</td><td>26</td><td>1</td><td>26.8972</td><td>0.0</td></tr><tr><th>12</th><td>25</td><td>25</td><td>1</td><td>26.8288</td><td>0.0</td></tr><tr><th>13</th><td>19</td><td>19</td><td>1</td><td>26.4962</td><td>0.0</td></tr><tr><th>14</th><td>28</td><td>28</td><td>1</td><td>26.44</td><td>0.0</td></tr><tr><th>15</th><td>7</td><td>7</td><td>1</td><td>26.3465</td><td>0.0</td></tr><tr><th>16</th><td>1</td><td>1</td><td>1</td><td>26.2528</td><td>0.0</td></tr><tr><th>17</th><td>2</td><td>2</td><td>1</td><td>26.2378</td><td>0.0</td></tr><tr><th>18</th><td>8</td><td>8</td><td>1</td><td>26.1934</td><td>0.0</td></tr><tr><th>19</th><td>9</td><td>9</td><td>1</td><td>26.185</td><td>0.0</td></tr><tr><th>20</th><td>12</td><td>12</td><td>1</td><td>26.1534</td><td>0.0</td></tr><tr><th>21</th><td>16</td><td>16</td><td>1</td><td>25.4412</td><td>0.0</td></tr><tr><th>22</th><td>29</td><td>29</td><td>1</td><td>25.3833</td><td>0.0</td></tr><tr><th>23</th><td>27</td><td>27</td><td>1</td><td>25.3289</td><td>0.0</td></tr><tr><th>24</th><td>15</td><td>15</td><td>1</td><td>25.2398</td><td>0.0</td></tr><tr><th>25</th><td>30</td><td>30</td><td>1</td><td>25.0869</td><td>0.0</td></tr><tr><th>26</th><td>18</td><td>18</td><td>1</td><td>25.0213</td><td>0.0</td></tr><tr><th>27</th><td>20</td><td>20</td><td>1</td><td>24.5361</td><td>0.0</td></tr><tr><th>28</th><td>10</td><td>10</td><td>1</td><td>24.3266</td><td>0.0</td></tr><tr><th>29</th><td>23</td><td>23</td><td>1</td><td>23.9785</td><td>0.0</td></tr><tr><th>30</th><td>6</td><td>6</td><td>1</td><td>23.7828</td><td>0.0</td></tr><tr><th>&vellip;</th><td>&vellip;</td><td>&vellip;</td><td>&vellip;</td><td>&vellip;</td><td>&vellip;</td></tr></tbody></table>"
      ],
      "text/latex": [
       "\\begin{tabular}{r|ccccc}\n",
       "\t& id & pos & candidacy & score & final\\_score\\\\\n",
       "\t\\hline\n",
       "\t& Int64 & Int64 & Bool & Float64 & Float64\\\\\n",
       "\t\\hline\n",
       "\t1 & 22 & 22 & 1 & 30.6858 & 0.0 \\\\\n",
       "\t2 & 17 & 17 & 1 & 29.8852 & 0.0 \\\\\n",
       "\t3 & 24 & 24 & 1 & 29.472 & 0.0 \\\\\n",
       "\t4 & 3 & 3 & 1 & 29.082 & 0.0 \\\\\n",
       "\t5 & 14 & 14 & 1 & 28.9101 & 0.0 \\\\\n",
       "\t6 & 4 & 4 & 1 & 28.6253 & 0.0 \\\\\n",
       "\t7 & 21 & 21 & 1 & 28.2888 & 0.0 \\\\\n",
       "\t8 & 11 & 11 & 1 & 28.0718 & 0.0 \\\\\n",
       "\t9 & 13 & 13 & 1 & 27.7905 & 0.0 \\\\\n",
       "\t10 & 5 & 5 & 1 & 27.0321 & 0.0 \\\\\n",
       "\t11 & 26 & 26 & 1 & 26.8972 & 0.0 \\\\\n",
       "\t12 & 25 & 25 & 1 & 26.8288 & 0.0 \\\\\n",
       "\t13 & 19 & 19 & 1 & 26.4962 & 0.0 \\\\\n",
       "\t14 & 28 & 28 & 1 & 26.44 & 0.0 \\\\\n",
       "\t15 & 7 & 7 & 1 & 26.3465 & 0.0 \\\\\n",
       "\t16 & 1 & 1 & 1 & 26.2528 & 0.0 \\\\\n",
       "\t17 & 2 & 2 & 1 & 26.2378 & 0.0 \\\\\n",
       "\t18 & 8 & 8 & 1 & 26.1934 & 0.0 \\\\\n",
       "\t19 & 9 & 9 & 1 & 26.185 & 0.0 \\\\\n",
       "\t20 & 12 & 12 & 1 & 26.1534 & 0.0 \\\\\n",
       "\t21 & 16 & 16 & 1 & 25.4412 & 0.0 \\\\\n",
       "\t22 & 29 & 29 & 1 & 25.3833 & 0.0 \\\\\n",
       "\t23 & 27 & 27 & 1 & 25.3289 & 0.0 \\\\\n",
       "\t24 & 15 & 15 & 1 & 25.2398 & 0.0 \\\\\n",
       "\t25 & 30 & 30 & 1 & 25.0869 & 0.0 \\\\\n",
       "\t26 & 18 & 18 & 1 & 25.0213 & 0.0 \\\\\n",
       "\t27 & 20 & 20 & 1 & 24.5361 & 0.0 \\\\\n",
       "\t28 & 10 & 10 & 1 & 24.3266 & 0.0 \\\\\n",
       "\t29 & 23 & 23 & 1 & 23.9785 & 0.0 \\\\\n",
       "\t30 & 6 & 6 & 1 & 23.7828 & 0.0 \\\\\n",
       "\t$\\dots$ & $\\dots$ & $\\dots$ & $\\dots$ & $\\dots$ & $\\dots$ \\\\\n",
       "\\end{tabular}\n"
      ],
      "text/plain": [
       "800×5 DataFrame\n",
       "│ Row │ id    │ pos   │ candidacy │ score   │ final_score │\n",
       "│     │ \u001b[90mInt64\u001b[39m │ \u001b[90mInt64\u001b[39m │ \u001b[90mBool\u001b[39m      │ \u001b[90mFloat64\u001b[39m │ \u001b[90mFloat64\u001b[39m     │\n",
       "├─────┼───────┼───────┼───────────┼─────────┼─────────────┤\n",
       "│ 1   │ 22    │ 22    │ 1         │ 30.6858 │ 0.0         │\n",
       "│ 2   │ 17    │ 17    │ 1         │ 29.8852 │ 0.0         │\n",
       "│ 3   │ 24    │ 24    │ 1         │ 29.472  │ 0.0         │\n",
       "│ 4   │ 3     │ 3     │ 1         │ 29.082  │ 0.0         │\n",
       "│ 5   │ 14    │ 14    │ 1         │ 28.9101 │ 0.0         │\n",
       "│ 6   │ 4     │ 4     │ 1         │ 28.6253 │ 0.0         │\n",
       "│ 7   │ 21    │ 21    │ 1         │ 28.2888 │ 0.0         │\n",
       "│ 8   │ 11    │ 11    │ 1         │ 28.0718 │ 0.0         │\n",
       "│ 9   │ 13    │ 13    │ 1         │ 27.7905 │ 0.0         │\n",
       "│ 10  │ 5     │ 5     │ 1         │ 27.0321 │ 0.0         │\n",
       "⋮\n",
       "│ 790 │ 781   │ 781   │ 0         │ 1.0     │ 0.0         │\n",
       "│ 791 │ 404   │ 404   │ 0         │ 1.0     │ 0.0         │\n",
       "│ 792 │ 691   │ 691   │ 0         │ 1.0     │ 0.0         │\n",
       "│ 793 │ 632   │ 632   │ 0         │ 1.0     │ 0.0         │\n",
       "│ 794 │ 618   │ 618   │ 0         │ 1.0     │ 0.0         │\n",
       "│ 795 │ 341   │ 341   │ 0         │ 1.0     │ 0.0         │\n",
       "│ 796 │ 186   │ 186   │ 0         │ 1.0     │ 0.0         │\n",
       "│ 797 │ 321   │ 321   │ 0         │ 1.0     │ 0.0         │\n",
       "│ 798 │ 420   │ 420   │ 0         │ 1.0     │ 0.0         │\n",
       "│ 799 │ 322   │ 322   │ 0         │ 1.0     │ 0.0         │\n",
       "│ 800 │ 218   │ 218   │ 0         │ 1.0     │ 0.0         │"
      ]
     },
     "execution_count": 40,
     "metadata": {},
     "output_type": "execute_result"
    }
   ],
   "source": [
    "# Seed Selection\n",
    "Random.seed!(1234);\n",
    "\n",
    "# Model Instantiation \n",
    "model_voters = init_model_voters(N, M, K)\n",
    "\n",
    "# Data Collection\n",
    "data_voters = run!(model_voters, agent_step!, nsteps);\n",
    "\n",
    "update_score_flow!(model_voters)\n",
    "\n",
    "sort!(DataFrame(allagents(model_voters)), :score, rev = true)"
   ]
  },
  {
   "cell_type": "markdown",
   "metadata": {},
   "source": [
    "### Candidate Simulation"
   ]
  },
  {
   "cell_type": "code",
   "execution_count": 41,
   "metadata": {},
   "outputs": [
    {
     "data": {
      "text/html": [
       "<table class=\"data-frame\"><thead><tr><th></th><th>id</th><th>pos</th><th>candidacy</th><th>score</th><th>final_score</th></tr><tr><th></th><th>Int64</th><th>Int64</th><th>Bool</th><th>Float64</th><th>Float64</th></tr></thead><tbody><p>30 rows × 5 columns</p><tr><th>1</th><td>3</td><td>3</td><td>1</td><td>29.082</td><td>32.7004</td></tr><tr><th>2</th><td>21</td><td>21</td><td>1</td><td>28.2888</td><td>32.4699</td></tr><tr><th>3</th><td>17</td><td>17</td><td>1</td><td>29.8852</td><td>32.1267</td></tr><tr><th>4</th><td>22</td><td>22</td><td>1</td><td>30.6858</td><td>32.0218</td></tr><tr><th>5</th><td>13</td><td>13</td><td>1</td><td>27.7905</td><td>31.9716</td></tr><tr><th>6</th><td>24</td><td>24</td><td>1</td><td>29.472</td><td>31.7135</td></tr><tr><th>7</th><td>26</td><td>26</td><td>1</td><td>26.8972</td><td>31.0784</td></tr><tr><th>8</th><td>19</td><td>19</td><td>1</td><td>26.4962</td><td>30.6774</td></tr><tr><th>9</th><td>12</td><td>12</td><td>1</td><td>26.1534</td><td>30.3345</td></tr><tr><th>10</th><td>14</td><td>14</td><td>1</td><td>28.9101</td><td>30.2461</td></tr><tr><th>11</th><td>4</td><td>4</td><td>1</td><td>28.6253</td><td>29.9612</td></tr><tr><th>12</th><td>29</td><td>29</td><td>1</td><td>25.3833</td><td>29.8547</td></tr><tr><th>13</th><td>11</td><td>11</td><td>1</td><td>28.0718</td><td>29.4078</td></tr><tr><th>14</th><td>5</td><td>5</td><td>1</td><td>27.0321</td><td>29.2735</td></tr><tr><th>15</th><td>25</td><td>25</td><td>1</td><td>26.8288</td><td>29.0702</td></tr><tr><th>16</th><td>23</td><td>23</td><td>1</td><td>23.9785</td><td>28.1597</td></tr><tr><th>17</th><td>28</td><td>28</td><td>1</td><td>26.44</td><td>27.776</td></tr><tr><th>18</th><td>16</td><td>16</td><td>1</td><td>25.4412</td><td>27.6826</td></tr><tr><th>19</th><td>7</td><td>7</td><td>1</td><td>26.3465</td><td>27.6825</td></tr><tr><th>20</th><td>1</td><td>1</td><td>1</td><td>26.2528</td><td>27.5888</td></tr><tr><th>21</th><td>2</td><td>2</td><td>1</td><td>26.2378</td><td>27.5738</td></tr><tr><th>22</th><td>8</td><td>8</td><td>1</td><td>26.1934</td><td>27.5293</td></tr><tr><th>23</th><td>9</td><td>9</td><td>1</td><td>26.185</td><td>27.5209</td></tr><tr><th>24</th><td>15</td><td>15</td><td>1</td><td>25.2398</td><td>27.4812</td></tr><tr><th>25</th><td>27</td><td>27</td><td>1</td><td>25.3289</td><td>26.5563</td></tr><tr><th>26</th><td>30</td><td>30</td><td>1</td><td>25.0869</td><td>26.4228</td></tr><tr><th>27</th><td>18</td><td>18</td><td>1</td><td>25.0213</td><td>26.3572</td></tr><tr><th>28</th><td>20</td><td>20</td><td>1</td><td>24.5361</td><td>25.872</td></tr><tr><th>29</th><td>10</td><td>10</td><td>1</td><td>24.3266</td><td>25.6626</td></tr><tr><th>30</th><td>6</td><td>6</td><td>1</td><td>23.7828</td><td>25.1188</td></tr></tbody></table>"
      ],
      "text/latex": [
       "\\begin{tabular}{r|ccccc}\n",
       "\t& id & pos & candidacy & score & final\\_score\\\\\n",
       "\t\\hline\n",
       "\t& Int64 & Int64 & Bool & Float64 & Float64\\\\\n",
       "\t\\hline\n",
       "\t1 & 3 & 3 & 1 & 29.082 & 32.7004 \\\\\n",
       "\t2 & 21 & 21 & 1 & 28.2888 & 32.4699 \\\\\n",
       "\t3 & 17 & 17 & 1 & 29.8852 & 32.1267 \\\\\n",
       "\t4 & 22 & 22 & 1 & 30.6858 & 32.0218 \\\\\n",
       "\t5 & 13 & 13 & 1 & 27.7905 & 31.9716 \\\\\n",
       "\t6 & 24 & 24 & 1 & 29.472 & 31.7135 \\\\\n",
       "\t7 & 26 & 26 & 1 & 26.8972 & 31.0784 \\\\\n",
       "\t8 & 19 & 19 & 1 & 26.4962 & 30.6774 \\\\\n",
       "\t9 & 12 & 12 & 1 & 26.1534 & 30.3345 \\\\\n",
       "\t10 & 14 & 14 & 1 & 28.9101 & 30.2461 \\\\\n",
       "\t11 & 4 & 4 & 1 & 28.6253 & 29.9612 \\\\\n",
       "\t12 & 29 & 29 & 1 & 25.3833 & 29.8547 \\\\\n",
       "\t13 & 11 & 11 & 1 & 28.0718 & 29.4078 \\\\\n",
       "\t14 & 5 & 5 & 1 & 27.0321 & 29.2735 \\\\\n",
       "\t15 & 25 & 25 & 1 & 26.8288 & 29.0702 \\\\\n",
       "\t16 & 23 & 23 & 1 & 23.9785 & 28.1597 \\\\\n",
       "\t17 & 28 & 28 & 1 & 26.44 & 27.776 \\\\\n",
       "\t18 & 16 & 16 & 1 & 25.4412 & 27.6826 \\\\\n",
       "\t19 & 7 & 7 & 1 & 26.3465 & 27.6825 \\\\\n",
       "\t20 & 1 & 1 & 1 & 26.2528 & 27.5888 \\\\\n",
       "\t21 & 2 & 2 & 1 & 26.2378 & 27.5738 \\\\\n",
       "\t22 & 8 & 8 & 1 & 26.1934 & 27.5293 \\\\\n",
       "\t23 & 9 & 9 & 1 & 26.185 & 27.5209 \\\\\n",
       "\t24 & 15 & 15 & 1 & 25.2398 & 27.4812 \\\\\n",
       "\t25 & 27 & 27 & 1 & 25.3289 & 26.5563 \\\\\n",
       "\t26 & 30 & 30 & 1 & 25.0869 & 26.4228 \\\\\n",
       "\t27 & 18 & 18 & 1 & 25.0213 & 26.3572 \\\\\n",
       "\t28 & 20 & 20 & 1 & 24.5361 & 25.872 \\\\\n",
       "\t29 & 10 & 10 & 1 & 24.3266 & 25.6626 \\\\\n",
       "\t30 & 6 & 6 & 1 & 23.7828 & 25.1188 \\\\\n",
       "\\end{tabular}\n"
      ],
      "text/plain": [
       "30×5 DataFrame\n",
       "│ Row │ id    │ pos   │ candidacy │ score   │ final_score │\n",
       "│     │ \u001b[90mInt64\u001b[39m │ \u001b[90mInt64\u001b[39m │ \u001b[90mBool\u001b[39m      │ \u001b[90mFloat64\u001b[39m │ \u001b[90mFloat64\u001b[39m     │\n",
       "├─────┼───────┼───────┼───────────┼─────────┼─────────────┤\n",
       "│ 1   │ 3     │ 3     │ 1         │ 29.082  │ 32.7004     │\n",
       "│ 2   │ 21    │ 21    │ 1         │ 28.2888 │ 32.4699     │\n",
       "│ 3   │ 17    │ 17    │ 1         │ 29.8852 │ 32.1267     │\n",
       "│ 4   │ 22    │ 22    │ 1         │ 30.6858 │ 32.0218     │\n",
       "│ 5   │ 13    │ 13    │ 1         │ 27.7905 │ 31.9716     │\n",
       "│ 6   │ 24    │ 24    │ 1         │ 29.472  │ 31.7135     │\n",
       "│ 7   │ 26    │ 26    │ 1         │ 26.8972 │ 31.0784     │\n",
       "│ 8   │ 19    │ 19    │ 1         │ 26.4962 │ 30.6774     │\n",
       "│ 9   │ 12    │ 12    │ 1         │ 26.1534 │ 30.3345     │\n",
       "│ 10  │ 14    │ 14    │ 1         │ 28.9101 │ 30.2461     │\n",
       "⋮\n",
       "│ 20  │ 1     │ 1     │ 1         │ 26.2528 │ 27.5888     │\n",
       "│ 21  │ 2     │ 2     │ 1         │ 26.2378 │ 27.5738     │\n",
       "│ 22  │ 8     │ 8     │ 1         │ 26.1934 │ 27.5293     │\n",
       "│ 23  │ 9     │ 9     │ 1         │ 26.185  │ 27.5209     │\n",
       "│ 24  │ 15    │ 15    │ 1         │ 25.2398 │ 27.4812     │\n",
       "│ 25  │ 27    │ 27    │ 1         │ 25.3289 │ 26.5563     │\n",
       "│ 26  │ 30    │ 30    │ 1         │ 25.0869 │ 26.4228     │\n",
       "│ 27  │ 18    │ 18    │ 1         │ 25.0213 │ 26.3572     │\n",
       "│ 28  │ 20    │ 20    │ 1         │ 24.5361 │ 25.872      │\n",
       "│ 29  │ 10    │ 10    │ 1         │ 24.3266 │ 25.6626     │\n",
       "│ 30  │ 6     │ 6     │ 1         │ 23.7828 │ 25.1188     │"
      ]
     },
     "execution_count": 41,
     "metadata": {},
     "output_type": "execute_result"
    }
   ],
   "source": [
    "# Seed Selection\n",
    "Random.seed!(1234);\n",
    "\n",
    "# Model Instantiation \n",
    "model_candidates = init_model_candidates(model_voters, M, K)\n",
    "\n",
    "# Data Collection\n",
    "#data_candidates = run!(model_candidates, agent_step!, nsteps);\n",
    "\n",
    "update_score_candidates!(model_candidates)\n",
    "\n",
    "sort!(DataFrame(allagents(model_candidates)), :final_score, rev = true)"
   ]
  },
  {
   "cell_type": "markdown",
   "metadata": {},
   "source": [
    "### Visualization "
   ]
  },
  {
   "cell_type": "code",
   "execution_count": 52,
   "metadata": {},
   "outputs": [],
   "source": [
    "V = model_voters.space.graph\n",
    "C = model_candidates.space.graph\n",
    "V = ElectoralPhysics.LightGraphs_to_NetworkX(V);\n",
    "V = nx.convert_node_labels_to_integers(V, first_label=1);\n",
    "nx.write_graphml(V, \"random_graph_flow_all.graphml\")\n",
    "C = ElectoralPhysics.LightGraphs_to_NetworkX(C);\n",
    "C = nx.convert_node_labels_to_integers(C, first_label=1);\n",
    "nx.write_graphml(C, \"random_graph_flow_candidates.graphml\")\n",
    "\n"
   ]
  },
  {
   "cell_type": "code",
   "execution_count": null,
   "metadata": {},
   "outputs": [],
   "source": [
    "#nw.visualize(C)"
   ]
  },
  {
   "cell_type": "code",
   "execution_count": 45,
   "metadata": {},
   "outputs": [
    {
     "data": {
      "text/plain": [
       "5-element SparseArrays.SparseVector{Float64,Int64} with 3 stored entries:\n",
       "  [1]  =  0.333333\n",
       "  [4]  =  0.333333\n",
       "  [5]  =  0.333333"
      ]
     },
     "execution_count": 45,
     "metadata": {},
     "output_type": "execute_result"
    }
   ],
   "source": [
    "#LightGraphs.weights(model_candidates.space.graph)[rand(1:M), :]"
   ]
  },
  {
   "cell_type": "markdown",
   "metadata": {},
   "source": [
    "### @PietroMonticone2 Twitter Graph "
   ]
  },
  {
   "cell_type": "code",
   "execution_count": 8,
   "metadata": {},
   "outputs": [
    {
     "data": {
      "text/plain": [
       "{472504, 1075454} directed simple Int64 graph with Float64 weights"
      ]
     },
     "execution_count": 8,
     "metadata": {},
     "output_type": "execute_result"
    }
   ],
   "source": [
    "𝒫 = nx.read_graphml(\"@PietroMonticone2.graphml\")\n",
    "𝒫 = ElectoralPhysics.NetworkX_to_LightGraphs(𝒫)"
   ]
  },
  {
   "cell_type": "code",
   "execution_count": 9,
   "metadata": {},
   "outputs": [
    {
     "data": {
      "text/plain": [
       "SimpleWeightedDiGraph{Int64,Float64}"
      ]
     },
     "execution_count": 9,
     "metadata": {},
     "output_type": "execute_result"
    }
   ],
   "source": [
    "typeof(𝒫)"
   ]
  },
  {
   "cell_type": "code",
   "execution_count": 10,
   "metadata": {},
   "outputs": [
    {
     "ename": "InterruptException",
     "evalue": "InterruptException:",
     "output_type": "error",
     "traceback": [
      "InterruptException:",
      "",
      "Stacktrace:",
      " [1] SparseVector at /Users/julia/buildbot/worker/package_macos64/build/usr/share/julia/stdlib/v1.4/SparseArrays/src/sparsevector.jl:26 [inlined]",
      " [2] SparseVector at /Users/julia/buildbot/worker/package_macos64/build/usr/share/julia/stdlib/v1.4/SparseArrays/src/sparsevector.jl:30 [inlined]",
      " [3] getindex(::SparseArrays.SparseMatrixCSC{Float64,Int64}, ::Int64, ::UnitRange{Int64}) at /Users/julia/buildbot/worker/package_macos64/build/usr/share/julia/stdlib/v1.4/SparseArrays/src/sparsevector.jl:578",
      " [4] getindex at /Users/julia/buildbot/worker/package_macos64/build/usr/share/julia/stdlib/v1.4/SparseArrays/src/sparsevector.jl:550 [inlined]",
      " [5] inneighbors at /Users/pietromonticone/.julia/packages/SimpleWeightedGraphs/IDzOp/src/simpleweighteddigraph.jl:81 [inlined]",
      " [6] indegree at /Users/pietromonticone/.julia/packages/LightGraphs/siFgP/src/core.jl:70 [inlined]",
      " [7] #6 at ./none:0 [inlined]",
      " [8] iterate at ./generator.jl:47 [inlined]",
      " [9] collect_to! at ./array.jl:710 [inlined]",
      " [10] collect_to_with_first!(::Array{Int64,1}, ::Int64, ::Base.Generator{UnitRange{Int64},LightGraphs.var\"#6#7\"{SimpleWeightedDiGraph{Int64,Float64}}}, ::Int64) at ./array.jl:689",
      " [11] collect(::Base.Generator{UnitRange{Int64},LightGraphs.var\"#6#7\"{SimpleWeightedDiGraph{Int64,Float64}}}) at ./array.jl:670",
      " [12] indegree at /Users/pietromonticone/.julia/packages/LightGraphs/siFgP/src/core.jl:71 [inlined] (repeats 2 times)",
      " [13] top-level scope at In[10]:1"
     ]
    }
   ],
   "source": [
    "indegree(𝒫)"
   ]
  },
  {
   "cell_type": "code",
   "execution_count": null,
   "metadata": {},
   "outputs": [],
   "source": [
    "# Voter Model Initialization\n",
    "function init_model_voters_twitter(𝒫::SimpleWeightedDiGraph{Int64,Float64})\n",
    "       \n",
    "    #properties = @dict(N, M, K)\n",
    "    \n",
    "    # Create Directed Weighted Graph\n",
    "    space = GraphSpace(𝒫) \n",
    "    model_voters_twitter = ABM(Voter, space) #; properties = properties)\n",
    "    \n",
    "    N = nv(𝒫)\n",
    "    \n",
    "    for id in 1:N\n",
    "        pos = id\n",
    "        score = 1.0\n",
    "        final_score = 0\n",
    "        if \n",
    "            candidacy = true\n",
    "            add_agent!(pos, model_voters_twitter, candidacy, score, final_score)\n",
    "        else\n",
    "            candidacy = false\n",
    "            add_agent!(pos, model_voters_twitter, candidacy, score, final_score)\n",
    "        end\n",
    "    end\n",
    "    return model_voters\n",
    "end;"
   ]
  }
 ],
 "metadata": {
  "kernelspec": {
   "display_name": "Julia 1.4.0",
   "language": "julia",
   "name": "julia-1.4"
  },
  "language_info": {
   "file_extension": ".jl",
   "mimetype": "application/julia",
   "name": "julia",
   "version": "1.4.0"
  }
 },
 "nbformat": 4,
 "nbformat_minor": 4
}
