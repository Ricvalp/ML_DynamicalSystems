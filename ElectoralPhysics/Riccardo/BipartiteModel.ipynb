{
 "cells": [
  {
   "cell_type": "code",
   "execution_count": 1,
   "metadata": {},
   "outputs": [
    {
     "name": "stderr",
     "output_type": "stream",
     "text": [
      "┌ Info: Precompiling DataFrames [a93c6f00-e57d-5684-b7b6-d8193f3e46c0]\n",
      "└ @ Base loading.jl:1260\n",
      "┌ Info: Precompiling DataFramesMeta [1313f7d8-7da2-5740-9ea0-a2ca25f37964]\n",
      "└ @ Base loading.jl:1260\n",
      "┌ Info: Precompiling DrWatson [634d3b9d-ee7a-5ddf-bec9-22491ea816e1]\n",
      "└ @ Base loading.jl:1260\n",
      "┌ Info: Precompiling Distributions [31c24e10-a181-5473-b8eb-7969acd0382f]\n",
      "└ @ Base loading.jl:1260\n",
      "┌ Info: Precompiling LightGraphs [093fc24a-ae57-5d10-9952-331d41423f4d]\n",
      "└ @ Base loading.jl:1260\n",
      "┌ Info: Precompiling SimpleWeightedGraphs [47aef6b3-ad0c-573a-a1e2-d07658019622]\n",
      "└ @ Base loading.jl:1260\n",
      "┌ Info: Precompiling SimpleHypergraphs [aa4a32ff-dd5d-5357-90e3-e7a9512f0501]\n",
      "└ @ Base loading.jl:1260\n",
      "┌ Info: Precompiling GraphIO [aa1b3936-2fda-51b9-ab35-c553d3a640a2]\n",
      "└ @ Base loading.jl:1260\n",
      "┌ Info: Precompiling GraphPlot [a2cc645c-3eea-5389-862e-a155d0052231]\n",
      "└ @ Base loading.jl:1260\n",
      "┌ Info: Precompiling Agents [46ada45e-f475-11e8-01d0-f70cc89e6671]\n",
      "└ @ Base loading.jl:1260\n",
      "┌ Info: Precompiling Plots [91a5bcdd-55d7-5caf-9e0b-520d859cae80]\n",
      "└ @ Base loading.jl:1260\n",
      "┌ Info: Precompiling AgentsPlots [7820620d-95fb-4739-93b3-b0a14dd83f9a]\n",
      "└ @ Base loading.jl:1260\n"
     ]
    }
   ],
   "source": [
    "# Data Management \n",
    "using DataFrames, DataFramesMeta\n",
    "using DrWatson\n",
    "\n",
    "# Statistics\n",
    "using Random\n",
    "using Distributions\n",
    "using StatsBase\n",
    "\n",
    "# Graphs \n",
    "using LightGraphs, SimpleWeightedGraphs, SimpleHypergraphs, GraphIO\n",
    "using GraphPlot\n",
    "\n",
    "# Modelling\n",
    "using Agents\n",
    "include(\"./ElectoralPhysics.jl\")\n",
    "\n",
    "# Data Visualization\n",
    "using Plots\n",
    "using AgentsPlots\n",
    "using PlotThemes\n",
    "\n",
    "# Python\n",
    "# ENV[\"PYTHON\"] = \"path/to/python\"\n",
    "# Pkg.build(\"PyCall\")\n",
    "using PyCall\n",
    "#using PyPlot\n",
    "nx = pyimport(\"networkx\")\n",
    "hnx= pyimport(\"hypernetx\")\n",
    "np = pyimport(\"numpy\")\n",
    "#hvnx = pyimport(\"hvplot.networkx\")\n",
    "nw = pyimport(\"netwulf\");"
   ]
  },
  {
   "cell_type": "markdown",
   "metadata": {},
   "source": [
    "### Agent Type"
   ]
  },
  {
   "cell_type": "code",
   "execution_count": 2,
   "metadata": {},
   "outputs": [],
   "source": [
    "# Voter Definition\n",
    "mutable struct Voter <: AbstractAgent\n",
    "    id::Int64             # ∈ ℕ\n",
    "    pos::Int64            # ∈ ℕ\n",
    "    candidacy::Bool       # ∈ 𝔹\n",
    "    score::Float64        # ∈ 𝔹\n",
    "    final_score::Float64  # \\in \\bbR\n",
    "    community::Int64      # ∈ {1,2,3, ..., n}\n",
    "end"
   ]
  },
  {
   "cell_type": "markdown",
   "metadata": {},
   "source": [
    "### Functions"
   ]
  },
  {
   "cell_type": "code",
   "execution_count": 3,
   "metadata": {},
   "outputs": [],
   "source": [
    "function vote!(agent,model)\n",
    "    \n",
    "    if agent.candidacy == true\n",
    "        return\n",
    "    end\n",
    "    \n",
    "    candidates = [agent for agent in allagents(model) if agent.candidacy == true]\n",
    "    nvotes = nvotes!(agent, model)\n",
    "    targets = preferential_attachment_choose_candidates!(agent, model, candidates, nvotes)\n",
    "    for target in targets\n",
    "        add_edge!(model.space.graph, agent.pos, target.pos, 1/nvotes)\n",
    "    end\n",
    "end\n",
    "\n",
    "function nvotes!(agent, model)\n",
    "    p = 0.1\n",
    "    if agent.candidacy == true\n",
    "        d = Binomial(model.properties[:M]-2,p)\n",
    "        nvotes = rand(d)\n",
    "    else \n",
    "        d = Binomial(model.properties[:M]-1,p)\n",
    "        nvotes = rand(d)\n",
    "    end\n",
    "    \n",
    "    return nvotes + 1\n",
    "end\n",
    "\n",
    "function choose_candidates!(agent, model, candidates, nvotes)\n",
    "    targets = []\n",
    "    for vote in 1:nvotes\n",
    "        target = rand(candidates)\n",
    "        while target.id == agent.id || target in targets\n",
    "            target = rand(candidates)\n",
    "        end\n",
    "        push!(targets, target)\n",
    "    end\n",
    "    return targets\n",
    "end\n",
    "\n",
    "function preferential_attachment_choose_candidates!(agent, model, candidates, nvotes)\n",
    "    agent_community = agent.community\n",
    "    weights = Int64[]\n",
    "    for candidate in candidates\n",
    "        if candidate.community == agent_community\n",
    "            push!(weights, 10)\n",
    "        else\n",
    "            push!(weights, 1)\n",
    "        end\n",
    "    end\n",
    "    \n",
    "    targets = []\n",
    "    for vote in 1:nvotes\n",
    "        target = StatsBase.sample(candidates, ProbabilityWeights(weights))\n",
    "        while target.id == agent.id || target in targets\n",
    "            target = StatsBase.sample(candidates, ProbabilityWeights(weights))\n",
    "        end    \n",
    "        push!(targets, target)\n",
    "    end\n",
    "    \n",
    "    return targets\n",
    "end\n",
    "\n",
    "\n",
    "# Voter Dynamics \n",
    "function agent_step!(agent, model)\n",
    "    vote!(agent, model)\n",
    "end;"
   ]
  },
  {
   "cell_type": "markdown",
   "metadata": {},
   "source": [
    "### Updates"
   ]
  },
  {
   "cell_type": "code",
   "execution_count": 4,
   "metadata": {},
   "outputs": [],
   "source": [
    "function update_score_voters!(model)\n",
    "    candidates = [agent for agent in allagents(model) if agent.candidacy == true]\n",
    "    hypergraph = model.properties[:H]\n",
    "    for candidate in candidates\n",
    "        votes = [vote for vote in hypergraph[candidate.id,:] if vote != nothing]\n",
    "        candidate.score = candidate.score + sum(votes)\n",
    "    end\n",
    "end\n",
    "\n",
    "function update_score_flow!(model)\n",
    "    for agent in allagents(model)\n",
    "        if agent.candidacy == true\n",
    "            for inneighbor in node_neighbors(agent, model; neighbor_type=:in)\n",
    "                agent_inneighbor = get_node_agents(inneighbor, model)[1]\n",
    "                if agent_inneighbor.candidacy == false\n",
    "                    agent.score = agent.score + agent_inneighbor.score * LightGraphs.weights(model.space.graph)[agent_inneighbor.pos, agent.pos]\n",
    "                end\n",
    "            end\n",
    "        end\n",
    "    end\n",
    "end\n",
    "\n",
    "function update_score_pagerank!(model, α, n, ϵ)\n",
    "    for agent in allagents(model)\n",
    "        agent.score = pagerank(model.space.graph, α, n, ϵ)[agent.id]\n",
    "    end\n",
    "end;"
   ]
  },
  {
   "cell_type": "markdown",
   "metadata": {},
   "source": [
    "### Model Inizialization"
   ]
  },
  {
   "cell_type": "code",
   "execution_count": 5,
   "metadata": {},
   "outputs": [],
   "source": [
    "# Voter Model Initialization\n",
    "function init_model_voters(N::Int64, M::Int64, K::Int64, community)\n",
    "       \n",
    "    properties = @dict(N, M, K)\n",
    "    \n",
    "    # Create Directed Weighted Graph\n",
    "    space = GraphSpace(SimpleWeightedDiGraph(N+M)) \n",
    "    model_voters = ABM(Voter, space; properties = properties)\n",
    "    \n",
    "    \n",
    "    for id in 1:M\n",
    "        pos = id\n",
    "        score = 1.0\n",
    "        final_score = 0\n",
    "        candidacy = true\n",
    "        add_agent!(pos, model_voters, candidacy, score, final_score, community[id])\n",
    "    end\n",
    "\n",
    "    for id in (M+1):N+M\n",
    "        pos = id\n",
    "        score = 1.0\n",
    "        final_score = 0\n",
    "        candidacy = false\n",
    "        add_agent!(pos, model_voters, candidacy, score, final_score, community[id])\n",
    "    end\n",
    "    \n",
    "    return model_voters\n",
    "end;"
   ]
  },
  {
   "cell_type": "markdown",
   "metadata": {},
   "source": [
    "### Parameters"
   ]
  },
  {
   "cell_type": "code",
   "execution_count": 6,
   "metadata": {},
   "outputs": [],
   "source": [
    "# Create population of voters \n",
    "N = 80\n",
    "\n",
    "# Create subpopulation of candidates\n",
    "M = 10;\n",
    "\n",
    "# Create subpopulation of elected\n",
    "K = 3;\n",
    "\n",
    "# Initialize number of steps\n",
    "nsteps = 1;\n",
    "\n",
    "\n",
    "\n",
    "community = []\n",
    "for i in 1:N\n",
    "    if i <= M\n",
    "        if i < M/3\n",
    "            push!(community,1)\n",
    "        elseif i >= M/3 && i < 2*(M/3)\n",
    "            push!(community,2)\n",
    "        else\n",
    "            push!(community,3)\n",
    "        end\n",
    "    else\n",
    "         if i < N/3\n",
    "            push!(community,1)\n",
    "        elseif i >= N/3 && i < 2*(N/3)\n",
    "            push!(community,2)\n",
    "        else\n",
    "            push!(community,3)\n",
    "        end\n",
    "    end\n",
    "end\n",
    "append!(community, community[1:M])\n",
    "\n",
    "\n",
    "α = 0.85\n",
    "n = 500 \n",
    "ϵ = 1e-6;"
   ]
  },
  {
   "cell_type": "markdown",
   "metadata": {},
   "source": [
    "### Voter Simulation"
   ]
  },
  {
   "cell_type": "code",
   "execution_count": 7,
   "metadata": {},
   "outputs": [
    {
     "data": {
      "text/html": [
       "<table class=\"data-frame\"><thead><tr><th></th><th>id</th><th>pos</th><th>candidacy</th><th>score</th><th>final_score</th><th>community</th></tr><tr><th></th><th>Int64</th><th>Int64</th><th>Bool</th><th>Float64</th><th>Float64</th><th>Int64</th></tr></thead><tbody><p>90 rows × 6 columns</p><tr><th>1</th><td>68</td><td>68</td><td>0</td><td>1.0</td><td>0.0</td><td>3</td></tr><tr><th>2</th><td>2</td><td>2</td><td>1</td><td>1.0</td><td>0.0</td><td>1</td></tr><tr><th>3</th><td>89</td><td>89</td><td>0</td><td>1.0</td><td>0.0</td><td>3</td></tr><tr><th>4</th><td>11</td><td>11</td><td>0</td><td>1.0</td><td>0.0</td><td>1</td></tr><tr><th>5</th><td>39</td><td>39</td><td>0</td><td>1.0</td><td>0.0</td><td>2</td></tr><tr><th>6</th><td>46</td><td>46</td><td>0</td><td>1.0</td><td>0.0</td><td>2</td></tr><tr><th>7</th><td>85</td><td>85</td><td>0</td><td>1.0</td><td>0.0</td><td>2</td></tr><tr><th>8</th><td>25</td><td>25</td><td>0</td><td>1.0</td><td>0.0</td><td>1</td></tr><tr><th>9</th><td>55</td><td>55</td><td>0</td><td>1.0</td><td>0.0</td><td>3</td></tr><tr><th>10</th><td>42</td><td>42</td><td>0</td><td>1.0</td><td>0.0</td><td>2</td></tr><tr><th>11</th><td>29</td><td>29</td><td>0</td><td>1.0</td><td>0.0</td><td>2</td></tr><tr><th>12</th><td>58</td><td>58</td><td>0</td><td>1.0</td><td>0.0</td><td>3</td></tr><tr><th>13</th><td>66</td><td>66</td><td>0</td><td>1.0</td><td>0.0</td><td>3</td></tr><tr><th>14</th><td>59</td><td>59</td><td>0</td><td>1.0</td><td>0.0</td><td>3</td></tr><tr><th>15</th><td>8</td><td>8</td><td>1</td><td>1.0</td><td>0.0</td><td>3</td></tr><tr><th>16</th><td>74</td><td>74</td><td>0</td><td>1.0</td><td>0.0</td><td>3</td></tr><tr><th>17</th><td>57</td><td>57</td><td>0</td><td>1.0</td><td>0.0</td><td>3</td></tr><tr><th>18</th><td>20</td><td>20</td><td>0</td><td>1.0</td><td>0.0</td><td>1</td></tr><tr><th>19</th><td>90</td><td>90</td><td>0</td><td>1.0</td><td>0.0</td><td>3</td></tr><tr><th>20</th><td>14</td><td>14</td><td>0</td><td>1.0</td><td>0.0</td><td>1</td></tr><tr><th>21</th><td>31</td><td>31</td><td>0</td><td>1.0</td><td>0.0</td><td>2</td></tr><tr><th>22</th><td>78</td><td>78</td><td>0</td><td>1.0</td><td>0.0</td><td>3</td></tr><tr><th>23</th><td>70</td><td>70</td><td>0</td><td>1.0</td><td>0.0</td><td>3</td></tr><tr><th>24</th><td>33</td><td>33</td><td>0</td><td>1.0</td><td>0.0</td><td>2</td></tr><tr><th>25</th><td>18</td><td>18</td><td>0</td><td>1.0</td><td>0.0</td><td>1</td></tr><tr><th>26</th><td>52</td><td>52</td><td>0</td><td>1.0</td><td>0.0</td><td>2</td></tr><tr><th>27</th><td>69</td><td>69</td><td>0</td><td>1.0</td><td>0.0</td><td>3</td></tr><tr><th>28</th><td>26</td><td>26</td><td>0</td><td>1.0</td><td>0.0</td><td>1</td></tr><tr><th>29</th><td>35</td><td>35</td><td>0</td><td>1.0</td><td>0.0</td><td>2</td></tr><tr><th>30</th><td>83</td><td>83</td><td>0</td><td>1.0</td><td>0.0</td><td>1</td></tr><tr><th>&vellip;</th><td>&vellip;</td><td>&vellip;</td><td>&vellip;</td><td>&vellip;</td><td>&vellip;</td><td>&vellip;</td></tr></tbody></table>"
      ],
      "text/latex": [
       "\\begin{tabular}{r|cccccc}\n",
       "\t& id & pos & candidacy & score & final\\_score & community\\\\\n",
       "\t\\hline\n",
       "\t& Int64 & Int64 & Bool & Float64 & Float64 & Int64\\\\\n",
       "\t\\hline\n",
       "\t1 & 68 & 68 & 0 & 1.0 & 0.0 & 3 \\\\\n",
       "\t2 & 2 & 2 & 1 & 1.0 & 0.0 & 1 \\\\\n",
       "\t3 & 89 & 89 & 0 & 1.0 & 0.0 & 3 \\\\\n",
       "\t4 & 11 & 11 & 0 & 1.0 & 0.0 & 1 \\\\\n",
       "\t5 & 39 & 39 & 0 & 1.0 & 0.0 & 2 \\\\\n",
       "\t6 & 46 & 46 & 0 & 1.0 & 0.0 & 2 \\\\\n",
       "\t7 & 85 & 85 & 0 & 1.0 & 0.0 & 2 \\\\\n",
       "\t8 & 25 & 25 & 0 & 1.0 & 0.0 & 1 \\\\\n",
       "\t9 & 55 & 55 & 0 & 1.0 & 0.0 & 3 \\\\\n",
       "\t10 & 42 & 42 & 0 & 1.0 & 0.0 & 2 \\\\\n",
       "\t11 & 29 & 29 & 0 & 1.0 & 0.0 & 2 \\\\\n",
       "\t12 & 58 & 58 & 0 & 1.0 & 0.0 & 3 \\\\\n",
       "\t13 & 66 & 66 & 0 & 1.0 & 0.0 & 3 \\\\\n",
       "\t14 & 59 & 59 & 0 & 1.0 & 0.0 & 3 \\\\\n",
       "\t15 & 8 & 8 & 1 & 1.0 & 0.0 & 3 \\\\\n",
       "\t16 & 74 & 74 & 0 & 1.0 & 0.0 & 3 \\\\\n",
       "\t17 & 57 & 57 & 0 & 1.0 & 0.0 & 3 \\\\\n",
       "\t18 & 20 & 20 & 0 & 1.0 & 0.0 & 1 \\\\\n",
       "\t19 & 90 & 90 & 0 & 1.0 & 0.0 & 3 \\\\\n",
       "\t20 & 14 & 14 & 0 & 1.0 & 0.0 & 1 \\\\\n",
       "\t21 & 31 & 31 & 0 & 1.0 & 0.0 & 2 \\\\\n",
       "\t22 & 78 & 78 & 0 & 1.0 & 0.0 & 3 \\\\\n",
       "\t23 & 70 & 70 & 0 & 1.0 & 0.0 & 3 \\\\\n",
       "\t24 & 33 & 33 & 0 & 1.0 & 0.0 & 2 \\\\\n",
       "\t25 & 18 & 18 & 0 & 1.0 & 0.0 & 1 \\\\\n",
       "\t26 & 52 & 52 & 0 & 1.0 & 0.0 & 2 \\\\\n",
       "\t27 & 69 & 69 & 0 & 1.0 & 0.0 & 3 \\\\\n",
       "\t28 & 26 & 26 & 0 & 1.0 & 0.0 & 1 \\\\\n",
       "\t29 & 35 & 35 & 0 & 1.0 & 0.0 & 2 \\\\\n",
       "\t30 & 83 & 83 & 0 & 1.0 & 0.0 & 1 \\\\\n",
       "\t$\\dots$ & $\\dots$ & $\\dots$ & $\\dots$ & $\\dots$ & $\\dots$ & $\\dots$ \\\\\n",
       "\\end{tabular}\n"
      ],
      "text/plain": [
       "90×6 DataFrame\n",
       "│ Row │ id    │ pos   │ candidacy │ score   │ final_score │ community │\n",
       "│     │ \u001b[90mInt64\u001b[39m │ \u001b[90mInt64\u001b[39m │ \u001b[90mBool\u001b[39m      │ \u001b[90mFloat64\u001b[39m │ \u001b[90mFloat64\u001b[39m     │ \u001b[90mInt64\u001b[39m     │\n",
       "├─────┼───────┼───────┼───────────┼─────────┼─────────────┼───────────┤\n",
       "│ 1   │ 68    │ 68    │ 0         │ 1.0     │ 0.0         │ 3         │\n",
       "│ 2   │ 2     │ 2     │ 1         │ 1.0     │ 0.0         │ 1         │\n",
       "│ 3   │ 89    │ 89    │ 0         │ 1.0     │ 0.0         │ 3         │\n",
       "│ 4   │ 11    │ 11    │ 0         │ 1.0     │ 0.0         │ 1         │\n",
       "│ 5   │ 39    │ 39    │ 0         │ 1.0     │ 0.0         │ 2         │\n",
       "│ 6   │ 46    │ 46    │ 0         │ 1.0     │ 0.0         │ 2         │\n",
       "│ 7   │ 85    │ 85    │ 0         │ 1.0     │ 0.0         │ 2         │\n",
       "│ 8   │ 25    │ 25    │ 0         │ 1.0     │ 0.0         │ 1         │\n",
       "│ 9   │ 55    │ 55    │ 0         │ 1.0     │ 0.0         │ 3         │\n",
       "│ 10  │ 42    │ 42    │ 0         │ 1.0     │ 0.0         │ 2         │\n",
       "⋮\n",
       "│ 80  │ 88    │ 88    │ 0         │ 1.0     │ 0.0         │ 3         │\n",
       "│ 81  │ 53    │ 53    │ 0         │ 1.0     │ 0.0         │ 2         │\n",
       "│ 82  │ 72    │ 72    │ 0         │ 1.0     │ 0.0         │ 3         │\n",
       "│ 83  │ 28    │ 28    │ 0         │ 1.0     │ 0.0         │ 2         │\n",
       "│ 84  │ 5     │ 5     │ 1         │ 1.0     │ 0.0         │ 2         │\n",
       "│ 85  │ 23    │ 23    │ 0         │ 1.0     │ 0.0         │ 1         │\n",
       "│ 86  │ 63    │ 63    │ 0         │ 1.0     │ 0.0         │ 3         │\n",
       "│ 87  │ 27    │ 27    │ 0         │ 1.0     │ 0.0         │ 2         │\n",
       "│ 88  │ 56    │ 56    │ 0         │ 1.0     │ 0.0         │ 3         │\n",
       "│ 89  │ 41    │ 41    │ 0         │ 1.0     │ 0.0         │ 2         │\n",
       "│ 90  │ 15    │ 15    │ 0         │ 1.0     │ 0.0         │ 1         │"
      ]
     },
     "execution_count": 7,
     "metadata": {},
     "output_type": "execute_result"
    }
   ],
   "source": [
    "# Seed Selection\n",
    "Random.seed!(1234);\n",
    "\n",
    "# Model Instantiation\n",
    "model_voters = init_model_voters(N, M, K, community)\n",
    "\n",
    "# Data Collection\n",
    "data_voters = run!(model_voters, agent_step!, nsteps);\n",
    "\n",
    "#update_score_flow!(model_voters)\n",
    "\n",
    "sort!(DataFrame(allagents(model_voters)), :score, rev = true)"
   ]
  },
  {
   "cell_type": "code",
   "execution_count": null,
   "metadata": {},
   "outputs": [],
   "source": [
    "### Candidates "
   ]
  },
  {
   "cell_type": "markdown",
   "metadata": {},
   "source": [
    "### Visualization"
   ]
  },
  {
   "cell_type": "code",
   "execution_count": 8,
   "metadata": {},
   "outputs": [],
   "source": [
    "V = model_voters.space.graph\n",
    "V = ElectoralPhysics.LightGraphs_to_NetworkX(V);\n",
    "V = nx.convert_node_labels_to_integers(V, first_label=1);\n",
    "nx.write_graphml(V, \"bipartite_graph.graphml\")"
   ]
  },
  {
   "cell_type": "code",
   "execution_count": 9,
   "metadata": {},
   "outputs": [
    {
     "data": {
      "text/plain": [
       "true"
      ]
     },
     "execution_count": 9,
     "metadata": {},
     "output_type": "execute_result"
    }
   ],
   "source": [
    "is_bipartite(model_voters.space.graph)"
   ]
  },
  {
   "cell_type": "code",
   "execution_count": 10,
   "metadata": {},
   "outputs": [
    {
     "data": {
      "text/plain": [
       "{90, 161} directed simple Int64 graph with Float64 weights"
      ]
     },
     "execution_count": 10,
     "metadata": {},
     "output_type": "execute_result"
    }
   ],
   "source": [
    "model_voters.space.graph"
   ]
  },
  {
   "cell_type": "code",
   "execution_count": 19,
   "metadata": {},
   "outputs": [
    {
     "data": {
      "text/plain": [
       "3"
      ]
     },
     "execution_count": 19,
     "metadata": {},
     "output_type": "execute_result"
    }
   ],
   "source": [
    "outdegree(model_voters.space.graph)[11]"
   ]
  },
  {
   "cell_type": "code",
   "execution_count": null,
   "metadata": {},
   "outputs": [],
   "source": []
  }
 ],
 "metadata": {
  "kernelspec": {
   "display_name": "Julia 1.4.2",
   "language": "julia",
   "name": "julia-1.4"
  },
  "language_info": {
   "file_extension": ".jl",
   "mimetype": "application/julia",
   "name": "julia",
   "version": "1.4.2"
  }
 },
 "nbformat": 4,
 "nbformat_minor": 4
}
