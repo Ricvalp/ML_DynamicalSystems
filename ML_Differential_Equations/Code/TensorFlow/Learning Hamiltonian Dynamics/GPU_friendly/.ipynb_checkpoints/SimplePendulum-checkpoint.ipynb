{
 "cells": [
  {
   "cell_type": "code",
   "execution_count": 4,
   "metadata": {},
   "outputs": [],
   "source": [
    "import tensorflow as tf\n",
    "import matplotlib.pyplot as plt\n",
    "import numpy as np\n",
    "import math as mt\n",
    "from tensorflow import keras\n",
    "from tensorflow.keras import layers\n",
    "import time\n",
    "\n",
    "physical_devices = tf.config.list_physical_devices(\"GPU\")\n",
    "tf.config.experimental.set_memory_growth(physical_devices[0], True)"
   ]
  },
  {
   "cell_type": "code",
   "execution_count": 129,
   "metadata": {},
   "outputs": [],
   "source": [
    "class linear_module_up(layers.Layer):\n",
    "    \n",
    "    def __init__(self, bias):\n",
    "        super().__init__()\n",
    "        self.w = self.add_weight(\n",
    "        name='w',\n",
    "        shape=(),\n",
    "        initializer = 'random_normal',\n",
    "        trainable = True\n",
    "        )\n",
    "        \n",
    "        if bias == 1:\n",
    "            self.b = self.add_weight(\n",
    "            name='b',\n",
    "            shape=(2,),\n",
    "            initializer = 'random_normal',\n",
    "            trainable = True\n",
    "            )\n",
    "        \n",
    "        else:\n",
    "            self.b = tf.constant([0.,0.])\n",
    "\n",
    "    def call(self, x):\n",
    "        \n",
    "        L = tf.concat([[[1., self.w]], [[0., 1.]]], 0)\n",
    "        \n",
    "        return tf.linalg.matvec(L,x) + self.b\n",
    "\n",
    "class linear_module_low(layers.Layer):\n",
    "    \n",
    "    def __init__(self, bias):\n",
    "        super().__init__()\n",
    "        self.w = self.add_weight(\n",
    "        name='w',\n",
    "        shape=(),\n",
    "        initializer = 'random_normal',\n",
    "        trainable = True\n",
    "        )\n",
    "        \n",
    "        if bias == 1:\n",
    "            self.b = self.add_weight(\n",
    "            name='b',\n",
    "            shape=(2,),\n",
    "            initializer = 'random_normal',\n",
    "            trainable = True\n",
    "            )\n",
    "        \n",
    "        else:\n",
    "            self.b = tf.constant([0.,0.])\n",
    "\n",
    "    def call(self, x):\n",
    "        \n",
    "        L = tf.concat([[[1., 0.]], [[self.w, 1.]]], 0)\n",
    "        \n",
    "        return tf.linalg.matvec(L,x)\n",
    "\n",
    "\n",
    "class activation_module_up(layers.Layer):\n",
    "    \n",
    "    def __init__(self):\n",
    "        \n",
    "        super().__init__()\n",
    "        \n",
    "        self.w = self.add_weight(\n",
    "        name='w',\n",
    "        shape=(),\n",
    "        initializer = 'random_normal',\n",
    "        trainable = True\n",
    "        )\n",
    "\n",
    "\n",
    "    def call(self, x):        \n",
    "        t = tf.concat([ [[0., self.w]], [[0.,0.]] ], 0)\n",
    "        return x + tf.linalg.matvec(t, tf.math.sigmoid(x))\n",
    "\n",
    "class activation_module_low(layers.Layer):\n",
    "    \n",
    "    def __init__(self):\n",
    "        \n",
    "        super().__init__()\n",
    "        \n",
    "        self.w = self.add_weight(\n",
    "        name='w',\n",
    "        shape=(),\n",
    "        initializer = 'random_normal',\n",
    "        trainable = True\n",
    "        )\n",
    "\n",
    "\n",
    "    def call(self, x):        \n",
    "        t = tf.concat([ [[0., 0.]], [[self.w, 0.]] ], 0)\n",
    "        return x + tf.linalg.matvec(t, tf.math.sigmoid(x))"
   ]
  },
  {
   "cell_type": "code",
   "execution_count": 152,
   "metadata": {},
   "outputs": [],
   "source": [
    "class SympNet(keras.Model):\n",
    "    \n",
    "    def __init__(self, N_layers, N_sub):\n",
    "    \n",
    "        super().__init__()\n",
    "        \n",
    "        \n",
    "        self.Modules = []\n",
    "        \n",
    "        for i in range(N_layers):\n",
    "            \n",
    "            if i%2==0:\n",
    "                self.Modules.append(activation_module_up())\n",
    "                \n",
    "            else:\n",
    "                self.Modules.append(activation_module_low())\n",
    "                \n",
    "            for j in range(N_sub):\n",
    "                \n",
    "                if j==(N_sub-1):\n",
    "                    bias = 0\n",
    "                else:\n",
    "                    bias = 0\n",
    "                \n",
    "                if j%2==0:\n",
    "                    self.Modules.append(linear_module_up(bias))\n",
    "\n",
    "                else:\n",
    "                    self.Modules.append(linear_module_low(bias))\n",
    " \n",
    "\n",
    "    \n",
    "    def call(self, input_tensor):\n",
    "        \n",
    "        boom = self.Modules[0](input_tensor)\n",
    "        \n",
    "        for i in range(1,len(self.Modules)):\n",
    "            boom = self.Modules[i](boom)\n",
    "    \n",
    "        return boom"
   ]
  },
  {
   "cell_type": "code",
   "execution_count": 153,
   "metadata": {},
   "outputs": [],
   "source": [
    "def leapfrog(q0, p0, Δt, N):\n",
    "    q = [q0]\n",
    "    p = [p0]\n",
    "    p̄ = []\n",
    "    for i in range(N):\n",
    "        p̄.append(p[-1] - 0.5*Δt*mt.sin(q[-1]))\n",
    "        q.append(q[-1] + Δt*p̄[-1])\n",
    "        p.append(p̄[-1] - 0.5*Δt*mt.sin(q[-1]))\n",
    "    \n",
    "    X = []\n",
    "    for i,j in zip(p,q):\n",
    "        X.append([[i,j]])\n",
    "    return X[0:len(X)-1], X[1:]\n",
    "\n",
    "def leapfrog(q0, p0, Δt, N):\n",
    "    q = [q0]\n",
    "    p = [p0]\n",
    "    p̄ = []\n",
    "    for i in range(N):\n",
    "        p̄.append(p[-1] - 0.5*Δt*mt.sin(q[-1]))\n",
    "        q.append(q[-1] + Δt*p̄[-1])\n",
    "        p.append(p̄[-1] - 0.5*Δt*mt.sin(q[-1]))\n",
    "    \n",
    "    X = []\n",
    "    for i,j in zip(p,q):\n",
    "        X.append([[i,j]])\n",
    "    return X[0:len(X)-1], X[1:]\n",
    "\n",
    "def plot_true_tr(leapfrog, q0, p0, Δt, N):\n",
    "    X = leapfrog(q0, p0, Δt, N)[0]\n",
    "    q = []\n",
    "    p = []\n",
    "    for i in range(len(X)):\n",
    "        q.append(X[i][0][0])\n",
    "        p.append(X[i][0][1])\n",
    "    plt.scatter(p, q)"
   ]
  },
  {
   "cell_type": "code",
   "execution_count": 154,
   "metadata": {},
   "outputs": [
    {
     "data": {
      "image/png": "[encoded data removed]",
      "text/plain": [
       "<Figure size 432x288 with 1 Axes>"
      ]
     },
     "metadata": {
      "needs_background": "light"
     },
     "output_type": "display_data"
    }
   ],
   "source": [
    "q0 = 1.2\n",
    "p0 = 1.67\n",
    "Δt = 0.1\n",
    "N = 50\n",
    "\n",
    "\n",
    "X = leapfrog(q0, p0, Δt, N)\n",
    "plot_true_tr(leapfrog, q0, p0, Δt, N)"
   ]
  },
  {
   "cell_type": "code",
   "execution_count": 157,
   "metadata": {},
   "outputs": [
    {
     "data": {
      "text/plain": [
       "(TensorSpec(shape=(None, 1, 2), dtype=tf.float32, name=None),\n",
       " TensorSpec(shape=(None, 1, 2), dtype=tf.float32, name=None))"
      ]
     },
     "execution_count": 157,
     "metadata": {},
     "output_type": "execute_result"
    }
   ],
   "source": [
    "x_train = np.array(X[0])\n",
    "x_train = x_train.astype(np.float32)\n",
    "\n",
    "y_train = np.array(X[1])\n",
    "y_train = y_train.astype(np.float32)\n",
    "\n",
    "train_dataset = tf.data.Dataset.from_tensor_slices((x_train, y_train))\n",
    "\n",
    "train_dataset = train_dataset.batch(N)\n",
    "\n",
    "train_dataset.element_spec"
   ]
  },
  {
   "cell_type": "code",
   "execution_count": 158,
   "metadata": {},
   "outputs": [],
   "source": [
    "model = SympNet(8,5)"
   ]
  },
  {
   "cell_type": "code",
   "execution_count": 159,
   "metadata": {},
   "outputs": [],
   "source": [
    "model.compile(\n",
    "    loss=keras.losses.MeanSquaredError(),\n",
    "    optimizer=keras.optimizers.Adam(0.001),\n",
    "    metrics=[\"accuracy\"],\n",
    ")"
   ]
  },
  {
   "cell_type": "code",
   "execution_count": 160,
   "metadata": {},
   "outputs": [
    {
     "name": "stdout",
     "output_type": "stream",
     "text": [
      "running time : 67.07606148719788 seconds\n"
     ]
    }
   ],
   "source": [
    "start_time = time.time()\n",
    "history = model.fit(train_dataset, epochs=4000, verbose=0);\n",
    "print(\"running time : %s seconds\" % (time.time() - start_time))"
   ]
  },
  {
   "cell_type": "code",
   "execution_count": 161,
   "metadata": {},
   "outputs": [
    {
     "data": {
      "image/png": "[encoded data removed]",
      "text/plain": [
       "<Figure size 720x360 with 1 Axes>"
      ]
     },
     "metadata": {
      "needs_background": "light"
     },
     "output_type": "display_data"
    }
   ],
   "source": [
    "plt.figure(figsize = (10,5))\n",
    "plt.plot(history.history[\"loss\"])\n",
    "plt.xlabel(\"epochs\", fontsize = \"x-large\")\n",
    "plt.ylabel(\"loss\", fontsize = \"x-large\")\n",
    "plt.yscale(\"log\")"
   ]
  },
  {
   "cell_type": "code",
   "execution_count": 162,
   "metadata": {},
   "outputs": [
    {
     "data": {
      "image/png": "[encoded data removed]",
      "text/plain": [
       "<Figure size 432x288 with 1 Axes>"
      ]
     },
     "metadata": {
      "needs_background": "light"
     },
     "output_type": "display_data"
    }
   ],
   "source": [
    "N_test = 60\n",
    "p = [model(x_train[0])[0][0]]\n",
    "q = [model(x_train[0])[0][1]]\n",
    "\n",
    "run = [model(x_train[0][0])]\n",
    "for i in range(N_test):\n",
    "    run.append(model(run[-1]))\n",
    "    p.append(run[-1][0])\n",
    "    q.append(run[-1][1])\n",
    "\n",
    "plot_true_tr(leapfrog, q0, p0, Δt, N_test)\n",
    "plt.plot(q, p, color = \"r\", label = \"learned\")\n",
    "plt.legend()\n",
    "plt.show()"
   ]
  },
  {
   "cell_type": "code",
   "execution_count": null,
   "metadata": {},
   "outputs": [],
   "source": []
  }
 ],
 "metadata": {
  "kernelspec": {
   "display_name": "Python 3",
   "language": "python",
   "name": "python3"
  },
  "language_info": {
   "codemirror_mode": {
    "name": "ipython",
    "version": 3
   },
   "file_extension": ".py",
   "mimetype": "text/x-python",
   "name": "python",
   "nbconvert_exporter": "python",
   "pygments_lexer": "ipython3",
   "version": "3.7.4"
  }
 },
 "nbformat": 4,
 "nbformat_minor": 4
}
