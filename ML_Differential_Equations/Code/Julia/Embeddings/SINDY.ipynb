{
 "cells": [
  {
   "cell_type": "code",
   "execution_count": 1,
   "metadata": {},
   "outputs": [
    {
     "data": {
      "text/plain": [
       "Plots.GRBackend()"
      ]
     },
     "execution_count": 1,
     "metadata": {},
     "output_type": "execute_result"
    }
   ],
   "source": [
    "using DataDrivenDiffEq\n",
    "using ModelingToolkit\n",
    "using OrdinaryDiffEq\n",
    "\n",
    "using LinearAlgebra\n",
    "using Plots\n",
    "gr()"
   ]
  },
  {
   "cell_type": "code",
   "execution_count": 2,
   "metadata": {},
   "outputs": [],
   "source": [
    "# Create a test problem\n",
    "function lorenz(u,p,t)\n",
    "    x, y, z = u\n",
    "    ẋ = 10.0*(y - x)\n",
    "    ẏ = x*(28.0-z) - y\n",
    "    ż = x*y - (8/3)*z\n",
    "    return [ẋ, ẏ, ż]\n",
    "end\n",
    "\n",
    "u0 = [-8.0; 7.0; 27.0]\n",
    "p = [10.0; -10.0; 28.0; -1.0; -1.0; 1.0; -8/3]\n",
    "tspan = (0.0,100.0)\n",
    "dt = 0.001\n",
    "problem = ODEProblem(lorenz,u0,tspan)\n",
    "solution = solve(problem, Tsit5(), saveat = dt, atol = 1e-7, rtol = 1e-8)\n",
    "\n",
    "X = Array(solution)\n",
    "DX = similar(X)\n",
    "for (i, xi) in enumerate(eachcol(X))\n",
    "    DX[:,i] = lorenz(xi, [], 0.0)\n",
    "end"
   ]
  },
  {
   "cell_type": "code",
   "execution_count": 3,
   "metadata": {},
   "outputs": [
    {
     "data": {
      "text/plain": [
       "3×100001 Array{Float64,2}:\n",
       "  150.0   148.354    146.717    145.088   …  -27.407   -27.6211  -27.8369\n",
       "  -15.0   -15.8344   -16.6204   -17.3596     -48.7382  -49.1132  -49.4897\n",
       " -128.0  -126.495   -125.005   -123.529      -10.7166  -10.3061   -9.89088"
      ]
     },
     "execution_count": 3,
     "metadata": {},
     "output_type": "execute_result"
    }
   ],
   "source": [
    "DX"
   ]
  },
  {
   "cell_type": "code",
   "execution_count": 4,
   "metadata": {},
   "outputs": [
    {
     "ename": "MethodError",
     "evalue": "MethodError: no method matching SInDy(::Array{Float64,2}, ::Array{Float64,2}, ::Basis{Array{Expression,1},Array{Operation,1},Array{Operation,1},Operation}, ::STRRidge{Float64}; maxiter=100, normalize=true)\nClosest candidates are:\n  SInDy(::AbstractArray{S,2}, ::AbstractArray{S,2}, ::Basis; p, t, maxiter, opt, denoise, normalize, convergence_error) where S<:Number at C:\\Users\\valpe\\.julia\\packages\\DataDrivenDiffEq\\kn8bK\\src\\sindy\\sindy.jl:144\n  SInDy(::Any, ::Any, ::Basis, !Matched::AbstractArray; f, g, p, t, maxiter, opt, denoise, normalize, convergence_error) at C:\\Users\\valpe\\.julia\\packages\\DataDrivenDiffEq\\kn8bK\\src\\sindy\\sindy.jl:160\n  SInDy(!Matched::AbstractArray{S,1}, ::AbstractArray, ::Basis; kwargs...) where S<:Number at C:\\Users\\valpe\\.julia\\packages\\DataDrivenDiffEq\\kn8bK\\src\\sindy\\sindy.jl:117\n  ...",
     "output_type": "error",
     "traceback": [
      "MethodError: no method matching SInDy(::Array{Float64,2}, ::Array{Float64,2}, ::Basis{Array{Expression,1},Array{Operation,1},Array{Operation,1},Operation}, ::STRRidge{Float64}; maxiter=100, normalize=true)\nClosest candidates are:\n  SInDy(::AbstractArray{S,2}, ::AbstractArray{S,2}, ::Basis; p, t, maxiter, opt, denoise, normalize, convergence_error) where S<:Number at C:\\Users\\valpe\\.julia\\packages\\DataDrivenDiffEq\\kn8bK\\src\\sindy\\sindy.jl:144\n  SInDy(::Any, ::Any, ::Basis, !Matched::AbstractArray; f, g, p, t, maxiter, opt, denoise, normalize, convergence_error) at C:\\Users\\valpe\\.julia\\packages\\DataDrivenDiffEq\\kn8bK\\src\\sindy\\sindy.jl:160\n  SInDy(!Matched::AbstractArray{S,1}, ::AbstractArray, ::Basis; kwargs...) where S<:Number at C:\\Users\\valpe\\.julia\\packages\\DataDrivenDiffEq\\kn8bK\\src\\sindy\\sindy.jl:117\n  ...",
      "",
      "Stacktrace:",
      " [1] top-level scope at In[4]:20"
     ]
    }
   ],
   "source": [
    "## Now automatically discover the system that generated the data\n",
    "################################################################\n",
    "\n",
    "@variables x y z\n",
    "u = [x; y; z]\n",
    "polys = Operation[]\n",
    "for i ∈ 0:4\n",
    "    for j ∈ 0:i\n",
    "        for k ∈ 0:j\n",
    "            push!(polys, u[1]^i*u[2]^j*u[3]^k)\n",
    "            push!(polys, u[2]^i*u[3]^j*u[1]^k)\n",
    "            push!(polys, u[3]^i*u[1]^j*u[2]^k)\n",
    "        end\n",
    "    end\n",
    "end\n",
    "\n",
    "basis = Basis(polys, u)\n",
    "\n",
    "opt = STRRidge(0.1)\n",
    "Ψ = SInDy(X, DX, basis, opt, maxiter = 100, normalize = true)\n",
    "print_equations(Ψ)\n",
    "get_error(Ψ)"
   ]
  },
  {
   "cell_type": "code",
   "execution_count": null,
   "metadata": {},
   "outputs": [],
   "source": []
  }
 ],
 "metadata": {
  "kernelspec": {
   "display_name": "Julia 1.4.2",
   "language": "julia",
   "name": "julia-1.4"
  },
  "language_info": {
   "file_extension": ".jl",
   "mimetype": "application/julia",
   "name": "julia",
   "version": "1.4.2"
  }
 },
 "nbformat": 4,
 "nbformat_minor": 4
}
