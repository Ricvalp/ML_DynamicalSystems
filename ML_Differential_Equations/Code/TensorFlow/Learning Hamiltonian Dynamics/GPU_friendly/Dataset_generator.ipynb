{
 "cells": [
  {
   "cell_type": "code",
   "execution_count": 18,
   "metadata": {},
   "outputs": [
    {
     "data": {
      "text/plain": [
       "10001-element Array{Float64,1}:\n",
       "  0.5\n",
       "  0.500054383201662\n",
       "  0.5004225779956348\n",
       "  0.5014122194278793\n",
       "  0.5033311624147037\n",
       "  0.5064876408672623\n",
       "  0.5111906415100771\n",
       "  0.5177502256784055\n",
       "  0.5264779324241549\n",
       "  0.5376876563374099\n",
       "  0.5516962431775132\n",
       "  0.5688242699152561\n",
       "  0.5893973849834513\n",
       "  ⋮\n",
       " -0.9975741475606238\n",
       " -1.0074201797347095\n",
       " -1.0176343186556136\n",
       " -1.0285539342939525\n",
       " -1.0405190784315275\n",
       " -1.0538729260443835\n",
       " -1.0689625523103488\n",
       " -1.0861394292087458\n",
       " -1.1057594255205667\n",
       " -1.1281819630130987\n",
       " -1.1537724109138958\n",
       " -1.1829003102416298"
      ]
     },
     "execution_count": 18,
     "metadata": {},
     "output_type": "execute_result"
    }
   ],
   "source": [
    "using DynamicalSystems # or DynamicalSystemsBase\n",
    "ds = Systems.double_pendulum([π/2, 0., 0., 0.5]; G=10.0, L1 = 1.0, L2 = 1.0, M1 = 1.0, M2 = 1.0)\n",
    "q = trajectory(ds, 100, dt = 0.01)[:,1]\n",
    "p = trajectory(ds, 100, dt = 0.01)[:,2]\n",
    "qq = trajectory(ds, 100, dt = 0.01)[:,3]\n",
    "pp = trajectory(ds, 100, dt = 0.01)[:,4]"
   ]
  },
  {
   "cell_type": "code",
   "execution_count": null,
   "metadata": {},
   "outputs": [],
   "source": []
  }
 ],
 "metadata": {
  "kernelspec": {
   "display_name": "Julia 1.4.2",
   "language": "julia",
   "name": "julia-1.4"
  },
  "language_info": {
   "file_extension": ".jl",
   "mimetype": "application/julia",
   "name": "julia",
   "version": "1.4.2"
  }
 },
 "nbformat": 4,
 "nbformat_minor": 4
}
