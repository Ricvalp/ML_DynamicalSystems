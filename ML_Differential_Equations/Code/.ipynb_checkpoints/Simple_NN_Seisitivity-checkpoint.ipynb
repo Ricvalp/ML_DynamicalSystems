{
 "cells": [
  {
   "cell_type": "code",
   "execution_count": 394,
   "metadata": {
    "executionInfo": {
     "elapsed": 2628,
     "status": "ok",
     "timestamp": 1604495752852,
     "user": {
      "displayName": "Riccardo Valperga",
      "photoUrl": "",
      "userId": "03900064873846017016"
     },
     "user_tz": -60
    },
    "id": "iYPtM2gijSoJ"
   },
   "outputs": [],
   "source": [
    "import tensorflow as tf\n",
    "import keras\n",
    "from keras import backend as bk\n",
    "import timeit\n",
    "\n",
    "from scipy.integrate import ode\n",
    "import math as mt\n",
    "import numpy as np\n",
    "import matplotlib.pyplot as plt\n",
    "import random as rdm\n",
    "import time\n",
    "from datetime import datetime\n",
    "import matplotlib.animation as animation\n",
    "from mpl_toolkits.mplot3d import Axes3D\n",
    "\n",
    "physical_devices = tf.config.list_physical_devices('GPU') \n",
    "tf.config.experimental.set_memory_growth(physical_devices[0], True)"
   ]
  },
  {
   "cell_type": "markdown",
   "metadata": {
    "id": "yo_qNSPLjSoM"
   },
   "source": [
    "### Model"
   ]
  },
  {
   "cell_type": "code",
   "execution_count": 395,
   "metadata": {
    "executionInfo": {
     "elapsed": 806,
     "status": "ok",
     "timestamp": 1604497271875,
     "user": {
      "displayName": "Riccardo Valperga",
      "photoUrl": "",
      "userId": "03900064873846017016"
     },
     "user_tz": -60
    },
    "id": "g53FOuUZjSoN"
   },
   "outputs": [],
   "source": [
    "class custom_model:\n",
    "\n",
    "    def __init__(self):\n",
    "        xavier=tf.keras.initializers.GlorotUniform()\n",
    "        self.l1=tf.keras.layers.Dense(1,kernel_initializer=xavier,activation=tf.nn.tanh)\n",
    "        self.l2=tf.keras.layers.Dense(5,kernel_initializer=xavier,activation=tf.nn.tanh)\n",
    "        self.l3=tf.keras.layers.Dense(5,kernel_initializer=xavier,activation=tf.nn.tanh)\n",
    "        self.out=tf.keras.layers.Dense(1,kernel_initializer=xavier)\n",
    "        self.train_op = tf.keras.optimizers.Adam(learning_rate=0.001, clipvalue=0.003)\n",
    "\n",
    "    # Running the model\n",
    "\n",
    "    def run(self, X):\n",
    "        boom = self.l1(X)\n",
    "        boom1 = self.l2(boom)\n",
    "        boom2 = self.l3(boom1)\n",
    "        boom3 = self.out(boom2)\n",
    "        return boom3\n",
    "\n",
    "    def get_loss(self, Xf, XuI, YI):\n",
    "        with tf.GradientTape() as tape:\n",
    "            tape.watch(Xf)\n",
    "            with tf.GradientTape() as tape1:\n",
    "                tape1.watch(Xf)\n",
    "                boom = self.l1(Xf)\n",
    "                boom1 = self.l2(boom)\n",
    "                boom2 = self.l3(boom1)\n",
    "                boom3 = self.out(boom2)\n",
    "                g = tape1.gradient(boom3, Xf)\n",
    "            gg = tape.gradient(g, Xf)\n",
    "        u_t = g[:, 0]\n",
    "        u_tt = gg[:, 0]\n",
    "        u = boom3[:, 0]        \n",
    "        MSEf = tf.reduce_mean((u_tt + u)**2)\n",
    "        Y_I_predict = self.run(XuI)\n",
    "        MSEu =  tf.reduce_mean((Y_I_predict - YI)**2)\n",
    "        return MSEu + MSEf\n",
    "\n",
    "    \n",
    "    \n",
    "    def get_grad(self, Xf, XuI, YI):\n",
    "        with tf.GradientTape() as tape:\n",
    "            tape.watch(self.l1.variables)\n",
    "            tape.watch(self.l2.variables)\n",
    "            tape.watch(self.l3.variables)\n",
    "            tape.watch(self.out.variables)\n",
    "            L = self.get_loss(Xf, XuI, YI)\n",
    "            g = tape.gradient(L, [self.l1.variables[0],self.l1.variables[1],self.l2.variables[0],self.l2.variables[1],self.l3.variables[0],self.l3.variables[1],self.out.variables[0],self.out.variables[1]])\n",
    "        return g\n",
    "\n",
    "    # perform gradient descent\n",
    "    def network_learn(self, Xf, XuI, YI):\n",
    "        g = self.get_grad(Xf, XuI, YI)\n",
    "        self.train_op.apply_gradients(zip(g, [self.l1.variables[0],self.l1.variables[1],self.l2.variables[0],self.l2.variables[1],self.l3.variables[0],self.l3.variables[1],self.out.variables[0],self.out.variables[1]]))\n",
    "\n",
    "    \n",
    "    \n",
    "    \n",
    "    \n",
    "    ###################################### Sensibility ############################\n",
    "    \n",
    "    def my_clipping(self, elem):\n",
    "        return tf.where(tf.math.abs(elem) > 0.05, elem, 0)\n",
    "    \n",
    "    \n",
    "    def get_loss_u(self, XuI, YI):\n",
    "        Y_I_predict = self.run(XuI)\n",
    "        MSEu =  tf.reduce_mean((Y_I_predict - YI)**2)\n",
    "        return MSEu\n",
    "    \n",
    "    def get_loss_f(self, Xf):\n",
    "        with tf.GradientTape() as tape:\n",
    "            tape.watch(Xf)\n",
    "            with tf.GradientTape() as tape1:\n",
    "                tape1.watch(Xf)\n",
    "                boom = self.l1(Xf)\n",
    "                boom1 = self.l2(boom)\n",
    "                boom2 = self.l3(boom1)\n",
    "                boom3 = self.out(boom2)\n",
    "                g = tape1.gradient(boom3, Xf)\n",
    "            gg = tape.gradient(g, Xf)\n",
    "        u_tt = gg[:, 0]\n",
    "        u = boom3[:, 0]        \n",
    "        MSEf = tf.reduce_mean((u_tt + u)**2)\n",
    "        return MSEf\n",
    "    \n",
    "    def get_grad_f(self, Xf):\n",
    "        with tf.GradientTape() as tape:\n",
    "            tape.watch(self.l1.variables)\n",
    "            tape.watch(self.l2.variables)\n",
    "            tape.watch(self.l3.variables)\n",
    "            tape.watch(self.out.variables)\n",
    "            L = self.get_loss_f(Xf)\n",
    "            g = tape.gradient(L, [self.l1.variables[0],self.l1.variables[1],self.l2.variables[0],self.l2.variables[1],self.l3.variables[0],self.l3.variables[1],self.out.variables[0],self.out.variables[1]])\n",
    "            \n",
    "        g = [tf.map_fn(self.my_clipping, t) for t in g]\n",
    "        return g\n",
    "\n",
    "\n",
    "    def get_grad_u(self, XuI, YI):\n",
    "        with tf.GradientTape() as tape:\n",
    "            tape.watch(self.l1.variables)\n",
    "            tape.watch(self.l2.variables)\n",
    "            tape.watch(self.l3.variables)\n",
    "            tape.watch(self.out.variables)\n",
    "            L = self.get_loss_u(XuI, YI)\n",
    "            g = tape.gradient(L, [self.l1.variables[0],self.l1.variables[1],self.l2.variables[0],self.l2.variables[1],self.l3.variables[0],self.l3.variables[1],self.out.variables[0],self.out.variables[1]])\n",
    "        \n",
    "        g = [tf.map_fn(self.my_clipping, t) for t in g]\n",
    "        return g\n",
    "\n",
    "    def network_learn_f(self, Xf):\n",
    "        g = self.get_grad_f(Xf)\n",
    "        self.train_op.apply_gradients(zip(g, [self.l1.variables[0],self.l1.variables[1],self.l2.variables[0],self.l2.variables[1],self.l3.variables[0],self.l3.variables[1],self.out.variables[0],self.out.variables[1]]))\n",
    "\n",
    "    def network_learn_u(self, XuI, YI):\n",
    "        g = self.get_grad_u(XuI, YI)\n",
    "        self.train_op.apply_gradients(zip(g, [self.l1.variables[0],self.l1.variables[1],self.l2.variables[0],self.l2.variables[1],self.l3.variables[0],self.l3.variables[1],self.out.variables[0],self.out.variables[1]]))\n"
   ]
  },
  {
   "cell_type": "markdown",
   "metadata": {
    "id": "dIWQ195-jSoP"
   },
   "source": [
    "### Model"
   ]
  },
  {
   "cell_type": "code",
   "execution_count": 396,
   "metadata": {
    "executionInfo": {
     "elapsed": 870,
     "status": "ok",
     "timestamp": 1604497273988,
     "user": {
      "displayName": "Riccardo Valperga",
      "photoUrl": "",
      "userId": "03900064873846017016"
     },
     "user_tz": -60
    },
    "id": "V4OK1k0kjSoP"
   },
   "outputs": [],
   "source": [
    "Model = custom_model()"
   ]
  },
  {
   "cell_type": "markdown",
   "metadata": {
    "id": "YbED9AeTjSoR"
   },
   "source": [
    "### Training Set"
   ]
  },
  {
   "cell_type": "code",
   "execution_count": 397,
   "metadata": {
    "executionInfo": {
     "elapsed": 1106,
     "status": "ok",
     "timestamp": 1604497276241,
     "user": {
      "displayName": "Riccardo Valperga",
      "photoUrl": "",
      "userId": "03900064873846017016"
     },
     "user_tz": -60
    },
    "id": "Ark5UyQAjSoS"
   },
   "outputs": [],
   "source": [
    "N_collocation = 10000\n",
    "\n",
    "I_points = tf.constant([[0.]])\n",
    "C_points = tf.constant([[rdm.randrange(-6000, 6000, 1)*0.001] for i in range(N_collocation)])"
   ]
  },
  {
   "cell_type": "markdown",
   "metadata": {},
   "source": [
    "### Initial Condition"
   ]
  },
  {
   "cell_type": "code",
   "execution_count": 398,
   "metadata": {
    "executionInfo": {
     "elapsed": 3170,
     "status": "ok",
     "timestamp": 1604497283306,
     "user": {
      "displayName": "Riccardo Valperga",
      "photoUrl": "",
      "userId": "03900064873846017016"
     },
     "user_tz": -60
    },
    "id": "wePG6snhjSoX"
   },
   "outputs": [],
   "source": [
    "YI = tf.constant([[2.]])"
   ]
  },
  {
   "cell_type": "markdown",
   "metadata": {},
   "source": [
    "### Training"
   ]
  },
  {
   "cell_type": "code",
   "execution_count": 346,
   "metadata": {
    "colab": {
     "base_uri": "https://localhost:8080/"
    },
    "id": "CCwdVXcpjSoc",
    "outputId": "c70ed95c-3983-492a-c15d-760ddd22e3f6",
    "scrolled": true
   },
   "outputs": [
    {
     "name": "stdout",
     "output_type": "stream",
     "text": [
      "Time:  27.71673390000069\n"
     ]
    }
   ],
   "source": [
    "start = timeit.default_timer()\n",
    "epochs = 700\n",
    "Loss = []\n",
    "for i in range(epochs):\n",
    "    C_points = tf.constant([[rdm.randrange(-6000, 6000, 1)*0.001] for i in range(N_collocation)])\n",
    "    Model.network_learn(C_points, I_points, YI)\n",
    "    if i % 1 == 0:\n",
    "        #print((i/10000)*100, '%')\n",
    "        loss = Model.get_loss(C_points, I_points, YI).numpy()\n",
    "        Loss.append(loss)\n",
    "        #print('Loss: ', Model.get_loss(C_points, I_points, B_points, YI, YB).numpy())\n",
    "    if i%(epochs/5)==0:\n",
    "        #print((i/epochs)*100, '%')\n",
    "        print((i/epochs)*100, '%', end='\\r')\n",
    "    print\n",
    "    \n",
    "\n",
    "stop = timeit.default_timer()\n",
    "print('Time: ', stop - start)"
   ]
  },
  {
   "cell_type": "markdown",
   "metadata": {},
   "source": [
    "### While Training"
   ]
  },
  {
   "cell_type": "code",
   "execution_count": 410,
   "metadata": {},
   "outputs": [
    {
     "name": "stdout",
     "output_type": "stream",
     "text": [
      "Time:  46.12377199999901 0.25842986 0.2490302 0.2527275 0.24498802 0.23433305 0.23590262 0.22780213 0.2211088 0.21565458 0.22060174 0.22137241 0.21344067 0.21331245 0.20557034 0.20610587\n"
     ]
    }
   ],
   "source": [
    "start = timeit.default_timer()\n",
    "epoch = 0\n",
    "#Loss = [1]\n",
    "while Loss[-1] > 0.2:\n",
    "    C_points = tf.constant([[rdm.randrange(-6000, 6000, 1)*0.001] for i in range(N_collocation)])\n",
    "    Model.network_learn(C_points, I_points, YI)\n",
    "    if epoch % 5 == 0:\n",
    "        #print((i/10000)*100, '%')\n",
    "        loss = Model.get_loss(C_points, I_points, YI).numpy()\n",
    "        Loss.append(loss)\n",
    "        #print('Loss: ', Model.get_loss(C_points, I_points, B_points, YI, YB).numpy())\n",
    "        #print((i/epochs)*100, '%')\n",
    "        print(epoch, loss, end='\\r')\n",
    "    epoch = epoch + 1\n",
    "    #print\n",
    "    \n",
    "\n",
    "stop = timeit.default_timer()\n",
    "print('Time: ', stop - start)"
   ]
  },
  {
   "cell_type": "markdown",
   "metadata": {},
   "source": [
    "### Plot The Loss"
   ]
  },
  {
   "cell_type": "code",
   "execution_count": 411,
   "metadata": {},
   "outputs": [
    {
     "data": {
      "image/png": "[encoded data removed]",
      "text/plain": [
       "<Figure size 576x576 with 1 Axes>"
      ]
     },
     "metadata": {
      "needs_background": "light"
     },
     "output_type": "display_data"
    }
   ],
   "source": [
    "plt.figure(figsize=(8, 8))\n",
    "plt.plot(Loss[1:])\n",
    "plt.grid()\n",
    "plt.show()"
   ]
  },
  {
   "cell_type": "markdown",
   "metadata": {},
   "source": [
    "### Sensitivity Learning"
   ]
  },
  {
   "cell_type": "code",
   "execution_count": 413,
   "metadata": {},
   "outputs": [
    {
     "name": "stdout",
     "output_type": "stream",
     "text": [
      "Time:  0.30795149999903515\n"
     ]
    }
   ],
   "source": [
    "start = timeit.default_timer()\n",
    "epochs = 10\n",
    "Loss_sensibility = []\n",
    "for i in range(epochs):\n",
    "    #C_points = tf.constant([[rdm.randrange(-6000, 6000, 1)*0.001] for i in range(N_collocation)])\n",
    "    Model.network_learn_u(I_points, YI)\n",
    "    if i % 1 == 0:\n",
    "        #print((i/10000)*100, '%')\n",
    "        loss = Model.get_loss_u(I_points, YI).numpy()\n",
    "        Loss_sensibility.append(loss)\n",
    "        #print('Loss: ', Model.get_loss(C_points, I_points, B_points, YI, YB).numpy())\n",
    "    if i%(epochs/5)==0:\n",
    "        #print((i/epochs)*100, '%')\n",
    "        print((i/epochs)*100, '%', end='\\r')\n",
    "    print\n",
    "    \n",
    "\n",
    "stop = timeit.default_timer()\n",
    "print('Time: ', stop - start)"
   ]
  },
  {
   "cell_type": "markdown",
   "metadata": {
    "id": "1S9h7_6ZjSoe"
   },
   "source": [
    "### Plot The Sensitivity Loss"
   ]
  },
  {
   "cell_type": "code",
   "execution_count": 328,
   "metadata": {
    "colab": {
     "base_uri": "https://localhost:8080/",
     "height": 483
    },
    "executionInfo": {
     "elapsed": 1287,
     "status": "ok",
     "timestamp": 1604498130044,
     "user": {
      "displayName": "Riccardo Valperga",
      "photoUrl": "",
      "userId": "03900064873846017016"
     },
     "user_tz": -60
    },
    "id": "kAt4kETfjSoe",
    "outputId": "dc9c3604-d023-4aae-ec4e-97d18b5f2a30"
   },
   "outputs": [
    {
     "data": {
      "image/png": "[encoded data removed]",
      "text/plain": [
       "<Figure size 576x576 with 1 Axes>"
      ]
     },
     "metadata": {
      "needs_background": "light"
     },
     "output_type": "display_data"
    }
   ],
   "source": [
    "plt.figure(figsize=(8, 8))\n",
    "plt.plot(Loss_sensibility)\n",
    "plt.grid()\n",
    "plt.show()"
   ]
  },
  {
   "cell_type": "markdown",
   "metadata": {},
   "source": [
    "### Plot"
   ]
  },
  {
   "cell_type": "code",
   "execution_count": 380,
   "metadata": {},
   "outputs": [],
   "source": [
    "def plot_model(Model, title):\n",
    "    X = [i*0.01 for i in range(-600,600)]\n",
    "    Y = []\n",
    "    for x in X:\n",
    "        Y.append(Model.run(tf.constant([[x]]))[0])\n",
    "\n",
    "    fig = plt.figure(figsize=(10, 10))\n",
    "    plt.plot(X,Y)\n",
    "    plt.ylim(-2.5,2.5)\n",
    "    plt.grid()\n",
    "    plt.show()\n",
    "    fig.savefig(str(title))"
   ]
  },
  {
   "cell_type": "code",
   "execution_count": 414,
   "metadata": {},
   "outputs": [
    {
     "data": {
      "image/png": "[encoded data removed]",
      "text/plain": [
       "<Figure size 720x720 with 1 Axes>"
      ]
     },
     "metadata": {
      "needs_background": "light"
     },
     "output_type": "display_data"
    }
   ],
   "source": [
    "plot_model(Model, \"plot5\")"
   ]
  },
  {
   "cell_type": "code",
   "execution_count": null,
   "metadata": {},
   "outputs": [],
   "source": []
  }
 ],
 "metadata": {
  "colab": {
   "collapsed_sections": [],
   "name": "2D_PDE.ipynb",
   "provenance": [
    {
     "file_id": "https://github.com/Ricvalp/ML_DynamicalSystems/blob/master/Code/RaissiEtAltri.ipynb",
     "timestamp": 1604484947582
    }
   ],
   "toc_visible": true
  },
  "kernelspec": {
   "display_name": "Python 3",
   "language": "python",
   "name": "python3"
  },
  "language_info": {
   "codemirror_mode": {
    "name": "ipython",
    "version": 3
   },
   "file_extension": ".py",
   "mimetype": "text/x-python",
   "name": "python",
   "nbconvert_exporter": "python",
   "pygments_lexer": "ipython3",
   "version": "3.7.4"
  }
 },
 "nbformat": 4,
 "nbformat_minor": 1
}
