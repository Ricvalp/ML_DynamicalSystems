{
 "cells": [
  {
   "cell_type": "code",
   "execution_count": 1,
   "metadata": {},
   "outputs": [],
   "source": [
    "using CUDA"
   ]
  },
  {
   "cell_type": "code",
   "execution_count": 2,
   "metadata": {},
   "outputs": [
    {
     "name": "stderr",
     "output_type": "stream",
     "text": [
      "┌ Warning: `haskey(::TargetIterator, name::String)` is deprecated, use `Target(; name = name) !== nothing` instead.\n",
      "│   caller = llvm_compat(::VersionNumber) at compatibility.jl:176\n",
      "└ @ CUDA C:\\Users\\valpe\\.julia\\packages\\CUDA\\5t6R9\\deps\\compatibility.jl:176\n"
     ]
    },
    {
     "data": {
      "text/plain": [
       "v\"11.1.0\""
      ]
     },
     "execution_count": 2,
     "metadata": {},
     "output_type": "execute_result"
    }
   ],
   "source": [
    "CUDA.version()"
   ]
  },
  {
   "cell_type": "code",
   "execution_count": 3,
   "metadata": {},
   "outputs": [
    {
     "data": {
      "text/plain": [
       "true"
      ]
     },
     "execution_count": 3,
     "metadata": {},
     "output_type": "execute_result"
    }
   ],
   "source": [
    "CUDA.functional()"
   ]
  },
  {
   "cell_type": "code",
   "execution_count": 4,
   "metadata": {},
   "outputs": [
    {
     "data": {
      "text/plain": [
       "10000×10000 Array{Float64,2}:\n",
       " 0.81629    0.227071   0.189465  …  0.452748    0.756077   0.247797\n",
       " 0.100062   0.892322   0.654468     0.736394    0.921714   0.216734\n",
       " 0.0195343  0.0336179  0.428924     0.236047    0.913122   0.586595\n",
       " 0.504967   0.293133   0.882044     0.442866    0.824696   0.755345\n",
       " 0.146514   0.552824   0.488576     0.0505186   0.985439   0.596826\n",
       " 0.378964   0.453105   0.189563  …  0.171276    0.259326   0.378694\n",
       " 0.599237   0.642525   0.215486     0.378437    0.136471   0.500399\n",
       " 0.748782   0.940816   0.140511     0.358316    0.0935609  0.026053\n",
       " 0.253026   0.976909   0.784374     0.486332    0.549311   0.0266606\n",
       " 0.68616    0.889656   0.606413     0.533731    0.244219   0.860402\n",
       " 0.317065   0.595724   0.207342  …  0.117399    0.137585   0.487622\n",
       " 0.714068   0.399891   0.508499     0.937202    0.731094   0.603103\n",
       " 0.286878   0.0725488  0.373396     0.406869    0.803981   0.358602\n",
       " ⋮                               ⋱                         \n",
       " 0.285201   0.484837   0.528273     0.422032    0.0583243  0.485147\n",
       " 0.209364   0.0518787  0.014078     0.289319    0.880692   0.490434\n",
       " 0.136196   0.9194     0.540536  …  0.94789     0.684762   0.782454\n",
       " 0.653966   0.261476   0.497656     0.902907    0.82101    0.937231\n",
       " 0.915912   0.794402   0.22805      0.797506    0.895341   0.687603\n",
       " 0.0958876  0.620257   0.156706     0.0949136   0.165773   0.8697\n",
       " 0.756011   0.807444   0.910002     0.690353    0.282091   0.937389\n",
       " 0.584604   0.44278    0.877919  …  0.247968    0.892994   0.840358\n",
       " 0.533391   0.542858   0.523414     0.955136    0.0985334  0.544272\n",
       " 0.357955   0.690011   0.915942     0.194268    0.156273   0.586344\n",
       " 0.601543   0.589258   0.272155     0.00830592  0.827381   0.20202\n",
       " 0.815654   0.888869   0.194299     0.40175     0.0754739  0.218231"
      ]
     },
     "execution_count": 4,
     "metadata": {},
     "output_type": "execute_result"
    }
   ],
   "source": [
    "aCUDA = CUDA.rand(10000,10000)\n",
    "aNOTCUDA = rand.(10000, 10000)"
   ]
  },
  {
   "cell_type": "code",
   "execution_count": 6,
   "metadata": {},
   "outputs": [
    {
     "name": "stdout",
     "output_type": "stream",
     "text": [
      " 13.578385 seconds (2 allocations: 762.940 MiB, 0.00% gc time)\n"
     ]
    }
   ],
   "source": [
    "@time begin\n",
    "    for i ∈ 1:1\n",
    "        aNOTCUDA*aNOTCUDA\n",
    "    end\n",
    "end"
   ]
  },
  {
   "cell_type": "code",
   "execution_count": 7,
   "metadata": {},
   "outputs": [
    {
     "name": "stdout",
     "output_type": "stream",
     "text": [
      "  0.436272 seconds (670.60 k allocations: 33.214 MiB)\n"
     ]
    }
   ],
   "source": [
    "@time begin\n",
    "    for i ∈ 1:1\n",
    "        aCUDA*aCUDA\n",
    "    end\n",
    "end"
   ]
  },
  {
   "cell_type": "code",
   "execution_count": null,
   "metadata": {},
   "outputs": [],
   "source": []
  }
 ],
 "metadata": {
  "kernelspec": {
   "display_name": "Julia 1.4.2",
   "language": "julia",
   "name": "julia-1.4"
  },
  "language_info": {
   "file_extension": ".jl",
   "mimetype": "application/julia",
   "name": "julia",
   "version": "1.4.2"
  }
 },
 "nbformat": 4,
 "nbformat_minor": 4
}
