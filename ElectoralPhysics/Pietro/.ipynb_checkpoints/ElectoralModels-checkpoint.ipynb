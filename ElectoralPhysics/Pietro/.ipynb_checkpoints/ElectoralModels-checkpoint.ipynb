{
 "cells": [
  {
   "cell_type": "markdown",
   "metadata": {},
   "source": [
    "# Electoral Physics \n",
    "\n",
    "### Packages"
   ]
  },
  {
   "cell_type": "code",
   "execution_count": null,
   "metadata": {},
   "outputs": [],
   "source": [
    "# Data Management \n",
    "using DataFrames, DataFramesMeta\n",
    "using DrWatson\n",
    "\n",
    "# Statistics\n",
    "using Random\n",
    "using Distributions\n",
    "using StatsBase\n",
    "\n",
    "# Graphs \n",
    "using LightGraphs, SimpleWeightedGraphs, SimpleHypergraphs, GraphIO\n",
    "using GraphPlot\n",
    "\n",
    "# Modelling\n",
    "using Agents\n",
    "include(\"./Modules/ElectoralPhysics.jl\")\n",
    "\n",
    "# Data Visualization\n",
    "using Plots\n",
    "using AgentsPlots\n",
    "using PlotThemes\n",
    "\n",
    "# Python\n",
    "# ENV[\"PYTHON\"] = \"path/to/python\"\n",
    "# Pkg.build(\"PyCall\")\n",
    "using PyCall\n",
    "using PyPlot\n",
    "nx = pyimport(\"networkx\")\n",
    "np = pyimport(\"numpy\")\n",
    "#hvnx = pyimport(\"hvplot.networkx\")\n",
    "nw = pyimport(\"netwulf\");"
   ]
  },
  {
   "cell_type": "markdown",
   "metadata": {},
   "source": [
    "### Agent Type "
   ]
  },
  {
   "cell_type": "code",
   "execution_count": null,
   "metadata": {},
   "outputs": [],
   "source": [
    "# Voter Definition\n",
    "mutable struct Voter <: AbstractAgent\n",
    "    id::Int64             # ∈ ℕ\n",
    "    pos::Int64            # ∈ ℕ\n",
    "    candidacy::Bool       # ∈ 𝔹\n",
    "    score::Float64        # ∈ 𝔹\n",
    "    final_score::Float64  # \\in \\bbR\n",
    "    community::Int64      # ∈ {1,2,3, ..., n}\n",
    "end"
   ]
  },
  {
   "cell_type": "markdown",
   "metadata": {},
   "source": [
    "### Micro-Dynamics"
   ]
  },
  {
   "cell_type": "code",
   "execution_count": null,
   "metadata": {},
   "outputs": [],
   "source": [
    "function vote!(agent,model)\n",
    "    candidates = [agent for agent in allagents(model) if agent.candidacy == true]\n",
    "    nvotes = nvotes!(agent, model)\n",
    "    targets = preferential_attachment_choose_candidates!(agent, model, candidates, nvotes)\n",
    "    for target in targets\n",
    "        add_edge!(model.space.graph, agent.pos, target.pos, 1/nvotes)\n",
    "    end\n",
    "end\n",
    "\n",
    "function nvotes!(agent, model)\n",
    "    p = 0.1\n",
    "    if agent.candidacy == true\n",
    "        d = Binomial(model.properties[:M]-2,p)\n",
    "        nvotes = rand(d)\n",
    "    else \n",
    "        d = Binomial(model.properties[:M]-1,p)\n",
    "        nvotes = rand(d)\n",
    "    end\n",
    "    \n",
    "    return nvotes + 1\n",
    "end\n",
    "\n",
    "function choose_candidates!(agent, model, nvotes)\n",
    "    candidates = [agent for agent in allagents(model) if agent.candidacy == true]\n",
    "    targets = []\n",
    "    for vote in 1:nvotes\n",
    "        target = rand(candidates)\n",
    "        while target.id == agent.id || target in targets\n",
    "            target = rand(candidates)\n",
    "        end\n",
    "        \n",
    "    push!(targets, target)\n",
    "    end\n",
    "    return targets\n",
    "end\n",
    "\n",
    "\n",
    "function preferential_attachment_choose_candidates!(agent, model, candidates, nvotes)\n",
    "    agent_community = agent.community\n",
    "    weights = Int64[]\n",
    "    for candidate in candidates\n",
    "        if candidate.community == agent_community\n",
    "            push!(weights, 10)\n",
    "        else\n",
    "            push!(weights, 1)\n",
    "        end\n",
    "    end\n",
    "    \n",
    "    targets = []\n",
    "    for vote in 1:nvotes\n",
    "        target = StatsBase.sample(candidates, ProbabilityWeights(weights))\n",
    "        while target.id == agent.id || target in targets\n",
    "            target = StatsBase.sample(candidates, ProbabilityWeights(weights))\n",
    "        end    \n",
    "        push!(targets, target)\n",
    "    end\n",
    "    \n",
    "    return targets\n",
    "end\n",
    "\n",
    "function update_score_indegree!(model)\n",
    "    for agent in allagents(model)\n",
    "        agent.score = agent.score + indegree_centrality(model.space.graph)[agent.id]\n",
    "    end\n",
    "end\n",
    "\n",
    "function update_score_flow!(model)\n",
    "    for agent in allagents(model)\n",
    "        if agent.candidacy == true\n",
    "            for inneighbor in node_neighbors(agent, model; neighbor_type=:in)\n",
    "                agent_inneighbor = get_node_agents(inneighbor, model)[1]\n",
    "                if agent_inneighbor.candidacy == false\n",
    "                    agent.score = agent.score + agent_inneighbor.score * LightGraphs.weights(model.space.graph)[agent_inneighbor.pos, agent.pos]\n",
    "                end\n",
    "            end\n",
    "        end\n",
    "    end\n",
    "end\n",
    "\n",
    "function update_score_pagerank!(model, α, n, ϵ)\n",
    "    for agent in allagents(model)\n",
    "        agent.score = pagerank(model.space.graph, α, n, ϵ)[agent.id]\n",
    "    end\n",
    "end\n",
    "\n",
    "# Implement map equation !!\n",
    "\n",
    "# IMPLEMENT NX TO LG\n",
    "\n",
    "# Voter Dynamics \n",
    "function agent_step!(agent, model)\n",
    "    vote!(agent, model)\n",
    "end;\n",
    "\n",
    "function update_score_candidates!(model)\n",
    "    for agent in allagents(model)\n",
    "        for inneighbor in node_neighbors(agent, model; neighbor_type=:in)\n",
    "            agent_inneighbor = get_node_agents(inneighbor, model)[1]\n",
    "            agent.final_score = agent.score + agent_inneighbor.score * LightGraphs.weights(model.space.graph)[agent_inneighbor.pos, agent.pos]\n",
    "        end\n",
    "    end\n",
    "end;"
   ]
  },
  {
   "cell_type": "markdown",
   "metadata": {},
   "source": [
    "### Models"
   ]
  },
  {
   "cell_type": "code",
   "execution_count": null,
   "metadata": {},
   "outputs": [],
   "source": [
    "# Voter Model Initialization\n",
    "function init_model_voters(N::Int64, M::Int64, K::Int64, community)\n",
    "       \n",
    "    properties = @dict(N, M, K)\n",
    "    \n",
    "    # Create Directed Weighted Graph\n",
    "    space = GraphSpace(SimpleWeightedDiGraph(N)) \n",
    "    model_voters = ABM(Voter, space; properties = properties)\n",
    "    \n",
    "    \n",
    "    for id in 1:N\n",
    "        pos = id\n",
    "        score = 1.0\n",
    "        final_score = 0\n",
    "        if id <= M\n",
    "            candidacy = true\n",
    "            add_agent!(pos, model_voters, candidacy, score, final_score, community[id])\n",
    "        else\n",
    "            candidacy = false\n",
    "            add_agent!(pos, model_voters, candidacy, score, final_score, community[id])\n",
    "        end\n",
    "    end\n",
    "    return model_voters\n",
    "end;\n",
    "\n",
    "# Candidate Model Initialization\n",
    "function init_model_candidates(model_voters::AgentBasedModel{Voter,GraphSpace{SimpleWeightedDiGraph{Int64,Float64}},typeof(fastest),Dict{Symbol,Int64}}, \n",
    "                                M::Int64, K::Int64)\n",
    "    properties = @dict(M, K)\n",
    "    \n",
    "    # Induce Subgraph\n",
    "    graph, vertex_map = induced_subgraph(model_voters.space.graph, 1:M)\n",
    "    space = GraphSpace(graph)\n",
    "    model_candidates = ABM(Voter, space; properties = properties)\n",
    "    \n",
    "    k = 0\n",
    "    for voter in allagents(model_voters)\n",
    "        if voter.candidacy == true\n",
    "            add_agent!(voter.pos, model_candidates, voter.candidacy, voter.score, voter.final_score, voter.community)\n",
    "        end\n",
    "    end\n",
    "    \n",
    "    for agent in allagents(model_candidates)\n",
    "    agent.id = agent.pos\n",
    "    end\n",
    "    \n",
    "    return model_candidates\n",
    "end;"
   ]
  },
  {
   "cell_type": "markdown",
   "metadata": {},
   "source": [
    "### Parameters"
   ]
  },
  {
   "cell_type": "code",
   "execution_count": null,
   "metadata": {},
   "outputs": [],
   "source": [
    "# Create population of voters \n",
    "N = 800\n",
    "\n",
    "# Create subpopulation of candidates\n",
    "M = 30;\n",
    "\n",
    "# Create subpopulation of elected\n",
    "K = 15;\n",
    "\n",
    "# Initialize number of steps\n",
    "nsteps = 1;\n",
    "\n",
    "\n",
    "community = []\n",
    "for i in 1:N\n",
    "    if i <= M\n",
    "        if i < M/3\n",
    "            push!(community,1)\n",
    "        elseif i >= M/3 && i < 2*(M/3)\n",
    "            push!(community,2)\n",
    "        else\n",
    "            push!(community,3)\n",
    "        end\n",
    "    else\n",
    "         if i < N/3\n",
    "            push!(community,1)\n",
    "        elseif i >= N/3 && i < 2*(N/3)\n",
    "            push!(community,2)\n",
    "        else\n",
    "            push!(community,3)\n",
    "        end\n",
    "    end\n",
    "end\n",
    "\n",
    "α = 0.85\n",
    "n = 500 \n",
    "ϵ = 1e-6;"
   ]
  },
  {
   "cell_type": "markdown",
   "metadata": {},
   "source": [
    "### Voter Simulation"
   ]
  },
  {
   "cell_type": "code",
   "execution_count": null,
   "metadata": {},
   "outputs": [],
   "source": [
    "# Seed Selection\n",
    "Random.seed!(1234);\n",
    "\n",
    "# Model Instantiation \n",
    "model_voters = init_model_voters(N, M, K)\n",
    "\n",
    "# Data Collection\n",
    "data_voters = run!(model_voters, agent_step!, nsteps);\n",
    "\n",
    "update_score_flow!(model_voters)\n",
    "\n",
    "sort!(DataFrame(allagents(model_voters)), :score, rev = true)"
   ]
  },
  {
   "cell_type": "markdown",
   "metadata": {},
   "source": [
    "### Candidate Simulation"
   ]
  },
  {
   "cell_type": "code",
   "execution_count": null,
   "metadata": {},
   "outputs": [],
   "source": [
    "# Seed Selection\n",
    "Random.seed!(1234);\n",
    "\n",
    "# Model Instantiation \n",
    "model_candidates = init_model_candidates(model_voters, M, K)\n",
    "\n",
    "# Data Collection\n",
    "#data_candidates = run!(model_candidates, agent_step!, nsteps);\n",
    "\n",
    "update_score_candidates!(model_candidates)\n",
    "\n",
    "sort!(DataFrame(allagents(model_candidates)), :final_score, rev = true)"
   ]
  },
  {
   "cell_type": "markdown",
   "metadata": {},
   "source": [
    "### Visualization "
   ]
  },
  {
   "cell_type": "code",
   "execution_count": null,
   "metadata": {},
   "outputs": [],
   "source": [
    "V = model_voters.space.graph\n",
    "C = model_candidates.space.graph\n",
    "V = ElectoralPhysics.LightGraphs_to_NetworkX(V);\n",
    "V = nx.convert_node_labels_to_integers(V, first_label=1);\n",
    "nx.write_graphml(V, \"random_graph_flow_all.graphml\")\n",
    "C = ElectoralPhysics.LightGraphs_to_NetworkX(C);\n",
    "C = nx.convert_node_labels_to_integers(C, first_label=1);\n",
    "nx.write_graphml(C, \"random_graph_flow_candidates.graphml\")"
   ]
  },
  {
   "cell_type": "code",
   "execution_count": null,
   "metadata": {},
   "outputs": [],
   "source": [
    "#nw.visualize(C)"
   ]
  },
  {
   "cell_type": "code",
   "execution_count": null,
   "metadata": {},
   "outputs": [],
   "source": [
    "#LightGraphs.weights(model_candidates.space.graph)[rand(1:M), :]"
   ]
  }
 ],
 "metadata": {
  "kernelspec": {
   "display_name": "Julia 1.4.0",
   "language": "julia",
   "name": "julia-1.4"
  },
  "language_info": {
   "file_extension": ".jl",
   "mimetype": "application/julia",
   "name": "julia",
   "version": "1.4.0"
  }
 },
 "nbformat": 4,
 "nbformat_minor": 4
}
