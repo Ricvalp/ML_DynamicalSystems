{
 "cells": [
  {
   "cell_type": "markdown",
   "metadata": {},
   "source": [
    "# Modeling Echo Chambers and Polarization Dynamics in Social Networks | [Baumann et al. (2020)](https://journals.aps.org/prl/abstract/10.1103/PhysRevLett.124.048301)"
   ]
  },
  {
   "cell_type": "markdown",
   "metadata": {},
   "source": [
    "A simple model of opinion dynamics that can reproduce two empirical features frequently observed in polarized social networks: \n",
    "1. more-active users, strongly engaged in social interactions, tend to show more-extreme opinions\n",
    "1. the opinion expressed by a user and those expressed by their neighbors in the social interaction network are similar. \n",
    "\n",
    "The model introduces a mechanism by which agents sharing similar opinions can mutually reinforce each other and move toward more-extreme views, thus describing a *radicalization dynamics*, also known as group polarization in social psychology.\n",
    "\n",
    "Alongside, opinion states are coupled to the underlying time-varying network of social interactions by *homophily*."
   ]
  },
  {
   "cell_type": "markdown",
   "metadata": {},
   "source": [
    "## Social System \n",
    "\n",
    "$$\\mathcal{S} = (\\mathcal{T}_S, \\mathcal{\\Theta}_S, \\mathcal{G}_S, \\Pi_S)$$\n",
    "\n",
    "### State Space \n",
    "\n",
    "$$\\mathcal{G}_S = (V, E(t))$$\n",
    "\n",
    "The contact pattern among agents, sustaining the opinion dynamics, represents social interactions encoded in an homophily-based activity-driven (AD) temporal directed graph $\\mathcal{G}_S$ represented by $A_{ij}(t)$.\n",
    "\n",
    "### Parameter Space \n",
    "\n",
    "$$\\mathcal{\\Theta}_S = (\\epsilon,\\gamma,m,\\beta)$$\n",
    "\n",
    "* $\\epsilon$: minimum activity \n",
    "* $\\gamma$: power law exponent\n",
    "* $m$: contacts\n",
    "* $\\beta$: homophily controlling power law decay exponent of the connection probability $p_{ij}$ with opinion distance (may include various endogenous and/or exogenous homophilic biases)\n",
    "\n",
    "### Dynamics\n",
    "\n",
    "$$\\Pi_S : \\mathcal{T}_S \\times \\mathcal{G}_S \\to [0,1]\\subset\\mathbb{R}$$\n",
    "\n",
    "The probability that an active agent $i$ will contact $j$ is modeled as a decreasing function of the distance between their opinions\n",
    "\n",
    "$$\\pi_{ij}(t)=\\frac{|x_i(t)-x_j(t)|^{-\\beta}}{\\sum_j|x_i(t)-x_j(t)|^{-\\beta}}.$$"
   ]
  },
  {
   "cell_type": "markdown",
   "metadata": {},
   "source": [
    "\n",
    "## Opinion System\n",
    "\n",
    "$$\\mathcal{O} = (\\mathcal{T}_O, \\mathcal{\\Theta}_O, \\mathcal{\\Gamma}_O, \\Phi_O)$$\n",
    "\n",
    "### State Space \n",
    "\n",
    "$$\\mathcal{\\Gamma}_O = \\mathbb{R}^N$$\n",
    "\n",
    "* $x_i(t) \\in \\mathbb{R}$: one-dimensional opinion of agent $i$\n",
    "* $\\sigma(x_i)=sign(x_i)$: qualitative stance of $i$ towards a binary issue of choice \n",
    "* $|x_i|$: quantitative stance / strength of $i$'s opinion (the larger, the more extreme)\n",
    "\n",
    "### Parameter Space \n",
    "\n",
    "$$\\mathcal{\\Theta}_O = (N,K,\\alpha,r,a)$$\n",
    "\n",
    "* $N$: population size\n",
    "* $K$: agent-agent social interaction strength \n",
    "* $\\alpha$: *controversialness* whcih tunes the degree of nonlinearity between an agent’s opinion and the sigmoidal social influence they exert on others \n",
    "* $r$: reciprocity rate / probability of directed interactions (when $i$ establishes a connection to $j$, $j$ will update its opinion, but $i$ will do the same only if the interaction is reciprocated)\n",
    "* $a_i \\in [\\epsilon, 1]$: activity of $i$ representing their propensity to contact $m$ distinct random other agents.\n",
    "\n",
    "### Dynamics\n",
    "\n",
    "The opinion dynamics is a purely collective, self-organized process which is exclusively driven by the interactions among agents such that the opinion of $i$ changes depending on the aggregated inputs from its neighbors. we model opinion dynamics as a purely collective, self-organized process without any intrin- sic individual preferences.\n",
    "\n",
    "$$\\dot{x_i}=-x_i + K\\sum_{j=1}^NA_{ij}\\tanh(\\alpha x_j)$$\n",
    "\n",
    "The neighbors of $i$ are determined by the temporal adjacency matrix $A_{ij}(t)$ such that \n",
    "* $A_{ij}(t) = 1$ if there is input from $j$ to $i$ at time $t$\n",
    "* $A_{ij}(t) = 0$ otherwise.\n",
    "\n",
    "#### Radicalization \n",
    "\n",
    "If $\\sigma(x_i) = \\sigma(x_j)$, the interaction will cause an increase of both convictions and hence reinforce opinions.\n",
    "\n",
    "#### Convergence\n",
    "\n",
    "If $\\sigma(x_i) = -\\sigma(x_j)$, opinions tend to converge. \n",
    "\n",
    "#### Neutrality \n",
    "\n",
    "The opinions of agents lacking social interactions decay toward the neutral state.\n",
    "\n",
    "## Relevant Regime \n",
    "\n",
    "$$|\\mathcal{T}_O| \\ll |\\mathcal{T}_S|$$\n",
    "\n",
    "The analysis is focused on a regime in which social interactions evolve much faster than opinions, like it is reasonable to assume for online social media. This yields a clear timescale separation between the social and opinion dynamics."
   ]
  },
  {
   "cell_type": "markdown",
   "metadata": {},
   "source": [
    "## Implementation "
   ]
  },
  {
   "cell_type": "markdown",
   "metadata": {},
   "source": [
    "### Modules"
   ]
  },
  {
   "cell_type": "code",
   "execution_count": 18,
   "metadata": {},
   "outputs": [
    {
     "name": "stderr",
     "output_type": "stream",
     "text": [
      "\u001b[32m\u001b[1m   Updating\u001b[22m\u001b[39m registry at `~/.julia/registries/General`\n"
     ]
    },
    {
     "name": "stdout",
     "output_type": "stream",
     "text": [
      "\u001b[?25l    "
     ]
    },
    {
     "name": "stderr",
     "output_type": "stream",
     "text": [
      "\u001b[32m\u001b[1m   Updating\u001b[22m\u001b[39m git-repo `https://github.com/JuliaRegistries/General.git`\n"
     ]
    },
    {
     "name": "stdout",
     "output_type": "stream",
     "text": [
      "\u001b[2K\u001b[?25h[1mFetching:\u001b[22m\u001b[39m [========================================>]  99.9 %%]  20.7 %                         ]  35.2 %\u001b[36m\u001b[1mFetching:\u001b[22m\u001b[39m [===============>                         ]  35.3 %>                    ]  48.3 %>                    ]  48.8 %=========================>               ]  61.9 %]  74.9 %====================================>    ]  87.9 %====================================>    ]  89.9 %"
     ]
    },
    {
     "name": "stderr",
     "output_type": "stream",
     "text": [
      "\u001b[32m\u001b[1m  Resolving\u001b[22m\u001b[39m package versions...\n",
      "\u001b[32m\u001b[1m  Installed\u001b[22m\u001b[39m BenchmarkTools ─ v0.5.0\n",
      "\u001b[32m\u001b[1m   Updating\u001b[22m\u001b[39m `~/.julia/environments/v1.4/Project.toml`\n",
      " \u001b[90m [6e4b80f9]\u001b[39m\u001b[92m + BenchmarkTools v0.5.0\u001b[39m\n",
      "\u001b[32m\u001b[1m   Updating\u001b[22m\u001b[39m `~/.julia/environments/v1.4/Manifest.toml`\n",
      " \u001b[90m [6e4b80f9]\u001b[39m\u001b[92m + BenchmarkTools v0.5.0\u001b[39m\n",
      " \u001b[90m [6e34b625]\u001b[39m\u001b[93m ↑ Bzip2_jll v1.0.6+2 ⇒ v1.0.6+3\u001b[39m\n",
      " \u001b[90m [d7e528f0]\u001b[39m\u001b[93m ↑ FreeType2_jll v2.10.1+2 ⇒ v2.10.1+3\u001b[39m\n",
      " \u001b[90m [559328eb]\u001b[39m\u001b[93m ↑ FriBidi_jll v1.0.5+3 ⇒ v1.0.5+4\u001b[39m\n",
      " \u001b[90m [c1c5ebd0]\u001b[39m\u001b[93m ↑ LAME_jll v3.100.0+1 ⇒ v3.100.0+2\u001b[39m\n",
      " \u001b[90m [e7412a2a]\u001b[39m\u001b[93m ↑ Ogg_jll v1.3.4+0 ⇒ v1.3.4+1\u001b[39m\n",
      " \u001b[90m [458c3c95]\u001b[39m\u001b[93m ↑ OpenSSL_jll v1.1.1+4 ⇒ v1.1.1+5\u001b[39m\n",
      " \u001b[90m [91d4177d]\u001b[39m\u001b[93m ↑ Opus_jll v1.3.1+1 ⇒ v1.3.1+2\u001b[39m\n",
      " \u001b[90m [83775a58]\u001b[39m\u001b[93m ↑ Zlib_jll v1.2.11+14 ⇒ v1.2.11+15\u001b[39m\n",
      " \u001b[90m [0ac62f75]\u001b[39m\u001b[93m ↑ libass_jll v0.14.0+2 ⇒ v0.14.0+3\u001b[39m\n",
      " \u001b[90m [f638f0a6]\u001b[39m\u001b[93m ↑ libfdk_aac_jll v0.1.6+2 ⇒ v0.1.6+3\u001b[39m\n",
      " \u001b[90m [f27f6e37]\u001b[39m\u001b[93m ↑ libvorbis_jll v1.3.6+4 ⇒ v1.3.6+5\u001b[39m\n",
      " \u001b[90m [dfaa095f]\u001b[39m\u001b[93m ↑ x265_jll v3.0.0+1 ⇒ v3.0.0+2\u001b[39m\n",
      "┌ Info: Precompiling BenchmarkTools [6e4b80f9-dd63-53aa-95a3-0cdb28fa8baf]\n",
      "└ @ Base loading.jl:1260\n"
     ]
    }
   ],
   "source": [
    "# Benchmarking\n",
    "using BenchmarkTools\n",
    "\n",
    "# Data Management \n",
    "using DataFrames, DataFramesMeta, DrWatson, Queryverse;\n",
    "\n",
    "# Data Visualization\n",
    "using GraphPlot, Plots, AgentsPlots, PlotThemes;\n",
    "\n",
    "# Statistics\n",
    "using Random, Distributions, StatsBase;\n",
    "\n",
    "# Graph Modelling\n",
    "using LightGraphs, SimpleWeightedGraphs, GraphIO;\n",
    "\n",
    "# Dynamical Systems Modelling\n",
    "using Agents ###DynamicalSystems, DifferentialEquations, StochasticDiffEq;"
   ]
  },
  {
   "cell_type": "markdown",
   "metadata": {},
   "source": [
    "### Agent Type "
   ]
  },
  {
   "cell_type": "code",
   "execution_count": 2,
   "metadata": {},
   "outputs": [],
   "source": [
    "# Voter Definition\n",
    "mutable struct User <: AbstractAgent\n",
    "    id::Int              # arbitrarily initialized identifier\n",
    "    pos::Int             # arbitrarily initialized position\n",
    "    opinion::Real        # extracted from Uniform([-1,1])\n",
    "    activity::Real       # extracted from Power([ϵ,1],γ)\n",
    "end"
   ]
  },
  {
   "cell_type": "markdown",
   "metadata": {},
   "source": [
    "### Functions "
   ]
  },
  {
   "cell_type": "code",
   "execution_count": 3,
   "metadata": {},
   "outputs": [],
   "source": [
    "# Power law sampling\n",
    "function powelaw_sample(a::Real, b::Real, γ::Real)\n",
    "    a + (b-a)*rand()^γ\n",
    "end;\n",
    "\n",
    "# Connection rate \n",
    "function connection_rate(agent, friend, β)\n",
    "    return abs(agent.opinion -friend.opinion)^(-β)\n",
    "end;"
   ]
  },
  {
   "cell_type": "markdown",
   "metadata": {},
   "source": [
    "### Parameters\n",
    "\n",
    "#### Social"
   ]
  },
  {
   "cell_type": "code",
   "execution_count": 4,
   "metadata": {},
   "outputs": [],
   "source": [
    "ϵ = 0.1\n",
    "γ = 2.1\n",
    "β = 2\n",
    "m = 10\n",
    "\n",
    "# Initialize number of steps\n",
    "social_time_steps = 100;"
   ]
  },
  {
   "cell_type": "markdown",
   "metadata": {},
   "source": [
    "#### Opinion"
   ]
  },
  {
   "cell_type": "code",
   "execution_count": 5,
   "metadata": {},
   "outputs": [],
   "source": [
    "# Set the user population size\n",
    "N = 100\n",
    "K = 3\n",
    "α = 0.05\n",
    "r = 0.5\n",
    "\n",
    "# Initialize number of steps\n",
    "opinion_time_steps = 10;"
   ]
  },
  {
   "cell_type": "markdown",
   "metadata": {},
   "source": [
    "### Model "
   ]
  },
  {
   "cell_type": "code",
   "execution_count": 6,
   "metadata": {},
   "outputs": [],
   "source": [
    "# Model initialization \n",
    "function initialize_model(N::Int, K::Real, α::Real, r::Real,\n",
    "                    ϵ::Real, γ::Real, β::Real, m::Int)\n",
    "    # Define the dictionary of model properties\n",
    "    properties = @dict(N, K, α, r,\n",
    "                       ϵ, γ, β, m)\n",
    "    \n",
    "    # Create the ambient space\n",
    "    space = GraphSpace(SimpleWeightedDiGraph(N)) \n",
    "    \n",
    "    # Instantiate the model\n",
    "    model = ABM(User, space; properties = properties)\n",
    "    \n",
    "    # Populate the model\n",
    "    for id ∈ 1:N\n",
    "        pos = id\n",
    "        opinion = rand(Uniform(-1, 1))\n",
    "        activity = powelaw_sample(ϵ, 1, γ)\n",
    "        add_agent!(pos, model, opinion, activity)\n",
    "    end\n",
    "    \n",
    "    return model\n",
    "end;\n",
    "\n",
    "# Activation \n",
    "function activate!(agent, model)\n",
    "    others = [a for a ∈ allagents(model) if a != agent]\n",
    "    deltas = [abs(agent.opinion-other.opinion)^(-model.properties[:β]) for other ∈ others]\n",
    "    friends = []\n",
    "    friend = rand(others)\n",
    "    while length(friends) ≤ model.properties[:m] || friend ∈ friends\n",
    "        friend = rand(others)\n",
    "        if rand() ≤ connection_rate(agent, friend, model.properties[:β]) / sum(deltas)\n",
    "            push!(friends, friend)\n",
    "        end\n",
    "    end\n",
    "    return friends\n",
    "end\n",
    "\n",
    "# Interaction \n",
    "function follow!(agent, model, friends)\n",
    "    for friend ∈ friends\n",
    "        add_edge!(model.space.graph, agent.pos, friend.pos, model.properties[:K])\n",
    "    end\n",
    "end;\n",
    "\n",
    "function reciprocate!(agent, model)\n",
    "    for inneighbor ∈ node_neighbors(agent, model; neighbor_type=:in)\n",
    "        follower = get_node_agents(inneighbor, model)[1]\n",
    "        if rand() ≤ model.properties[:r]\n",
    "            add_edge!(model.space.graph, agent.pos, follower.pos, model.properties[:K])\n",
    "        end\n",
    "    end\n",
    "end\n",
    "\n",
    "# Update\n",
    "function update!(agent, model)\n",
    "    for outneighbor ∈ node_neighbors(agent, model; neighbor_type=:out)\n",
    "        friend = get_node_agents(outneighbor, model)[1]\n",
    "        agent.opinion += LightGraphs.weights(model.space.graph)[agent.pos, friend.pos] * tanh(model.properties[:α]*friend.opinion)\n",
    "    end\n",
    "end;\n",
    "\n",
    "# Individial dynamics\n",
    "function step!(agent, model)\n",
    "    if rand() ≤ agent.activity\n",
    "        friends = activate!(agent, model)\n",
    "        follow!(agent, model, friends)\n",
    "        reciprocate!(agent, model)\n",
    "        update!(agent, model)\n",
    "    end\n",
    "end;"
   ]
  },
  {
   "cell_type": "markdown",
   "metadata": {},
   "source": [
    "### Simulation"
   ]
  },
  {
   "cell_type": "code",
   "execution_count": 20,
   "metadata": {},
   "outputs": [
    {
     "name": "stdout",
     "output_type": "stream",
     "text": [
      "AgentBasedModel with 100 agents of type User\n",
      " space: GraphSpace with 100 nodes and 0 edges\n",
      " scheduler: fastest\n",
      " properties: Dict{Symbol,Real}(:α => 0.05,:ϵ => 0.1,:N => 100,:γ => 2.1,:m => 10,:K => 3,:β => 2,:r => 0.5)  2.334339 seconds (28.32 M allocations: 488.207 MiB, 2.25% gc time)\n"
     ]
    },
    {
     "data": {
      "text/html": [
       "<table class=\"data-frame\"><thead><tr><th></th><th>id</th><th>pos</th><th>opinion</th><th>activity</th></tr><tr><th></th><th>Int64</th><th>Int64</th><th>Float64</th><th>Float64</th></tr></thead><tbody><p>100 rows × 4 columns</p><tr><th>1</th><td>7</td><td>7</td><td>-5140.6</td><td>0.920205</td></tr><tr><th>2</th><td>47</td><td>47</td><td>-4894.65</td><td>0.638432</td></tr><tr><th>3</th><td>54</td><td>54</td><td>-4818.67</td><td>0.74146</td></tr><tr><th>4</th><td>20</td><td>20</td><td>-4792.99</td><td>0.78008</td></tr><tr><th>5</th><td>45</td><td>45</td><td>-4344.62</td><td>0.7153</td></tr><tr><th>6</th><td>10</td><td>10</td><td>-4294.29</td><td>0.728305</td></tr><tr><th>7</th><td>73</td><td>73</td><td>-4115.1</td><td>0.520851</td></tr><tr><th>8</th><td>36</td><td>36</td><td>-4041.14</td><td>0.877997</td></tr><tr><th>9</th><td>89</td><td>89</td><td>-3874.09</td><td>0.507113</td></tr><tr><th>10</th><td>94</td><td>94</td><td>-3568.05</td><td>0.757799</td></tr><tr><th>11</th><td>21</td><td>21</td><td>-3532.58</td><td>0.523451</td></tr><tr><th>12</th><td>67</td><td>67</td><td>-3306.07</td><td>0.460787</td></tr><tr><th>13</th><td>40</td><td>40</td><td>-3294.53</td><td>0.649202</td></tr><tr><th>14</th><td>77</td><td>77</td><td>-3270.97</td><td>0.488362</td></tr><tr><th>15</th><td>96</td><td>96</td><td>-3186.85</td><td>0.587644</td></tr><tr><th>16</th><td>64</td><td>64</td><td>-2715.31</td><td>0.370963</td></tr><tr><th>17</th><td>27</td><td>27</td><td>-2672.94</td><td>0.403058</td></tr><tr><th>18</th><td>9</td><td>9</td><td>-2592.54</td><td>0.466178</td></tr><tr><th>19</th><td>34</td><td>34</td><td>-2580.99</td><td>0.382657</td></tr><tr><th>20</th><td>51</td><td>51</td><td>-2243.85</td><td>0.421629</td></tr><tr><th>21</th><td>18</td><td>18</td><td>-2113.98</td><td>0.306569</td></tr><tr><th>22</th><td>85</td><td>85</td><td>-2101.91</td><td>0.33143</td></tr><tr><th>23</th><td>98</td><td>98</td><td>-2016.8</td><td>0.414012</td></tr><tr><th>24</th><td>15</td><td>15</td><td>-1813.88</td><td>0.214216</td></tr><tr><th>25</th><td>74</td><td>74</td><td>-1516.29</td><td>0.242014</td></tr><tr><th>26</th><td>5</td><td>5</td><td>-1501.67</td><td>0.386369</td></tr><tr><th>27</th><td>35</td><td>35</td><td>-1480.47</td><td>0.206566</td></tr><tr><th>28</th><td>28</td><td>28</td><td>-1424.27</td><td>0.166191</td></tr><tr><th>29</th><td>22</td><td>22</td><td>-1090.03</td><td>0.173063</td></tr><tr><th>30</th><td>91</td><td>91</td><td>-1022.04</td><td>0.134337</td></tr><tr><th>&vellip;</th><td>&vellip;</td><td>&vellip;</td><td>&vellip;</td><td>&vellip;</td></tr></tbody></table>"
      ],
      "text/latex": [
       "\\begin{tabular}{r|cccc}\n",
       "\t& id & pos & opinion & activity\\\\\n",
       "\t\\hline\n",
       "\t& Int64 & Int64 & Float64 & Float64\\\\\n",
       "\t\\hline\n",
       "\t1 & 7 & 7 & -5140.6 & 0.920205 \\\\\n",
       "\t2 & 47 & 47 & -4894.65 & 0.638432 \\\\\n",
       "\t3 & 54 & 54 & -4818.67 & 0.74146 \\\\\n",
       "\t4 & 20 & 20 & -4792.99 & 0.78008 \\\\\n",
       "\t5 & 45 & 45 & -4344.62 & 0.7153 \\\\\n",
       "\t6 & 10 & 10 & -4294.29 & 0.728305 \\\\\n",
       "\t7 & 73 & 73 & -4115.1 & 0.520851 \\\\\n",
       "\t8 & 36 & 36 & -4041.14 & 0.877997 \\\\\n",
       "\t9 & 89 & 89 & -3874.09 & 0.507113 \\\\\n",
       "\t10 & 94 & 94 & -3568.05 & 0.757799 \\\\\n",
       "\t11 & 21 & 21 & -3532.58 & 0.523451 \\\\\n",
       "\t12 & 67 & 67 & -3306.07 & 0.460787 \\\\\n",
       "\t13 & 40 & 40 & -3294.53 & 0.649202 \\\\\n",
       "\t14 & 77 & 77 & -3270.97 & 0.488362 \\\\\n",
       "\t15 & 96 & 96 & -3186.85 & 0.587644 \\\\\n",
       "\t16 & 64 & 64 & -2715.31 & 0.370963 \\\\\n",
       "\t17 & 27 & 27 & -2672.94 & 0.403058 \\\\\n",
       "\t18 & 9 & 9 & -2592.54 & 0.466178 \\\\\n",
       "\t19 & 34 & 34 & -2580.99 & 0.382657 \\\\\n",
       "\t20 & 51 & 51 & -2243.85 & 0.421629 \\\\\n",
       "\t21 & 18 & 18 & -2113.98 & 0.306569 \\\\\n",
       "\t22 & 85 & 85 & -2101.91 & 0.33143 \\\\\n",
       "\t23 & 98 & 98 & -2016.8 & 0.414012 \\\\\n",
       "\t24 & 15 & 15 & -1813.88 & 0.214216 \\\\\n",
       "\t25 & 74 & 74 & -1516.29 & 0.242014 \\\\\n",
       "\t26 & 5 & 5 & -1501.67 & 0.386369 \\\\\n",
       "\t27 & 35 & 35 & -1480.47 & 0.206566 \\\\\n",
       "\t28 & 28 & 28 & -1424.27 & 0.166191 \\\\\n",
       "\t29 & 22 & 22 & -1090.03 & 0.173063 \\\\\n",
       "\t30 & 91 & 91 & -1022.04 & 0.134337 \\\\\n",
       "\t$\\dots$ & $\\dots$ & $\\dots$ & $\\dots$ & $\\dots$ \\\\\n",
       "\\end{tabular}\n"
      ],
      "text/plain": [
       "100×4 DataFrame\n",
       "│ Row │ id    │ pos   │ opinion  │ activity │\n",
       "│     │ \u001b[90mInt64\u001b[39m │ \u001b[90mInt64\u001b[39m │ \u001b[90mFloat64\u001b[39m  │ \u001b[90mFloat64\u001b[39m  │\n",
       "├─────┼───────┼───────┼──────────┼──────────┤\n",
       "│ 1   │ 7     │ 7     │ -5140.6  │ 0.920205 │\n",
       "│ 2   │ 47    │ 47    │ -4894.65 │ 0.638432 │\n",
       "│ 3   │ 54    │ 54    │ -4818.67 │ 0.74146  │\n",
       "│ 4   │ 20    │ 20    │ -4792.99 │ 0.78008  │\n",
       "│ 5   │ 45    │ 45    │ -4344.62 │ 0.7153   │\n",
       "│ 6   │ 10    │ 10    │ -4294.29 │ 0.728305 │\n",
       "│ 7   │ 73    │ 73    │ -4115.1  │ 0.520851 │\n",
       "│ 8   │ 36    │ 36    │ -4041.14 │ 0.877997 │\n",
       "│ 9   │ 89    │ 89    │ -3874.09 │ 0.507113 │\n",
       "│ 10  │ 94    │ 94    │ -3568.05 │ 0.757799 │\n",
       "⋮\n",
       "│ 90  │ 11    │ 11    │ 6251.02  │ 0.934522 │\n",
       "│ 91  │ 39    │ 39    │ 6269.64  │ 0.770552 │\n",
       "│ 92  │ 55    │ 55    │ 6360.37  │ 0.655982 │\n",
       "│ 93  │ 3     │ 3     │ 6491.88  │ 0.746339 │\n",
       "│ 94  │ 86    │ 86    │ 6511.26  │ 0.713211 │\n",
       "│ 95  │ 93    │ 93    │ 6534.91  │ 0.763508 │\n",
       "│ 96  │ 57    │ 57    │ 6776.67  │ 0.967247 │\n",
       "│ 97  │ 83    │ 83    │ 7184.36  │ 0.801308 │\n",
       "│ 98  │ 97    │ 97    │ 7793.15  │ 0.854111 │\n",
       "│ 99  │ 79    │ 79    │ 8531.86  │ 0.988692 │\n",
       "│ 100 │ 87    │ 87    │ 8596.43  │ 0.886572 │"
      ]
     },
     "execution_count": 20,
     "metadata": {},
     "output_type": "execute_result"
    }
   ],
   "source": [
    "# Seed Selection\n",
    "Random.seed!(1234);\n",
    "\n",
    "# Model Instantiation \n",
    "model = initialize_model(N, K, α, r,\n",
    "                         ϵ, γ, β, m)\n",
    "print(model)\n",
    "\n",
    "# Data Collection\n",
    "data = @time run!(model, step!, 100);\n",
    "\n",
    "sort!(DataFrame(allagents(model)), :opinion, rev = false)"
   ]
  },
  {
   "cell_type": "code",
   "execution_count": null,
   "metadata": {},
   "outputs": [],
   "source": []
  }
 ],
 "metadata": {
  "kernelspec": {
   "display_name": "Julia 1.4.0",
   "language": "julia",
   "name": "julia-1.4"
  },
  "language_info": {
   "file_extension": ".jl",
   "mimetype": "application/julia",
   "name": "julia",
   "version": "1.4.0"
  }
 },
 "nbformat": 4,
 "nbformat_minor": 4
}
