{
 "cells": [
  {
   "cell_type": "code",
   "execution_count": 3,
   "metadata": {},
   "outputs": [],
   "source": [
    "import tensorflow as tf\n",
    "import keras\n",
    "from keras import backend as bk\n",
    "import timeit\n",
    "\n",
    "from scipy.integrate import ode\n",
    "import math as mt\n",
    "import numpy as np\n",
    "import matplotlib.pyplot as plt\n",
    "import random as rdm\n",
    "import time\n",
    "from datetime import datetime\n",
    "import matplotlib.animation as animation\n",
    "\n",
    "physical_devices = tf.config.list_physical_devices('GPU') \n",
    "tf.config.experimental.set_memory_growth(physical_devices[0], True)"
   ]
  },
  {
   "cell_type": "markdown",
   "metadata": {},
   "source": [
    "### Model"
   ]
  },
  {
   "cell_type": "code",
   "execution_count": 368,
   "metadata": {},
   "outputs": [],
   "source": [
    "class custom_model:\n",
    "\n",
    "    def __init__(self):\n",
    "        xavier=tf.keras.initializers.GlorotUniform()\n",
    "        self.l1=tf.keras.layers.Dense(1,kernel_initializer=xavier,activation=tf.nn.tanh)\n",
    "        self.l2=tf.keras.layers.Dense(10,kernel_initializer=xavier,activation=tf.nn.tanh)\n",
    "        self.l3=tf.keras.layers.Dense(10,kernel_initializer=xavier,activation=tf.nn.tanh)\n",
    "        self.l4=tf.keras.layers.Dense(10,kernel_initializer=xavier,activation=tf.nn.tanh)\n",
    "        self.l5=tf.keras.layers.Dense(10,kernel_initializer=xavier,activation=tf.nn.tanh)\n",
    "        self.l6=tf.keras.layers.Dense(10,kernel_initializer=xavier,activation=tf.nn.tanh)\n",
    "        self.l7=tf.keras.layers.Dense(10,kernel_initializer=xavier,activation=tf.nn.tanh)\n",
    "        self.out=tf.keras.layers.Dense(1,kernel_initializer=xavier)\n",
    "        self.train_op = tf.keras.optimizers.SGD(learning_rate=0.01)\n",
    "\n",
    "    # Running the model\n",
    "\n",
    "    def run(self, X):\n",
    "        #with tf.device('/cpu:0'):\n",
    "        boom = self.l1(X)\n",
    "        boom1 = self.l2(boom)\n",
    "        boom2 = self.l3(boom1)\n",
    "        boom3 = self.l4(boom2)\n",
    "        boom4 = self.l5(boom3)\n",
    "        boom5 = self.l6(boom4)\n",
    "        boom6 = self.l7(boom5)\n",
    "        boom7 = self.out(boom6)\n",
    "        return boom7\n",
    "\n",
    "    def get_loss(self, Xf):\n",
    "\n",
    "        with tf.GradientTape() as tape:\n",
    "            tape.watch(Xf)\n",
    "            boom = self.l1(Xf)\n",
    "            boom1 = self.l2(boom)\n",
    "            boom2 = self.l3(boom1)\n",
    "            boom3 = self.l4(boom2)\n",
    "            boom4 = self.l5(boom3)\n",
    "            boom5 = self.l6(boom4)\n",
    "            boom6 = self.l7(boom5)\n",
    "            boom7 = self.out(boom6)\n",
    "            g = tape.gradient(boom7, Xf)\n",
    "        \n",
    "        #y_l = g[:, 0]\n",
    "        q_t = g[:, 0]\n",
    "        \n",
    "        #y_xx = gg[:, 1]\n",
    "        q = boom7[:, 0]\n",
    "        \n",
    "        #print('q: ', q)\n",
    "        #print('q*q: ', q*q)\n",
    "        #print('u_xx: ', u_xx)\n",
    "        #print('u: ', u)\n",
    "        \n",
    "        ######### Lagrangian #########\n",
    "        L = tf.math.add((1/2)*(q_t*q_t), 5*tf.math.cos(q))\n",
    "        #print('L', L)\n",
    "        \n",
    "        MSEf = self.SC_int(0, 2, len(Xf)-1, L)\n",
    "        \n",
    "        ######### initial conditions #########\n",
    "        MSEi = tf.reduce_mean((q[0]-0.5)**2 + (q_t[0])**2)\n",
    "        #print('q: ', q)\n",
    "        \n",
    "        \n",
    "        return MSEf + MSEi \n",
    "\n",
    "    def get_grad(self, Xf):\n",
    "        with tf.GradientTape() as tape:\n",
    "            tape.watch(self.l1.variables)\n",
    "            tape.watch(self.l2.variables)\n",
    "            tape.watch(self.l3.variables)\n",
    "            tape.watch(self.l4.variables)\n",
    "            tape.watch(self.l5.variables)\n",
    "            tape.watch(self.l6.variables)\n",
    "            tape.watch(self.l7.variables)\n",
    "            tape.watch(self.out.variables)\n",
    "            L = self.get_loss(Xf)\n",
    "            g = tape.gradient(L, [self.l1.variables[0],self.l1.variables[1],self.l2.variables[0],self.l2.variables[1],self.l3.variables[0],self.l3.variables[1],self.l4.variables[0],self.l4.variables[1],self.l5.variables[0],self.l5.variables[1],self.l6.variables[0],self.l6.variables[1],self.l7.variables[0],self.l7.variables[1],self.out.variables[0],self.out.variables[1]])\n",
    "        return g\n",
    "\n",
    "    # perform gradient descent\n",
    "\n",
    "    def network_learn(self, Xf):\n",
    "        g = self.get_grad(Xf)\n",
    "        self.train_op.apply_gradients(zip(g, [self.l1.variables[0],self.l1.variables[1],self.l2.variables[0],self.l2.variables[1],self.l3.variables[0],self.l3.variables[1],self.l4.variables[0],self.l4.variables[1],self.l5.variables[0],self.l5.variables[1],self.l6.variables[0],self.l6.variables[1],self.l7.variables[0],self.l7.variables[1],self.out.variables[0],self.out.variables[1]]))\n",
    "\n",
    "    def SC_int(self, x0, x1, n, L):\n",
    "        \n",
    "        h = (x1-x0)/n\n",
    "        S = L[0] + L[n]\n",
    "        \n",
    "        for i in range(1,n):\n",
    "            if i%2==0:\n",
    "                S = S + 2*L[i]\n",
    "            else:\n",
    "                S = S + 4*L[i]\n",
    "        \n",
    "        return (h/3)*S"
   ]
  },
  {
   "cell_type": "markdown",
   "metadata": {},
   "source": [
    "### Model"
   ]
  },
  {
   "cell_type": "code",
   "execution_count": 369,
   "metadata": {},
   "outputs": [],
   "source": [
    "Model = custom_model()"
   ]
  },
  {
   "cell_type": "markdown",
   "metadata": {},
   "source": [
    "### Training Set"
   ]
  },
  {
   "cell_type": "code",
   "execution_count": 370,
   "metadata": {},
   "outputs": [],
   "source": [
    "T_points = tf.constant([[i*0.01] for i in range(201)])"
   ]
  },
  {
   "cell_type": "markdown",
   "metadata": {},
   "source": [
    "### Training"
   ]
  },
  {
   "cell_type": "code",
   "execution_count": null,
   "metadata": {},
   "outputs": [
    {
     "name": "stdout",
     "output_type": "stream",
     "text": [
      "20.0 %\r"
     ]
    }
   ],
   "source": [
    "start = timeit.default_timer()\n",
    "epochs = 1000\n",
    "Loss = []\n",
    "for i in range(epochs):\n",
    "    if i % 1 == 0:\n",
    "        #print((i/10000)*100, '%')\n",
    "        loss = Model.get_loss(T_points).numpy()\n",
    "        Loss.append(loss)\n",
    "        #print('Loss: ', Model.get_loss(C_points, I_points, B_points, YI, YB).numpy())\n",
    "    if i%(epochs/5)==0:\n",
    "        #print((i/epochs)*100, '%')\n",
    "        print((i/epochs)*100, '%', end='\\r')\n",
    "    print\n",
    "    \n",
    "    Model.network_learn(T_points)\n",
    "\n",
    "\n",
    "stop = timeit.default_timer()\n",
    "print('Time: ', stop - start)"
   ]
  },
  {
   "cell_type": "markdown",
   "metadata": {},
   "source": [
    "\n",
    "### Plot The Loss"
   ]
  },
  {
   "cell_type": "code",
   "execution_count": 360,
   "metadata": {},
   "outputs": [
    {
     "data": {
      "image/png": "[encoded data removed]",
      "text/plain": [
       "<Figure size 576x576 with 1 Axes>"
      ]
     },
     "metadata": {
      "needs_background": "light"
     },
     "output_type": "display_data"
    }
   ],
   "source": [
    "plt.figure(figsize=(8, 8))\n",
    "plt.plot(Loss[0:100])\n",
    "plt.grid()\n",
    "plt.show()"
   ]
  },
  {
   "cell_type": "markdown",
   "metadata": {},
   "source": [
    "### Plot"
   ]
  },
  {
   "cell_type": "code",
   "execution_count": 366,
   "metadata": {
    "scrolled": true
   },
   "outputs": [
    {
     "data": {
      "image/png": "[encoded data removed]",
      "text/plain": [
       "<Figure size 720x720 with 1 Axes>"
      ]
     },
     "metadata": {
      "needs_background": "light"
     },
     "output_type": "display_data"
    }
   ],
   "source": [
    "\n",
    "fig = plt.figure(figsize=(10, 10))\n",
    "t = [i*0.01 for i in range(0,201)]\n",
    "q = []\n",
    "for i in t:\n",
    "    q.append(Model.run(tf.constant([[i]]))[:, 0].numpy())\n",
    "    \n",
    "#plt.ylim(-1, 0)\n",
    "#plt.xlim(0,1)\n",
    "#plt.plot(x, u)\n",
    "plt.plot(t, q, color='b')\n",
    "plt.grid()\n",
    "plt.show()"
   ]
  },
  {
   "cell_type": "code",
   "execution_count": 364,
   "metadata": {},
   "outputs": [
    {
     "data": {
      "text/plain": [
       "<tf.Tensor: shape=(), dtype=float32, numpy=5.313532>"
      ]
     },
     "execution_count": 364,
     "metadata": {},
     "output_type": "execute_result"
    }
   ],
   "source": [
    "tf.reduce_mean((Model.run(tf.constant([[0.], [1.]])) )**2)"
   ]
  },
  {
   "cell_type": "code",
   "execution_count": 367,
   "metadata": {},
   "outputs": [
    {
     "data": {
      "text/plain": [
       "<tf.Tensor: shape=(201, 1), dtype=float32, numpy=\n",
       "array([[-1.4654719],\n",
       "       [-1.4679137],\n",
       "       [-1.4713848],\n",
       "       [-1.4759191],\n",
       "       [-1.481548 ],\n",
       "       [-1.4882975],\n",
       "       [-1.4961909],\n",
       "       [-1.5052457],\n",
       "       [-1.5154754],\n",
       "       [-1.5268874],\n",
       "       [-1.5394828],\n",
       "       [-1.5532571],\n",
       "       [-1.5681994],\n",
       "       [-1.5842912],\n",
       "       [-1.6015078],\n",
       "       [-1.6198179],\n",
       "       [-1.6391824],\n",
       "       [-1.659557 ],\n",
       "       [-1.6808896],\n",
       "       [-1.703123 ],\n",
       "       [-1.7261943],\n",
       "       [-1.7500354],\n",
       "       [-1.7745744],\n",
       "       [-1.7997353],\n",
       "       [-1.8254404],\n",
       "       [-1.851609 ],\n",
       "       [-1.8781601],\n",
       "       [-1.9050122],\n",
       "       [-1.932085 ],\n",
       "       [-1.9592987],\n",
       "       [-1.9865766],\n",
       "       [-2.0138445],\n",
       "       [-2.0410318],\n",
       "       [-2.0680728],\n",
       "       [-2.0949035],\n",
       "       [-2.121468 ],\n",
       "       [-2.1477132],\n",
       "       [-2.1735916],\n",
       "       [-2.199061 ],\n",
       "       [-2.224083 ],\n",
       "       [-2.2486272],\n",
       "       [-2.272664 ],\n",
       "       [-2.2961712],\n",
       "       [-2.319131 ],\n",
       "       [-2.341527 ],\n",
       "       [-2.3633494],\n",
       "       [-2.3845901],\n",
       "       [-2.4052458],\n",
       "       [-2.4253144],\n",
       "       [-2.444797 ],\n",
       "       [-2.463697 ],\n",
       "       [-2.48202  ],\n",
       "       [-2.4997716],\n",
       "       [-2.5169625],\n",
       "       [-2.5336013],\n",
       "       [-2.5496988],\n",
       "       [-2.5652661],\n",
       "       [-2.5803165],\n",
       "       [-2.5948644],\n",
       "       [-2.6089191],\n",
       "       [-2.6224985],\n",
       "       [-2.635614 ],\n",
       "       [-2.6482797],\n",
       "       [-2.6605105],\n",
       "       [-2.6723194],\n",
       "       [-2.68372  ],\n",
       "       [-2.694728 ],\n",
       "       [-2.7053537],\n",
       "       [-2.715613 ],\n",
       "       [-2.7255168],\n",
       "       [-2.7350793],\n",
       "       [-2.7443113],\n",
       "       [-2.7532263],\n",
       "       [-2.7618341],\n",
       "       [-2.7701478],\n",
       "       [-2.7781773],\n",
       "       [-2.785934 ],\n",
       "       [-2.7934275],\n",
       "       [-2.8006673],\n",
       "       [-2.807664 ],\n",
       "       [-2.8144264],\n",
       "       [-2.8209624],\n",
       "       [-2.8272824],\n",
       "       [-2.8333936],\n",
       "       [-2.839304 ],\n",
       "       [-2.8450208],\n",
       "       [-2.850552 ],\n",
       "       [-2.855904 ],\n",
       "       [-2.8610845],\n",
       "       [-2.8660998],\n",
       "       [-2.870955 ],\n",
       "       [-2.875657 ],\n",
       "       [-2.8802118],\n",
       "       [-2.8846245],\n",
       "       [-2.8888993],\n",
       "       [-2.893043 ],\n",
       "       [-2.8970609],\n",
       "       [-2.9009552],\n",
       "       [-2.9047322],\n",
       "       [-2.9083962],\n",
       "       [-2.9119506],\n",
       "       [-2.9153996],\n",
       "       [-2.918747 ],\n",
       "       [-2.921996 ],\n",
       "       [-2.9251509],\n",
       "       [-2.928215 ],\n",
       "       [-2.931191 ],\n",
       "       [-2.934082 ],\n",
       "       [-2.936891 ],\n",
       "       [-2.9396214],\n",
       "       [-2.9422755],\n",
       "       [-2.9448557],\n",
       "       [-2.9473648],\n",
       "       [-2.9498053],\n",
       "       [-2.952179 ],\n",
       "       [-2.9544883],\n",
       "       [-2.956736 ],\n",
       "       [-2.9589233],\n",
       "       [-2.961053 ],\n",
       "       [-2.9631267],\n",
       "       [-2.965145 ],\n",
       "       [-2.967111 ],\n",
       "       [-2.9690266],\n",
       "       [-2.970893 ],\n",
       "       [-2.9727106],\n",
       "       [-2.974483 ],\n",
       "       [-2.9762096],\n",
       "       [-2.9778938],\n",
       "       [-2.9795356],\n",
       "       [-2.9811368],\n",
       "       [-2.9826984],\n",
       "       [-2.9842215],\n",
       "       [-2.9857073],\n",
       "       [-2.9871578],\n",
       "       [-2.9885721],\n",
       "       [-2.9899535],\n",
       "       [-2.9913015],\n",
       "       [-2.9926171],\n",
       "       [-2.9939022],\n",
       "       [-2.9951568],\n",
       "       [-2.9963827],\n",
       "       [-2.9975796],\n",
       "       [-2.9987488],\n",
       "       [-2.9998913],\n",
       "       [-3.0010076],\n",
       "       [-3.0020986],\n",
       "       [-3.0031648],\n",
       "       [-3.0042071],\n",
       "       [-3.0052261],\n",
       "       [-3.0062227],\n",
       "       [-3.0071964],\n",
       "       [-3.0081491],\n",
       "       [-3.009081 ],\n",
       "       [-3.0099916],\n",
       "       [-3.0108838],\n",
       "       [-3.0117555],\n",
       "       [-3.012609 ],\n",
       "       [-3.013444 ],\n",
       "       [-3.0142608],\n",
       "       [-3.0150604],\n",
       "       [-3.0158434],\n",
       "       [-3.0166097],\n",
       "       [-3.0173597],\n",
       "       [-3.0180945],\n",
       "       [-3.018814 ],\n",
       "       [-3.019518 ],\n",
       "       [-3.020208 ],\n",
       "       [-3.0208836],\n",
       "       [-3.021545 ],\n",
       "       [-3.0221934],\n",
       "       [-3.0228286],\n",
       "       [-3.0234509],\n",
       "       [-3.0240607],\n",
       "       [-3.0246582],\n",
       "       [-3.0252438],\n",
       "       [-3.0258179],\n",
       "       [-3.02638  ],\n",
       "       [-3.0269318],\n",
       "       [-3.027472 ],\n",
       "       [-3.0280023],\n",
       "       [-3.028522 ],\n",
       "       [-3.0290313],\n",
       "       [-3.029531 ],\n",
       "       [-3.0300207],\n",
       "       [-3.0305018],\n",
       "       [-3.0309725],\n",
       "       [-3.0314355],\n",
       "       [-3.031889 ],\n",
       "       [-3.0323334],\n",
       "       [-3.0327706],\n",
       "       [-3.0331988],\n",
       "       [-3.0336185],\n",
       "       [-3.034031 ],\n",
       "       [-3.0344353],\n",
       "       [-3.0348325],\n",
       "       [-3.0352225],\n",
       "       [-3.035605 ],\n",
       "       [-3.0359807],\n",
       "       [-3.0363493],\n",
       "       [-3.0367112],\n",
       "       [-3.037066 ]], dtype=float32)>"
      ]
     },
     "execution_count": 367,
     "metadata": {},
     "output_type": "execute_result"
    }
   ],
   "source": [
    "Model.run(T_points)"
   ]
  },
  {
   "cell_type": "code",
   "execution_count": null,
   "metadata": {},
   "outputs": [],
   "source": []
  }
 ],
 "metadata": {
  "kernelspec": {
   "display_name": "Python 3",
   "language": "python",
   "name": "python3"
  },
  "language_info": {
   "codemirror_mode": {
    "name": "ipython",
    "version": 3
   },
   "file_extension": ".py",
   "mimetype": "text/x-python",
   "name": "python",
   "nbconvert_exporter": "python",
   "pygments_lexer": "ipython3",
   "version": "3.7.4"
  }
 },
 "nbformat": 4,
 "nbformat_minor": 2
}
