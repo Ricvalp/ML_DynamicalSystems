{
 "cells": [
  {
   "cell_type": "code",
   "execution_count": 1,
   "metadata": {},
   "outputs": [],
   "source": [
    "import tensorflow as tf\n",
    "import keras\n",
    "from keras import backend as bk\n",
    "import timeit\n",
    "\n",
    "from scipy.integrate import ode\n",
    "import math as mt\n",
    "import numpy as np\n",
    "import matplotlib.pyplot as plt\n",
    "import random as rdm\n",
    "import time\n",
    "from datetime import datetime\n",
    "import matplotlib.animation as animation\n",
    "\n",
    "physical_devices = tf.config.list_physical_devices('GPU') \n",
    "tf.config.experimental.set_memory_growth(physical_devices[0], True)"
   ]
  },
  {
   "cell_type": "markdown",
   "metadata": {},
   "source": [
    "### Model"
   ]
  },
  {
   "cell_type": "code",
   "execution_count": 2,
   "metadata": {},
   "outputs": [],
   "source": [
    "class custom_model:\n",
    "\n",
    "    def __init__(self):\n",
    "        xavier=tf.keras.initializers.GlorotUniform()\n",
    "        self.l1=tf.keras.layers.Dense(2,kernel_initializer=xavier,activation=tf.nn.tanh)\n",
    "        self.l2=tf.keras.layers.Dense(100,kernel_initializer=xavier,activation=tf.nn.tanh)\n",
    "        self.l3=tf.keras.layers.Dense(100,kernel_initializer=xavier,activation=tf.nn.tanh)\n",
    "        self.l4=tf.keras.layers.Dense(100,kernel_initializer=xavier,activation=tf.nn.tanh)\n",
    "        self.l5=tf.keras.layers.Dense(100,kernel_initializer=xavier,activation=tf.nn.tanh)\n",
    "        self.l6=tf.keras.layers.Dense(100,kernel_initializer=xavier,activation=tf.nn.tanh)\n",
    "        self.l7=tf.keras.layers.Dense(100,kernel_initializer=xavier,activation=tf.nn.tanh)\n",
    "        self.out=tf.keras.layers.Dense(1,kernel_initializer=xavier)\n",
    "        self.train_op = tf.keras.optimizers.Adam(learning_rate=0.01)\n",
    "\n",
    "    # Running the model\n",
    "\n",
    "    def run(self, X):\n",
    "        #with tf.device('/cpu:0'):\n",
    "        boom = self.l1(X)\n",
    "        boom1 = self.l2(boom)\n",
    "        boom2 = self.l3(boom1)\n",
    "        boom3 = self.l4(boom2)\n",
    "        boom4 = self.l5(boom3)\n",
    "        boom5 = self.l6(boom4)\n",
    "        boom6 = self.l7(boom5)\n",
    "        boom7 = self.out(boom6)\n",
    "        return boom7\n",
    "\n",
    "    def get_loss(self, Xf, XuI, XuB, YI, YB):\n",
    "    \n",
    "        with tf.GradientTape() as tape:\n",
    "            tape.watch(Xf)\n",
    "            \n",
    "            with tf.GradientTape() as tape1:\n",
    "                tape1.watch(Xf)\n",
    "                boom = self.l1(Xf)\n",
    "                boom1 = self.l2(boom)\n",
    "                boom2 = self.l3(boom1)\n",
    "                boom3 = self.l4(boom2)\n",
    "                boom4 = self.l5(boom3)\n",
    "                boom5 = self.l6(boom4)\n",
    "                boom6 = self.l7(boom5)\n",
    "                boom7 = self.out(boom6)\n",
    "                g = tape1.gradient(boom7, Xf)\n",
    "            gg = tape.gradient(g, Xf)\n",
    "    \n",
    "        u_t = g[:, 0]\n",
    "        u_x = g[:, 1]\n",
    "        u_xx = gg[:, 1]\n",
    "        u = boom7[:, 0]\n",
    "        \n",
    "        #print('u_t: ', u_t)\n",
    "        #print('u_x: ', u_x)\n",
    "        #print('u_xx: ', u_xx)\n",
    "        #print('u: ', u)\n",
    "        \n",
    "        \n",
    "        MSEf = tf.reduce_mean((u_t + u*u_x - (0.01/mt.pi)*u_xx)**2)\n",
    "        \n",
    "        Y_I_predict = self.run(XuI)\n",
    "        \n",
    "        ######### Dirichlet boundary conditions #########\n",
    "        Y_B_predict = self.run(XuB)\n",
    "        MSEu =  tf.reduce_mean((Y_I_predict - YI)**2) + tf.reduce_mean((Y_B_predict - YB)**2)\n",
    "        \n",
    "        ######### Neumann boundary conditions #########\n",
    "        #Y_B_predict = g[:, 1]\n",
    "        #MSEu =  tf.reduce_mean((Y_B_predict - YB)**2) #tf.reduce_mean((Y_I_predict - YI)**2) +\n",
    "        \n",
    "        return MSEu + MSEf\n",
    "\n",
    "    def get_grad(self, Xf, XuI, XuB, YI, YB):\n",
    "        with tf.GradientTape() as tape:\n",
    "            tape.watch(self.l1.variables)\n",
    "            tape.watch(self.l2.variables)\n",
    "            tape.watch(self.l3.variables)\n",
    "            tape.watch(self.l4.variables)\n",
    "            tape.watch(self.l5.variables)\n",
    "            tape.watch(self.l6.variables)\n",
    "            tape.watch(self.l7.variables)\n",
    "            tape.watch(self.out.variables)\n",
    "            L = self.get_loss(Xf, XuI, XuB, YI, YB)\n",
    "            g = tape.gradient(L, [self.l1.variables[0],self.l1.variables[1],self.l2.variables[0],self.l2.variables[1],self.l3.variables[0],self.l3.variables[1],self.l4.variables[0],self.l4.variables[1],self.l5.variables[0],self.l5.variables[1],self.l6.variables[0],self.l6.variables[1],self.l7.variables[0],self.l7.variables[1],self.out.variables[0],self.out.variables[1]])\n",
    "        return g\n",
    "\n",
    "    # perform gradient descent\n",
    "\n",
    "    def network_learn(self, Xf, XuI, XuB, YI, YB):\n",
    "        g = self.get_grad(Xf, XuI, XuB, YI, YB)\n",
    "        self.train_op.apply_gradients(zip(g, [self.l1.variables[0],self.l1.variables[1],self.l2.variables[0],self.l2.variables[1],self.l3.variables[0],self.l3.variables[1],self.l4.variables[0],self.l4.variables[1],self.l5.variables[0],self.l5.variables[1],self.l6.variables[0],self.l6.variables[1],self.l7.variables[0],self.l7.variables[1],self.out.variables[0],self.out.variables[1]]))\n"
   ]
  },
  {
   "cell_type": "markdown",
   "metadata": {},
   "source": [
    "### Model"
   ]
  },
  {
   "cell_type": "code",
   "execution_count": 3,
   "metadata": {},
   "outputs": [],
   "source": [
    "Model = custom_model()"
   ]
  },
  {
   "cell_type": "markdown",
   "metadata": {},
   "source": [
    "### Training Set"
   ]
  },
  {
   "cell_type": "code",
   "execution_count": 4,
   "metadata": {},
   "outputs": [],
   "source": [
    "N_initial = 200\n",
    "N_boundary = 300\n",
    "N_collocation = 20000\n",
    "\n",
    "I_points = tf.constant([[0 , rdm.randrange(-1000, 1001, 1)*0.001] for i in range(N_initial)])\n",
    "B_points = tf.constant([[rdm.randrange(0, 1000, 1)*0.001, rdm.randrange(-1,2,2)] for i in range(N_boundary)])\n",
    "C_points = tf.constant([[rdm.randrange(1, 1000, 1)*0.001, rdm.randrange(-999, 1000, 1)*0.001] for i in range(N_collocation)])"
   ]
  },
  {
   "cell_type": "markdown",
   "metadata": {},
   "source": [
    "### Plot The Training Set"
   ]
  },
  {
   "cell_type": "code",
   "execution_count": 5,
   "metadata": {},
   "outputs": [
    {
     "data": {
      "image/png": "[encoded data removed]",
      "text/plain": [
       "<Figure size 720x432 with 1 Axes>"
      ]
     },
     "metadata": {
      "needs_background": "light"
     },
     "output_type": "display_data"
    }
   ],
   "source": [
    "plt.figure(figsize=(10, 6))\n",
    "\n",
    "plt.scatter(I_points[:,0], I_points[:,1], color='b')\n",
    "plt.scatter(B_points[:,0], B_points[:,1], color='g')\n",
    "plt.scatter(C_points[:100, 0], C_points[:100, 1], color='r')\n",
    "plt.xlabel(\"$t$\", fontsize=28, labelpad=8)\n",
    "plt.ylabel(\"$x$\", fontsize=28, labelpad=15)\n",
    "plt.grid()\n",
    "plt.show()"
   ]
  },
  {
   "cell_type": "code",
   "execution_count": 6,
   "metadata": {},
   "outputs": [],
   "source": [
    "#Sin(x)^2\n",
    "#YI = [[tf.math.sin(mt.pi*i[1])**2] for i in I_points]\n",
    "\n",
    "def init(x):\n",
    "    \n",
    "    return -mt.sin(mt.pi*x)\n",
    "\n",
    "YI = [[init(i[1])] for i in I_points]\n",
    "YB = [[0.] for i in B_points]\n",
    "\n",
    "#plt.figure(figsize=(8, 8))"
   ]
  },
  {
   "cell_type": "markdown",
   "metadata": {},
   "source": [
    "### Plot Initial Conditions"
   ]
  },
  {
   "cell_type": "code",
   "execution_count": 7,
   "metadata": {},
   "outputs": [
    {
     "data": {
      "image/png": "[encoded data removed]",
      "text/plain": [
       "<Figure size 576x360 with 1 Axes>"
      ]
     },
     "metadata": {
      "needs_background": "light"
     },
     "output_type": "display_data"
    }
   ],
   "source": [
    "plt.figure(figsize=(8, 5))\n",
    "plt.scatter(I_points[:,1], YI)\n",
    "plt.grid()\n",
    "plt.show()"
   ]
  },
  {
   "cell_type": "markdown",
   "metadata": {},
   "source": [
    "### Training"
   ]
  },
  {
   "cell_type": "code",
   "execution_count": 8,
   "metadata": {},
   "outputs": [
    {
     "name": "stdout",
     "output_type": "stream",
     "text": [
      "Time:  155.0528756\n"
     ]
    }
   ],
   "source": [
    "start = timeit.default_timer()\n",
    "epochs = 500\n",
    "Loss = []\n",
    "for i in range(epochs):\n",
    "    C_points = tf.constant([[rdm.randrange(1, 1000, 1)*0.001, rdm.randrange(-999, 1000, 1)*0.001] for i in range(N_collocation)])\n",
    "    Model.network_learn(C_points, I_points, B_points, YI, YB)\n",
    "    if i % 1 == 0:\n",
    "        #print((i/10000)*100, '%')\n",
    "        loss = Model.get_loss(C_points, I_points, B_points, YI, YB).numpy()\n",
    "        Loss.append(loss)\n",
    "        #print('Loss: ', Model.get_loss(C_points, I_points, B_points, YI, YB).numpy())\n",
    "    if i%(epochs/5)==0:\n",
    "        #print((i/epochs)*100, '%')\n",
    "        print((i/epochs)*100, '%', end='\\r')\n",
    "    print\n",
    "    \n",
    "\n",
    "stop = timeit.default_timer()\n",
    "print('Time: ', stop - start)"
   ]
  },
  {
   "cell_type": "markdown",
   "metadata": {},
   "source": [
    "### Plot The Loss"
   ]
  },
  {
   "cell_type": "code",
   "execution_count": 9,
   "metadata": {},
   "outputs": [
    {
     "data": {
      "image/png": "[encoded data removed]",
      "text/plain": [
       "<Figure size 576x576 with 1 Axes>"
      ]
     },
     "metadata": {
      "needs_background": "light"
     },
     "output_type": "display_data"
    }
   ],
   "source": [
    "plt.figure(figsize=(8, 8))\n",
    "plt.plot(Loss[400:500])\n",
    "plt.grid()\n",
    "plt.show()"
   ]
  },
  {
   "cell_type": "markdown",
   "metadata": {},
   "source": [
    "### Plot"
   ]
  },
  {
   "cell_type": "code",
   "execution_count": 17,
   "metadata": {},
   "outputs": [
    {
     "name": "stdout",
     "output_type": "stream",
     "text": [
      "Time:  37.7519896\n"
     ]
    },
    {
     "data": {
      "text/plain": [
       "<matplotlib.contour.QuadContourSet at 0x24d7d2e2288>"
      ]
     },
     "execution_count": 17,
     "metadata": {},
     "output_type": "execute_result"
    },
    {
     "data": {
      "image/png": "[encoded data removed]",
      "text/plain": [
       "<Figure size 576x576 with 1 Axes>"
      ]
     },
     "metadata": {
      "needs_background": "light"
     },
     "output_type": "display_data"
    }
   ],
   "source": [
    "start = timeit.default_timer()\n",
    "\n",
    "#with tf.device('/cpu:0'):\n",
    "\n",
    "H = []\n",
    "for j in range(-100, 100):\n",
    "    h=[]\n",
    "    for i in range(0, 100):\n",
    "        h.append(Model.run(tf.constant([[i*0.01, j*0.01]]))[0][0])\n",
    "    H.append(h)\n",
    "\n",
    "stop = timeit.default_timer()\n",
    "print('Time: ', stop - start)\n",
    "\n",
    "x = np.arange(0, 1, 0.01)\n",
    "y = np.arange(-1, 1, 0.01)\n",
    "\n",
    "z = np.array(H)\n",
    "\n",
    "plt.figure(figsize=(8, 8))\n",
    "plt.xlabel(\"$t$\", fontsize=28, labelpad=8)\n",
    "plt.ylabel(\"$x$\", fontsize=28, labelpad=15)\n",
    "plt.contourf(x,y,z)"
   ]
  },
  {
   "cell_type": "markdown",
   "metadata": {},
   "source": [
    "### Animated Plot"
   ]
  },
  {
   "cell_type": "code",
   "execution_count": 16,
   "metadata": {
    "scrolled": true
   },
   "outputs": [
    {
     "name": "stderr",
     "output_type": "stream",
     "text": [
      "MovieWriter ffmpeg unavailable; trying to use <class 'matplotlib.animation.PillowWriter'> instead.\n"
     ]
    },
    {
     "data": {
      "image/png": "[encoded data removed]",
      "text/plain": [
       "<Figure size 720x720 with 1 Axes>"
      ]
     },
     "metadata": {
      "needs_background": "light"
     },
     "output_type": "display_data"
    }
   ],
   "source": [
    "ims = []\n",
    "fig = plt.figure(figsize=(10, 10))\n",
    "x = [i*0.01 for i in range(-100,100)]\n",
    "T = [i*0.02 for i in range(0,50)]\n",
    "for t in T:\n",
    "    u = []\n",
    "    for i in x:\n",
    "        u.append(Model.run(tf.constant([[t, i]]))[:, 0].numpy())\n",
    "    \n",
    "    \n",
    "    plt.ylim(-1, 1)\n",
    "    plt.xlim(-1,1)\n",
    "    plt.xlabel(\"$x$\", fontsize=28, labelpad=8)\n",
    "    plt.ylabel(\"$u(x,t)$\", fontsize=28, labelpad=15)\n",
    "    plt.grid()\n",
    "    #plt.plot(x, u)\n",
    "    ims.append(plt.plot(x, u, color='b'))\n",
    "\n",
    "#plt.show()\n",
    "\n",
    "ani = animation.ArtistAnimation(fig, ims, interval=100, blit=True, repeat_delay=1000)\n",
    "ani.save('Burger1.gif')\n",
    "plt.show()"
   ]
  },
  {
   "cell_type": "code",
   "execution_count": null,
   "metadata": {},
   "outputs": [],
   "source": [
    "for i in range(1000000000000):\n",
    "    a.append(99999999999999)\n",
    "    "
   ]
  },
  {
   "cell_type": "code",
   "execution_count": 10,
   "metadata": {},
   "outputs": [],
   "source": [
    "a = [1,1,1,1]"
   ]
  },
  {
   "cell_type": "code",
   "execution_count": 13,
   "metadata": {},
   "outputs": [
    {
     "data": {
      "text/plain": [
       "[1,\n",
       " 1,\n",
       " 1,\n",
       " 1,\n",
       " 99999999999999,\n",
       " 99999999999999,\n",
       " 99999999999999,\n",
       " 99999999999999,\n",
       " 99999999999999,\n",
       " 99999999999999,\n",
       " 99999999999999,\n",
       " 99999999999999,\n",
       " 99999999999999,\n",
       " 99999999999999]"
      ]
     },
     "execution_count": 13,
     "metadata": {},
     "output_type": "execute_result"
    }
   ],
   "source": [
    "a"
   ]
  },
  {
   "cell_type": "code",
   "execution_count": null,
   "metadata": {},
   "outputs": [],
   "source": []
  }
 ],
 "metadata": {
  "kernelspec": {
   "display_name": "Python 3",
   "language": "python",
   "name": "python3"
  },
  "language_info": {
   "codemirror_mode": {
    "name": "ipython",
    "version": 3
   },
   "file_extension": ".py",
   "mimetype": "text/x-python",
   "name": "python",
   "nbconvert_exporter": "python",
   "pygments_lexer": "ipython3",
   "version": "3.7.4"
  }
 },
 "nbformat": 4,
 "nbformat_minor": 4
}
