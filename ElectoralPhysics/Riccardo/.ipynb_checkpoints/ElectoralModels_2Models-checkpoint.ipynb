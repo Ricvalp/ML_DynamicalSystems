{
 "cells": [
  {
   "cell_type": "markdown",
   "metadata": {},
   "source": [
    "# Electoral Physics \n",
    "\n",
    "### Packages"
   ]
  },
  {
   "cell_type": "code",
   "execution_count": 1,
   "metadata": {},
   "outputs": [],
   "source": [
    "# Data Management \n",
    "using DataFrames, DataFramesMeta\n",
    "using DrWatson\n",
    "\n",
    "# Statistics\n",
    "using Random\n",
    "using Distributions\n",
    "using StatsBase\n",
    "\n",
    "# Graphs \n",
    "using LightGraphs, SimpleWeightedGraphs\n",
    "using GraphPlot\n",
    " #using Graphs\n",
    "\n",
    "# Modelling\n",
    "using Agents\n",
    "include(\"./ElectoralPhysics.jl\")\n",
    "\n",
    "# Data Visualization\n",
    "using Plots\n",
    "using AgentsPlots\n",
    "using PlotThemes\n",
    "\n",
    "# Python\n",
    "# ENV[\"PYTHON\"] = \"path/to/python\"\n",
    "# Pkg.build(\"PyCall\")\n",
    "using PyCall\n",
    "using PyPlot\n",
    "nx = pyimport(\"networkx\")\n",
    "np = pyimport(\"numpy\")\n",
    "hvnx = pyimport(\"hvplot.networkx\")\n",
    "nw = pyimport(\"netwulf\");"
   ]
  },
  {
   "cell_type": "markdown",
   "metadata": {},
   "source": [
    "### Agent Type "
   ]
  },
  {
   "cell_type": "code",
   "execution_count": 2,
   "metadata": {},
   "outputs": [],
   "source": [
    "# Voter Definition\n",
    "mutable struct Voter <: AbstractAgent\n",
    "    id::Int64             # ∈ ℕ\n",
    "    pos::Int64            # ∈ ℕ\n",
    "    candidacy::Bool       # ∈ 𝔹\n",
    "    score::Float64        # \\in \\bbR\n",
    "end"
   ]
  },
  {
   "cell_type": "markdown",
   "metadata": {},
   "source": [
    "### Micro-Dynamics"
   ]
  },
  {
   "cell_type": "code",
   "execution_count": 3,
   "metadata": {},
   "outputs": [],
   "source": [
    "function vote!(agent,model)\n",
    "    nvotes = rand(1:model.properties[:M])\n",
    "    for vote in 1:nvotes\n",
    "        target = choose_candidate!(agent, model)\n",
    "        add_edge!(model.space.graph, agent.pos, target.pos, 1/nvotes)\n",
    "    end\n",
    "end\n",
    "\n",
    "function choose_candidate!(agent, model)\n",
    "    target = random_agent(model)\n",
    "    while target.candidacy == false || target.id == agent.id\n",
    "        target = random_agent(model)\n",
    "    end\n",
    "    return target\n",
    "end\n",
    "\n",
    "function update_score_indegree!(model)\n",
    "    for agent in allagents(model)\n",
    "        agent.score = agent.score + 10*indegree_centrality(model.space.graph)[agent.id]\n",
    "    end\n",
    "end\n",
    "\n",
    "function update_score_flow!(model)\n",
    "    for agent in allagents(model)\n",
    "        if agent.candidacy == true\n",
    "            for inneighbor in node_neighbors(agent, model; neighbor_type=:in)\n",
    "                agent_inneighbor = get_node_agents(inneighbor, model)[1]\n",
    "                if agent_inneighbor.candidacy == false\n",
    "                    agent.score = agent.score + agent_inneighbor.score * LightGraphs.weights(model.space.graph)[agent.pos, agent_inneighbor.pos]\n",
    "                end\n",
    "            end\n",
    "        end\n",
    "    end\n",
    "end\n",
    "\n",
    "function update_score_pagerank!(model, α, n, ϵ)\n",
    "    for agent in allagents(model)\n",
    "        agent.score = 1 + 10*pagerank(model.space.graph, α, n, ϵ)[agent.id]\n",
    "    end\n",
    "end\n",
    "\n",
    "# Individual Dynamics \n",
    "function agent_step!(agent, model)\n",
    "    vote!(agent, model)\n",
    "end;"
   ]
  },
  {
   "cell_type": "markdown",
   "metadata": {},
   "source": [
    "### Models"
   ]
  },
  {
   "cell_type": "code",
   "execution_count": 4,
   "metadata": {},
   "outputs": [],
   "source": [
    "# Voter Model Initialization\n",
    "function init_model_voters(N::Int64, M::Int64, K::Int64)\n",
    "       \n",
    "    properties = @dict(N, M, K)\n",
    "    \n",
    "    # Create Directed Weighted Graph\n",
    "    space = GraphSpace(SimpleWeightedDiGraph(N)) \n",
    "    model_voters = ABM(Voter, space; properties = properties)\n",
    "    \n",
    "    for id in 1:N\n",
    "        pos = id\n",
    "        score = 1.0\n",
    "        if id <= M\n",
    "            candidacy = true\n",
    "            add_agent!(pos, model_voters, candidacy, score)\n",
    "        else\n",
    "            candidacy = false\n",
    "            add_agent!(pos, model_voters, candidacy, score)\n",
    "        end\n",
    "    end\n",
    "    return model_voters\n",
    "end;\n",
    "\n",
    "# Candidate Model Initialization\n",
    "function init_model_candidates(model_voters::AgentBasedModel{Voter,GraphSpace{SimpleWeightedDiGraph{Int64,Float64}},typeof(fastest),Dict{Symbol,Int64}}, \n",
    "                                M::Int64, K::Int64)\n",
    "       \n",
    "    properties = @dict(M, K)\n",
    "    \n",
    "    # Induce Subgraph\n",
    "    graph, vertex_map = induced_subgraph(model_voters.space.graph, 1:M)\n",
    "    space = GraphSpace(graph)\n",
    "    model_candidates = ABM(Voter, space; properties = properties)\n",
    "    \n",
    "    k = 0\n",
    "    for voter in allagents(model_voters)\n",
    "        if voter.candidacy == true\n",
    "            add_agent!(voter.pos, model_candidates, voter.candidacy, voter.score)\n",
    "        end\n",
    "    end\n",
    "    return model_candidates\n",
    "end;"
   ]
  },
  {
   "cell_type": "markdown",
   "metadata": {},
   "source": [
    "### Parameters"
   ]
  },
  {
   "cell_type": "code",
   "execution_count": 5,
   "metadata": {},
   "outputs": [],
   "source": [
    "# Create population of voters \n",
    "N = 800\n",
    "\n",
    "# Create subpopulation of candidates\n",
    "M = 80;\n",
    "\n",
    "# Create subpopulation of elected\n",
    "K = 15;\n",
    "\n",
    "# Initialize number of steps\n",
    "nsteps = 1;\n",
    "\n",
    "α = 0.85\n",
    "n = 500 \n",
    "ϵ = 1e-6;"
   ]
  },
  {
   "cell_type": "markdown",
   "metadata": {},
   "source": [
    "### Simulation"
   ]
  },
  {
   "cell_type": "code",
   "execution_count": 6,
   "metadata": {},
   "outputs": [
    {
     "data": {
      "text/html": [
       "<table class=\"data-frame\"><thead><tr><th></th><th>id</th><th>pos</th><th>candidacy</th><th>score</th></tr><tr><th></th><th>Int64</th><th>Int64</th><th>Bool</th><th>Float64</th></tr></thead><tbody><p>800 rows × 4 columns</p><tr><th>1</th><td>306</td><td>306</td><td>0</td><td>1.0</td></tr><tr><th>2</th><td>29</td><td>29</td><td>1</td><td>1.0</td></tr><tr><th>3</th><td>74</td><td>74</td><td>1</td><td>1.0</td></tr><tr><th>4</th><td>176</td><td>176</td><td>0</td><td>1.0</td></tr><tr><th>5</th><td>285</td><td>285</td><td>0</td><td>1.0</td></tr><tr><th>6</th><td>318</td><td>318</td><td>0</td><td>1.0</td></tr><tr><th>7</th><td>354</td><td>354</td><td>0</td><td>1.0</td></tr><tr><th>8</th><td>610</td><td>610</td><td>0</td><td>1.0</td></tr><tr><th>9</th><td>563</td><td>563</td><td>0</td><td>1.0</td></tr><tr><th>10</th><td>671</td><td>671</td><td>0</td><td>1.0</td></tr><tr><th>11</th><td>721</td><td>721</td><td>0</td><td>1.0</td></tr><tr><th>12</th><td>117</td><td>117</td><td>0</td><td>1.0</td></tr><tr><th>13</th><td>284</td><td>284</td><td>0</td><td>1.0</td></tr><tr><th>14</th><td>474</td><td>474</td><td>0</td><td>1.0</td></tr><tr><th>15</th><td>188</td><td>188</td><td>0</td><td>1.0</td></tr><tr><th>16</th><td>589</td><td>589</td><td>0</td><td>1.0</td></tr><tr><th>17</th><td>685</td><td>685</td><td>0</td><td>1.0</td></tr><tr><th>18</th><td>782</td><td>782</td><td>0</td><td>1.0</td></tr><tr><th>19</th><td>621</td><td>621</td><td>0</td><td>1.0</td></tr><tr><th>20</th><td>617</td><td>617</td><td>0</td><td>1.0</td></tr><tr><th>21</th><td>353</td><td>353</td><td>0</td><td>1.0</td></tr><tr><th>22</th><td>797</td><td>797</td><td>0</td><td>1.0</td></tr><tr><th>23</th><td>430</td><td>430</td><td>0</td><td>1.0</td></tr><tr><th>24</th><td>79</td><td>79</td><td>1</td><td>1.0</td></tr><tr><th>25</th><td>71</td><td>71</td><td>1</td><td>1.0</td></tr><tr><th>26</th><td>154</td><td>154</td><td>0</td><td>1.0</td></tr><tr><th>27</th><td>184</td><td>184</td><td>0</td><td>1.0</td></tr><tr><th>28</th><td>794</td><td>794</td><td>0</td><td>1.0</td></tr><tr><th>29</th><td>733</td><td>733</td><td>0</td><td>1.0</td></tr><tr><th>30</th><td>107</td><td>107</td><td>0</td><td>1.0</td></tr><tr><th>&vellip;</th><td>&vellip;</td><td>&vellip;</td><td>&vellip;</td><td>&vellip;</td></tr></tbody></table>"
      ],
      "text/latex": [
       "\\begin{tabular}{r|cccc}\n",
       "\t& id & pos & candidacy & score\\\\\n",
       "\t\\hline\n",
       "\t& Int64 & Int64 & Bool & Float64\\\\\n",
       "\t\\hline\n",
       "\t1 & 306 & 306 & 0 & 1.0 \\\\\n",
       "\t2 & 29 & 29 & 1 & 1.0 \\\\\n",
       "\t3 & 74 & 74 & 1 & 1.0 \\\\\n",
       "\t4 & 176 & 176 & 0 & 1.0 \\\\\n",
       "\t5 & 285 & 285 & 0 & 1.0 \\\\\n",
       "\t6 & 318 & 318 & 0 & 1.0 \\\\\n",
       "\t7 & 354 & 354 & 0 & 1.0 \\\\\n",
       "\t8 & 610 & 610 & 0 & 1.0 \\\\\n",
       "\t9 & 563 & 563 & 0 & 1.0 \\\\\n",
       "\t10 & 671 & 671 & 0 & 1.0 \\\\\n",
       "\t11 & 721 & 721 & 0 & 1.0 \\\\\n",
       "\t12 & 117 & 117 & 0 & 1.0 \\\\\n",
       "\t13 & 284 & 284 & 0 & 1.0 \\\\\n",
       "\t14 & 474 & 474 & 0 & 1.0 \\\\\n",
       "\t15 & 188 & 188 & 0 & 1.0 \\\\\n",
       "\t16 & 589 & 589 & 0 & 1.0 \\\\\n",
       "\t17 & 685 & 685 & 0 & 1.0 \\\\\n",
       "\t18 & 782 & 782 & 0 & 1.0 \\\\\n",
       "\t19 & 621 & 621 & 0 & 1.0 \\\\\n",
       "\t20 & 617 & 617 & 0 & 1.0 \\\\\n",
       "\t21 & 353 & 353 & 0 & 1.0 \\\\\n",
       "\t22 & 797 & 797 & 0 & 1.0 \\\\\n",
       "\t23 & 430 & 430 & 0 & 1.0 \\\\\n",
       "\t24 & 79 & 79 & 1 & 1.0 \\\\\n",
       "\t25 & 71 & 71 & 1 & 1.0 \\\\\n",
       "\t26 & 154 & 154 & 0 & 1.0 \\\\\n",
       "\t27 & 184 & 184 & 0 & 1.0 \\\\\n",
       "\t28 & 794 & 794 & 0 & 1.0 \\\\\n",
       "\t29 & 733 & 733 & 0 & 1.0 \\\\\n",
       "\t30 & 107 & 107 & 0 & 1.0 \\\\\n",
       "\t$\\dots$ & $\\dots$ & $\\dots$ & $\\dots$ & $\\dots$ \\\\\n",
       "\\end{tabular}\n"
      ],
      "text/plain": [
       "800×4 DataFrame\n",
       "│ Row │ id    │ pos   │ candidacy │ score   │\n",
       "│     │ \u001b[90mInt64\u001b[39m │ \u001b[90mInt64\u001b[39m │ \u001b[90mBool\u001b[39m      │ \u001b[90mFloat64\u001b[39m │\n",
       "├─────┼───────┼───────┼───────────┼─────────┤\n",
       "│ 1   │ 306   │ 306   │ 0         │ 1.0     │\n",
       "│ 2   │ 29    │ 29    │ 1         │ 1.0     │\n",
       "│ 3   │ 74    │ 74    │ 1         │ 1.0     │\n",
       "│ 4   │ 176   │ 176   │ 0         │ 1.0     │\n",
       "│ 5   │ 285   │ 285   │ 0         │ 1.0     │\n",
       "│ 6   │ 318   │ 318   │ 0         │ 1.0     │\n",
       "│ 7   │ 354   │ 354   │ 0         │ 1.0     │\n",
       "│ 8   │ 610   │ 610   │ 0         │ 1.0     │\n",
       "│ 9   │ 563   │ 563   │ 0         │ 1.0     │\n",
       "│ 10  │ 671   │ 671   │ 0         │ 1.0     │\n",
       "⋮\n",
       "│ 790 │ 404   │ 404   │ 0         │ 1.0     │\n",
       "│ 791 │ 691   │ 691   │ 0         │ 1.0     │\n",
       "│ 792 │ 632   │ 632   │ 0         │ 1.0     │\n",
       "│ 793 │ 618   │ 618   │ 0         │ 1.0     │\n",
       "│ 794 │ 341   │ 341   │ 0         │ 1.0     │\n",
       "│ 795 │ 186   │ 186   │ 0         │ 1.0     │\n",
       "│ 796 │ 321   │ 321   │ 0         │ 1.0     │\n",
       "│ 797 │ 420   │ 420   │ 0         │ 1.0     │\n",
       "│ 798 │ 6     │ 6     │ 1         │ 1.0     │\n",
       "│ 799 │ 322   │ 322   │ 0         │ 1.0     │\n",
       "│ 800 │ 218   │ 218   │ 0         │ 1.0     │"
      ]
     },
     "execution_count": 6,
     "metadata": {},
     "output_type": "execute_result"
    }
   ],
   "source": [
    "# Seed Selection\n",
    "Random.seed!(1234);\n",
    "\n",
    "# Model Instantiation \n",
    "model_voters = init_model_voters(N, M, K)\n",
    "\n",
    "# Data Collection\n",
    "data = run!(model_voters, agent_step!, nsteps);\n",
    "\n",
    "update_score_flow!(model_voters)\n",
    "\n",
    "sort!(DataFrame(allagents(model_voters)), :score, rev = true)"
   ]
  },
  {
   "cell_type": "markdown",
   "metadata": {},
   "source": [
    "### Visualization "
   ]
  },
  {
   "cell_type": "code",
   "execution_count": 7,
   "metadata": {},
   "outputs": [],
   "source": [
    "G = model_voters.space.graph\n",
    "H = ElectoralPhysics.LightGraphs_to_NetworkX(G);\n",
    "H = nx.convert_node_labels_to_integers(H, first_label=1);\n",
    "nx.write_graphml(H, \"random_graph_flow.graphml\")\n",
    "#visualize(G)"
   ]
  },
  {
   "cell_type": "code",
   "execution_count": null,
   "metadata": {},
   "outputs": [],
   "source": []
  }
 ],
 "metadata": {
  "kernelspec": {
   "display_name": "Julia 1.4.2",
   "language": "julia",
   "name": "julia-1.4"
  },
  "language_info": {
   "file_extension": ".jl",
   "mimetype": "application/julia",
   "name": "julia",
   "version": "1.4.2"
  }
 },
 "nbformat": 4,
 "nbformat_minor": 4
}
